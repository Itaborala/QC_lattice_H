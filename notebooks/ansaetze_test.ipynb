{
 "cells": [
  {
   "attachments": {},
   "cell_type": "markdown",
   "metadata": {},
   "source": [
    "# Test of Ansaetze with structure. "
   ]
  },
  {
   "attachments": {},
   "cell_type": "markdown",
   "metadata": {},
   "source": [
    "VQD runs without shot noise"
   ]
  },
  {
   "cell_type": "code",
   "execution_count": 1,
   "metadata": {},
   "outputs": [],
   "source": [
    "import qiskit"
   ]
  },
  {
   "cell_type": "code",
   "execution_count": 2,
   "metadata": {},
   "outputs": [
    {
     "data": {
      "text/plain": [
       "'0.24.1'"
      ]
     },
     "execution_count": 2,
     "metadata": {},
     "output_type": "execute_result"
    }
   ],
   "source": [
    "qiskit.__version__"
   ]
  },
  {
   "cell_type": "code",
   "execution_count": 3,
   "metadata": {},
   "outputs": [],
   "source": [
    "%load_ext autoreload\n",
    "%autoreload 2"
   ]
  },
  {
   "cell_type": "code",
   "execution_count": 4,
   "metadata": {},
   "outputs": [],
   "source": [
    "from scipy.sparse.linalg import eigsh\n",
    "from qiskit.quantum_info import Statevector\n",
    "import numpy as np\n",
    "import matplotlib.pyplot as plt\n",
    "import sys\n",
    "sys.path.append(\"../\") # go to parent dir\n",
    "from itertools import permutations,product\n",
    "from tqdm.notebook import tqdm"
   ]
  },
  {
   "cell_type": "code",
   "execution_count": 5,
   "metadata": {},
   "outputs": [
    {
     "name": "stderr",
     "output_type": "stream",
     "text": [
      "/var/folders/08/fx8gnyrx18jggry6_s4cbtz40000gn/T/ipykernel_14410/2428390827.py:5: DeprecationWarning: Please use `aslinearoperator` from the `scipy.sparse.linalg` namespace, the `scipy.sparse.linalg.interface` namespace is deprecated.\n",
      "  import primme\n"
     ]
    }
   ],
   "source": [
    "from Hamiltonian_QED_sym import HamiltonianQED_sym\n",
    "from Hamiltonian_QED_oprt import HamiltonianQED_oprt\n",
    "from HC_Lattice import HCLattice\n",
    "from Ansaetze import Ansatz\n",
    "import primme"
   ]
  },
  {
   "cell_type": "code",
   "execution_count": 6,
   "metadata": {},
   "outputs": [],
   "source": [
    "#Qiskit import\n",
    "from qiskit import QuantumCircuit, QuantumRegister,ClassicalRegister\n",
    "from qiskit.quantum_info import Statevector\n",
    "from qiskit.visualization import plot_histogram\n",
    "from qiskit.circuit import Parameter\n",
    "import qiskit.quantum_info as qinf\n",
    "from qiskit.primitives import Sampler, Estimator\n",
    "from qiskit.algorithms.state_fidelities import ComputeUncompute\n",
    "from qiskit.quantum_info import SparsePauliOp, Pauli, Operator\n",
    "from sys import stdout\n",
    "from qiskit.algorithms.optimizers import NFT,SLSQP,COBYLA,ADAM,SPSA,QNSPSA,CG,GradientDescent\n",
    "from qiskit.quantum_info.states import DensityMatrix\n",
    "import qiskit.quantum_info as qinf\n",
    "from qiskit.quantum_info import entropy\n",
    "from qiskit.algorithms.eigensolvers import VQD\n",
    "from qiskit.algorithms.minimum_eigensolvers import VQE\n"
   ]
  },
  {
   "attachments": {},
   "cell_type": "markdown",
   "metadata": {},
   "source": [
    "##### Functions"
   ]
  },
  {
   "cell_type": "code",
   "execution_count": 7,
   "metadata": {},
   "outputs": [],
   "source": [
    "def fidelity_func(myvqd_results2,eigenvectors_matrix,num_eigs):\n",
    "\n",
    "    \"\"\" Inputs; results from VQD and eigenvector matrix from ED. Update to Qiskit version 0.24.1\"\"\"\n",
    "    \n",
    "    vqd_states = [myvqd_results2.optimal_circuits[i].bind_parameters(myvqd_results2.optimal_parameters[i].values()) for i in range(num_eigs)]\n",
    "\n",
    "    vqd_fid_states =[qinf.Statevector.from_instruction(i) for i in vqd_states]\n",
    "    ed_fid_states =[Statevector(eigenvectors_matrix[:,i]) for i in range(num_eigs)]\n",
    "\n",
    "    return [qinf.state_fidelity(vqd,ed) for vqd,ed in zip(vqd_fid_states,ed_fid_states)]"
   ]
  },
  {
   "cell_type": "code",
   "execution_count": 158,
   "metadata": {},
   "outputs": [
    {
     "data": {
      "text/plain": [
       "[0.999722431892582]"
      ]
     },
     "execution_count": 158,
     "metadata": {},
     "output_type": "execute_result"
    }
   ],
   "source": [
    "fidelity_func(result,eigenvectors_matrix,num_eigs)"
   ]
  },
  {
   "cell_type": "code",
   "execution_count": 164,
   "metadata": {},
   "outputs": [
    {
     "data": {
      "text/plain": [
       "(1024,)"
      ]
     },
     "execution_count": 164,
     "metadata": {},
     "output_type": "execute_result"
    }
   ],
   "source": [
    "np.shape(eigenvectors_matrix[:,0])"
   ]
  },
  {
   "cell_type": "code",
   "execution_count": 230,
   "metadata": {},
   "outputs": [],
   "source": [
    "vqd_states = [result.optimal_circuits[i].bind_parameters(result.optimal_parameters[i].values()) for i in range(num_eigs)]\n",
    "\n",
    "vqd_fid_states =[qinf.Statevector.from_instruction(i) for i in vqd_states]"
   ]
  },
  {
   "cell_type": "code",
   "execution_count": 231,
   "metadata": {},
   "outputs": [
    {
     "data": {
      "text/plain": [
       "0.9902174815393883"
      ]
     },
     "execution_count": 231,
     "metadata": {},
     "output_type": "execute_result"
    }
   ],
   "source": [
    "np.abs((np.reshape(vqd_fid_states[0],(2**10,)).conj().transpose())@eigenvectors_matrix[:,0])**2"
   ]
  },
  {
   "cell_type": "code",
   "execution_count": 232,
   "metadata": {},
   "outputs": [
    {
     "data": {
      "text/plain": [
       "0.9430886249523236"
      ]
     },
     "execution_count": 232,
     "metadata": {},
     "output_type": "execute_result"
    }
   ],
   "source": [
    "np.sqrt(0.8894161545144644)"
   ]
  },
  {
   "cell_type": "code",
   "execution_count": 233,
   "metadata": {},
   "outputs": [
    {
     "data": {
      "text/plain": [
       "0.9950967196907988"
      ]
     },
     "execution_count": 233,
     "metadata": {},
     "output_type": "execute_result"
    }
   ],
   "source": [
    "np.abs((np.reshape(vqd_fid_states[0],(2**10,)).conj().transpose())@eigenvectors_matrix[:,0])"
   ]
  },
  {
   "cell_type": "code",
   "execution_count": 234,
   "metadata": {},
   "outputs": [
    {
     "data": {
      "text/plain": [
       "0.4660872190573107"
      ]
     },
     "execution_count": 234,
     "metadata": {},
     "output_type": "execute_result"
    }
   ],
   "source": [
    "(vqd_fid_states[0].expectation_value(class_H_oprt.hamiltonian_mag_pauli)/len(latt.plaq_list)).real"
   ]
  },
  {
   "cell_type": "code",
   "execution_count": 8,
   "metadata": {},
   "outputs": [],
   "source": [
    "def fidelity_func_e(vqd,ed,index_ed,index_vqd):\n",
    "\n",
    "    \"\"\" Inputs; results from VQD and eigenvector matrix from ED. Update to Qiskit version 0.24.1\"\"\"\n",
    "    \n",
    "    vqd_states = vqd.optimal_circuits[index_vqd].bind_parameters(vqd.optimal_parameters[index_vqd].values())\n",
    "\n",
    "    vqd_fid_states =qinf.Statevector.from_instruction(vqd_states)\n",
    "    ed_fid_states =Statevector(ed[:,index_ed]) \n",
    "\n",
    "    return qinf.state_fidelity(vqd_fid_states,ed_fid_states)"
   ]
  },
  {
   "attachments": {},
   "cell_type": "markdown",
   "metadata": {},
   "source": [
    "##### Quantum circuit"
   ]
  },
  {
   "cell_type": "code",
   "execution_count": 9,
   "metadata": {},
   "outputs": [],
   "source": [
    "def gray_code_lim(l,theta=None,layers=1):\n",
    "    \"\"\"Return Gray code circuit for gauge field and truncation l=1,2,3,6,7,15.\"\"\"\n",
    "    if l not in [1,2,3,6,7,15]:\n",
    "        raise ValueError('l must be 1,2,3,6,7,15')\n",
    "    n_qubits =int(np.ceil(np.log2(2 * l+ 1)))\n",
    "    qc = QuantumCircuit(n_qubits)\n",
    "    params = lambda i: Parameter(f'theta_{i}')\n",
    "\n",
    "    if theta is None:\n",
    "        t=0\n",
    "    else:\n",
    "        t=theta\n",
    "\n",
    "    #First layer of ry gates\n",
    "    for j in range(layers):\n",
    "        for i in range(n_qubits-1):\n",
    "            qc.ry(params(t),i)\n",
    "            t+=1\n",
    "        \n",
    "    if l==2:\n",
    "        for j in range(layers):\n",
    "            qc.x(0)\n",
    "            qc.mcry(params(t),list(range(n_qubits-1)),n_qubits-1,use_basis_gates=True)\n",
    "            qc.x(0)\n",
    "            t+=1\n",
    "\n",
    "    else:\n",
    "        #1st cry gate \n",
    "        for j in range(layers):\n",
    "            qc.cry(params(t),n_qubits-2,n_qubits-1)\n",
    "            t+=1\n",
    "\n",
    "        if l==6:\n",
    "            for j in range(layers):\n",
    "                qc.x(0)\n",
    "                qc.x(2)\n",
    "                qc.mcry(params(t),list(range(n_qubits-1)),n_qubits-1,use_basis_gates=True)\n",
    "                qc.x(0)\n",
    "                qc.x(2)\n",
    "                t+=1\n",
    "\n",
    "        #2nd cry gate\n",
    "        if l>1 and l!=6:\n",
    "            for j in range(layers):\n",
    "                qc.cry(params(t),n_qubits-3,n_qubits-1)\n",
    "                t+=1\n",
    "\n",
    "            # if l==14:#TODO see why qiskit error \n",
    "            #     qc.x(0)\n",
    "            #     qc.x(2)\n",
    "            #     qc.x(3)\n",
    "            #     #qc.mcry(params(t),list(range(n_qubits-1)),n_qubits-1,use_basis_gates=True)\n",
    "            #     qc.x(0)\n",
    "            #     qc.x(2)\n",
    "            #     qc.x(3)\n",
    "            #     t+=1\n",
    "\n",
    "            #layers of cry gates if l>3\n",
    "            if l>3 and l!=14:\n",
    "                for j in range(layers):\n",
    "                    for i in range(1,n_qubits-2)[::-1]:\n",
    "                        qc.cry(params(t),i-1,i)\n",
    "                        t+=1\n",
    "\n",
    "    par_list = [params(i) for i in range(t)]\n",
    "\n",
    "    return qc,par_list"
   ]
  },
  {
   "attachments": {},
   "cell_type": "markdown",
   "metadata": {},
   "source": [
    "##### Quantum ansatz test"
   ]
  },
  {
   "cell_type": "code",
   "execution_count": 8,
   "metadata": {},
   "outputs": [
    {
     "name": "stdout",
     "output_type": "stream",
     "text": [
      "unphys stases for l= 1 : 1\n",
      "unphys stases for l= 2 : 3\n",
      "unphys stases for l= 3 : 1\n",
      "unphys stases for l= 4 : 7\n",
      "unphys stases for l= 5 : 5\n",
      "unphys stases for l= 6 : 3\n",
      "unphys stases for l= 7 : 1\n",
      "unphys stases for l= 8 : 15\n",
      "unphys stases for l= 9 : 13\n",
      "unphys stases for l= 10 : 11\n",
      "unphys stases for l= 11 : 9\n",
      "unphys stases for l= 12 : 7\n",
      "unphys stases for l= 13 : 5\n",
      "unphys stases for l= 14 : 3\n",
      "unphys stases for l= 15 : 1\n"
     ]
    }
   ],
   "source": [
    "for l in range(1,16):\n",
    "    print('unphys stases for l=',l,':',2**int(np.ceil(np.log2(2 * l+ 1)))-(2 * l + 1))"
   ]
  },
  {
   "cell_type": "code",
   "execution_count": 9,
   "metadata": {},
   "outputs": [
    {
     "name": "stdout",
     "output_type": "stream",
     "text": [
      "unphys stases for l= 3 : 1\n",
      "000\n",
      "001\n",
      "011\n",
      "010\n",
      "110\n",
      "111\n",
      "101\n"
     ]
    }
   ],
   "source": [
    "l=3\n",
    "print('unphys stases for l=',l,':',2**int(np.ceil(np.log2(2 * l+ 1)))-(2 * l + 1))\n",
    "for i in range(0, 2 * l + 1):\n",
    "    gray_decimal = i ^ (i >> 1)\n",
    "    print( \"{0:0{1}b}\".format(gray_decimal,int(np.ceil(np.log2(2 * l+ 1)))))"
   ]
  },
  {
   "cell_type": "code",
   "execution_count": 10,
   "metadata": {},
   "outputs": [
    {
     "name": "stdout",
     "output_type": "stream",
     "text": [
      "100\n"
     ]
    }
   ],
   "source": [
    "#unphys states\n",
    "for i in range(2 * l + 1, 2**int(np.ceil(np.log2(2 * l+ 1)))):\n",
    "    gray_decimal = i ^ (i >> 1)\n",
    "    print( \"{0:0{1}b}\".format(gray_decimal,int(np.ceil(np.log2(2 * l+ 1)))))"
   ]
  },
  {
   "cell_type": "code",
   "execution_count": 11,
   "metadata": {},
   "outputs": [
    {
     "name": "stdout",
     "output_type": "stream",
     "text": [
      "000\n",
      "001\n",
      "011\n",
      "010\n",
      "110\n",
      "111\n",
      "101\n",
      "100\n"
     ]
    }
   ],
   "source": [
    "\n",
    "for i in range(0, 2**int(np.ceil(np.log2(2 * l+ 1)))):\n",
    "    gray_decimal = i ^ (i >> 1)\n",
    "    print( \"{0:0{1}b}\".format(gray_decimal,int(np.ceil(np.log2(2 * l+ 1)))))"
   ]
  },
  {
   "cell_type": "code",
   "execution_count": 111,
   "metadata": {},
   "outputs": [],
   "source": [
    "def circuit_physical(qc_test,n_qubits,th,fermions=False):\n",
    "    \"\"\"Test with a range of values for the parameters of the circuit qc_test\n",
    "    if it reaches all and only physical states of Gray encoding or fermions with zero charge if fermions=True, i.e. same n.er of 0 and 1.\"\"\"\n",
    "\n",
    "    #sampler = Sampler()\n",
    "    if fermions:\n",
    "        theta_values_0 = np.linspace(0, np.pi/2, 2)  # Parameter values 0=gate doesn't act or pi/2=gate acts RXX+RYY\n",
    "    else:\n",
    "        theta_values_0 = np.linspace(0, np.pi, 2) # Parameter values 0=gate doesn't act or pi=gate acts RY(theta)=exp(-i *theta *Y/2)\n",
    "\n",
    "    params = lambda i: Parameter(f'theta_{i}')\n",
    "    par_list = [params(i) for i in range(th)]\n",
    "\n",
    "    states_reached = set()\n",
    "    for theta in tqdm(list(product(theta_values_0, repeat=len(par_list)))):\n",
    "        bound_qc =qc_test.bind_parameters(dict(zip(qc_test.parameters,theta)))\n",
    "        result = Statevector(bound_qc).probabilities_dict()\n",
    "        \n",
    "        # tmp = bound_qc.copy()\n",
    "        # tmp.measure_all()\n",
    "        # res = sampler.run(tmp).result() \n",
    "        \n",
    "        # result={x:round(y,6) for x,y in res.quasi_dists[0].binary_probabilities().items() if y>1e-16}\n",
    "        # tmp.remove_final_measurements()\n",
    "\n",
    "        #print(theta,'res=',[key for key, value in result.items() if value >1e-16])\n",
    "\n",
    "        for k in [key for key, value in result.items() if value >1e-16]:#consider nonzero probabilities\n",
    "            if k not in states_reached:\n",
    "                states_reached.add(k)\n",
    "                \n",
    "                \n",
    "     \n",
    "    if fermions:\n",
    "        #check if only state with same n.er of 0 and 1 are reached\n",
    "        ferm_q0 = {''.join(i) for i in permutations(['0','1']*(n_qubits//2),n_qubits)}\n",
    "        if n_qubits<8:\n",
    "            print(f\"{len(states_reached)} states reached:\",states_reached,f'{len(ferm_q0)} fermions with zero charge:',ferm_q0)\n",
    "        if states_reached==ferm_q0:   \n",
    "            print('all physical states reached : OK!')\n",
    "        else:\n",
    "            print('not all physical states reached')\n",
    "\n",
    "    else:\n",
    "        gray_unph = set()\n",
    "        for i in range(2 * l + 1, 2**int(np.ceil(np.log2(2 * l+ 1)))):\n",
    "            gray_decimal = i ^ (i >> 1)\n",
    "            gray_unph.add(\"{0:0{1}b}\".format(gray_decimal,int(np.ceil(np.log2(2 * l+ 1))))) \n",
    "\n",
    "        gray_phys = set()\n",
    "        for i in range(0, 2 * l + 1):\n",
    "            gray_decimal = i ^ (i >> 1)\n",
    "            gray_phys.add(\"{0:0{1}b}\".format(gray_decimal,int(np.ceil(np.log2(2 * l+ 1)))))\n",
    "\n",
    "        if n_qubits<8:\n",
    "            print('states reached:',states_reached,'states unphys:',gray_unph,'states phys:',gray_phys)\n",
    "        if states_reached==gray_phys:\n",
    "            print('all physical states reached : OK!')\n",
    "        else:\n",
    "            print('not all physical states reached')"
   ]
  },
  {
   "attachments": {},
   "cell_type": "markdown",
   "metadata": {},
   "source": [
    "GRAY ENCODING "
   ]
  },
  {
   "cell_type": "code",
   "execution_count": 95,
   "metadata": {},
   "outputs": [
    {
     "data": {
      "image/png": "[encoded data removed]",
      "text/plain": [
       "<Figure size 206.852x144.48 with 1 Axes>"
      ]
     },
     "execution_count": 95,
     "metadata": {},
     "output_type": "execute_result"
    }
   ],
   "source": [
    "qc_test,par_list = gray_code_lim(1)\n",
    "qc_test.draw('mpl')"
   ]
  },
  {
   "cell_type": "code",
   "execution_count": 96,
   "metadata": {},
   "outputs": [
    {
     "name": "stdout",
     "output_type": "stream",
     "text": [
      "l= 1\n"
     ]
    },
    {
     "data": {
      "application/vnd.jupyter.widget-view+json": {
       "model_id": "1dc26ef07df348cbaa64d030df1ba03b",
       "version_major": 2,
       "version_minor": 0
      },
      "text/plain": [
       "  0%|          | 0/4 [00:00<?, ?it/s]"
      ]
     },
     "metadata": {},
     "output_type": "display_data"
    },
    {
     "name": "stdout",
     "output_type": "stream",
     "text": [
      "states reached: {'00', '11', '01'} states unphys: {'10'} states phys: {'00', '11', '01'}\n",
      "all physical states reached : OK!\n",
      "l= 2\n"
     ]
    },
    {
     "data": {
      "application/vnd.jupyter.widget-view+json": {
       "model_id": "a27becbff7d04e248d6fe047d976e8f9",
       "version_major": 2,
       "version_minor": 0
      },
      "text/plain": [
       "  0%|          | 0/8 [00:00<?, ?it/s]"
      ]
     },
     "metadata": {},
     "output_type": "display_data"
    },
    {
     "name": "stdout",
     "output_type": "stream",
     "text": [
      "states reached: {'010', '000', '011', '001', '110'} states unphys: {'100', '111', '101'} states phys: {'010', '000', '011', '001', '110'}\n",
      "all physical states reached : OK!\n",
      "l= 3\n"
     ]
    },
    {
     "data": {
      "application/vnd.jupyter.widget-view+json": {
       "model_id": "12db9e586ed24a4faf0947c0ec8a223e",
       "version_major": 2,
       "version_minor": 0
      },
      "text/plain": [
       "  0%|          | 0/16 [00:00<?, ?it/s]"
      ]
     },
     "metadata": {},
     "output_type": "display_data"
    },
    {
     "name": "stdout",
     "output_type": "stream",
     "text": [
      "states reached: {'101', '010', '111', '000', '011', '001', '110'} states unphys: {'100'} states phys: {'101', '010', '111', '000', '011', '001', '110'}\n",
      "all physical states reached : OK!\n",
      "l= 6\n"
     ]
    },
    {
     "data": {
      "application/vnd.jupyter.widget-view+json": {
       "model_id": "3031df8132cf47b3af0442a81499429d",
       "version_major": 2,
       "version_minor": 0
      },
      "text/plain": [
       "  0%|          | 0/32 [00:00<?, ?it/s]"
      ]
     },
     "metadata": {},
     "output_type": "display_data"
    },
    {
     "name": "stdout",
     "output_type": "stream",
     "text": [
      "states reached: {'0110', '0101', '0001', '1101', '1100', '1111', '0111', '1110', '1010', '0000', '0100', '0010', '0011'} states unphys: {'1000', '1001', '1011'} states phys: {'0101', '0001', '1101', '1100', '1111', '0100', '0111', '1110', '1010', '0000', '0110', '0010', '0011'}\n",
      "all physical states reached : OK!\n",
      "l= 7\n"
     ]
    },
    {
     "data": {
      "application/vnd.jupyter.widget-view+json": {
       "model_id": "cb97762341194b3191ad3ef1d539e3eb",
       "version_major": 2,
       "version_minor": 0
      },
      "text/plain": [
       "  0%|          | 0/64 [00:00<?, ?it/s]"
      ]
     },
     "metadata": {},
     "output_type": "display_data"
    },
    {
     "name": "stdout",
     "output_type": "stream",
     "text": [
      "states reached: {'0110', '0101', '1011', '0001', '1101', '1100', '1111', '0111', '1001', '1110', '1010', '0000', '0100', '0010', '0011'} states unphys: {'1000'} states phys: {'0101', '1011', '0001', '1101', '1100', '1111', '0100', '0111', '1001', '1110', '1010', '0000', '0110', '0010', '0011'}\n",
      "all physical states reached : OK!\n",
      "l= 15\n"
     ]
    },
    {
     "data": {
      "application/vnd.jupyter.widget-view+json": {
       "model_id": "e8e8ecb0f92c4e198b54671e8807dd9b",
       "version_major": 2,
       "version_minor": 0
      },
      "text/plain": [
       "  0%|          | 0/256 [00:00<?, ?it/s]"
      ]
     },
     "metadata": {},
     "output_type": "display_data"
    },
    {
     "name": "stdout",
     "output_type": "stream",
     "text": [
      "states reached: {'10100', '00010', '11010', '11111', '00001', '01101', '01011', '00101', '10001', '01010', '11000', '10101', '11001', '00111', '10011', '00100', '10010', '11110', '00110', '11011', '01001', '01000', '11100', '10110', '01100', '01111', '11101', '00000', '10111', '01110', '00011'} states unphys: {'10000'} states phys: {'10100', '00010', '11010', '11111', '00001', '01101', '01011', '00101', '10001', '01010', '11000', '10101', '00111', '11001', '10011', '00100', '10010', '11110', '00110', '11011', '01000', '01001', '11100', '10110', '01100', '01111', '11101', '00000', '10111', '01110', '00011'}\n",
      "all physical states reached : OK!\n"
     ]
    }
   ],
   "source": [
    "#Tested for l=1,2,3,6,7,15\n",
    "l_list_test = [1,2,3,6,7,15]\n",
    "\n",
    "for l in l_list_test:\n",
    "    print('l=',l)\n",
    "    n_qubits =int(np.ceil(np.log2(2 * l+ 1)))\n",
    "    qc_test,par_list = gray_code_lim(l)\n",
    "\n",
    "    #qc_test.draw('mpl')#,filename='gray_code_lim_l1.png')\n",
    "\n",
    "    circuit_physical(qc_test,n_qubits,len(par_list),fermions=False)"
   ]
  },
  {
   "attachments": {},
   "cell_type": "markdown",
   "metadata": {},
   "source": [
    "ZERO TOTAL CHARGE FOR FERMIONS WITH ISWAP GATES"
   ]
  },
  {
   "cell_type": "code",
   "execution_count": 164,
   "metadata": {},
   "outputs": [
    {
     "data": {
      "image/png": "[encoded data removed]",
      "text/plain": [
       "<Figure size 748.797x626.08 with 1 Axes>"
      ]
     },
     "execution_count": 164,
     "metadata": {},
     "output_type": "execute_result"
    }
   ],
   "source": [
    "#fermion circuit proposal\n",
    "p = Parameter('p')\n",
    "qc = QuantumCircuit(2,name='iSWAP')\n",
    "qc.rxx(p, 0, 1)\n",
    "qc.ryy(p, 0, 1)\n",
    "\n",
    "\n",
    "n_qubits_f = 10\n",
    "qr = QuantumRegister(n_qubits_f,name='q')\n",
    "qc_tot2 = QuantumCircuit(qr)\n",
    "\n",
    "params = lambda i: Parameter(f'theta_{i}')\n",
    "\n",
    "th=0\n",
    "for i in range(0,n_qubits_f,2):\n",
    "    qc_tot2.x(i)\n",
    "\n",
    "for j in range(n_qubits_f//2):\n",
    "    for i in range(j,n_qubits_f-j,2):\n",
    "            qc_tot2.append(qc.to_instruction({p: params(th)}), qr[i:i+2])\n",
    "            th+=1\n",
    "\n",
    "\n",
    "qc_tot2.draw('mpl')"
   ]
  },
  {
   "cell_type": "code",
   "execution_count": 154,
   "metadata": {},
   "outputs": [
    {
     "data": {
      "application/vnd.jupyter.widget-view+json": {
       "model_id": "790a9c40759a4040b85691513db2544c",
       "version_major": 2,
       "version_minor": 0
      },
      "text/plain": [
       "  0%|          | 0/1024 [00:00<?, ?it/s]"
      ]
     },
     "metadata": {},
     "output_type": "display_data"
    },
    {
     "name": "stdout",
     "output_type": "stream",
     "text": [
      "all physical states reached : OK!\n"
     ]
    }
   ],
   "source": [
    "circuit_physical(qc_tot2,n_qubits_f,th,fermions=True)"
   ]
  },
  {
   "cell_type": "code",
   "execution_count": 273,
   "metadata": {},
   "outputs": [
    {
     "name": "stdout",
     "output_type": "stream",
     "text": [
      "[[1.    +0.j     0.    +0.j     0.    +0.j     0.    +0.j    ]\n",
      " [0.    +0.j     0.5774+0.j     0.    -0.8165j 0.    +0.j    ]\n",
      " [0.    +0.j     0.    -0.8165j 0.5774+0.j     0.    +0.j    ]\n",
      " [0.    +0.j     0.    +0.j     0.    +0.j     1.    +0.j    ]]\n"
     ]
    }
   ],
   "source": [
    "qc_tot2 = QuantumCircuit(2)\n",
    "factor = np.arccos(1/np.sqrt(3))#np.pi/3\n",
    "qc_tot2.rxx(factor, 0,1)\n",
    "qc_tot2.ryy(factor, 0,1)\n",
    "print(np.round(Operator(qc_tot2).to_matrix(),4))"
   ]
  },
  {
   "cell_type": "code",
   "execution_count": 274,
   "metadata": {},
   "outputs": [
    {
     "data": {
      "text/plain": [
       "0.5773502691896258"
      ]
     },
     "execution_count": 274,
     "metadata": {},
     "output_type": "execute_result"
    }
   ],
   "source": [
    "1/np.sqrt(3)"
   ]
  },
  {
   "cell_type": "code",
   "execution_count": 272,
   "metadata": {},
   "outputs": [
    {
     "data": {
      "text/plain": [
       "0.9553166181245092"
      ]
     },
     "execution_count": 272,
     "metadata": {},
     "output_type": "execute_result"
    }
   ],
   "source": [
    "np.arccos(1/np.sqrt(3))"
   ]
  },
  {
   "cell_type": "code",
   "execution_count": 268,
   "metadata": {},
   "outputs": [
    {
     "data": {
      "text/plain": [
       "0.8660254037844386"
      ]
     },
     "execution_count": 268,
     "metadata": {},
     "output_type": "execute_result"
    }
   ],
   "source": [
    "np.sqrt(3)/2"
   ]
  },
  {
   "cell_type": "code",
   "execution_count": 269,
   "metadata": {},
   "outputs": [
    {
     "data": {
      "text/plain": [
       "0.8660254037844387"
      ]
     },
     "execution_count": 269,
     "metadata": {},
     "output_type": "execute_result"
    }
   ],
   "source": [
    "np.cos(np.pi/6)"
   ]
  },
  {
   "cell_type": "code",
   "execution_count": 270,
   "metadata": {},
   "outputs": [
    {
     "data": {
      "text/plain": [
       "0.49999999999999994"
      ]
     },
     "execution_count": 270,
     "metadata": {},
     "output_type": "execute_result"
    }
   ],
   "source": [
    "np.sin(np.pi/6)"
   ]
  },
  {
   "cell_type": "code",
   "execution_count": 234,
   "metadata": {},
   "outputs": [
    {
     "name": "stdout",
     "output_type": "stream",
     "text": [
      "2 True\n",
      "4 True\n",
      "6 True\n",
      "8 True\n",
      "10 True\n"
     ]
    }
   ],
   "source": [
    "#Test with all parameters =pi/6\n",
    "for n_qubits_f in range(2,12,2):\n",
    "    qr = QuantumRegister(n_qubits_f,name='q')\n",
    "    qc_tot2 = QuantumCircuit(qr)\n",
    "\n",
    "    params = lambda i: Parameter(f'theta_{i}')\n",
    "\n",
    "    th=0\n",
    "    for i in range(0,n_qubits_f,2):\n",
    "        qc_tot2.x(i)\n",
    "\n",
    "    for j in range(n_qubits_f//2):\n",
    "        for i in range(j,n_qubits_f-j,2):\n",
    "                qc_tot2.append(qc.to_instruction({p: params(th)}), qr[i:i+2])\n",
    "                th+=1\n",
    "    # for k in range(n_qubits_f):\n",
    "    #     qc_tot2.rz(th, k)\n",
    "    #     th+=1\n",
    "    #print(set([(key,val) for key,val in Statevector(qc_tot2.bind_parameters(dict(zip(qc_tot2.parameters,[np.pi/6,]*len(qc_tot2.parameters))))).probabilities_dict().items() if val>1e-16]))\n",
    "    print(n_qubits_f,{''.join(i) for i in permutations(['0','1']*(n_qubits_f//2),n_qubits_f)} == set([key for key,val in Statevector(qc_tot2.bind_parameters(dict(zip(qc_tot2.parameters,[np.pi/6,]*len(qc_tot2.parameters))))).probabilities_dict().items() if val>1e-14]))"
   ]
  },
  {
   "cell_type": "code",
   "execution_count": 71,
   "metadata": {},
   "outputs": [
    {
     "name": "stdout",
     "output_type": "stream",
     "text": [
      "n_qubits_f= 2\n"
     ]
    },
    {
     "data": {
      "application/vnd.jupyter.widget-view+json": {
       "model_id": "7882789759b94992b9a9569217678b06",
       "version_major": 2,
       "version_minor": 0
      },
      "text/plain": [
       "  0%|          | 0/2 [00:00<?, ?it/s]"
      ]
     },
     "metadata": {},
     "output_type": "display_data"
    },
    {
     "name": "stdout",
     "output_type": "stream",
     "text": [
      "2 states reached: {'01', '10'} 2 fermions with zero charge: {'01', '10'}\n",
      "all physical states reached : OK!\n",
      "n_qubits_f= 4\n"
     ]
    },
    {
     "data": {
      "application/vnd.jupyter.widget-view+json": {
       "model_id": "112752bfac064c5b885f3580c47d07b0",
       "version_major": 2,
       "version_minor": 0
      },
      "text/plain": [
       "  0%|          | 0/8 [00:00<?, ?it/s]"
      ]
     },
     "metadata": {},
     "output_type": "display_data"
    },
    {
     "name": "stdout",
     "output_type": "stream",
     "text": [
      "6 states reached: {'0101', '1100', '1001', '1010', '0110', '0011'} 6 fermions with zero charge: {'0101', '1100', '1001', '1010', '0110', '0011'}\n",
      "all physical states reached : OK!\n",
      "n_qubits_f= 6\n"
     ]
    },
    {
     "data": {
      "application/vnd.jupyter.widget-view+json": {
       "model_id": "6ad448db8426479b938a77b63a5dcf1e",
       "version_major": 2,
       "version_minor": 0
      },
      "text/plain": [
       "  0%|          | 0/64 [00:00<?, ?it/s]"
      ]
     },
     "metadata": {},
     "output_type": "display_data"
    },
    {
     "name": "stdout",
     "output_type": "stream",
     "text": [
      "20 states reached: {'000111', '001101', '011100', '101010', '010101', '101001', '110100', '001110', '011010', '110010', '110001', '011001', '101100', '111000', '100011', '100101', '100110', '001011', '010011', '010110'} 20 fermions with zero charge: {'000111', '001101', '011100', '101010', '010101', '101001', '110100', '001110', '011010', '110010', '110001', '011001', '101100', '111000', '100011', '100101', '100110', '001011', '010011', '010110'}\n",
      "all physical states reached : OK!\n",
      "n_qubits_f= 8\n"
     ]
    },
    {
     "data": {
      "application/vnd.jupyter.widget-view+json": {
       "model_id": "5d08a2ad489a4ae5accc33fb7966d5fd",
       "version_major": 2,
       "version_minor": 0
      },
      "text/plain": [
       "  0%|          | 0/1024 [00:00<?, ?it/s]"
      ]
     },
     "metadata": {},
     "output_type": "display_data"
    },
    {
     "name": "stdout",
     "output_type": "stream",
     "text": [
      "all physical states reached : OK!\n",
      "n_qubits_f= 10\n"
     ]
    },
    {
     "data": {
      "application/vnd.jupyter.widget-view+json": {
       "model_id": "0e799191dd1746169bfbcb8fdd3d8145",
       "version_major": 2,
       "version_minor": 0
      },
      "text/plain": [
       "  0%|          | 0/32768 [00:00<?, ?it/s]"
      ]
     },
     "metadata": {},
     "output_type": "display_data"
    },
    {
     "name": "stdout",
     "output_type": "stream",
     "text": [
      "all physical states reached : OK!\n"
     ]
    }
   ],
   "source": [
    "#Tested for up to 12 fermions. Parameter values 0=gate doesn't act or pi/2=gate acts RXX+RYY\n",
    "\n",
    "n_qubits_f_list = range(2,12,2)\n",
    "for n_qubits_f in n_qubits_f_list:\n",
    "    print('n_qubits_f=',n_qubits_f)\n",
    "    p = Parameter('p')\n",
    "    qc = QuantumCircuit(2,name='iSWAP')\n",
    "    qc.rxx(p, 0, 1)\n",
    "    qc.ryy(p, 0, 1)\n",
    "\n",
    "    qr = QuantumRegister(n_qubits_f)\n",
    "    qc_tot2 = QuantumCircuit(qr)\n",
    "    params = lambda i: Parameter(f'theta_{i}')\n",
    "\n",
    "    th=0\n",
    "    for i in range(0,n_qubits_f,2):\n",
    "        qc_tot2.x(i)\n",
    "\n",
    "    for j in range(n_qubits_f//2):\n",
    "        for i in range(j,n_qubits_f-j,2):\n",
    "                qc_tot2.append(qc.to_instruction({p: params(th)}), qr[i:i+2])\n",
    "                th+=1\n",
    "\n",
    "    circuit_physical(qc_tot2,n_qubits_f,th,fermions=True)"
   ]
  },
  {
   "attachments": {},
   "cell_type": "markdown",
   "metadata": {},
   "source": [
    "##### Hamiltonian"
   ]
  },
  {
   "cell_type": "code",
   "execution_count": 17,
   "metadata": {},
   "outputs": [],
   "source": [
    "#class input parameters:\n",
    "n_sites = [2,2]#how many sites for every dimension\n",
    "g=1\n",
    "fact_e_op = 1\n",
    "fact_b_op = 1\n",
    "m=0.1\n",
    "omega=1\n",
    "l=1\n",
    "L=4\n",
    "rotors = False\n",
    "lambd = 1000\n",
    "encoding = 'gray' ##'ed'#\n",
    "magnetic_basis=False\n",
    "pbc=True\n",
    "puregauge = True \n",
    "static_charges_values =None#{(0,0):1,(1,0):-1}#TODO: no conditions applied, like charge conservation, etc. For conditions see func_qstatic_dist\n",
    "display_hamiltonian=False\n",
    "e_op_out_plus=False #if E out of site n has plus sign \n",
    "sparse_pauli =False #false for circuit ansatz\n",
    "#exact diagonalisation parameters:\n",
    "threshold = 1e-12\n",
    "num_eigs = 1"
   ]
  },
  {
   "cell_type": "code",
   "execution_count": 18,
   "metadata": {},
   "outputs": [],
   "source": [
    "latt = HCLattice(n_sites,pbc=pbc)"
   ]
  },
  {
   "cell_type": "code",
   "execution_count": 19,
   "metadata": {},
   "outputs": [
    {
     "name": "stdout",
     "output_type": "stream",
     "text": [
      "HamiltonianQED_sym: Initializing...\n",
      "> Gauss law equations solved\n",
      "> e_op_free and u_op_free built\n",
      ">> Gauss law applied and Hamiltonian built.  Execution time: 0.005747079849243164 seconds\n",
      "HamiltonianQED_oprt: Initializing...\n",
      "> e_op_free and u_op_free built\n",
      "> Pauli strings built\n",
      ">> Hamiltonian built.  Execution time: 1.9844207763671875 seconds\n",
      ">> Suppression term built.  Execution time: 0.0033941268920898438 seconds\n"
     ]
    }
   ],
   "source": [
    "hamilt_sym = HamiltonianQED_sym(\n",
    "                        latt,\n",
    "                        n_sites,\n",
    "                        l,\n",
    "                        ll=L,\n",
    "                        encoding = encoding,\n",
    "                        rotors=rotors,\n",
    "                        magnetic_basis=magnetic_basis,\n",
    "                        pbc=pbc,\n",
    "                        puregauge=puregauge,\n",
    "                        static_charges_values=static_charges_values,\n",
    "                        e_op_out_plus = e_op_out_plus,\n",
    "                        display_hamiltonian=display_hamiltonian)\n",
    "\n",
    "class_H_oprt = HamiltonianQED_oprt(\n",
    "                        latt,\n",
    "                        hamilt_sym,\n",
    "                        n_sites,\n",
    "                        l,\n",
    "                        ll=L,\n",
    "                        encoding = encoding,\n",
    "                        rotors=rotors,\n",
    "                        magnetic_basis=magnetic_basis,\n",
    "                        pbc=pbc,\n",
    "                        puregauge=puregauge,\n",
    "                        static_charges_values=static_charges_values,\n",
    "                        e_op_out_plus = e_op_out_plus,\n",
    "                        sparse_pauli=sparse_pauli)"
   ]
  },
  {
   "attachments": {},
   "cell_type": "markdown",
   "metadata": {},
   "source": [
    "##### ED spectrum for multiple couplings"
   ]
  },
  {
   "cell_type": "code",
   "execution_count": 92,
   "metadata": {},
   "outputs": [],
   "source": [
    "#ED\n",
    "import scipy.sparse as sp"
   ]
  },
  {
   "cell_type": "code",
   "execution_count": 110,
   "metadata": {},
   "outputs": [
    {
     "data": {
      "text/plain": [
       "array([0.6       , 0.64444444, 0.68888889, 0.73333333, 0.77777778,\n",
       "       0.82222222, 0.86666667, 0.91111111, 0.95555556, 1.        ])"
      ]
     },
     "execution_count": 110,
     "metadata": {},
     "output_type": "execute_result"
    }
   ],
   "source": [
    "g_list = np.linspace(0.6,1,10);g_list"
   ]
  },
  {
   "cell_type": "code",
   "execution_count": 111,
   "metadata": {},
   "outputs": [],
   "source": [
    "#g_list =np.sqrt(np.logspace(-1,1,4))"
   ]
  },
  {
   "cell_type": "code",
   "execution_count": 112,
   "metadata": {},
   "outputs": [
    {
     "name": "stdout",
     "output_type": "stream",
     "text": [
      "g 0.6\n",
      "g 0.6444444444444444\n",
      "g 0.6888888888888889\n",
      "g 0.7333333333333333\n",
      "g 0.7777777777777778\n",
      "g 0.8222222222222222\n",
      "g 0.8666666666666667\n",
      "g 0.9111111111111111\n",
      "g 0.9555555555555555\n",
      "g 1.0\n"
     ]
    }
   ],
   "source": [
    "ngauge = class_H_oprt.len_e_op\n",
    "spectra = []\n",
    "plaq_list = []\n",
    "for g in g_list:\n",
    "    print('g',g)\n",
    "    Hamiltonian_Pauli_tot = class_H_oprt.get_hamiltonian(g_var=g, m_var=m, omega=omega,fact_b_op=fact_b_op,fact_e_op=fact_b_op,lambd=lambd)\n",
    "    #memory sparse matrix\n",
    "    #print((Hamiltonian_Pauli_tot.data.nbytes + Hamiltonian_Pauli_tot.indptr.nbytes + Hamiltonian_Pauli_tot.indices.nbytes)/1000**3,'Gb')\n",
    "    if encoding=='gray' and not sparse_pauli:\n",
    "        Hamiltonian_Pauli_tot = Hamiltonian_Pauli_tot.to_matrix(sparse=True)\n",
    "        if ngauge:\n",
    "            h_b_sparse = class_H_oprt.hamiltonian_mag_pauli.to_matrix(sparse=True) #plaquette\n",
    "        else:\n",
    "            h_b_sparse = 0 \n",
    "    elif encoding=='ed':\n",
    "        Hamiltonian_Pauli_tot = sp.csr_matrix(Hamiltonian_Pauli_tot)\n",
    "        if ngauge:\n",
    "            h_b_sparse =sp.csr_matrix(class_H_oprt.hamiltonian_mag_pauli)\n",
    "        else:\n",
    "            h_b_sparse =0\n",
    "\n",
    "    #** Exact diagonalisation\n",
    "    spectrum, eigenvectors_matrix =primme.eigsh(Hamiltonian_Pauli_tot,k=1,which=\"SA\")#TODO put 10\n",
    "    #spectrum\n",
    "    idx = spectrum.argsort() \n",
    "    spectrum = spectrum[idx]\n",
    "    eigenvectors_matrix = eigenvectors_matrix[:,idx]\n",
    "    spectra.append(spectrum)\n",
    "\n",
    "    eig0cj = sp.csr_matrix(eigenvectors_matrix[:,0]).transpose().conjugate()\n",
    "    eig0= sp.csr_matrix(eigenvectors_matrix[:,0])\n",
    "    if ngauge:\n",
    "        plaq = (eig0*h_b_sparse*eig0cj/len(latt.plaq_list) ).toarray()[0][0].real\n",
    "\n",
    "    plaq_list.append(plaq)"
   ]
  },
  {
   "cell_type": "code",
   "execution_count": 355,
   "metadata": {},
   "outputs": [],
   "source": [
    "markers = [ 'o', 'v', '^', '<', '>', '1', '2', '3', '4', 's', 'p', '*', 'h', 'H', '+', 'x', 'D', 'd', '|', '_']"
   ]
  },
  {
   "cell_type": "code",
   "execution_count": 363,
   "metadata": {},
   "outputs": [
    {
     "data": {
      "text/plain": [
       "Text(0.5, 1.0, 'Energies for range of coupling g: 2 lattice, l=1, L=2, magnetic_basis=False, pbc=True, puregauge=False, m=1, omega=1')"
      ]
     },
     "execution_count": 363,
     "metadata": {},
     "output_type": "execute_result"
    },
    {
     "data": {
      "image/png": "[encoded data removed]",
      "text/plain": [
       "<Figure size 1008x576 with 1 Axes>"
      ]
     },
     "metadata": {
      "needs_background": "light"
     },
     "output_type": "display_data"
    }
   ],
   "source": [
    "fig=plt.figure(figsize=(14, 8))\n",
    "[plt.plot(i, marker=j, label=f'g{np.round(g,3)}') for i,j,g in zip(spectra,markers,g_list)]\n",
    "plt.legend()\n",
    "plt.grid()\n",
    "plt.xlabel('i')\n",
    "plt.ylabel('E_i')\n",
    "plt.title(f'Energies for range of coupling g: {latt.dims} lattice, l={l}, L={L}, magnetic_basis={magnetic_basis}, pbc={pbc}, puregauge={puregauge}, m={m}, omega={omega}')"
   ]
  },
  {
   "attachments": {},
   "cell_type": "markdown",
   "metadata": {},
   "source": [
    "##### Lattice system"
   ]
  },
  {
   "cell_type": "code",
   "execution_count": 27,
   "metadata": {},
   "outputs": [
    {
     "data": {
      "image/png": "[encoded data removed]",
      "text/plain": [
       "<Figure size 576x432 with 1 Axes>"
      ]
     },
     "metadata": {},
     "output_type": "display_data"
    }
   ],
   "source": [
    "\n",
    "#latt.draw_graph_func(gauss_law_fig=False,static_charges=static_charges_values)\n",
    "#only dynamical fields after Gauss law applied\n",
    "latt.draw_graph_func(gauss_law_fig=True,e_op_free=class_H_oprt.e_op_free)#,savefig_dir='.')"
   ]
  },
  {
   "cell_type": "code",
   "execution_count": 28,
   "metadata": {},
   "outputs": [
    {
     "data": {
      "text/plain": [
       "[Phi_4, Phi_3, Phi_2, Phi_1, U_11x, U_11y, U_10y, U_10x, U_01y]"
      ]
     },
     "execution_count": 28,
     "metadata": {},
     "output_type": "execute_result"
    }
   ],
   "source": [
    "class_H_oprt.phiop_list[::-1]+class_H_oprt.uop_list[::-1]#order of operators in tensor product and on circuit little endian ..q2q1q0"
   ]
  },
  {
   "cell_type": "code",
   "execution_count": 29,
   "metadata": {},
   "outputs": [
    {
     "name": "stdout",
     "output_type": "stream",
     "text": [
      "qubit0:U_01y\n",
      "qubit1:U_10x\n",
      "qubit2:U_10y\n",
      "qubit3:U_11y\n",
      "qubit4:U_11x\n",
      "qubit5:Phi_1\n",
      "qubit6:Phi_2\n",
      "qubit7:Phi_3\n",
      "qubit8:Phi_4\n"
     ]
    }
   ],
   "source": [
    "for i,k in enumerate(class_H_oprt.uop_list+class_H_oprt.phiop_list):\n",
    "    print(f'qubit{i}:{k}') "
   ]
  },
  {
   "cell_type": "code",
   "execution_count": 30,
   "metadata": {},
   "outputs": [
    {
     "name": "stdout",
     "output_type": "stream",
     "text": [
      "qubit0:U_01y\n",
      "qubit1:U_10x\n",
      "qubit2:U_10y\n",
      "qubit3:U_11y\n",
      "qubit4:U_11x\n"
     ]
    }
   ],
   "source": [
    "for i,k in enumerate(class_H_oprt.uop_list+class_H_oprt.qop_list):\n",
    "    print(f'qubit{i}:{k}') "
   ]
  },
  {
   "attachments": {},
   "cell_type": "markdown",
   "metadata": {},
   "source": [
    "##### Fermionic circuit"
   ]
  },
  {
   "cell_type": "code",
   "execution_count": 237,
   "metadata": {},
   "outputs": [
    {
     "data": {
      "image/png": "[encoded data removed]",
      "text/plain": [
       "<Figure size 90.3x24.08 with 1 Axes>"
      ]
     },
     "execution_count": 237,
     "metadata": {},
     "output_type": "execute_result"
    }
   ],
   "source": [
    "ngauge = class_H_oprt.len_e_op\n",
    "if puregauge:\n",
    "    n_qubits_f = 0\n",
    "else:\n",
    "    n_qubits_f = np.prod(latt.n_sites)#TODO add fermionic part\n",
    "\n",
    "\n",
    "ansatz_class = Ansatz(l,ngauge,nfermions=n_qubits_f)\n",
    "\n",
    "qferm = QuantumRegister(n_qubits_f,name='ferm')\n",
    "qc_tot2 = QuantumCircuit(qferm)\n",
    "\n",
    "qc_tot2.compose(ansatz_class.qc_ferm,qferm,inplace=True)\n",
    "\n",
    "qc_tot2.draw('mpl')"
   ]
  },
  {
   "attachments": {},
   "cell_type": "markdown",
   "metadata": {},
   "source": [
    "##### Puregauge circuit"
   ]
  },
  {
   "cell_type": "code",
   "execution_count": 20,
   "metadata": {},
   "outputs": [],
   "source": [
    "ngauge = class_H_oprt.len_e_op\n",
    "if puregauge:\n",
    "    n_qubits_f = 0\n",
    "else:\n",
    "    n_qubits_f = np.prod(latt.n_sites)\n",
    "\n",
    "n_qubits =int(np.ceil(np.log2(2 * l+ 1)))\n",
    "\n",
    "ansatz_class = Ansatz(l,ngauge,nfermions=n_qubits_f)\n",
    "\n",
    "qgaug = QuantumRegister(n_qubits*ngauge,name='gaug')\n",
    "qc_tot2 = QuantumCircuit(qgaug)\n",
    "\n",
    "qc_tot2.compose(ansatz_class.qc_gauge,qgaug,inplace=True)\n",
    "\n",
    "th = ansatz_class.th_gauge+1\n",
    "for k in range(n_qubits*ngauge):\n",
    "    qc_tot2.rz(Parameter(f'theta_{th}'), k)\n",
    "    th+=1\n",
    "    \n",
    "#qc_tot2.draw('mpl')"
   ]
  },
  {
   "cell_type": "code",
   "execution_count": 73,
   "metadata": {},
   "outputs": [
    {
     "data": {
      "image/png": "[encoded data removed]",
      "text/plain": [
       "<Figure size 1630.68x1950.48 with 1 Axes>"
      ]
     },
     "execution_count": 73,
     "metadata": {},
     "output_type": "execute_result"
    }
   ],
   "source": [
    "#test of entanglement but not precise #TODO more test?\n",
    "ngauge = class_H_oprt.len_e_op\n",
    "if puregauge:\n",
    "    n_qubits_f = 0\n",
    "else:\n",
    "    n_qubits_f = np.prod(latt.n_sites)#TODO add fermionic part\n",
    "\n",
    "n_qubits =int(np.ceil(np.log2(2 * l+ 1)))\n",
    "\n",
    "qgaug = QuantumRegister(ansatz_class.n_qubits*ansatz_class.ngauge,name='gaug')\n",
    "qc_tot2 = QuantumCircuit(qgaug)\n",
    "\n",
    "th_gauge=0\n",
    "#first gauge field\n",
    "qc_tot2.compose(ansatz_class.qc,list(range(ansatz_class.n_qubits)),inplace=True)\n",
    "#qc_tot2.barrier()\n",
    "th_gauge=int(''.join(list(filter(str.isdigit, str(ansatz_class.par_list[-1])))))+1\n",
    "\n",
    "for i in range(1,ansatz_class.ngauge):\n",
    "    qc_tot2.ry(Parameter(f'theta_{th_gauge}'),ansatz_class.n_qubits*i)\n",
    "    th_gauge+=1\n",
    "    for j in range(0,ansatz_class.n_qubits*i,ansatz_class.n_qubits):\n",
    "        qc_tot2.cry(Parameter(f'theta_{th_gauge}'),j,ansatz_class.n_qubits*i)\n",
    "        th_gauge+=1\n",
    "    #qc_tot2.barrier()\n",
    "    qc_tot2.cry(Parameter(f'theta_{th_gauge}'),ansatz_class.n_qubits*i,ansatz_class.n_qubits*i+1)\n",
    "    th_gauge+=1\n",
    "    #qc_tot2.barrier()\n",
    "    #multi-controlled gates\n",
    "    for j in range(1,ansatz_class.n_qubits*i,ansatz_class.n_qubits):\n",
    "        qc_tot2.mcry(Parameter(f'theta_{th_gauge}'),[j,ansatz_class.n_qubits*i],ansatz_class.n_qubits*i+1)\n",
    "        th_gauge+=1\n",
    "qc_tot2.draw('mpl')"
   ]
  },
  {
   "attachments": {},
   "cell_type": "markdown",
   "metadata": {},
   "source": [
    "##### Composite circuit: gauge + fermions"
   ]
  },
  {
   "cell_type": "code",
   "execution_count": 17,
   "metadata": {},
   "outputs": [],
   "source": [
    "# #ansatz pure gauge no entanglement\n",
    "# nlayers = 1#TODO ATTENTION: selection of only physical states work only for nlayers=1\n",
    "# ngauge = class_H_oprt.len_e_op\n",
    "# nsites = 0#TODO add fermionic part\n",
    "# n_qubits =int(np.ceil(np.log2(2 * l+ 1)))\n",
    "# qc_tot = QuantumCircuit(n_qubits*ngauge+nsites)\n",
    "\n",
    "\n",
    "# th=0\n",
    "# #first gauge field\n",
    "# qcc,lst = gray_code_lim(l,theta=th,layers=nlayers)\n",
    "# qc_tot.compose(qcc,list(range(n_qubits)),inplace=True)\n",
    "\n",
    "# for i in range(1,ngauge):#for the other gauge fields\n",
    "#     theta = int(''.join(list(filter(str.isdigit, str(lst[-1])))))\n",
    "#     qcc,lst = gray_code_lim(l,theta=theta+1,layers=nlayers)\n",
    "#     qc_tot.compose(qcc,list(range(n_qubits*i,n_qubits*(i+1))),inplace=True)\n",
    "\n",
    "# th=int(''.join(list(filter(str.isdigit, str(lst[-1])))))+1\n",
    "# qc_tot.barrier()\n",
    "\n",
    "# #**entanglement**\n",
    "# #between the gauge fields\n",
    "# # for i in range(n_qubits):\n",
    "# #     for j in range(n_qubits,n_qubits*ngauge):\n",
    "# #         qc_tot.cx(i,j)\n",
    "\n",
    "# #linear entanglement cx gates\n",
    "# # for i in range(n_qubits*ngauge-1):\n",
    "# #     qc_tot.cx(i,i+1)\n",
    "\n",
    "\n",
    "# #full entanglement cx gates\n",
    "# # for i in range(n_qubits*ngauge):\n",
    "# #     for j in range(i+1,n_qubits*ngauge):\n",
    "# #         qc_tot.cx(i,j)\n",
    "\n",
    "# #qc_tot.draw('mpl')#,filename='gray_code_lim_l1.png')"
   ]
  },
  {
   "cell_type": "code",
   "execution_count": 60,
   "metadata": {},
   "outputs": [
    {
     "data": {
      "image/png": "[encoded data removed]",
      "text/plain": [
       "<Figure size 486.739x385.28 with 1 Axes>"
      ]
     },
     "execution_count": 60,
     "metadata": {},
     "output_type": "execute_result"
    }
   ],
   "source": [
    "#ansatz full entanglement\n",
    "nlayers = 1#TODO option more layers?\n",
    "nlayers_f = 1\n",
    "ngauge = class_H_oprt.len_e_op\n",
    "if puregauge:\n",
    "    n_qubits_f = 0\n",
    "else:\n",
    "    n_qubits_f = np.prod(latt.n_sites)#TODO add fermionic part\n",
    "\n",
    "n_qubits =int(np.ceil(np.log2(2 * l+ 1)))\n",
    "\n",
    "qferm = QuantumRegister(n_qubits_f,name='ferm')\n",
    "qgaug = QuantumRegister(n_qubits*ngauge,name='gaug')\n",
    "qc_tot2 = QuantumCircuit(qgaug,qferm)\n",
    "\n",
    "th=0\n",
    "#gauge part\n",
    "if ngauge:\n",
    "    qcc,lst = gray_code_lim(l,theta=th,layers=nlayers)\n",
    "    #first gauge field\n",
    "    qc_tot2.compose(qcc,list(range(n_qubits)),inplace=True)\n",
    "    # qc_tot2.barrier()\n",
    "    th=int(''.join(list(filter(str.isdigit, str(lst[-1])))))+1\n",
    "\n",
    "    for i in range(1,ngauge):\n",
    "        qc_tot2.ry(Parameter(f'theta_{th}'),n_qubits*i)\n",
    "        th+=1\n",
    "        for j in range(n_qubits*i):\n",
    "            qc_tot2.cry(Parameter(f'theta_{th}'),j,n_qubits*i)\n",
    "            th+=1\n",
    "        # qc_tot2.barrier()\n",
    "        qc_tot2.cry(Parameter(f'theta_{th}'),n_qubits*i,n_qubits*i+1)\n",
    "        th+=1\n",
    "        # qc_tot2.barrier()\n",
    "        #multi-controlled gates\n",
    "        for j in range(n_qubits*i):\n",
    "            qc_tot2.mcry(Parameter(f'theta_{th}'),[j,n_qubits*i],n_qubits*i+1)\n",
    "            th+=1\n",
    "\n",
    "#fermion circuit proposal\n",
    "p = Parameter('p')\n",
    "qc = QuantumCircuit(2,name='iSWAP')\n",
    "qc.rxx(p, 0, 1)\n",
    "qc.ryy(p, 0, 1)\n",
    "\n",
    "\n",
    "params = lambda i: Parameter(f'theta_{i}')\n",
    "\n",
    "#th=0\n",
    "\n",
    "for i in range(0,n_qubits_f,2):\n",
    "    qc_tot2.x(qferm[i])\n",
    "for nl in range(nlayers_f):\n",
    "    for j in range(n_qubits_f//2):\n",
    "        for i in range(j,n_qubits_f-j,2):\n",
    "            qc_tot2.append(qc.to_instruction({p: params(th)}), qferm[i:i+2])\n",
    "            th+=1\n",
    "\n",
    "#last layer of Rz gates for correct phase\n",
    "# for i in range(ngauge*n_qubits):\n",
    "#     qc_tot2.rz(Parameter(f'theta_{th}'),i)\n",
    "#     th+=1\n",
    "for i in range(n_qubits_f):\n",
    "    qc_tot2.rz(Parameter(f'theta_{th}'),qferm[i])\n",
    "    th+=1\n",
    "    \n",
    "qc_tot2.draw('mpl')#,filename='gray_code_lim_l1.png')\n",
    "#qc_tot2.decompose().draw('mpl')"
   ]
  },
  {
   "cell_type": "code",
   "execution_count": 323,
   "metadata": {},
   "outputs": [
    {
     "data": {
      "image/png": "[encoded data removed]",
      "text/plain": [
       "<Figure size 1028.68x626.08 with 1 Axes>"
      ]
     },
     "execution_count": 323,
     "metadata": {},
     "output_type": "execute_result"
    }
   ],
   "source": [
    "#ansatz entanglement\n",
    "nlayers = 1#TODO option more layers?\n",
    "ngauge = class_H_oprt.len_e_op\n",
    "if puregauge:\n",
    "    n_qubits_f = 0\n",
    "else:\n",
    "    n_qubits_f = np.prod(latt.n_sites)#TODO add fermionic part\n",
    "\n",
    "n_qubits =int(np.ceil(np.log2(2 * l+ 1)))\n",
    "\n",
    "qferm = QuantumRegister(n_qubits_f,name='ferm')\n",
    "qgaug = QuantumRegister(n_qubits*ngauge,name='gaug')\n",
    "qc_tot2 = QuantumCircuit(qgaug,qferm)\n",
    "\n",
    "th=0\n",
    "qc_tot2.barrier()\n",
    "#fermion circuit proposal\n",
    "p = Parameter('p')\n",
    "qc = QuantumCircuit(2,name='iSWAP')\n",
    "qc.rxx(p, 0, 1)\n",
    "qc.ryy(p, 0, 1)\n",
    "#qc.rzz(p, 0, 1)#TODO: only for NFT optimizer\n",
    "params = lambda i: Parameter(f'theta_{i}')\n",
    "\n",
    "#th=0\n",
    "for i in range(1,n_qubits_f,2):\n",
    "    qc_tot2.x(qferm[i])\n",
    "\n",
    "for j in range(n_qubits_f//2):\n",
    "    for i in range(j,n_qubits_f-j,2):\n",
    "            qc_tot2.append(qc.to_instruction({p: params(th)}), qferm[i:i+2])\n",
    "            th+=1\n",
    "\n",
    "#gauge part\n",
    "qc_tot2.ry(Parameter(f'theta_{th}'),0)\n",
    "th+=1\n",
    "#entangling with fermions 1st option\n",
    "# for j in range(2,6):\n",
    "#     qc_tot2.cry(Parameter(f'theta_{th}'),j,0)\n",
    "#     th+=1\n",
    "# for j in range(2,6):\n",
    "#     qc_tot2.mcry(Parameter(f'theta_{th}'),[0,j],1)\n",
    "#     th+=1\n",
    "\n",
    "#entangling with fermions 2nd option\n",
    "qc_tot2.cry(Parameter(f'theta_{th}'),3,0)\n",
    "th+=1\n",
    "qc_tot2.cry(Parameter(f'theta_{th}'),4,0)\n",
    "th+=1\n",
    "\n",
    "\n",
    "qc_tot2.cry(Parameter(f'theta_{th}'),0,1)\n",
    "th+=1\n",
    "\n",
    "qc_tot2.mcry(Parameter(f'theta_{th}'),[0,3],1)\n",
    "th+=1\n",
    "qc_tot2.mcry(Parameter(f'theta_{th}'),[0,4],1)\n",
    "th+=1\n",
    "\n",
    "# for i in range(ngauge*n_qubits):\n",
    "#     qc_tot2.rz(Parameter(f'theta_{th}'),i)\n",
    "#     th+=1\n",
    "\n",
    "for i in range(n_qubits_f):\n",
    "    qc_tot2.rz(Parameter(f'theta_{th}'),qferm[i])\n",
    "    th+=1\n",
    "\n",
    "qc_tot2.draw('mpl')#,filename='gray_code_lim_l1.png')\n",
    "#qc_tot2.decompose().draw('mpl')"
   ]
  },
  {
   "cell_type": "code",
   "execution_count": 22,
   "metadata": {},
   "outputs": [
    {
     "data": {
      "text/plain": [
       "15"
      ]
     },
     "execution_count": 22,
     "metadata": {},
     "output_type": "execute_result"
    }
   ],
   "source": [
    "qc_tot2.depth()"
   ]
  },
  {
   "attachments": {},
   "cell_type": "markdown",
   "metadata": {},
   "source": [
    "##### ED"
   ]
  },
  {
   "cell_type": "code",
   "execution_count": 21,
   "metadata": {},
   "outputs": [
    {
     "name": "stdout",
     "output_type": "stream",
     "text": [
      "spectrum ED: [-1.0066823] plaq 0.4623451129711325\n"
     ]
    }
   ],
   "source": [
    "#ED\n",
    "import scipy.sparse as sp\n",
    "Hamiltonian_Pauli_tot = class_H_oprt.get_hamiltonian(g_var=g, m_var=m, omega=omega,fact_b_op=fact_b_op,fact_e_op=fact_b_op,lambd=lambd)\n",
    "#memory sparse matrix\n",
    "#print((Hamiltonian_Pauli_tot.data.nbytes + Hamiltonian_Pauli_tot.indptr.nbytes + Hamiltonian_Pauli_tot.indices.nbytes)/1000**3,'Gb')\n",
    "if encoding=='gray' and not sparse_pauli:\n",
    "    Hamiltonian_Pauli_tot = Hamiltonian_Pauli_tot.to_matrix(sparse=True)\n",
    "    if ngauge:\n",
    "        h_b_sparse = class_H_oprt.hamiltonian_mag_pauli.to_matrix(sparse=True) #plaquette\n",
    "    else:\n",
    "        h_b_sparse = 0 \n",
    "elif encoding=='ed':\n",
    "    Hamiltonian_Pauli_tot = sp.csr_matrix(Hamiltonian_Pauli_tot)\n",
    "    if ngauge:\n",
    "        h_b_sparse =sp.csr_matrix(class_H_oprt.hamiltonian_mag_pauli)\n",
    "    else:\n",
    "        h_b_sparse =0\n",
    "\n",
    "#** Exact diagonalisation\n",
    "spectrum, eigenvectors_matrix =primme.eigsh(Hamiltonian_Pauli_tot,k=num_eigs,which=\"SA\")#,ncv = 30)\n",
    "#spectrum\n",
    "idx = spectrum.argsort() \n",
    "spectrum = spectrum[idx]\n",
    "eigenvectors_matrix = eigenvectors_matrix[:,idx]\n",
    "\n",
    "# ed_val = []\n",
    "# for kk in range(num_eigs):\n",
    "#     ed_val.append(dict([(str(np.binary_repr(i, width = (ngauge*n_qubits+n_qubits_f))),np.abs(eigenvectors_matrix[:,kk][i])**2) for i in range(2**(ngauge*n_qubits+n_qubits_f)) if np.abs(eigenvectors_matrix[:,kk][i])**2>1e-10]))\n",
    "\n",
    "eig0cj = sp.csr_matrix(eigenvectors_matrix[:,0]).transpose().conjugate()\n",
    "eig0= sp.csr_matrix(eigenvectors_matrix[:,0])\n",
    "if ngauge:\n",
    "    plaq = (eig0*h_b_sparse*eig0cj/len(latt.plaq_list) ).toarray()[0][0].real\n",
    "\n",
    "print('spectrum ED:',spectrum,'plaq',plaq)"
   ]
  },
  {
   "cell_type": "code",
   "execution_count": 130,
   "metadata": {},
   "outputs": [],
   "source": [
    "#plot_histogram(ed_val[0])#TODO: physical interpretation of the states?"
   ]
  },
  {
   "attachments": {},
   "cell_type": "markdown",
   "metadata": {},
   "source": [
    "##### Input parameteres circuit"
   ]
  },
  {
   "cell_type": "code",
   "execution_count": 242,
   "metadata": {},
   "outputs": [],
   "source": [
    "#Input parameters for VQD\n",
    "estimator = Estimator()\n",
    "sampler = Sampler()\n",
    "fidelity = ComputeUncompute(sampler)\n",
    "\n",
    "aux_operators =[class_H_oprt.hamiltonian_mag_pauli,] if ngauge else None\n",
    "Hamiltonian_Pauli_tot_vqd = class_H_oprt.get_hamiltonian(g_var=g, m_var=m, omega=omega,fact_b_op=fact_b_op,fact_e_op=fact_b_op,lambd=0)\n",
    "\n",
    "\n",
    "iterations = [500 for i in range(num_eigs)]\n",
    "optimizer = [SLSQP(maxiter=itr) for itr in iterations] #SLSQP,COBYLA  #TODO: with NFT iSWAPS with also Rzz gates\n",
    "ansatz = qc_tot2\n",
    "betas = None#[2,]*(num_eigs-1)  #***default value computed as the mean square sum of the coefficients of the observable.\n",
    "\n",
    "#*** initial point\n",
    "val_init = np.pi/2\n",
    "#initial_point=[val_init*(2*np.random.rand(ansatz.num_parameters)-1.0) for kkk in range(num_eigs)]\n",
    "initial_point=val_init*(2*np.random.rand(ansatz.num_parameters)-1.0) \n",
    "\n",
    "#previous best\n",
    "#initial_point = [np.array(list(result.optimal_parameters[0].values())),]+[val_init*(2*np.random.rand(ansatz.num_parameters)-1.0) for kkk in range(num_eigs-1)]\n",
    "\n",
    "#predefined initial point vacuum\n",
    "#initial_point = {pa: np.pi if str(pa) in ('theta_3') else float(val_init*(2*np.random.rand(1))) for pa in ansatz.parameters}\n",
    "# initial_dict={pa: np.pi if str(pa) in ('theta_3', 'theta_4') else float(val_init*(2*np.random.rand(1))) for pa in ansatz.parameters}\n",
    "\n",
    "# indices = [int(str(param).split('_')[1]) for param in initial_dict.keys()]\n",
    "# for i,el in enumerate(indices):\n",
    "#     if el==3:\n",
    "#         indices[i]=np.pi\n",
    "#     else:\n",
    "#         indices[i]=float(val_init*(2*np.random.rand(1)))\n",
    "# initial_point= np.array(indices)"
   ]
  },
  {
   "attachments": {},
   "cell_type": "markdown",
   "metadata": {},
   "source": [
    "##### Entropy of lattice"
   ]
  },
  {
   "cell_type": "code",
   "execution_count": 175,
   "metadata": {},
   "outputs": [
    {
     "name": "stdout",
     "output_type": "stream",
     "text": [
      "entropy E_0\n",
      "entropy E_1\n",
      "circuits entropy\n"
     ]
    },
    {
     "data": {
      "text/plain": [
       "<matplotlib.legend.Legend at 0x7fec42df3880>"
      ]
     },
     "execution_count": 175,
     "metadata": {},
     "output_type": "execute_result"
    },
    {
     "data": {
      "image/png": "[encoded data removed]",
      "text/plain": [
       "<Figure size 432x288 with 1 Axes>"
      ]
     },
     "metadata": {
      "needs_background": "light"
     },
     "output_type": "display_data"
    }
   ],
   "source": [
    "#****Entropy ED: between the gauge fields only (not internal qubits)\n",
    "n_qubits_tot = ngauge*n_qubits+n_qubits_f\n",
    "ntot_rev = list(range(n_qubits_tot))[::-1]\n",
    "\n",
    "S_ed_list = []\n",
    "for k in range(num_eigs):\n",
    "    print(f'entropy E_{k}')\n",
    "    s_tmp = []\n",
    "    for i in range(ngauge-1):\n",
    "        S_ed = entropy(qinf.partial_trace(DensityMatrix(eigenvectors_matrix[:,k]), ntot_rev[:(i+1)*n_qubits][::-1]))#list(range(0,(i+1)*n_qubits))))\n",
    "        #print('A=',list(range(0,(i+1)*n_qubits)),'S=',S_ed)#'B=',list(range((i+1)*n_qubits,ngauge*n_qubits)),\n",
    "        s_tmp.append(S_ed)\n",
    "    if ngauge:\n",
    "        start_f = ngauge*n_qubits\n",
    "    else:\n",
    "        start_f = 1\n",
    "    for i in range(start_f,n_qubits_tot):\n",
    "        S_ed = entropy(qinf.partial_trace(DensityMatrix(eigenvectors_matrix[:,k]),ntot_rev[:i][::-1]))# list(range(i))))\n",
    "        #print('A=',list(range(i)),'S=',S_ed)#'B=',list(range((i+1)*n_qubits,ngauge*n_qubits)),\n",
    "        s_tmp.append(S_ed)\n",
    "\n",
    "    S_ed_list.append(s_tmp)\n",
    "print('circuits entropy')\n",
    "#circuit, tried with some values of thetas\n",
    "# circ = qc_tot2\n",
    "# for i in range(ngauge-1):\n",
    "#     print('S=',[np.round(entropy(qinf.partial_trace(DensityMatrix(circ.bind_parameters([np.pi/p]*circ.num_parameters )), list(range(0,(i+1)*n_qubits)))),5) for p in [0.25,0.5,1,2,4]])\n",
    "\n",
    "from itertools import accumulate\n",
    "if puregauge:\n",
    "    custom_labels = ['g']*(ngauge-1)\n",
    "    x_values = list(range(ngauge-1))\n",
    "else:\n",
    "    custom_labels = ['g']*ngauge+['f']*(n_qubits_f-1)\n",
    "    x_values = list(range(ngauge+n_qubits_f-1))\n",
    "custom_labels = [''.join(custom_labels[:i+1]) for i, _ in enumerate(accumulate(custom_labels))]\n",
    "\n",
    "[plt.plot(val,marker='o',label=f'E_{j}') for j,val in enumerate(S_ed_list)]\n",
    "plt.xticks(x_values, custom_labels)\n",
    "plt.ylabel('entropy')\n",
    "plt.xlabel('g=gauge field, f=fermion')\n",
    "plt.legend()"
   ]
  },
  {
   "cell_type": "code",
   "execution_count": null,
   "metadata": {},
   "outputs": [],
   "source": [
    "# for i in range(ngauge-1):\n",
    "#    print([np.round(entropy(qinf.partial_trace(DensityMatrix(qc_tot2.bind_parameters([np.pi/p]*qc_tot2.num_parameters )), ntot_rev[:(i+1)*n_qubits][::-1])),5) for p in [0.25,0.5,1,2,4]])\n",
    "\n",
    "#    if ngauge:\n",
    "#       start_f = ngauge*n_qubits\n",
    "#    else:\n",
    "#       start_f = 1\n",
    "# for i in range(start_f,n_qubits_tot):\n",
    "#    print([np.round(entropy(qinf.partial_trace(DensityMatrix(qc_tot2.bind_parameters([np.pi/p]*qc_tot2.num_parameters )), ntot_rev[:i][::-1])),5) for p in [0.25,0.5,1,2,4]])\n",
    "    "
   ]
  },
  {
   "attachments": {},
   "cell_type": "markdown",
   "metadata": {},
   "source": [
    "##### VQD"
   ]
  },
  {
   "cell_type": "code",
   "execution_count": 244,
   "metadata": {},
   "outputs": [
    {
     "name": "stdout",
     "output_type": "stream",
     "text": [
      "eig: 1/1 -> its 2567 \r"
     ]
    }
   ],
   "source": [
    "#callback function on file\n",
    "def callback_file(eval_count, parameters, mean, meta, step):\n",
    "\n",
    "    stdout.write(\"eig: %d/%d -> its %4d \\r\"%(step,num_eigs,eval_count)) # assuming SPSA\n",
    "    stdout.flush()\n",
    "    #write on file every 10 evaluations\n",
    "    if eval_count%10==0:\n",
    "        with open('output.txt', 'a') as f:\n",
    "            f.write(str(step)+','+str(eval_count)+','+str(mean)+','+str(parameters)+'\\n')\n",
    "\n",
    "#callback function\n",
    "E_data = [[] for k in range(num_eigs)]\n",
    "Fidelity = [[] for k in range(num_eigs)]\n",
    "def callback(eval_count, parameters, mean, meta, step):\n",
    "    stdout.write(\"eig: %d/%d -> its %4d \\r\"%(step,num_eigs,eval_count)) # assuming SPSA\n",
    "    stdout.flush()\n",
    "\n",
    "    #fidelity\n",
    "    vqd_states = [ansatz.bind_parameters(parameters) for i in range(num_eigs)]\n",
    "    vqd_fid_states =[qinf.Statevector.from_instruction(i) for i in vqd_states]\n",
    "    ed_fid_states =[Statevector(eigenvectors_matrix[:,i]) for i in range(num_eigs)]\n",
    "    Fidelity[step-1].append([qinf.state_fidelity(vqd,ed) for vqd,ed in zip(vqd_fid_states,ed_fid_states)])\n",
    "\n",
    "    #energy\n",
    "    E_data[step-1].append([len(E_data[step-1]),mean,meta])\n",
    "\n",
    "#Perform VQD for Hamiltonian and plaquette operator\n",
    "vqd = VQD(estimator, fidelity, ansatz, optimizer, k=num_eigs, betas=betas,initial_point=initial_point,  callback=callback)\n",
    "result = vqd.compute_eigenvalues(operator = Hamiltonian_Pauli_tot_vqd,aux_operators = aux_operators)# Hamiltonian + auxiliary operator\n",
    "vqd_values = result.eigenvalues\n",
    "\n",
    "#eigenvectors\n",
    "vqd2_eigenstates = []\n",
    "for i in range(num_eigs):\n",
    "    tmp = result.optimal_circuits[i].copy()\n",
    "    \n",
    "    tmp.measure_all()\n",
    "    opt_pt =list(result.optimal_parameters[i].values())\n",
    "    res = sampler.run(tmp, opt_pt).result() \n",
    "    \n",
    "    vqd2_eigenstates.append({x:round(y,6) for x,y in res.quasi_dists[0].binary_probabilities().items() if y>0.0001})\n",
    "    tmp.remove_final_measurements()\n",
    "\n",
    "if ngauge:\n",
    "    plaq_vqd = np.array(result.aux_operators_evaluated[0])[:,0][0]/len(latt.plaq_list)"
   ]
  },
  {
   "cell_type": "code",
   "execution_count": 245,
   "metadata": {},
   "outputs": [
    {
     "name": "stdout",
     "output_type": "stream",
     "text": [
      "E_i ED vs VQD test:2D_2x2mbasisFalse puregaugeTrue g0.69 pbcTrue l1_factE1_factB1_m0.1_Omega1iterations[500] optimizerSLSQP\n",
      "E_0(ED)= -4.25027112\n",
      "E_0(VQD)= -4.245451677691334\n",
      "\n",
      " Plaq. ED: 0.6109148684492387 Plaq. VQD: 0.6114406914504833 \n",
      "\n",
      "Fidelity (|psi_VQDXpsi_ED|^2):\n",
      "E_0: 0.9992840063390677\n",
      "Check if in VQD sol. there are unphysical states: Gauge fields: ['10'] Fermions: only zero charge are considered physical\n",
      "E_0 all physical states reached gauge fields: OK!\n"
     ]
    }
   ],
   "source": [
    "print(f'E_i ED vs VQD test:{latt.dims}D_'+'x'.join(map(str,latt.n_sites))+f'mbasis{magnetic_basis} puregauge{puregauge} g{g} pbc{pbc} l{l}_factE{fact_e_op}_factB{fact_b_op}_m{m}_Omega{omega}iterations{iterations} optimizer'+\n",
    "[i for i in ['NFT','SLSQP','COBYLA','ADAM','SPSA','GradientDescent'] if i in str(optimizer[0])][0])\n",
    "\n",
    "#** Print results\n",
    "for kk,evalu in enumerate(spectrum):\n",
    "        if evalu<900:# only physical states, 1000 corresponds to factor of penalty term\n",
    "            print(f'E_{kk}(ED)=',round(evalu,8))#,[(str(np.binary_repr(i, width = (ngauge*n_qubits))),round(np.abs(eigenvectors_matrix[:,kk][i])**2,6)) for i in range(2**(ngauge*n_qubits)) if np.abs(eigenvectors_matrix[:,kk][i])**2>1e-4])\n",
    "            print(f'E_{kk}(VQD)=',vqd_values.real[kk])#,vqd2_eigenstates[kk])\n",
    "\n",
    "#** Plaquette operator\n",
    "print('\\n','Plaq. ED:',plaq,'Plaq. VQD:',plaq_vqd.real,'\\n')\n",
    "\n",
    "# #** Fidelity final\n",
    "fid=fidelity_func(result,eigenvectors_matrix,num_eigs)\n",
    "print('Fidelity (|psi_VQDXpsi_ED|^2):')\n",
    "[print(f'E_{i}:',fd) for i,fd in enumerate(fid)]\n",
    "\n",
    "\n",
    "#**Check if there are unphysical states\n",
    "gray_unph = []\n",
    "for i in range(2 * l + 1, 2**int(np.ceil(np.log2(2 * l+ 1)))):\n",
    "    gray_decimal = i ^ (i >> 1)\n",
    "    gray_unph.append(\"{0:0{1}b}\".format(gray_decimal,int(np.ceil(np.log2(2 * l+ 1)))))  \n",
    "\n",
    "ferm_q0 = [''.join(i) for i in permutations(['0','1']*(n_qubits//2),n_qubits)]\n",
    "\n",
    "print('Check if in VQD sol. there are unphysical states: Gauge fields:',gray_unph,'Fermions: only zero charge are considered physical')\n",
    "for i in range(num_eigs):\n",
    "    if ngauge:\n",
    "        for vqd_res in [string[-(ngauge*n_qubits):][i:i+int(np.ceil(np.log2(2 * l+ 1)))] for string in vqd2_eigenstates[i].keys() for i in range(0, len(string[-(ngauge*n_qubits):]), int(np.ceil(np.log2(2 * l+ 1))))]:\n",
    "            if vqd_res in gray_unph:\n",
    "                print('unphysical state reached for gauge fields')\n",
    "                break\n",
    "        else:   \n",
    "            print(f'E_{i} all physical states reached gauge fields: OK!')\n",
    "    if n_qubits_f:\n",
    "        for vqd_res in [string[:n_qubits_f] for string in vqd2_eigenstates[i].keys() ]:\n",
    "\n",
    "            if vqd_res in ferm_q0:\n",
    "                print('unphysical state reached for fermions')\n",
    "                break\n",
    "        else:   \n",
    "            print(f'E_{i} all physical states reached fermions: OK!')\n"
   ]
  },
  {
   "cell_type": "code",
   "execution_count": 246,
   "metadata": {},
   "outputs": [
    {
     "data": {
      "image/png": "[encoded data removed]",
      "text/plain": [
       "<Figure size 1080x504 with 4 Axes>"
      ]
     },
     "metadata": {
      "needs_background": "light"
     },
     "output_type": "display_data"
    }
   ],
   "source": [
    "\n",
    "fig,axes = plt.subplots(num_eigs,2,figsize=(15,7))\n",
    "\n",
    "for k in range(num_eigs):\n",
    "    #Energy\n",
    "    axes[k][0].plot([i[0] for i in E_data[k]],[i[1] for i in E_data[k]],label=f'E_{k} VQD')\n",
    "    axes[k][0].hlines(spectrum[k],0,E_data[k][-1][0],linestyles='dashed',color='black',label=f'E_{k} ED')\n",
    "\n",
    "    #Fidelity\n",
    "    axes[k][1].plot([i[0] for i in E_data[k]],[i[k] for i in Fidelity[k]],label=f'Fid E_{k}',color='green')\n",
    "    #fidelity max value 1 and min 0\n",
    "    axes[k][1].hlines(1,0,E_data[k][-1][0],linestyles='dashed',color='gray')\n",
    "    axes[k][1].hlines(0,0,E_data[k][-1][0],linestyles='dashed',color='gray')\n",
    "\n",
    "    axes[k][0].set_ylabel('Energy')\n",
    "    axes[k][1].set_ylabel('Fidelity')\n",
    "\n",
    "    for i in range(2):\n",
    "        axes[k][i].set_xlabel('Iterations')\n",
    "        axes[k][i].legend()\n",
    "\n",
    "#fig.savefig('ansatz_tests/'+f'Energy_Fidelity_ED_vs_VQD_test:{latt.dims}D_'+'x'.join(map(str,latt.n_sites))+f'mbasis{magnetic_basis}_puregauge{puregauge}_g{g}_pbc{pbc}_l{l}_nlayers{nlayers}_iterations{iterations}.png')"
   ]
  },
  {
   "attachments": {},
   "cell_type": "markdown",
   "metadata": {},
   "source": [
    "##### Fidelity "
   ]
  },
  {
   "cell_type": "code",
   "execution_count": 235,
   "metadata": {},
   "outputs": [
    {
     "name": "stdout",
     "output_type": "stream",
     "text": [
      "spectrum ED:\n",
      "['E_0=-1.00668', 'E_1=-0.26965', 'E_2=-0.26965', 'E_3=-0.20739', 'E_4=-0.20739', 'E_5=0.4421', 'E_6=0.4421', 'E_7=0.4421', 'E_8=0.4421', 'E_9=0.81453', 'E_10=0.82548', 'E_11=0.82548', 'E_12=0.91429', 'E_13=0.91877', 'E_14=0.91877', 'E_15=1.04591', 'E_16=1.31935', 'E_17=1.31935', 'E_18=1.35503', 'E_19=1.35503']\n"
     ]
    },
    {
     "data": {
      "image/png": "[encoded data removed]",
      "text/plain": [
       "<Figure size 432x288 with 1 Axes>"
      ]
     },
     "metadata": {
      "needs_background": "light"
     },
     "output_type": "display_data"
    }
   ],
   "source": [
    "spectrum_fid, eigenvectors_matrix_fid =primme.eigsh(Hamiltonian_Pauli_tot,k=20,which=\"SA\")#,ncv = 30)\n",
    "#spectrum_fid\n",
    "idx = spectrum_fid.argsort() \n",
    "spectrum_fid = spectrum_fid[idx]\n",
    "eigenvectors_matrix_fid = eigenvectors_matrix_fid[:,idx]\n",
    "print(f'spectrum ED:')\n",
    "print([f'E_{n}={np.round(i,5)}' for n,i in enumerate(spectrum_fid)])\n",
    "plt.plot(spectrum_fid,'o',label='ED')\n",
    "plt.grid()"
   ]
  },
  {
   "cell_type": "code",
   "execution_count": 238,
   "metadata": {},
   "outputs": [
    {
     "name": "stdout",
     "output_type": "stream",
     "text": [
      "fidelity overlap of ground state with up to 8th excited states\n",
      "E_1: val=-0.269648, fidelity: 5.7e-08\n",
      "E_2: val=-0.269648, fidelity: 3.92e-08\n",
      "E_3: val=-0.207391, fidelity: 4.2e-09\n",
      "E_4: val=-0.207391, fidelity: 2e-10\n",
      "E_5: val=0.442095, fidelity: 0.0\n",
      "E_6: val=0.442095, fidelity: 1e-10\n",
      "E_7: val=0.442095, fidelity: 3e-10\n",
      "E_8: val=0.442095, fidelity: 0.0\n",
      "E_9: val=0.814527, fidelity: 2.5691e-06\n",
      "E_10: val=0.825481, fidelity: 3.4e-09\n",
      "E_11: val=0.825481, fidelity: 8.5e-09\n",
      "E_12: val=0.914286, fidelity: 7.298e-07\n",
      "E_13: val=0.918771, fidelity: 1.3e-09\n",
      "E_14: val=0.918771, fidelity: 1.7e-09\n",
      "E_15: val=1.045911, fidelity: 0.0006460399\n",
      "E_16: val=1.319349, fidelity: 4.5e-09\n",
      "E_17: val=1.319349, fidelity: 1e-09\n",
      "E_18: val=1.355027, fidelity: 3e-10\n",
      "fidelity overlap of 1st excited state with up to 8th excited states\n"
     ]
    }
   ],
   "source": [
    "print('fidelity overlap of ground state with up to 8th excited states')\n",
    "[print(f'E_{i}: val={np.round(spectrum_fid[i],6)}, fidelity: {np.round(fidelity_func_e(result,eigenvectors_matrix_fid,i,0),5)}') for i in range(1,9)]\n",
    "print('fidelity overlap of 1st excited state with up to 8th excited states')\n",
    "[print(f'E_{i}: val={np.round(spectrum_fid[i],6)}, fidelity: {np.round(fidelity_func_e(result,eigenvectors_matrix_fid,i,1),5)}') for i in range(1,9)]\n",
    "print('\\n sum of fid.: ',sum([fidelity_func_e(result,eigenvectors_matrix_fid,i,1) for i in range(1,9)]))"
   ]
  },
  {
   "attachments": {},
   "cell_type": "markdown",
   "metadata": {},
   "source": [
    "Overlap with other states"
   ]
  },
  {
   "cell_type": "code",
   "execution_count": 237,
   "metadata": {},
   "outputs": [
    {
     "data": {
      "text/plain": [
       "Text(0.5, 0.98, 'Fidelity overlap of kth excited state with 1-8th excited states')"
      ]
     },
     "execution_count": 237,
     "metadata": {},
     "output_type": "execute_result"
    },
    {
     "data": {
      "image/png": "[encoded data removed]",
      "text/plain": [
       "<Figure size 720x360 with 2 Axes>"
      ]
     },
     "metadata": {
      "needs_background": "light"
     },
     "output_type": "display_data"
    }
   ],
   "source": [
    "fig,ax = plt.subplots(1,num_eigs,figsize=(10,5))\n",
    "\n",
    "for k in range(num_eigs):\n",
    "    ax[k].plot([fidelity_func_e(result,eigenvectors_matrix_fid,i,k) for i in range(9)],'o',label=f'E_{k}')\n",
    "\n",
    "    ax[k].grid()\n",
    "    ax[k].legend()\n",
    "    ax[k].set_xlabel('i')\n",
    "    ax[k].set_ylabel('Fidelity psi_k-ps_i')\n",
    "\n",
    "fig.suptitle('Fidelity overlap of kth excited state with 1-8th excited states')"
   ]
  },
  {
   "attachments": {},
   "cell_type": "markdown",
   "metadata": {},
   "source": [
    "##### Optimisation over Infidelity"
   ]
  },
  {
   "attachments": {},
   "cell_type": "markdown",
   "metadata": {},
   "source": [
    "Do NOT use for large systems"
   ]
  },
  {
   "cell_type": "code",
   "execution_count": 155,
   "metadata": {},
   "outputs": [],
   "source": [
    "index = 0 #E_i eigenstate\n",
    "initial_point=val_init*(2*np.random.rand(ansatz.num_parameters)-1.0) "
   ]
  },
  {
   "cell_type": "code",
   "execution_count": 156,
   "metadata": {},
   "outputs": [
    {
     "ename": "KeyboardInterrupt",
     "evalue": "",
     "output_type": "error",
     "traceback": [
      "\u001b[0;31m---------------------------------------------------------------------------\u001b[0m",
      "\u001b[0;31mKeyboardInterrupt\u001b[0m                         Traceback (most recent call last)",
      "Cell \u001b[0;32mIn[156], line 13\u001b[0m\n\u001b[1;32m     10\u001b[0m     E_data_vqe\u001b[39m.\u001b[39mappend([\u001b[39mlen\u001b[39m(E_data_vqe),mean,meta])\n\u001b[1;32m     12\u001b[0m \u001b[39m#define infidelity as operator: id-|psi_ed_i><psi_ed_i| where i is a chosen eigenstate\u001b[39;00m\n\u001b[0;32m---> 13\u001b[0m test_fid \u001b[39m=\u001b[39m class_H_oprt\u001b[39m.\u001b[39mtensor_prod(class_H_oprt\u001b[39m.\u001b[39mI,\u001b[39m6\u001b[39m)\u001b[39m-\u001b[39m SparsePauliOp\u001b[39m.\u001b[39;49mfrom_operator( Operator(np\u001b[39m.\u001b[39;49mouter(eigenvectors_matrix[:,index],eigenvectors_matrix[:,index]\u001b[39m.\u001b[39;49mtranspose()\u001b[39m.\u001b[39;49mconj())) )\n\u001b[1;32m     14\u001b[0m \u001b[39m#perform VQE with infidelity operator and ansatz\u001b[39;00m\n\u001b[1;32m     15\u001b[0m vqd_inf \u001b[39m=\u001b[39m VQE(estimator,  ansatz, optimizer\u001b[39m=\u001b[39mSLSQP(maxiter\u001b[39m=\u001b[39m\u001b[39m500\u001b[39m), initial_point\u001b[39m=\u001b[39minitial_point,callback\u001b[39m=\u001b[39mcallback_vqe)\n",
      "File \u001b[0;32m~/qiskit/lib/python3.9/site-packages/qiskit/quantum_info/operators/symplectic/sparse_pauli_op.py:745\u001b[0m, in \u001b[0;36mSparsePauliOp.from_operator\u001b[0;34m(obj, atol, rtol)\u001b[0m\n\u001b[1;32m    743\u001b[0m basis \u001b[39m=\u001b[39m pauli_basis(num_qubits)\n\u001b[1;32m    744\u001b[0m \u001b[39mfor\u001b[39;00m i, mat \u001b[39min\u001b[39;00m \u001b[39menumerate\u001b[39m(basis\u001b[39m.\u001b[39mmatrix_iter()):\n\u001b[0;32m--> 745\u001b[0m     coeff \u001b[39m=\u001b[39m np\u001b[39m.\u001b[39mtrace(mat\u001b[39m.\u001b[39;49mdot(data)) \u001b[39m/\u001b[39m denom\n\u001b[1;32m    746\u001b[0m     \u001b[39mif\u001b[39;00m \u001b[39mnot\u001b[39;00m np\u001b[39m.\u001b[39misclose(coeff, \u001b[39m0\u001b[39m, atol\u001b[39m=\u001b[39matol, rtol\u001b[39m=\u001b[39mrtol):\n\u001b[1;32m    747\u001b[0m         inds\u001b[39m.\u001b[39mappend(i)\n",
      "\u001b[0;31mKeyboardInterrupt\u001b[0m: "
     ]
    }
   ],
   "source": [
    "#compute minimization of infidelity for index-th eigenstate\n",
    "\n",
    "#callback function\n",
    "E_data_vqe = []\n",
    "def callback_vqe(eval_count, parameters, mean, meta):\n",
    "\n",
    "    stdout.write(\"eig: %d -> its %4d \\r\"%(index,eval_count)) # assuming SPSA\n",
    "    stdout.flush()\n",
    "    #energy\n",
    "    E_data_vqe.append([len(E_data_vqe),mean,meta])\n",
    "    \n",
    "#define infidelity as operator: id-|psi_ed_i><psi_ed_i| where i is a chosen eigenstate\n",
    "test_fid = class_H_oprt.tensor_prod(class_H_oprt.I,6)- SparsePauliOp.from_operator( Operator(np.outer(eigenvectors_matrix[:,index],eigenvectors_matrix[:,index].transpose().conj())) )\n",
    "#perform VQE with infidelity operator and ansatz\n",
    "vqd_inf = VQE(estimator,  ansatz, optimizer=SLSQP(maxiter=500), initial_point=initial_point,callback=callback_vqe)\n",
    "result_inf = vqd_inf.compute_minimum_eigenvalue(operator = test_fid)"
   ]
  },
  {
   "cell_type": "code",
   "execution_count": null,
   "metadata": {},
   "outputs": [
    {
     "data": {
      "text/plain": [
       "<matplotlib.collections.LineCollection at 0x7fdc8a7c6040>"
      ]
     },
     "execution_count": 1089,
     "metadata": {},
     "output_type": "execute_result"
    },
    {
     "data": {
      "image/png": "[encoded data removed]",
      "text/plain": [
       "<Figure size 432x288 with 1 Axes>"
      ]
     },
     "metadata": {
      "needs_background": "light"
     },
     "output_type": "display_data"
    }
   ],
   "source": [
    "plt.plot(np.array(E_data_vqe)[:,0],np.array(E_data_vqe)[:,1])\n",
    "plt.title(f'Minimization for infidelity of E_{index}')\n",
    "plt.hlines(0,0,E_data_vqe[-1][0],linestyles='dashed',color='black',label=f'E_{index} ED')"
   ]
  },
  {
   "cell_type": "code",
   "execution_count": 1090,
   "metadata": {},
   "outputs": [
    {
     "name": "stdout",
     "output_type": "stream",
     "text": [
      "fidelity= 0.24924119314798965\n"
     ]
    }
   ],
   "source": [
    "print('fidelity=',1-result_inf.eigenvalue.real)"
   ]
  },
  {
   "cell_type": "code",
   "execution_count": 1091,
   "metadata": {},
   "outputs": [
    {
     "data": {
      "text/plain": [
       "0.24924119314813425"
      ]
     },
     "execution_count": 1091,
     "metadata": {},
     "output_type": "execute_result"
    }
   ],
   "source": [
    "qinf.state_fidelity(Statevector(eigenvectors_matrix[:,1]),qinf.Statevector.from_instruction(result_inf.optimal_circuit.bind_parameters(result_inf.optimal_parameters.values()).to_instruction()))"
   ]
  },
  {
   "cell_type": "code",
   "execution_count": 1092,
   "metadata": {},
   "outputs": [
    {
     "data": {
      "text/plain": [
       "[0.9954160873396672,\n",
       " 0.2492412291633147,\n",
       " 0.49999999055867306,\n",
       " 2.3145052192570552e-09]"
      ]
     },
     "execution_count": 1092,
     "metadata": {},
     "output_type": "execute_result"
    }
   ],
   "source": [
    "fidelity_func(result,eigenvectors_matrix,num_eigs)"
   ]
  },
  {
   "attachments": {},
   "cell_type": "markdown",
   "metadata": {},
   "source": [
    "##### Histograms"
   ]
  },
  {
   "cell_type": "code",
   "execution_count": 209,
   "metadata": {},
   "outputs": [
    {
     "name": "stdout",
     "output_type": "stream",
     "text": [
      "[-1.+0.j  0.+0.j  0.+0.j  0.+0.j] [0.+0.j 0.+0.j 0.+0.j 0.+0.j] [0.+0.j 0.+0.j 0.+0.j 1.+0.j]\n",
      "vacuum E|01>=0|01>\n",
      "[1, 0] [0, 1]\n",
      "even sites q - 0: [0. 0.] q - 1: [0. 1.]\n",
      "odd sites q - 0: [-1.  0.] q - 1: [0. 0.]\n",
      "vacuum ..q2q1q0:1010\n"
     ]
    }
   ],
   "source": [
    "#action of E field\n",
    "print(class_H_oprt.e_oper.to_matrix()@class_H_oprt.str_to_tens('00'),class_H_oprt.e_oper.to_matrix()@class_H_oprt.str_to_tens('01'),class_H_oprt.e_oper.to_matrix()@class_H_oprt.str_to_tens('11'))\n",
    "print('vacuum E|01>=0|01>')\n",
    "#action of charges\n",
    "q10 = -0.5 * (class_H_oprt.I + class_H_oprt.Z).to_matrix()\n",
    "q00 = 0.5 * (class_H_oprt.I - class_H_oprt.Z).to_matrix()\n",
    "\n",
    "print(class_H_oprt.str_to_tens('0'),class_H_oprt.str_to_tens('1'))\n",
    "print('even sites q - 0:', (q00@class_H_oprt.str_to_tens('0')).real,'q - 1:',(q00@class_H_oprt.str_to_tens('1')).real)\n",
    "print('odd sites q - 0:',(q10@class_H_oprt.str_to_tens('0')).real,'q - 1:',(q10@class_H_oprt.str_to_tens('1')).real)\n",
    "\n",
    "print('vacuum ..q2q1q0:1010')"
   ]
  },
  {
   "cell_type": "code",
   "execution_count": 210,
   "metadata": {},
   "outputs": [],
   "source": [
    "def from_str_to_charges(str):\n",
    "    \"\"\"Return a string of particles configuration e+,e- or vacuum v\n",
    "    Input a binary string of 0 and 1\"\"\"\n",
    "\n",
    "    result = ''\n",
    "    for i,q in enumerate(str):\n",
    "        if i%2==0 and q=='0':\n",
    "            result+='v'\n",
    "        elif i%2==0 and q=='1':\n",
    "            result+='e+'\n",
    "        elif i%2==1 and q=='0':\n",
    "            result+='e-'\n",
    "        elif i%2==1 and q=='1':\n",
    "            result+='v'\n",
    "            \n",
    "    return result\n",
    "\n"
   ]
  },
  {
   "cell_type": "code",
   "execution_count": 211,
   "metadata": {},
   "outputs": [
    {
     "name": "stdout",
     "output_type": "stream",
     "text": [
      " \n"
     ]
    }
   ],
   "source": [
    "for s in {''.join(i) for i in permutations(['0','1']*(int(n_qubits_f)//2),int(n_qubits_f))}:\n",
    "    print(s,from_str_to_charges(s)) "
   ]
  },
  {
   "cell_type": "code",
   "execution_count": 212,
   "metadata": {},
   "outputs": [
    {
     "data": {
      "image/png": "[encoded data removed]",
      "text/plain": [
       "<Figure size 720x360 with 1 Axes>"
      ]
     },
     "execution_count": 212,
     "metadata": {},
     "output_type": "execute_result"
    }
   ],
   "source": [
    "from qiskit.visualization import plot_histogram\n",
    "plot_histogram([ed_val[0],vqd2_eigenstates[0]], figsize=(10,5),legend=['ED','VQD'] ,bar_labels=False,\n",
    "               title=f'E_0 ED vs VQD test:{latt.dims}D_'+'x'.join(map(str,latt.n_sites))+f'mbasis{magnetic_basis} puregauge{puregauge} g{g} pbc{pbc} l{l} nlayers{nlayers} iterations{iterations}')\n",
    "               #,filename='ansatz_tests/'+f'E_0_ED_vs_VQD_test:{latt.dims}D_'+'x'.join(map(str,latt.n_sites))+f'mbasis{magnetic_basis}_puregauge{puregauge}_g{g}_pbc{pbc}_l{l}_nlayers{nlayers}_iterations{iterations}')\n"
   ]
  },
  {
   "cell_type": "code",
   "execution_count": 213,
   "metadata": {},
   "outputs": [
    {
     "data": {
      "image/png": "[encoded data removed]",
      "text/plain": [
       "<Figure size 720x360 with 1 Axes>"
      ]
     },
     "execution_count": 213,
     "metadata": {},
     "output_type": "execute_result"
    }
   ],
   "source": [
    "plot_histogram([ed_val[1],vqd2_eigenstates[1]], figsize=(10,5),legend=['ED','VQD'] ,bar_labels=False,\n",
    "               title=f'E_1 ED vs VQD test:{latt.dims}D_'+'x'.join(map(str,latt.n_sites))+f'mbasis{magnetic_basis} puregauge{puregauge} g{g} pbc{pbc} l{l} nlayers{nlayers} iterations{iterations}')\n",
    "               #,filename='ansatz_tests/'+f'E_1_ED_vs_VQD_test:{latt.dims}D_'+'x'.join(map(str,latt.n_sites))+f'mbasis{magnetic_basis}_puregauge{puregauge}_g{g}_pbc{pbc}_l{l}_nlayers{nlayers}_iterations{iterations}')"
   ]
  },
  {
   "attachments": {},
   "cell_type": "markdown",
   "metadata": {},
   "source": [
    "##### More coupling runs"
   ]
  },
  {
   "cell_type": "code",
   "execution_count": null,
   "metadata": {},
   "outputs": [
    {
     "name": "stdout",
     "output_type": "stream",
     "text": [
      "spectrum ED: [-1.0066823] plaq 0.4623451127700586\n",
      "g 1.0 E [-0.96724394+0.j]\n",
      "\n",
      " Plaq. VQD: 0.46610870187127507 \n",
      "\n",
      "spectrum ED: [-1.0066823] plaq 0.4623451127700586\n",
      "g 1.0 E [-0.96724388+0.j]\n",
      "\n",
      " Plaq. VQD: 0.4660296628495903 \n",
      "\n",
      "spectrum ED: [-0.95411825] plaq 0.45198162085604643\n",
      "g 1.01 E [-0.91334138+0.j]\n",
      "\n",
      " Plaq. VQD: 0.45507543874845485 \n",
      "\n"
     ]
    }
   ],
   "source": [
    "for g in np.array([1,1,1.01]):\n",
    "    \n",
    "    Hamiltonian_Pauli_tot = class_H_oprt.get_hamiltonian(g_var=g, m_var=m, omega=omega,fact_b_op=fact_b_op,fact_e_op=fact_b_op,lambd=lambd)\n",
    "    if encoding=='gray' and not sparse_pauli:\n",
    "        Hamiltonian_Pauli_tot = Hamiltonian_Pauli_tot.to_matrix(sparse=True)\n",
    "        if ngauge:\n",
    "            h_b_sparse = class_H_oprt.hamiltonian_mag_pauli.to_matrix(sparse=True) #plaquette\n",
    "        else:\n",
    "            h_b_sparse = 0 \n",
    "    elif encoding=='ed':\n",
    "        Hamiltonian_Pauli_tot = sp.csr_matrix(Hamiltonian_Pauli_tot)\n",
    "        if ngauge:\n",
    "            h_b_sparse =sp.csr_matrix(class_H_oprt.hamiltonian_mag_pauli)\n",
    "        else:\n",
    "            h_b_sparse =0\n",
    "    spectrum, eigenvectors_matrix =primme.eigsh(Hamiltonian_Pauli_tot,k=num_eigs,which=\"SA\")#,ncv = 30)\n",
    "    #spectrum\n",
    "    idx = spectrum.argsort() \n",
    "    spectrum = spectrum[idx]\n",
    "    eigenvectors_matrix = eigenvectors_matrix[:,idx]\n",
    "\n",
    "    eig0cj = sp.csr_matrix(eigenvectors_matrix[:,0]).transpose().conjugate()\n",
    "    eig0= sp.csr_matrix(eigenvectors_matrix[:,0])\n",
    "    if ngauge:\n",
    "        plaq = (eig0*h_b_sparse*eig0cj/len(latt.plaq_list) ).toarray()[0][0].real\n",
    "\n",
    "    print('spectrum ED:',spectrum,'plaq',plaq)\n",
    "    \n",
    "    #callback function\n",
    "    E_data = [[] for k in range(num_eigs)]\n",
    "    Fidelity = [[] for k in range(num_eigs)]\n",
    "    def callback(eval_count, parameters, mean, meta, step):\n",
    "        stdout.write(\"eig: %d/%d -> its %4d \\r\"%(step,num_eigs,eval_count)) # assuming SPSA\n",
    "        stdout.flush()\n",
    "\n",
    "        #fidelity\n",
    "        vqd_states = [ansatz.bind_parameters(parameters) for i in range(num_eigs)]\n",
    "        vqd_fid_states =[qinf.Statevector.from_instruction(i) for i in vqd_states]\n",
    "        ed_fid_states =[Statevector(eigenvectors_matrix[:,i]) for i in range(num_eigs)]\n",
    "        Fidelity[step-1].append([qinf.state_fidelity(vqd,ed) for vqd,ed in zip(vqd_fid_states,ed_fid_states)])\n",
    "\n",
    "        #energy\n",
    "        E_data[step-1].append([len(E_data[step-1]),mean,meta])\n",
    "    Hamiltonian_Pauli_tot_vqd = class_H_oprt.get_hamiltonian(g_var=g, m_var=m, omega=omega,fact_b_op=fact_b_op,fact_e_op=fact_b_op,lambd=0)\n",
    "\n",
    "\n",
    "    iterations = [500 for i in range(num_eigs)]\n",
    "    optimizer = [SLSQP(maxiter=itr) for itr in iterations] #SLSQP,COBYLA  #TODO: with NFT iSWAPS with also Rzz gates\n",
    "    ansatz = qc_tot2\n",
    "    betas = None#[2,]*(num_eigs-1)  #***default value computed as the mean square sum of the coefficients of the observable.\n",
    "\n",
    "    #*** initial point\n",
    "    val_init = np.pi/2\n",
    "    #initial_point=[val_init*(2*np.random.rand(ansatz.num_parameters)-1.0) for kkk in range(num_eigs)]\n",
    "    initial_point=val_init*(2*np.random.rand(ansatz.num_parameters)-1.0) \n",
    "\n",
    "    #Perform VQD for Hamiltonian and plaquette operator\n",
    "    vqd = VQD(estimator, fidelity, ansatz, optimizer, k=num_eigs, betas=betas,initial_point=initial_point,  callback=callback)\n",
    "    result = vqd.compute_eigenvalues(operator = Hamiltonian_Pauli_tot_vqd,aux_operators = aux_operators)# Hamiltonian + auxiliary operator\n",
    "    vqd_values = result.eigenvalues\n",
    "\n",
    "    #eigenvectors\n",
    "    vqd2_eigenstates = []\n",
    "    for i in range(num_eigs):\n",
    "        tmp = result.optimal_circuits[i].copy()\n",
    "        \n",
    "        tmp.measure_all()\n",
    "        opt_pt =list(result.optimal_parameters[i].values())\n",
    "        res = sampler.run(tmp, opt_pt).result() \n",
    "        \n",
    "        vqd2_eigenstates.append({x:round(y,6) for x,y in res.quasi_dists[0].binary_probabilities().items() if y>0.0001})\n",
    "        tmp.remove_final_measurements()\n",
    "\n",
    "    if ngauge:\n",
    "        plaq_vqd = np.array(result.aux_operators_evaluated[0])[:,0][0]/len(latt.plaq_list)\n",
    "\n",
    "        print('g',g,'E',vqd_values)\n",
    "        print('\\n','Plaq. VQD:',plaq_vqd.real,'\\n')"
   ]
  },
  {
   "cell_type": "code",
   "execution_count": null,
   "metadata": {},
   "outputs": [],
   "source": []
  }
 ],
 "metadata": {
  "kernelspec": {
   "display_name": "qiskit",
   "language": "python",
   "name": "python3"
  },
  "language_info": {
   "codemirror_mode": {
    "name": "ipython",
    "version": 3
   },
   "file_extension": ".py",
   "mimetype": "text/x-python",
   "name": "python",
   "nbconvert_exporter": "python",
   "pygments_lexer": "ipython3",
   "version": "3.9.6"
  },
  "vscode": {
   "interpreter": {
    "hash": "9732f19cd5dfd89c376a93c0ebf365daafb0a064118a63241088cb5e478d8ce2"
   }
  }
 },
 "nbformat": 4,
 "nbformat_minor": 2
}
