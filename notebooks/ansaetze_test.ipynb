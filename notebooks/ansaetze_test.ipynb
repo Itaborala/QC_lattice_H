{
 "cells": [
  {
   "attachments": {},
   "cell_type": "markdown",
   "metadata": {},
   "source": [
    "# Test of class Hamiltonian_QED"
   ]
  },
  {
   "cell_type": "code",
   "execution_count": 1,
   "metadata": {},
   "outputs": [],
   "source": [
    "import qiskit"
   ]
  },
  {
   "cell_type": "code",
   "execution_count": 2,
   "metadata": {},
   "outputs": [
    {
     "data": {
      "text/plain": [
       "'0.24.1'"
      ]
     },
     "execution_count": 2,
     "metadata": {},
     "output_type": "execute_result"
    }
   ],
   "source": [
    "qiskit.__version__"
   ]
  },
  {
   "cell_type": "code",
   "execution_count": 3,
   "metadata": {},
   "outputs": [],
   "source": [
    "%load_ext autoreload\n",
    "%autoreload 2"
   ]
  },
  {
   "cell_type": "code",
   "execution_count": 4,
   "metadata": {},
   "outputs": [],
   "source": [
    "from scipy.sparse.linalg import eigsh\n",
    "from qiskit.quantum_info import Statevector\n",
    "import numpy as np\n",
    "import matplotlib.pyplot as plt\n",
    "import sys\n",
    "sys.path.append(\"../\") # go to parent dir\n",
    "from itertools import permutations,product\n",
    "from tqdm.notebook import tqdm"
   ]
  },
  {
   "cell_type": "code",
   "execution_count": 5,
   "metadata": {},
   "outputs": [
    {
     "name": "stderr",
     "output_type": "stream",
     "text": [
      "/var/folders/08/fx8gnyrx18jggry6_s4cbtz40000gn/T/ipykernel_31435/3415147788.py:4: DeprecationWarning: Please use `aslinearoperator` from the `scipy.sparse.linalg` namespace, the `scipy.sparse.linalg.interface` namespace is deprecated.\n",
      "  import primme\n"
     ]
    }
   ],
   "source": [
    "from Hamiltonian_QED_sym import HamiltonianQED_sym\n",
    "from Hamiltonian_QED_oprt import HamiltonianQED_oprt\n",
    "from HC_Lattice import HCLattice\n",
    "import primme"
   ]
  },
  {
   "cell_type": "code",
   "execution_count": 6,
   "metadata": {},
   "outputs": [],
   "source": [
    "#Qiskit import\n",
    "from qiskit import QuantumCircuit, QuantumRegister,ClassicalRegister\n",
    "from qiskit.quantum_info import Statevector\n",
    "from qiskit.visualization import plot_histogram\n",
    "from qiskit.circuit import Parameter\n",
    "import qiskit.quantum_info as qinf\n",
    "from qiskit.primitives import Sampler, Estimator\n",
    "from qiskit.algorithms.state_fidelities import ComputeUncompute\n",
    "from qiskit.quantum_info import SparsePauliOp, Pauli, Operator\n",
    "from sys import stdout\n",
    "from qiskit.algorithms.optimizers import NFT,SLSQP,COBYLA,ADAM,SPSA,QNSPSA\n",
    "from qiskit.quantum_info.states import DensityMatrix\n",
    "import qiskit.quantum_info as qinf\n",
    "from qiskit.quantum_info import entropy\n"
   ]
  },
  {
   "attachments": {},
   "cell_type": "markdown",
   "metadata": {},
   "source": [
    "##### Quantum circuit"
   ]
  },
  {
   "cell_type": "code",
   "execution_count": 7,
   "metadata": {},
   "outputs": [],
   "source": [
    "def gray_code_lim(l,theta=None,layers=1):\n",
    "    \"\"\"Return Gray code circuit for gauge field and truncation l=1,2,3,6,7,15.\"\"\"\n",
    "    if l not in [1,2,3,6,7,15]:\n",
    "        raise ValueError('l must be 1,2,3,6,7,15')\n",
    "    n_qubits =int(np.ceil(np.log2(2 * l+ 1)))\n",
    "    qc = QuantumCircuit(n_qubits)\n",
    "    params = lambda i: Parameter(f'theta_{i}')\n",
    "\n",
    "    if theta is None:\n",
    "        t=0\n",
    "    else:\n",
    "        t=theta\n",
    "\n",
    "    #First layer of ry gates\n",
    "    for j in range(layers):\n",
    "        for i in range(n_qubits-1):\n",
    "            qc.ry(params(t),i)\n",
    "            t+=1\n",
    "        \n",
    "    if l==2:\n",
    "        for j in range(layers):\n",
    "            qc.x(0)\n",
    "            qc.mcry(params(t),list(range(n_qubits-1)),n_qubits-1,use_basis_gates=True)\n",
    "            qc.x(0)\n",
    "            t+=1\n",
    "\n",
    "    else:\n",
    "        #1st cry gate \n",
    "        for j in range(layers):\n",
    "            qc.cry(params(t),n_qubits-2,n_qubits-1)\n",
    "            t+=1\n",
    "\n",
    "        if l==6:\n",
    "            for j in range(layers):\n",
    "                qc.x(0)\n",
    "                qc.x(2)\n",
    "                qc.mcry(params(t),list(range(n_qubits-1)),n_qubits-1,use_basis_gates=True)\n",
    "                qc.x(0)\n",
    "                qc.x(2)\n",
    "                t+=1\n",
    "\n",
    "        #2nd cry gate\n",
    "        if l>1 and l!=6:\n",
    "            for j in range(layers):\n",
    "                qc.cry(params(t),n_qubits-3,n_qubits-1)\n",
    "                t+=1\n",
    "\n",
    "            # if l==14:#TODO see why qiskit error \n",
    "            #     qc.x(0)\n",
    "            #     qc.x(2)\n",
    "            #     qc.x(3)\n",
    "            #     #qc.mcry(params(t),list(range(n_qubits-1)),n_qubits-1,use_basis_gates=True)\n",
    "            #     qc.x(0)\n",
    "            #     qc.x(2)\n",
    "            #     qc.x(3)\n",
    "            #     t+=1\n",
    "\n",
    "            #layers of cry gates if l>3\n",
    "            if l>3 and l!=14:\n",
    "                for j in range(layers):\n",
    "                    for i in range(1,n_qubits-2)[::-1]:\n",
    "                        qc.cry(params(t),i-1,i)\n",
    "                        t+=1\n",
    "\n",
    "    par_list = [params(i) for i in range(t)]\n",
    "\n",
    "    return qc,par_list"
   ]
  },
  {
   "attachments": {},
   "cell_type": "markdown",
   "metadata": {},
   "source": [
    "##### Quantum ansatz test"
   ]
  },
  {
   "cell_type": "code",
   "execution_count": 8,
   "metadata": {},
   "outputs": [
    {
     "name": "stdout",
     "output_type": "stream",
     "text": [
      "unphys stases for l= 1 : 1\n",
      "unphys stases for l= 2 : 3\n",
      "unphys stases for l= 3 : 1\n",
      "unphys stases for l= 4 : 7\n",
      "unphys stases for l= 5 : 5\n",
      "unphys stases for l= 6 : 3\n",
      "unphys stases for l= 7 : 1\n",
      "unphys stases for l= 8 : 15\n",
      "unphys stases for l= 9 : 13\n",
      "unphys stases for l= 10 : 11\n",
      "unphys stases for l= 11 : 9\n",
      "unphys stases for l= 12 : 7\n",
      "unphys stases for l= 13 : 5\n",
      "unphys stases for l= 14 : 3\n",
      "unphys stases for l= 15 : 1\n"
     ]
    }
   ],
   "source": [
    "for l in range(1,16):\n",
    "    print('unphys stases for l=',l,':',2**int(np.ceil(np.log2(2 * l+ 1)))-(2 * l + 1))"
   ]
  },
  {
   "cell_type": "code",
   "execution_count": 9,
   "metadata": {},
   "outputs": [
    {
     "name": "stdout",
     "output_type": "stream",
     "text": [
      "unphys stases for l= 3 : 1\n",
      "000\n",
      "001\n",
      "011\n",
      "010\n",
      "110\n",
      "111\n",
      "101\n"
     ]
    }
   ],
   "source": [
    "l=3\n",
    "print('unphys stases for l=',l,':',2**int(np.ceil(np.log2(2 * l+ 1)))-(2 * l + 1))\n",
    "for i in range(0, 2 * l + 1):\n",
    "    gray_decimal = i ^ (i >> 1)\n",
    "    print( \"{0:0{1}b}\".format(gray_decimal,int(np.ceil(np.log2(2 * l+ 1)))))"
   ]
  },
  {
   "cell_type": "code",
   "execution_count": 10,
   "metadata": {},
   "outputs": [
    {
     "name": "stdout",
     "output_type": "stream",
     "text": [
      "100\n"
     ]
    }
   ],
   "source": [
    "#unphys states\n",
    "for i in range(2 * l + 1, 2**int(np.ceil(np.log2(2 * l+ 1)))):\n",
    "    gray_decimal = i ^ (i >> 1)\n",
    "    print( \"{0:0{1}b}\".format(gray_decimal,int(np.ceil(np.log2(2 * l+ 1)))))"
   ]
  },
  {
   "cell_type": "code",
   "execution_count": 11,
   "metadata": {},
   "outputs": [
    {
     "name": "stdout",
     "output_type": "stream",
     "text": [
      "000\n",
      "001\n",
      "011\n",
      "010\n",
      "110\n",
      "111\n",
      "101\n",
      "100\n"
     ]
    }
   ],
   "source": [
    "\n",
    "for i in range(0, 2**int(np.ceil(np.log2(2 * l+ 1)))):\n",
    "    gray_decimal = i ^ (i >> 1)\n",
    "    print( \"{0:0{1}b}\".format(gray_decimal,int(np.ceil(np.log2(2 * l+ 1)))))"
   ]
  },
  {
   "cell_type": "code",
   "execution_count": 69,
   "metadata": {},
   "outputs": [],
   "source": [
    "def circuit_physical(qc_test,n_qubits,th,fermions=False):\n",
    "    \"\"\"Test with a range of values for the parameters of the circuit qc_test\n",
    "    if it reaches all and only physical states of Gray encoding or fermions with zero charge if fermions=True, i.e. same n.er of 0 and 1.\"\"\"\n",
    "\n",
    "    #sampler = Sampler()\n",
    "    if fermions:\n",
    "        theta_values_0 = np.linspace(0, np.pi/2, 2)  # Parameter values 0=gate doesn't act or pi/2=gate acts RXX+RYY\n",
    "    else:\n",
    "        theta_values_0 = np.linspace(0, np.pi, 2) # Parameter values 0=gate doesn't act or pi=gate acts RY(theta)=exp(-i *theta *Y/2)\n",
    "\n",
    "    params = lambda i: Parameter(f'theta_{i}')\n",
    "    par_list = [params(i) for i in range(th)]\n",
    "\n",
    "    states_reached = set()\n",
    "    for theta in tqdm(list(product(theta_values_0, repeat=len(par_list)))):\n",
    "        bound_qc =qc_test.bind_parameters(dict(zip(qc_test.parameters,theta)))\n",
    "        result = Statevector(bound_qc).probabilities_dict()\n",
    "        \n",
    "        # tmp = bound_qc.copy()\n",
    "        # tmp.measure_all()\n",
    "        # res = sampler.run(tmp).result() \n",
    "        \n",
    "        # result={x:round(y,6) for x,y in res.quasi_dists[0].binary_probabilities().items() if y>1e-16}\n",
    "        # tmp.remove_final_measurements()\n",
    "\n",
    "        # #print('theta=',theta,result)\n",
    "\n",
    "        for k in [key for key, value in result.items() if value >1e-16]:#consider nonzero probabilities\n",
    "            if k not in states_reached:\n",
    "                states_reached.add(k)\n",
    "                \n",
    "     \n",
    "    if fermions:\n",
    "        #check if only state with same n.er of 0 and 1 are reached\n",
    "        ferm_q0 = {''.join(i) for i in permutations(['0','1']*(n_qubits//2),n_qubits)}\n",
    "        if n_qubits<8:\n",
    "            print(f\"{len(states_reached)} states reached:\",states_reached,f'{len(ferm_q0)} fermions with zero charge:',ferm_q0)\n",
    "        if states_reached==ferm_q0:   \n",
    "            print('all physical states reached : OK!')\n",
    "        else:\n",
    "            print('not all physical states reached')\n",
    "\n",
    "    else:\n",
    "        gray_unph = set()\n",
    "        for i in range(2 * l + 1, 2**int(np.ceil(np.log2(2 * l+ 1)))):\n",
    "            gray_decimal = i ^ (i >> 1)\n",
    "            gray_unph.add(\"{0:0{1}b}\".format(gray_decimal,int(np.ceil(np.log2(2 * l+ 1))))) \n",
    "\n",
    "        gray_phys = set()\n",
    "        for i in range(0, 2 * l + 1):\n",
    "            gray_decimal = i ^ (i >> 1)\n",
    "            gray_phys.add(\"{0:0{1}b}\".format(gray_decimal,int(np.ceil(np.log2(2 * l+ 1)))))\n",
    "\n",
    "        if n_qubits<8:\n",
    "            print('states reached:',states_reached,'states unphys:',gray_unph,'states phys:',gray_phys)\n",
    "        if states_reached==gray_phys:\n",
    "            print('all physical states reached : OK!')\n",
    "        else:\n",
    "            print('not all physical states reached')"
   ]
  },
  {
   "attachments": {},
   "cell_type": "markdown",
   "metadata": {},
   "source": [
    "GRAY ENCODING "
   ]
  },
  {
   "cell_type": "code",
   "execution_count": 70,
   "metadata": {},
   "outputs": [
    {
     "name": "stdout",
     "output_type": "stream",
     "text": [
      "l= 1\n"
     ]
    },
    {
     "data": {
      "application/vnd.jupyter.widget-view+json": {
       "model_id": "eac125629db04afc9b1ae8e8f300594c",
       "version_major": 2,
       "version_minor": 0
      },
      "text/plain": [
       "  0%|          | 0/4 [00:00<?, ?it/s]"
      ]
     },
     "metadata": {},
     "output_type": "display_data"
    },
    {
     "name": "stdout",
     "output_type": "stream",
     "text": [
      "states reached: {'00', '01', '11'} states unphys: {'10'} states phys: {'00', '01', '11'}\n",
      "all physical states reached : OK!\n",
      "l= 2\n"
     ]
    },
    {
     "data": {
      "application/vnd.jupyter.widget-view+json": {
       "model_id": "4d96b8c786854613ac4458077ff4b577",
       "version_major": 2,
       "version_minor": 0
      },
      "text/plain": [
       "  0%|          | 0/8 [00:00<?, ?it/s]"
      ]
     },
     "metadata": {},
     "output_type": "display_data"
    },
    {
     "name": "stdout",
     "output_type": "stream",
     "text": [
      "states reached: {'110', '001', '011', '000', '010'} states unphys: {'100', '111', '101'} states phys: {'110', '001', '011', '000', '010'}\n",
      "all physical states reached : OK!\n",
      "l= 3\n"
     ]
    },
    {
     "data": {
      "application/vnd.jupyter.widget-view+json": {
       "model_id": "9c1edd60298b4420b00331ada7116649",
       "version_major": 2,
       "version_minor": 0
      },
      "text/plain": [
       "  0%|          | 0/16 [00:00<?, ?it/s]"
      ]
     },
     "metadata": {},
     "output_type": "display_data"
    },
    {
     "name": "stdout",
     "output_type": "stream",
     "text": [
      "states reached: {'110', '001', '011', '101', '000', '010', '111'} states unphys: {'100'} states phys: {'110', '001', '011', '000', '101', '010', '111'}\n",
      "all physical states reached : OK!\n",
      "l= 6\n"
     ]
    },
    {
     "data": {
      "application/vnd.jupyter.widget-view+json": {
       "model_id": "802c79f7021c4b87b1297184520b47ea",
       "version_major": 2,
       "version_minor": 0
      },
      "text/plain": [
       "  0%|          | 0/32 [00:00<?, ?it/s]"
      ]
     },
     "metadata": {},
     "output_type": "display_data"
    },
    {
     "name": "stdout",
     "output_type": "stream",
     "text": [
      "states reached: {'0101', '1111', '0111', '0000', '1100', '0001', '1010', '1101', '0110', '0100', '1110', '0010', '0011'} states unphys: {'1001', '1000', '1011'} states phys: {'0101', '1111', '0111', '0000', '1100', '0001', '1010', '1101', '0110', '0100', '1110', '0010', '0011'}\n",
      "all physical states reached : OK!\n",
      "l= 7\n"
     ]
    },
    {
     "data": {
      "application/vnd.jupyter.widget-view+json": {
       "model_id": "af4762e486aa4d609d044eb1920fcb70",
       "version_major": 2,
       "version_minor": 0
      },
      "text/plain": [
       "  0%|          | 0/64 [00:00<?, ?it/s]"
      ]
     },
     "metadata": {},
     "output_type": "display_data"
    },
    {
     "name": "stdout",
     "output_type": "stream",
     "text": [
      "states reached: {'0101', '1111', '1011', '0111', '0000', '1100', '1001', '0001', '1010', '1101', '0110', '0100', '1110', '0010', '0011'} states unphys: {'1000'} states phys: {'0101', '1111', '1011', '0111', '0000', '1100', '1001', '0001', '1010', '1101', '0110', '0100', '1110', '0010', '0011'}\n",
      "all physical states reached : OK!\n",
      "l= 15\n"
     ]
    },
    {
     "data": {
      "application/vnd.jupyter.widget-view+json": {
       "model_id": "e145f36f5c264781b6221575fd9cd85e",
       "version_major": 2,
       "version_minor": 0
      },
      "text/plain": [
       "  0%|          | 0/256 [00:00<?, ?it/s]"
      ]
     },
     "metadata": {},
     "output_type": "display_data"
    },
    {
     "name": "stdout",
     "output_type": "stream",
     "text": [
      "states reached: {'01001', '00101', '01110', '00011', '11000', '11001', '11110', '01011', '00111', '10100', '11100', '10010', '01010', '10111', '00110', '00100', '10110', '00001', '10101', '11011', '11111', '01000', '01111', '00010', '11010', '11101', '10001', '00000', '01100', '10011', '01101'} states unphys: {'10000'} states phys: {'01001', '00101', '01110', '00011', '11000', '11001', '11110', '01011', '00111', '10100', '11100', '10010', '01010', '10111', '00110', '00100', '10110', '00001', '10101', '11011', '11111', '01000', '01111', '00010', '11010', '11101', '10001', '00000', '01100', '10011', '01101'}\n",
      "all physical states reached : OK!\n"
     ]
    }
   ],
   "source": [
    "#Tested for l=1,2,3,6,7,15\n",
    "l_list_test = [1,2,3,6,7,15]\n",
    "\n",
    "for l in l_list_test:\n",
    "    print('l=',l)\n",
    "    n_qubits =int(np.ceil(np.log2(2 * l+ 1)))\n",
    "    qc_test,par_list = gray_code_lim(l)\n",
    "\n",
    "    #qc_test.draw('mpl')#,filename='gray_code_lim_l1.png')\n",
    "\n",
    "    circuit_physical(qc_test,n_qubits,len(par_list),fermions=False)"
   ]
  },
  {
   "cell_type": "code",
   "execution_count": 145,
   "metadata": {},
   "outputs": [
    {
     "data": {
      "image/png": "[encoded data removed]",
      "text/plain": [
       "<Figure size 534.54x385.28 with 1 Axes>"
      ]
     },
     "execution_count": 145,
     "metadata": {},
     "output_type": "execute_result"
    }
   ],
   "source": [
    "#fermion circuit proposal\n",
    "p = Parameter('p')\n",
    "qc = QuantumCircuit(2,name='iSWAP')\n",
    "qc.rxx(p, 0, 1)\n",
    "qc.ryy(p, 0, 1)\n",
    "\n",
    "\n",
    "n_qubits_f = 6\n",
    "qr = QuantumRegister(n_qubits_f)\n",
    "qc_tot2 = QuantumCircuit(qr)\n",
    "\n",
    "params = lambda i: Parameter(f'theta_{i}')\n",
    "\n",
    "th=0\n",
    "for i in range(0,n_qubits_f,2):\n",
    "    qc_tot2.x(i)\n",
    "\n",
    "for j in range(n_qubits_f//2):\n",
    "    for i in range(j,n_qubits_f-j,2):\n",
    "            qc_tot2.append(qc.to_instruction({p: params(th)}), qr[i:i+2])\n",
    "            th+=1\n",
    "\n",
    "\n",
    "qc_tot2.draw('mpl')"
   ]
  },
  {
   "cell_type": "code",
   "execution_count": 67,
   "metadata": {},
   "outputs": [
    {
     "data": {
      "application/vnd.jupyter.widget-view+json": {
       "model_id": "ea40a63af095440985e0fe4cff3e5658",
       "version_major": 2,
       "version_minor": 0
      },
      "text/plain": [
       "  0%|          | 0/2097152 [00:00<?, ?it/s]"
      ]
     },
     "metadata": {},
     "output_type": "display_data"
    },
    {
     "name": "stdout",
     "output_type": "stream",
     "text": [
      "all physical states reached : OK!\n"
     ]
    }
   ],
   "source": [
    "circuit_physical(qc_tot2,n_qubits_f,th,fermions=True)"
   ]
  },
  {
   "cell_type": "code",
   "execution_count": 68,
   "metadata": {},
   "outputs": [
    {
     "name": "stdout",
     "output_type": "stream",
     "text": [
      "n_qubits_f= 12\n"
     ]
    }
   ],
   "source": [
    "print('n_qubits_f=',n_qubits_f)"
   ]
  },
  {
   "attachments": {},
   "cell_type": "markdown",
   "metadata": {},
   "source": [
    "ZERO TOTAL CHARGE FOR FERMIONS WITH ISWAP GATES"
   ]
  },
  {
   "cell_type": "code",
   "execution_count": null,
   "metadata": {},
   "outputs": [],
   "source": [
    "#TODO test 12 and 14 qubits"
   ]
  },
  {
   "cell_type": "code",
   "execution_count": 71,
   "metadata": {},
   "outputs": [
    {
     "name": "stdout",
     "output_type": "stream",
     "text": [
      "n_qubits_f= 2\n"
     ]
    },
    {
     "data": {
      "application/vnd.jupyter.widget-view+json": {
       "model_id": "7882789759b94992b9a9569217678b06",
       "version_major": 2,
       "version_minor": 0
      },
      "text/plain": [
       "  0%|          | 0/2 [00:00<?, ?it/s]"
      ]
     },
     "metadata": {},
     "output_type": "display_data"
    },
    {
     "name": "stdout",
     "output_type": "stream",
     "text": [
      "2 states reached: {'01', '10'} 2 fermions with zero charge: {'01', '10'}\n",
      "all physical states reached : OK!\n",
      "n_qubits_f= 4\n"
     ]
    },
    {
     "data": {
      "application/vnd.jupyter.widget-view+json": {
       "model_id": "112752bfac064c5b885f3580c47d07b0",
       "version_major": 2,
       "version_minor": 0
      },
      "text/plain": [
       "  0%|          | 0/8 [00:00<?, ?it/s]"
      ]
     },
     "metadata": {},
     "output_type": "display_data"
    },
    {
     "name": "stdout",
     "output_type": "stream",
     "text": [
      "6 states reached: {'0101', '1100', '1001', '1010', '0110', '0011'} 6 fermions with zero charge: {'0101', '1100', '1001', '1010', '0110', '0011'}\n",
      "all physical states reached : OK!\n",
      "n_qubits_f= 6\n"
     ]
    },
    {
     "data": {
      "application/vnd.jupyter.widget-view+json": {
       "model_id": "6ad448db8426479b938a77b63a5dcf1e",
       "version_major": 2,
       "version_minor": 0
      },
      "text/plain": [
       "  0%|          | 0/64 [00:00<?, ?it/s]"
      ]
     },
     "metadata": {},
     "output_type": "display_data"
    },
    {
     "name": "stdout",
     "output_type": "stream",
     "text": [
      "20 states reached: {'000111', '001101', '011100', '101010', '010101', '101001', '110100', '001110', '011010', '110010', '110001', '011001', '101100', '111000', '100011', '100101', '100110', '001011', '010011', '010110'} 20 fermions with zero charge: {'000111', '001101', '011100', '101010', '010101', '101001', '110100', '001110', '011010', '110010', '110001', '011001', '101100', '111000', '100011', '100101', '100110', '001011', '010011', '010110'}\n",
      "all physical states reached : OK!\n",
      "n_qubits_f= 8\n"
     ]
    },
    {
     "data": {
      "application/vnd.jupyter.widget-view+json": {
       "model_id": "5d08a2ad489a4ae5accc33fb7966d5fd",
       "version_major": 2,
       "version_minor": 0
      },
      "text/plain": [
       "  0%|          | 0/1024 [00:00<?, ?it/s]"
      ]
     },
     "metadata": {},
     "output_type": "display_data"
    },
    {
     "name": "stdout",
     "output_type": "stream",
     "text": [
      "all physical states reached : OK!\n",
      "n_qubits_f= 10\n"
     ]
    },
    {
     "data": {
      "application/vnd.jupyter.widget-view+json": {
       "model_id": "0e799191dd1746169bfbcb8fdd3d8145",
       "version_major": 2,
       "version_minor": 0
      },
      "text/plain": [
       "  0%|          | 0/32768 [00:00<?, ?it/s]"
      ]
     },
     "metadata": {},
     "output_type": "display_data"
    },
    {
     "name": "stdout",
     "output_type": "stream",
     "text": [
      "all physical states reached : OK!\n"
     ]
    }
   ],
   "source": [
    "#Tested for up to 12 fermions. Parameter values 0=gate doesn't act or pi/2=gate acts RXX+RYY\n",
    "\n",
    "n_qubits_f_list = range(2,12,2)\n",
    "for n_qubits_f in n_qubits_f_list:\n",
    "    print('n_qubits_f=',n_qubits_f)\n",
    "    p = Parameter('p')\n",
    "    qc = QuantumCircuit(2,name='iSWAP')\n",
    "    qc.rxx(p, 0, 1)\n",
    "    qc.ryy(p, 0, 1)\n",
    "\n",
    "    qr = QuantumRegister(n_qubits_f)\n",
    "    qc_tot2 = QuantumCircuit(qr)\n",
    "    params = lambda i: Parameter(f'theta_{i}')\n",
    "\n",
    "    th=0\n",
    "    for i in range(0,n_qubits_f,2):\n",
    "        qc_tot2.x(i)\n",
    "\n",
    "    for j in range(n_qubits_f//2):\n",
    "        for i in range(j,n_qubits_f-j,2):\n",
    "                qc_tot2.append(qc.to_instruction({p: params(th)}), qr[i:i+2])\n",
    "                th+=1\n",
    "\n",
    "    circuit_physical(qc_tot2,n_qubits_f,th,fermions=True)"
   ]
  },
  {
   "cell_type": "code",
   "execution_count": null,
   "metadata": {},
   "outputs": [],
   "source": [
    "#TODO: put layer of RZ (for fermions)?"
   ]
  },
  {
   "attachments": {},
   "cell_type": "markdown",
   "metadata": {},
   "source": [
    "##### Hamiltonian"
   ]
  },
  {
   "cell_type": "code",
   "execution_count": 291,
   "metadata": {},
   "outputs": [],
   "source": [
    "#class input parameters:\n",
    "n_sites = [4,1,]#how many sites for every dimension\n",
    "g=5\n",
    "fact_e_op = 1\n",
    "fact_b_op = 1\n",
    "m=3\n",
    "omega=1\n",
    "l=1\n",
    "L=2\n",
    "rotors = False\n",
    "lambd = 1000\n",
    "encoding = 'gray' ##'ed'#\n",
    "magnetic_basis=False\n",
    "pbc=False\n",
    "puregauge = False \n",
    "static_charges_values =None#{(0,0):1,(1,0):-1}#TODO: no conditions applied, like charge conservation, etc. For conditions see func_qstatic_dist\n",
    "display_hamiltonian=False\n",
    "e_op_out_plus=False #if E out of site n has plus sign \n",
    "sparse_pauli =False #false for circuit ansatz\n",
    "#exact diagonalisation parameters:\n",
    "threshold = 1e-12\n",
    "num_eigs = 2"
   ]
  },
  {
   "cell_type": "code",
   "execution_count": 292,
   "metadata": {},
   "outputs": [],
   "source": [
    "latt = HCLattice(n_sites,pbc=pbc)"
   ]
  },
  {
   "cell_type": "code",
   "execution_count": 293,
   "metadata": {},
   "outputs": [
    {
     "name": "stdout",
     "output_type": "stream",
     "text": [
      "HamiltonianQED_sym: Initializing...\n",
      "> Gauss law equations solved\n",
      "> e_op_free and u_op_free built\n",
      ">> Gauss law applied and Hamiltonian built.  Execution time: 0.026719093322753906 seconds\n",
      "HamiltonianQED_oprt: Initializing...\n",
      "> e_op_free and u_op_free built\n",
      "> Pauli strings built\n",
      ">> Hamiltonian built.  Execution time: 2.4655468463897705 seconds\n",
      ">> Suppression term built.  Execution time: 0.002529144287109375 seconds\n"
     ]
    }
   ],
   "source": [
    "hamilt_sym = HamiltonianQED_sym(\n",
    "                        latt,\n",
    "                        n_sites,\n",
    "                        l,\n",
    "                        ll=L,\n",
    "                        encoding = encoding,\n",
    "                        rotors=rotors,\n",
    "                        magnetic_basis=magnetic_basis,\n",
    "                        pbc=pbc,\n",
    "                        puregauge=puregauge,\n",
    "                        static_charges_values=static_charges_values,\n",
    "                        e_op_out_plus = e_op_out_plus,\n",
    "                        display_hamiltonian=display_hamiltonian)\n",
    "\n",
    "class_H_oprt = HamiltonianQED_oprt(\n",
    "                        latt,\n",
    "                        hamilt_sym,\n",
    "                        n_sites,\n",
    "                        l,\n",
    "                        ll=L,\n",
    "                        encoding = encoding,\n",
    "                        rotors=rotors,\n",
    "                        magnetic_basis=magnetic_basis,\n",
    "                        pbc=pbc,\n",
    "                        puregauge=puregauge,\n",
    "                        static_charges_values=static_charges_values,\n",
    "                        e_op_out_plus = e_op_out_plus,\n",
    "                        sparse_pauli=sparse_pauli)"
   ]
  },
  {
   "cell_type": "code",
   "execution_count": 294,
   "metadata": {},
   "outputs": [
    {
     "data": {
      "image/png": "[encoded data removed]",
      "text/plain": [
       "<Figure size 576x432 with 1 Axes>"
      ]
     },
     "metadata": {},
     "output_type": "display_data"
    }
   ],
   "source": [
    "\n",
    "#latt.draw_graph_func(gauss_law_fig=False,static_charges=static_charges_values)\n",
    "#only dynamical fields after Gauss law applied\n",
    "latt.draw_graph_func(gauss_law_fig=True,e_op_free=class_H_oprt.e_op_free)#,savefig_dir='.')"
   ]
  },
  {
   "cell_type": "code",
   "execution_count": 295,
   "metadata": {},
   "outputs": [
    {
     "data": {
      "text/plain": [
       "[]"
      ]
     },
     "execution_count": 295,
     "metadata": {},
     "output_type": "execute_result"
    }
   ],
   "source": [
    "class_H_oprt.uop_list#order of operators in tensor product and on circuit"
   ]
  },
  {
   "attachments": {},
   "cell_type": "markdown",
   "metadata": {},
   "source": [
    "##### Test composite circuit"
   ]
  },
  {
   "cell_type": "code",
   "execution_count": 297,
   "metadata": {},
   "outputs": [],
   "source": [
    "# #ansatz no entanglement\n",
    "# nlayers = 1#TODO ATTENTION: selection of only physical states work only for nlayers=1\n",
    "# ngauge = class_H_oprt.len_e_op\n",
    "# nsites = 0#TODO add fermionic part\n",
    "# n_qubits =int(np.ceil(np.log2(2 * l+ 1)))\n",
    "# qc_tot = QuantumCircuit(n_qubits*ngauge+nsites)\n",
    "\n",
    "\n",
    "# th=0\n",
    "# #first gauge field\n",
    "# qcc,lst = gray_code_lim(l,theta=th,layers=nlayers)\n",
    "# qc_tot.compose(qcc,list(range(n_qubits)),inplace=True)\n",
    "\n",
    "# for i in range(1,ngauge):#for the other gauge fields\n",
    "#     theta = int(''.join(list(filter(str.isdigit, str(lst[-1])))))\n",
    "#     qcc,lst = gray_code_lim(l,theta=theta+1,layers=nlayers)\n",
    "#     qc_tot.compose(qcc,list(range(n_qubits*i,n_qubits*(i+1))),inplace=True)\n",
    "\n",
    "# th=int(''.join(list(filter(str.isdigit, str(lst[-1])))))+1\n",
    "# qc_tot.barrier()\n",
    "\n",
    "# #**entanglement**\n",
    "# #between the gauge fields\n",
    "# # for i in range(n_qubits):\n",
    "# #     for j in range(n_qubits,n_qubits*ngauge):\n",
    "# #         qc_tot.cx(i,j)\n",
    "\n",
    "# #linear entanglement cx gates\n",
    "# # for i in range(n_qubits*ngauge-1):\n",
    "# #     qc_tot.cx(i,i+1)\n",
    "\n",
    "\n",
    "# #full entanglement cx gates\n",
    "# # for i in range(n_qubits*ngauge):\n",
    "# #     for j in range(i+1,n_qubits*ngauge):\n",
    "# #         qc_tot.cx(i,j)\n",
    "\n",
    "# #qc_tot.draw('mpl')#,filename='gray_code_lim_l1.png')"
   ]
  },
  {
   "cell_type": "code",
   "execution_count": 299,
   "metadata": {},
   "outputs": [
    {
     "data": {
      "text/plain": [
       "0"
      ]
     },
     "execution_count": 299,
     "metadata": {},
     "output_type": "execute_result"
    }
   ],
   "source": [
    "ngauge"
   ]
  },
  {
   "cell_type": "code",
   "execution_count": 300,
   "metadata": {},
   "outputs": [
    {
     "data": {
      "image/png": "[encoded data removed]",
      "text/plain": [
       "<Figure size 423.369x264.88 with 1 Axes>"
      ]
     },
     "execution_count": 300,
     "metadata": {},
     "output_type": "execute_result"
    }
   ],
   "source": [
    "#ansatz full entanglement\n",
    "nlayers = 1#TODO option more layers?\n",
    "ngauge = class_H_oprt.len_e_op\n",
    "if puregauge:\n",
    "    n_qubits_f = 0\n",
    "else:\n",
    "    n_qubits_f = np.prod(latt.n_sites)#TODO add fermionic part\n",
    "\n",
    "n_qubits =int(np.ceil(np.log2(2 * l+ 1)))\n",
    "\n",
    "qferm = QuantumRegister(n_qubits_f,name='ferm')\n",
    "qgaug = QuantumRegister(n_qubits*ngauge,name='gaug')\n",
    "qc_tot2 = QuantumCircuit(qgaug,qferm)\n",
    "\n",
    "th=0\n",
    "#gauge part\n",
    "if ngauge:\n",
    "    qcc,lst = gray_code_lim(l,theta=th,layers=nlayers)\n",
    "    #first gauge field\n",
    "    qc_tot2.compose(qcc,list(range(n_qubits)),inplace=True)\n",
    "    qc_tot2.barrier()\n",
    "    th=int(''.join(list(filter(str.isdigit, str(lst[-1])))))+1\n",
    "\n",
    "    for i in range(1,ngauge):\n",
    "        qc_tot2.ry(Parameter(f'theta_{th}'),n_qubits*i)\n",
    "        th+=1\n",
    "        for j in range(n_qubits*i):\n",
    "            qc_tot2.cry(Parameter(f'theta_{th}'),j,n_qubits*i)\n",
    "            th+=1\n",
    "        qc_tot2.barrier()\n",
    "        qc_tot2.cry(Parameter(f'theta_{th}'),n_qubits*i,n_qubits*i+1)\n",
    "        th+=1\n",
    "        qc_tot2.barrier()\n",
    "        #multi-controlled gates\n",
    "        for j in range(n_qubits*i):\n",
    "            qc_tot2.mcry(Parameter(f'theta_{th}'),[j,n_qubits*i],n_qubits*i+1)\n",
    "            th+=1\n",
    "\n",
    "#fermion circuit proposal\n",
    "p = Parameter('p')\n",
    "qc = QuantumCircuit(2,name='iSWAP')\n",
    "qc.rxx(p, 0, 1)\n",
    "qc.ryy(p, 0, 1)\n",
    "\n",
    "\n",
    "\n",
    "params = lambda i: Parameter(f'theta_{i}')\n",
    "\n",
    "#th=0\n",
    "for i in range(0,n_qubits_f,2):\n",
    "    qc_tot2.x(qferm[i])\n",
    "\n",
    "for j in range(n_qubits_f//2):\n",
    "    for i in range(j,n_qubits_f-j,2):\n",
    "            qc_tot2.append(qc.to_instruction({p: params(th)}), qferm[i:i+2])\n",
    "            th+=1\n",
    "\n",
    "qc_tot2.draw('mpl')#,filename='gray_code_lim_l1.png')\n",
    "#qc_tot2.decompose().draw('mpl')"
   ]
  },
  {
   "cell_type": "code",
   "execution_count": 140,
   "metadata": {},
   "outputs": [],
   "source": [
    "#TODO: CTRL iSWAP for entanglements with gauge fields"
   ]
  },
  {
   "cell_type": "code",
   "execution_count": 100,
   "metadata": {},
   "outputs": [
    {
     "data": {
      "text/plain": [
       "5"
      ]
     },
     "execution_count": 100,
     "metadata": {},
     "output_type": "execute_result"
    }
   ],
   "source": [
    "qc_tot2.depth()"
   ]
  },
  {
   "cell_type": "code",
   "execution_count": 101,
   "metadata": {},
   "outputs": [],
   "source": [
    "# #ansatz\n",
    "# nlayers = 1#TODO ATTENTION: selection of only physical states work only for nlayers=1\n",
    "# ngauge = class_H_oprt.len_e_op\n",
    "# nsites = 0#TODO add fermionic part\n",
    "# n_qubits =int(np.ceil(np.log2(2 * l+ 1)))\n",
    "# qc_tot2 = QuantumCircuit(n_qubits*ngauge+nsites)\n",
    "\n",
    "# th=0\n",
    "# #first gauge field\n",
    "# qcc,lst = gray_code_lim(l,theta=th,layers=nlayers)\n",
    "# qc_tot2.compose(qcc,list(range(n_qubits)),inplace=True)\n",
    "\n",
    "\n",
    "# th=int(''.join(list(filter(str.isdigit, str(lst[-1])))))\n",
    "# qcc,lst = gray_code_lim(l,theta=th+1,layers=nlayers)\n",
    "# qc_tot2.compose(qcc,list(range(4,6)),inplace=True)\n",
    "\n",
    "# qc_tot2.barrier()\n",
    "# th=int(''.join(list(filter(str.isdigit, str(lst[-1])))))\n",
    "# qc_tot2.ry(Parameter(f'theta_{th+1}'),2)\n",
    "# qc_tot2.cry(Parameter(f'theta_{th+2}'),0,2)\n",
    "# qc_tot2.cry(Parameter(f'theta_{th+3}'),1,2)\n",
    "# qc_tot2.cry(Parameter(f'theta_{th+4}'),4,2)\n",
    "# qc_tot2.cry(Parameter(f'theta_{th+5}'),5,2)\n",
    "# qc_tot2.barrier()\n",
    "\n",
    "# qc_tot2.cry(Parameter(f'theta_{th+6}'),2,3)\n",
    "# qc_tot2.mcry(Parameter(f'theta_{th+7}'),[0,2],3)\n",
    "# qc_tot2.mcry(Parameter(f'theta_{th+8}'),[1,2],3)\n",
    "# qc_tot2.mcry(Parameter(f'theta_{th+9}'),[4,2],3)\n",
    "# qc_tot2.mcry(Parameter(f'theta_{th+10}'),[5,2],3)\n",
    "\n",
    "\n",
    "# qc_tot2.draw('mpl')#,filename='gray_code_lim_l1.png')"
   ]
  },
  {
   "cell_type": "code",
   "execution_count": 301,
   "metadata": {},
   "outputs": [],
   "source": [
    "def fidelity_func(myvqd_results2,eigenvectors_matrix,num_eigs):\n",
    "\n",
    "    \"\"\" Inputs; results from VQD and eigenvector matrix from ED. Update to Qiskit version 0.24.1\"\"\"\n",
    "    \n",
    "    vqd_states = [myvqd_results2.optimal_circuits[i].bind_parameters(myvqd_results2.optimal_parameters[i].values()) for i in range(num_eigs)]\n",
    "\n",
    "    vqd_fid_states =[qinf.Statevector.from_instruction(i) for i in vqd_states]\n",
    "    ed_fid_states =[Statevector(eigenvectors_matrix[:,i]) for i in range(num_eigs)]\n",
    "\n",
    "    return [qinf.state_fidelity(vqd,ed) for vqd,ed in zip(vqd_fid_states,ed_fid_states)]"
   ]
  },
  {
   "attachments": {},
   "cell_type": "markdown",
   "metadata": {},
   "source": [
    "2D_2x2mbasisFalse puregaugeTrue g0.1 pbcTrue l1_factE1_factB1_m3_Omega1 nlayers1 iterations[500, 500] optimizerSLSQP:\n",
    "\n",
    "in. point\n",
    "\n",
    "array([ 0.2018109 ,  0.24488692,  0.21166536,  0.2827267 ,  0.57939206,\n",
    "        0.0510488 , -0.60911057,  0.58872647, -0.59156033,  0.63703664,\n",
    "        0.6161558 ,  0.32709866, -0.14901505,  0.25207003, -0.59671775,\n",
    "        0.55807236,  0.17197293, -0.29482396, -0.71963126, -0.48101984,\n",
    "        0.69696426,  0.21615586,  0.19234214, -0.71834603, -0.75412552,\n",
    "       -0.51238705, -0.35319082,  0.35969965, -0.39224147,  0.48351348,\n",
    "        0.40515203, -0.52143608,  0.15010049, -0.62242227, -0.49699271,\n",
    "       -0.66024822, -0.74409014, -0.34114466,  0.49847996, -0.47393087,\n",
    "       -0.38242287,  0.06001916,  0.5692371 , -0.00607085, -0.00131586,\n",
    "        0.55668509,  0.24684299, -0.50486786,  0.38434161, -0.29313127])"
   ]
  },
  {
   "cell_type": "code",
   "execution_count": 302,
   "metadata": {},
   "outputs": [],
   "source": [
    "initial_point=np.array([ 0.2018109 ,  0.24488692,  0.21166536,  0.2827267 ,  0.57939206,\n",
    "        0.0510488 , -0.60911057,  0.58872647, -0.59156033,  0.63703664,\n",
    "        0.6161558 ,  0.32709866, -0.14901505,  0.25207003, -0.59671775,\n",
    "        0.55807236,  0.17197293, -0.29482396, -0.71963126, -0.48101984,\n",
    "        0.69696426,  0.21615586,  0.19234214, -0.71834603, -0.75412552,\n",
    "       -0.51238705, -0.35319082,  0.35969965, -0.39224147,  0.48351348,\n",
    "        0.40515203, -0.52143608,  0.15010049, -0.62242227, -0.49699271,\n",
    "       -0.66024822, -0.74409014, -0.34114466,  0.49847996, -0.47393087,\n",
    "       -0.38242287,  0.06001916,  0.5692371 , -0.00607085, -0.00131586,\n",
    "        0.55668509,  0.24684299, -0.50486786,  0.38434161, -0.29313127])"
   ]
  },
  {
   "attachments": {},
   "cell_type": "markdown",
   "metadata": {},
   "source": [
    "#test con 5 itrs per E0, initial point=[best parameters di E0, random per E1] visto che ok risultato. improvement for E1\n",
    "initial_point=np.array([ 3.14154162e+00,  5.72623979e-04,  2.17575153e-01, -4.43899343e+00,\n",
    "       -2.52326329e-02, -8.52384728e-01,  9.72301363e-01,  2.53065378e-01,\n",
    "       -1.19903100e-01, -3.68589042e-01, -4.41354980e+00,  9.60270708e-01,\n",
    "       -3.34982139e-01,  3.80935810e-01, -8.61384447e-01, -4.69209243e-01,\n",
    "        1.17306594e+00,  3.26564763e-01,  4.72398075e-01, -3.80842210e-01,\n",
    "        4.03939615e-01, -4.44077834e-02, -7.74449354e-01, -2.80660656e+00,\n",
    "       -4.71371794e-02, -3.93666626e-01,  5.00971380e+00, -2.47171242e-01,\n",
    "       -2.80326076e-01, -1.60553159e+00,  2.25608451e-01, -1.15995150e+00,\n",
    "       -8.50900211e-01,  1.14454655e+00,  3.60792093e-01,  6.70696852e-02,\n",
    "       -1.10024490e+00, -1.54467799e-01,  1.65335541e-01,  1.13584008e+00,\n",
    "       -4.67075197e-01,  4.10233323e-01,  4.18324225e-01, -2.91362996e-01,\n",
    "       -2.09179246e-01,  3.83636545e-02, -3.83597141e-02,  4.95250596e-01,\n",
    "        3.30578886e+00, -2.00839239e+00])"
   ]
  },
  {
   "cell_type": "code",
   "execution_count": 303,
   "metadata": {},
   "outputs": [],
   "source": [
    "initial_point=np.array([ 3.14154162e+00,  5.72623979e-04,  2.17575153e-01, -4.43899343e+00,\n",
    "       -2.52326329e-02, -8.52384728e-01,  9.72301363e-01,  2.53065378e-01,\n",
    "       -1.19903100e-01, -3.68589042e-01, -4.41354980e+00,  9.60270708e-01,\n",
    "       -3.34982139e-01,  3.80935810e-01, -8.61384447e-01, -4.69209243e-01,\n",
    "        1.17306594e+00,  3.26564763e-01,  4.72398075e-01, -3.80842210e-01,\n",
    "        4.03939615e-01, -4.44077834e-02, -7.74449354e-01, -2.80660656e+00,\n",
    "       -4.71371794e-02, -3.93666626e-01,  5.00971380e+00, -2.47171242e-01,\n",
    "       -2.80326076e-01, -1.60553159e+00,  2.25608451e-01, -1.15995150e+00,\n",
    "       -8.50900211e-01,  1.14454655e+00,  3.60792093e-01,  6.70696852e-02,\n",
    "       -1.10024490e+00, -1.54467799e-01,  1.65335541e-01,  1.13584008e+00,\n",
    "       -4.67075197e-01,  4.10233323e-01,  4.18324225e-01, -2.91362996e-01,\n",
    "       -2.09179246e-01,  3.83636545e-02, -3.83597141e-02,  4.95250596e-01,\n",
    "        3.30578886e+00, -2.00839239e+00])"
   ]
  },
  {
   "cell_type": "code",
   "execution_count": 321,
   "metadata": {},
   "outputs": [],
   "source": [
    "#Input parameters for VQD\n",
    "estimator = Estimator()\n",
    "sampler = Sampler()\n",
    "fidelity = ComputeUncompute(sampler)\n",
    "\n",
    "iterations = [500 for i in range(num_eigs)]\n",
    "#iterations= [5,500]\n",
    "optimizer = [SLSQP(maxiter=itr) for itr in iterations] #SLSQP,COBYLA \n",
    "ansatz = qc_tot2\n",
    "betas = [20,]*(num_eigs-1)#[4,0.5]#[5,]*(num_eigs-1)   #***default value computed as the mean square sum of the coefficients of the observable.\n",
    "val_init = np.pi/4\n",
    "\n",
    "#initial_point=[val_init*(2*np.random.rand(ansatz.num_parameters)-1.0) for kkk in range(num_eigs)]\n",
    "initial_point=val_init*(2*np.random.rand(ansatz.num_parameters)-1.0) \n",
    "\n",
    "aux_operators =[class_H_oprt.hamiltonian_mag_pauli,] if ngauge else None\n",
    "\n",
    "Hamiltonian_Pauli_tot_vqd = class_H_oprt.get_hamiltonian(g_var=g, m_var=m, omega=omega,fact_b_op=fact_b_op,fact_e_op=fact_b_op,lambd=0)"
   ]
  },
  {
   "cell_type": "code",
   "execution_count": 322,
   "metadata": {},
   "outputs": [],
   "source": [
    "#initial_point = [np.array(list(result.optimal_parameters[0].values())),val_init*(2*np.random.rand(ansatz.num_parameters)-1.0) ]"
   ]
  },
  {
   "cell_type": "code",
   "execution_count": 323,
   "metadata": {},
   "outputs": [
    {
     "name": "stdout",
     "output_type": "stream",
     "text": [
      "spectrum ED: [-6.12304375 -0.09129724]\n"
     ]
    }
   ],
   "source": [
    "#ED\n",
    "import scipy.sparse as sp\n",
    "Hamiltonian_Pauli_tot = class_H_oprt.get_hamiltonian(g_var=g, m_var=m, omega=omega,fact_b_op=fact_b_op,fact_e_op=fact_b_op,lambd=lambd)\n",
    "#memory sparse matrix\n",
    "#print((Hamiltonian_Pauli_tot.data.nbytes + Hamiltonian_Pauli_tot.indptr.nbytes + Hamiltonian_Pauli_tot.indices.nbytes)/1000**3,'Gb')\n",
    "if encoding=='gray' and not sparse_pauli:\n",
    "    Hamiltonian_Pauli_tot = Hamiltonian_Pauli_tot.to_matrix(sparse=True)\n",
    "    if ngauge:\n",
    "        h_b_sparse = class_H_oprt.hamiltonian_mag_pauli.to_matrix(sparse=True) #plaquette\n",
    "    else:\n",
    "        h_b_sparse = 0 \n",
    "elif encoding=='ed':\n",
    "    Hamiltonian_Pauli_tot = sp.csr_matrix(Hamiltonian_Pauli_tot)\n",
    "    if ngauge:\n",
    "        h_b_sparse =sp.csr_matrix(class_H_oprt.hamiltonian_mag_pauli)\n",
    "    else:\n",
    "        h_b_sparse =0\n",
    "\n",
    "#** Exact diagonalisation\n",
    "spectrum, eigenvectors_matrix =primme.eigsh(Hamiltonian_Pauli_tot,k=num_eigs,which=\"SA\")#,ncv = 30)\n",
    "#spectrum\n",
    "idx = spectrum.argsort() \n",
    "spectrum = spectrum[idx]\n",
    "eigenvectors_matrix = eigenvectors_matrix[:,idx]\n",
    "ed_val = []\n",
    "for kk in range(num_eigs):\n",
    "    ed_val.append(dict([(str(np.binary_repr(i, width = (ngauge*n_qubits+n_qubits_f))),np.abs(eigenvectors_matrix[:,kk][i])**2) for i in range(2**(ngauge*n_qubits+n_qubits_f)) if np.abs(eigenvectors_matrix[:,kk][i])**2>1e-10]))\n",
    "\n",
    "eig0cj = sp.csr_matrix(eigenvectors_matrix[:,0]).transpose().conjugate()\n",
    "eig0= sp.csr_matrix(eigenvectors_matrix[:,0])\n",
    "if ngauge:\n",
    "    plaq = (eig0*h_b_sparse*eig0cj/len(latt.plaq_list) ).toarray()[0][0].real\n",
    "\n",
    "print('spectrum ED:',spectrum)"
   ]
  },
  {
   "cell_type": "code",
   "execution_count": 324,
   "metadata": {},
   "outputs": [
    {
     "name": "stdout",
     "output_type": "stream",
     "text": [
      "entropy E_0\n",
      "entropy E_1\n",
      "circuits entropy\n"
     ]
    },
    {
     "data": {
      "text/plain": [
       "<matplotlib.legend.Legend at 0x7fdcd265fdc0>"
      ]
     },
     "execution_count": 324,
     "metadata": {},
     "output_type": "execute_result"
    },
    {
     "data": {
      "image/png": "[encoded data removed]",
      "text/plain": [
       "<Figure size 432x288 with 1 Axes>"
      ]
     },
     "metadata": {
      "needs_background": "light"
     },
     "output_type": "display_data"
    }
   ],
   "source": [
    "#****Entropy ED: between the gauge fields only (not internal qubits)\n",
    "n_qubits_tot = ngauge*n_qubits+n_qubits_f\n",
    "ntot_rev = list(range(n_qubits_tot))[::-1]\n",
    "\n",
    "S_ed_list = []\n",
    "for k in range(num_eigs):\n",
    "    print(f'entropy E_{k}')\n",
    "    s_tmp = []\n",
    "    for i in range(ngauge-1):\n",
    "        S_ed = entropy(qinf.partial_trace(DensityMatrix(eigenvectors_matrix[:,k]), ntot_rev[:(i+1)*n_qubits][::-1]))#list(range(0,(i+1)*n_qubits))))\n",
    "        #print('A=',list(range(0,(i+1)*n_qubits)),'S=',S_ed)#'B=',list(range((i+1)*n_qubits,ngauge*n_qubits)),\n",
    "        s_tmp.append(S_ed)\n",
    "    if ngauge:\n",
    "        start_f = ngauge*n_qubits\n",
    "    else:\n",
    "        start_f = 1\n",
    "    for i in range(start_f,n_qubits_tot):\n",
    "        S_ed = entropy(qinf.partial_trace(DensityMatrix(eigenvectors_matrix[:,k]),ntot_rev[:i][::-1]))# list(range(i))))\n",
    "        #print('A=',list(range(i)),'S=',S_ed)#'B=',list(range((i+1)*n_qubits,ngauge*n_qubits)),\n",
    "        s_tmp.append(S_ed)\n",
    "\n",
    "    S_ed_list.append(s_tmp)\n",
    "print('circuits entropy')\n",
    "#circuit, tried with some values of thetas\n",
    "# circ = qc_tot2\n",
    "# for i in range(ngauge-1):\n",
    "#     print('A=',list(range(0,(i+1)*n_qubits)),'B=',list(range((i+1)*n_qubits,ngauge*n_qubits)),'S=',\n",
    "#             [np.round(entropy(qinf.partial_trace(DensityMatrix(circ.bind_parameters([np.pi/p]*circ.num_parameters )), list(range(0,(i+1)*n_qubits)))),5) for p in [0.25,0.5,1,2,4]])\n",
    "\n",
    "from itertools import accumulate\n",
    "custom_labels = ['g']*ngauge+['f']*(n_qubits_f-1)\n",
    "custom_labels = [''.join(custom_labels[:i+1]) for i, _ in enumerate(accumulate(custom_labels))]\n",
    "x_values = list(range(ngauge+n_qubits_f-1))\n",
    "[plt.plot(val,marker='o',label=f'E_{j}') for j,val in enumerate(S_ed_list)]\n",
    "plt.xticks(x_values, custom_labels)\n",
    "plt.ylabel('entropy')\n",
    "plt.xlabel('g=gauge field, f=fermion')\n",
    "plt.legend()"
   ]
  },
  {
   "cell_type": "code",
   "execution_count": 326,
   "metadata": {},
   "outputs": [
    {
     "name": "stdout",
     "output_type": "stream",
     "text": [
      "eig: 2/2 -> its   25/1051 \r"
     ]
    }
   ],
   "source": [
    "from qiskit.algorithms.eigensolvers import VQD\n",
    "\n",
    "#callback function\n",
    "E_data = [[] for k in range(num_eigs)]\n",
    "Fidelity = [[] for k in range(num_eigs)]\n",
    "def callback(eval_count, parameters, mean, meta, step):\n",
    "    stdout.write(\"eig: %d/%d -> its %4d/%d \\r\"%(step,num_eigs,eval_count,2*iterations[step-1]+51)) # assuming SPSA\n",
    "    stdout.flush()\n",
    "\n",
    "    #fidelity\n",
    "    vqd_states = [ansatz.bind_parameters(parameters) for i in range(num_eigs)]\n",
    "    vqd_fid_states =[qinf.Statevector.from_instruction(i) for i in vqd_states]\n",
    "    ed_fid_states =[Statevector(eigenvectors_matrix[:,i]) for i in range(num_eigs)]\n",
    "    Fidelity[step-1].append([qinf.state_fidelity(vqd,ed) for vqd,ed in zip(vqd_fid_states,ed_fid_states)])\n",
    "\n",
    "    #energy\n",
    "    E_data[step-1].append([len(E_data[step-1]),mean,meta])\n",
    "\n",
    "#Perform VQD for Hamiltonian and plaquette operator\n",
    "vqd = VQD(estimator, fidelity, ansatz, optimizer, k=num_eigs, betas=betas,initial_point=initial_point,  callback=callback)\n",
    "result = vqd.compute_eigenvalues(operator = Hamiltonian_Pauli_tot_vqd,aux_operators = aux_operators)# Hamiltonian + auxiliary operator\n",
    "vqd_values = result.eigenvalues\n",
    "\n",
    "#eigenvectors\n",
    "vqd2_eigenstates = []\n",
    "for i in range(num_eigs):\n",
    "    tmp = result.optimal_circuits[i].copy()\n",
    "    \n",
    "    tmp.measure_all()\n",
    "    opt_pt =list(result.optimal_parameters[i].values())\n",
    "    res = sampler.run(tmp, opt_pt).result() \n",
    "    \n",
    "    vqd2_eigenstates.append({x:round(y,6) for x,y in res.quasi_dists[0].binary_probabilities().items() if y>0.0001})\n",
    "    tmp.remove_final_measurements()\n",
    "\n",
    "if ngauge:\n",
    "    plaq_vqd = np.array(result.aux_operators_evaluated[0])[:,0][0]/len(latt.plaq_list)"
   ]
  },
  {
   "cell_type": "code",
   "execution_count": 327,
   "metadata": {},
   "outputs": [
    {
     "name": "stdout",
     "output_type": "stream",
     "text": [
      "E_i ED vs VQD test:1D_4mbasisFalse puregaugeFalse g5 pbcFalse l1_factE1_factB1_m3_Omega1 nlayers1 iterations[500, 500] optimizerSLSQP\n",
      "E_0(ED)= -6.12304375\n",
      "E_0(VQD)= -5.999999954827834\n",
      "E_1(ED)= -0.09129724\n",
      "E_1(VQD)= 3.796795282653576e-08\n",
      "\n",
      " Plaq. ED: 0.0008018049316592887 Plaq. VQD: nan \n",
      "\n",
      "Fidelity (|psi_VQDXpsi_ED|^2):\n",
      "E_0: 0.9801680842944613\n",
      "E_1: 0.038223703197391164\n",
      "Check if in VQD sol. there are unphysical states: Gauge fields: ['10'] Fermions: only zero charge are considered physical\n",
      "E_0 all physical states reached fermions: OK!\n",
      "E_1 all physical states reached fermions: OK!\n"
     ]
    }
   ],
   "source": [
    "\n",
    "\n",
    "print(f'E_i ED vs VQD test:{latt.dims}D_'+'x'.join(map(str,latt.n_sites))+f'mbasis{magnetic_basis} puregauge{puregauge} g{g} pbc{pbc} l{l}_factE{fact_e_op}_factB{fact_b_op}_m{m}_Omega{omega} nlayers{nlayers} iterations{iterations} optimizer'+\n",
    "[i for i in ['NFT','SLSQP','COBYLA','ADAM','SPSA'] if i in str(optimizer[0])][0])\n",
    "\n",
    "#** Print results\n",
    "for kk,evalu in enumerate(spectrum):\n",
    "        if evalu<900:# only physical states, 1000 corresponds to factor of penalty term\n",
    "            print(f'E_{kk}(ED)=',round(evalu,8))#,[(str(np.binary_repr(i, width = (ngauge*n_qubits))),round(np.abs(eigenvectors_matrix[:,kk][i])**2,6)) for i in range(2**(ngauge*n_qubits)) if np.abs(eigenvectors_matrix[:,kk][i])**2>1e-4])\n",
    "            print(f'E_{kk}(VQD)=',vqd_values.real[kk])#,vqd2_eigenstates[kk])\n",
    "\n",
    "#** Plaquette operator\n",
    "print('\\n','Plaq. ED:',plaq,'Plaq. VQD:',plaq_vqd.real,'\\n')\n",
    "#** Fidelity final\n",
    "fid=fidelity_func(result,eigenvectors_matrix,num_eigs)\n",
    "                   \n",
    "\n",
    "print('Fidelity (|psi_VQDXpsi_ED|^2):')\n",
    "[print(f'E_{i}:',fd) for i,fd in enumerate(fid)]\n",
    "\n",
    "\n",
    "#**Check if there are unphysical states\n",
    "gray_unph = []\n",
    "for i in range(2 * l + 1, 2**int(np.ceil(np.log2(2 * l+ 1)))):\n",
    "    gray_decimal = i ^ (i >> 1)\n",
    "    gray_unph.append(\"{0:0{1}b}\".format(gray_decimal,int(np.ceil(np.log2(2 * l+ 1)))))  \n",
    "\n",
    "ferm_q0 = [''.join(i) for i in permutations(['0','1']*(n_qubits//2),n_qubits)]\n",
    "\n",
    "print('Check if in VQD sol. there are unphysical states: Gauge fields:',gray_unph,'Fermions: only zero charge are considered physical')\n",
    "for i in range(num_eigs):\n",
    "    if ngauge:\n",
    "        for vqd_res in [string[-(ngauge*n_qubits):][i:i+int(np.ceil(np.log2(2 * l+ 1)))] for string in vqd2_eigenstates[i].keys() for i in range(0, len(string[-(ngauge*n_qubits):]), int(np.ceil(np.log2(2 * l+ 1))))]:\n",
    "            if vqd_res in gray_unph:\n",
    "                print('unphysical state reached for gauge fields')\n",
    "                break\n",
    "        else:   \n",
    "            print(f'E_{i} all physical states reached gauge fields: OK!')\n",
    "    if n_qubits_f:\n",
    "        for vqd_res in [string[:n_qubits_f] for string in vqd2_eigenstates[i].keys() ]:\n",
    "\n",
    "            if vqd_res in ferm_q0:\n",
    "                print('unphysical state reached for fermions')\n",
    "                break\n",
    "        else:   \n",
    "            print(f'E_{i} all physical states reached fermions: OK!')\n"
   ]
  },
  {
   "cell_type": "code",
   "execution_count": 328,
   "metadata": {},
   "outputs": [
    {
     "data": {
      "image/png": "[encoded data removed]",
      "text/plain": [
       "<Figure size 1080x504 with 4 Axes>"
      ]
     },
     "metadata": {
      "needs_background": "light"
     },
     "output_type": "display_data"
    }
   ],
   "source": [
    "fig,axes = plt.subplots(num_eigs,2,figsize=(15,7))\n",
    "\n",
    "for k in range(num_eigs):\n",
    "    #Energy\n",
    "    axes[k][0].plot([i[0] for i in E_data[k]],[i[1] for i in E_data[k]],label=f'E_{k} VQD')\n",
    "    axes[k][0].hlines(spectrum[k],0,E_data[k][-1][0],linestyles='dashed',color='black',label=f'E_{k} ED')\n",
    "\n",
    "    #Fidelity\n",
    "    axes[k][1].plot([i[0] for i in E_data[k]],[i[k] for i in Fidelity[k]],label=f'Fid E_{k}',color='green')\n",
    "    #fidelity max value 1 and min 0\n",
    "    axes[k][1].hlines(1,0,E_data[k][-1][0],linestyles='dashed',color='gray')\n",
    "    axes[k][1].hlines(0,0,E_data[k][-1][0],linestyles='dashed',color='gray')\n",
    "\n",
    "    axes[k][0].set_ylabel('Energy')\n",
    "    axes[k][1].set_ylabel('Fidelity')\n",
    "\n",
    "    for i in range(2):\n",
    "        axes[k][i].set_xlabel('Iterations')\n",
    "        axes[k][i].legend()\n",
    "\n",
    "#fig.savefig('ansatz_tests/'+f'Energy_Fidelity_ED_vs_VQD_test:{latt.dims}D_'+'x'.join(map(str,latt.n_sites))+f'mbasis{magnetic_basis}_puregauge{puregauge}_g{g}_pbc{pbc}_l{l}_nlayers{nlayers}_iterations{iterations}.png')"
   ]
  },
  {
   "attachments": {},
   "cell_type": "markdown",
   "metadata": {},
   "source": [
    "##### Histograms"
   ]
  },
  {
   "cell_type": "code",
   "execution_count": 267,
   "metadata": {},
   "outputs": [
    {
     "data": {
      "image/png": "[encoded data removed]",
      "text/plain": [
       "<Figure size 720x360 with 1 Axes>"
      ]
     },
     "execution_count": 267,
     "metadata": {},
     "output_type": "execute_result"
    }
   ],
   "source": [
    "from qiskit.visualization import plot_histogram\n",
    "plot_histogram([ed_val[0],vqd2_eigenstates[0]], figsize=(10,5),legend=['ED','VQD'] ,bar_labels=False,\n",
    "               title=f'E_0 ED vs VQD test:{latt.dims}D_'+'x'.join(map(str,latt.n_sites))+f'mbasis{magnetic_basis} puregauge{puregauge} g{g} pbc{pbc} l{l} nlayers{nlayers} iterations{iterations}')\n",
    "               #,filename='ansatz_tests/'+f'E_0_ED_vs_VQD_test:{latt.dims}D_'+'x'.join(map(str,latt.n_sites))+f'mbasis{magnetic_basis}_puregauge{puregauge}_g{g}_pbc{pbc}_l{l}_nlayers{nlayers}_iterations{iterations}')\n"
   ]
  },
  {
   "cell_type": "code",
   "execution_count": 128,
   "metadata": {},
   "outputs": [
    {
     "data": {
      "image/png": "[encoded data removed]",
      "text/plain": [
       "<Figure size 720x360 with 1 Axes>"
      ]
     },
     "execution_count": 128,
     "metadata": {},
     "output_type": "execute_result"
    }
   ],
   "source": [
    "plot_histogram([ed_val[1],vqd2_eigenstates[1]], figsize=(10,5),legend=['ED','VQD'] ,bar_labels=False,\n",
    "               title=f'E_1 ED vs VQD test:{latt.dims}D_'+'x'.join(map(str,latt.n_sites))+f'mbasis{magnetic_basis} puregauge{puregauge} g{g} pbc{pbc} l{l} nlayers{nlayers} iterations{iterations}')\n",
    "               #,filename='ansatz_tests/'+f'E_1_ED_vs_VQD_test:{latt.dims}D_'+'x'.join(map(str,latt.n_sites))+f'mbasis{magnetic_basis}_puregauge{puregauge}_g{g}_pbc{pbc}_l{l}_nlayers{nlayers}_iterations{iterations}')"
   ]
  },
  {
   "cell_type": "code",
   "execution_count": null,
   "metadata": {},
   "outputs": [],
   "source": []
  }
 ],
 "metadata": {
  "kernelspec": {
   "display_name": "qiskit",
   "language": "python",
   "name": "python3"
  },
  "language_info": {
   "codemirror_mode": {
    "name": "ipython",
    "version": 3
   },
   "file_extension": ".py",
   "mimetype": "text/x-python",
   "name": "python",
   "nbconvert_exporter": "python",
   "pygments_lexer": "ipython3",
   "version": "3.9.6"
  },
  "vscode": {
   "interpreter": {
    "hash": "9732f19cd5dfd89c376a93c0ebf365daafb0a064118a63241088cb5e478d8ce2"
   }
  }
 },
 "nbformat": 4,
 "nbformat_minor": 2
}
