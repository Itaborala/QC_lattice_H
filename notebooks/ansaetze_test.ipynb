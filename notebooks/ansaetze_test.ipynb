{
 "cells": [
  {
   "attachments": {},
   "cell_type": "markdown",
   "metadata": {},
   "source": [
    "# Test of class Hamiltonian_QED"
   ]
  },
  {
   "cell_type": "code",
   "execution_count": 1,
   "metadata": {},
   "outputs": [],
   "source": [
    "import qiskit"
   ]
  },
  {
   "cell_type": "code",
   "execution_count": 2,
   "metadata": {},
   "outputs": [
    {
     "data": {
      "text/plain": [
       "'0.24.1'"
      ]
     },
     "execution_count": 2,
     "metadata": {},
     "output_type": "execute_result"
    }
   ],
   "source": [
    "qiskit.__version__"
   ]
  },
  {
   "cell_type": "code",
   "execution_count": 3,
   "metadata": {},
   "outputs": [],
   "source": [
    "%load_ext autoreload\n",
    "%autoreload 2"
   ]
  },
  {
   "cell_type": "code",
   "execution_count": 4,
   "metadata": {},
   "outputs": [],
   "source": [
    "from scipy.sparse.linalg import eigsh\n",
    "from qiskit.quantum_info import Statevector\n",
    "import numpy as np\n",
    "import matplotlib.pyplot as plt\n",
    "import sys\n",
    "sys.path.append(\"../\") # go to parent dir\n",
    "from itertools import permutations"
   ]
  },
  {
   "cell_type": "code",
   "execution_count": 5,
   "metadata": {},
   "outputs": [
    {
     "name": "stderr",
     "output_type": "stream",
     "text": [
      "/var/folders/08/fx8gnyrx18jggry6_s4cbtz40000gn/T/ipykernel_78335/3502893271.py:3: DeprecationWarning: Please use `aslinearoperator` from the `scipy.sparse.linalg` namespace, the `scipy.sparse.linalg.interface` namespace is deprecated.\n",
      "  import primme\n"
     ]
    }
   ],
   "source": [
    "from Hamiltonian_QED import HamiltonianQED\n",
    "from HC_Lattice import HCLattice\n",
    "import primme"
   ]
  },
  {
   "attachments": {},
   "cell_type": "markdown",
   "metadata": {},
   "source": [
    "#### Hamiltonian"
   ]
  },
  {
   "cell_type": "code",
   "execution_count": 404,
   "metadata": {},
   "outputs": [],
   "source": [
    "#class input parameters:\n",
    "n_sites = [2,3,]#how many sites for every dimension\n",
    "g=5\n",
    "fact_e_op = 1\n",
    "fact_b_op = 1\n",
    "m=3\n",
    "omega=1\n",
    "l=1\n",
    "L=2\n",
    "rotors = False\n",
    "lambd = 1000\n",
    "encoding = 'gray' ##'ed'#\n",
    "magnetic_basis=False\n",
    "pbc=False\n",
    "puregauge = True \n",
    "static_charges_values =None#{(0,0):1,(1,0):-1}#TODO: no conditions applied, like charge conservation, etc. For conditions see func_qstatic_dist\n",
    "display_hamiltonian=False\n",
    "e_op_out_plus=False #if E out of site n has plus sign \n",
    "sparse_pauli =False\n",
    "#exact diagonalisation parameters:\n",
    "threshold = 1e-12\n",
    "num_eigs = 2"
   ]
  },
  {
   "cell_type": "code",
   "execution_count": 405,
   "metadata": {},
   "outputs": [],
   "source": [
    "latt = HCLattice(n_sites,pbc=pbc)\n"
   ]
  },
  {
   "cell_type": "code",
   "execution_count": 406,
   "metadata": {},
   "outputs": [
    {
     "data": {
      "image/png": "[encoded data removed]",
      "text/plain": [
       "<Figure size 576x432 with 1 Axes>"
      ]
     },
     "metadata": {},
     "output_type": "display_data"
    }
   ],
   "source": [
    "#TODO: in this case no conditions applied\n",
    "latt.draw_graph_func(gauss_law_fig=False,static_charges=static_charges_values)\n",
    "#only dynamical fields after Gauss law applied\n",
    "#latt.draw_graph_func(gauss_law_fig=True,e_op_free=class_H.e_op_free)#,savefig_dir='.')"
   ]
  },
  {
   "cell_type": "code",
   "execution_count": 407,
   "metadata": {},
   "outputs": [],
   "source": [
    "#latt.func_qstatic_dist()#ch_val=1)\n",
    "#[latt.draw_graph_func(gauss_law_fig=False,static_charges=st ) for st in latt.distances_coord]#,savefig_dir='.')"
   ]
  },
  {
   "cell_type": "code",
   "execution_count": 408,
   "metadata": {},
   "outputs": [
    {
     "name": "stdout",
     "output_type": "stream",
     "text": [
      "HamiltonianQED: Initializing...\n",
      "> Gauss law equations solved\n",
      "> e_op_free and u_op_free built\n",
      "> Pauli strings built\n",
      ">> Gauss law applied and Hamiltonian built.  Execution time: 1.964468002319336 seconds\n",
      ">> Suppression term built.  Execution time: 0.0015897750854492188 seconds\n"
     ]
    }
   ],
   "source": [
    "class_H = HamiltonianQED(\n",
    "                        latt,\n",
    "                        n_sites,\n",
    "                        l,\n",
    "                        ll=L,\n",
    "                        encoding = encoding,\n",
    "                        rotors=rotors,\n",
    "                        magnetic_basis=magnetic_basis,\n",
    "                        pbc=pbc,\n",
    "                        puregauge=puregauge,\n",
    "                        static_charges_values=static_charges_values,\n",
    "                        e_op_out_plus = e_op_out_plus,\n",
    "                        display_hamiltonian=display_hamiltonian,\n",
    "                        sparse_pauli=sparse_pauli)"
   ]
  },
  {
   "attachments": {},
   "cell_type": "markdown",
   "metadata": {},
   "source": [
    "##### Quantum ansatz and test"
   ]
  },
  {
   "cell_type": "code",
   "execution_count": 6,
   "metadata": {},
   "outputs": [
    {
     "name": "stdout",
     "output_type": "stream",
     "text": [
      "unphys stases for l= 1 : 1\n",
      "unphys stases for l= 2 : 3\n",
      "unphys stases for l= 3 : 1\n",
      "unphys stases for l= 4 : 7\n",
      "unphys stases for l= 5 : 5\n",
      "unphys stases for l= 6 : 3\n",
      "unphys stases for l= 7 : 1\n",
      "unphys stases for l= 8 : 15\n",
      "unphys stases for l= 9 : 13\n",
      "unphys stases for l= 10 : 11\n",
      "unphys stases for l= 11 : 9\n",
      "unphys stases for l= 12 : 7\n",
      "unphys stases for l= 13 : 5\n",
      "unphys stases for l= 14 : 3\n",
      "unphys stases for l= 15 : 1\n"
     ]
    }
   ],
   "source": [
    "for l in range(1,16):\n",
    "    print('unphys stases for l=',l,':',2**int(np.ceil(np.log2(2 * l+ 1)))-(2 * l + 1))"
   ]
  },
  {
   "cell_type": "code",
   "execution_count": 7,
   "metadata": {},
   "outputs": [
    {
     "name": "stdout",
     "output_type": "stream",
     "text": [
      "unphys stases for l= 3 : 1\n",
      "000\n",
      "001\n",
      "011\n",
      "010\n",
      "110\n",
      "111\n",
      "101\n"
     ]
    }
   ],
   "source": [
    "l=3\n",
    "print('unphys stases for l=',l,':',2**int(np.ceil(np.log2(2 * l+ 1)))-(2 * l + 1))\n",
    "for i in range(0, 2 * l + 1):\n",
    "    gray_decimal = i ^ (i >> 1)\n",
    "    print( \"{0:0{1}b}\".format(gray_decimal,int(np.ceil(np.log2(2 * l+ 1)))))"
   ]
  },
  {
   "cell_type": "code",
   "execution_count": 8,
   "metadata": {},
   "outputs": [
    {
     "name": "stdout",
     "output_type": "stream",
     "text": [
      "100\n"
     ]
    }
   ],
   "source": [
    "#unphys states\n",
    "for i in range(2 * l + 1, 2**int(np.ceil(np.log2(2 * l+ 1)))):\n",
    "    gray_decimal = i ^ (i >> 1)\n",
    "    print( \"{0:0{1}b}\".format(gray_decimal,int(np.ceil(np.log2(2 * l+ 1)))))"
   ]
  },
  {
   "cell_type": "code",
   "execution_count": 9,
   "metadata": {},
   "outputs": [
    {
     "name": "stdout",
     "output_type": "stream",
     "text": [
      "000\n",
      "001\n",
      "011\n",
      "010\n",
      "110\n",
      "111\n",
      "101\n",
      "100\n"
     ]
    }
   ],
   "source": [
    "\n",
    "for i in range(0, 2**int(np.ceil(np.log2(2 * l+ 1)))):\n",
    "    gray_decimal = i ^ (i >> 1)\n",
    "    print( \"{0:0{1}b}\".format(gray_decimal,int(np.ceil(np.log2(2 * l+ 1)))))"
   ]
  },
  {
   "cell_type": "code",
   "execution_count": 10,
   "metadata": {},
   "outputs": [],
   "source": [
    "from qiskit import QuantumCircuit, QuantumRegister,ClassicalRegister\n",
    "from qiskit.quantum_info import Statevector\n",
    "from qiskit.visualization import plot_histogram"
   ]
  },
  {
   "cell_type": "code",
   "execution_count": 11,
   "metadata": {},
   "outputs": [],
   "source": [
    "l=1"
   ]
  },
  {
   "cell_type": "code",
   "execution_count": 12,
   "metadata": {},
   "outputs": [
    {
     "data": {
      "image/png": "[encoded data removed]",
      "text/plain": [
       "<Figure size 206.852x144.48 with 1 Axes>"
      ]
     },
     "execution_count": 12,
     "metadata": {},
     "output_type": "execute_result"
    }
   ],
   "source": [
    "from qiskit.circuit import Parameter\n",
    "\n",
    "\n",
    "def gray_code_lim(l,theta=None):\n",
    "    \"\"\"Return Gray code circuit for gauge field and truncation l=1,3,7,15. i.e. only one state is excluded.\"\"\"\n",
    "    if l not in [1,2,3,6,7,14,15]:\n",
    "        raise ValueError('l must be 1,2,3,6,7,14,15')\n",
    "    \n",
    "    n_qubits =int(np.ceil(np.log2(2 * l+ 1)))\n",
    "    qc = QuantumCircuit(n_qubits)\n",
    "    params = lambda i: Parameter(f'theta_{i}')\n",
    "\n",
    "    if theta is None:\n",
    "        t=0\n",
    "    else:\n",
    "        t=theta\n",
    "\n",
    "    #First layer of ry gates\n",
    "    for i in range(n_qubits-1):\n",
    "        qc.ry(params(t),i)\n",
    "        t+=1\n",
    "        \n",
    "    if l==2:\n",
    "        qc.x(0)\n",
    "        qc.mcry(params(t),list(range(n_qubits-1)),n_qubits-1,use_basis_gates=True)\n",
    "        qc.x(0)\n",
    "        t+=1\n",
    "\n",
    "    else:\n",
    "        #1st cry gate \n",
    "        qc.cry(params(t),n_qubits-2,n_qubits-1)\n",
    "        t+=1\n",
    "\n",
    "        if l==6:\n",
    "            qc.x(0)\n",
    "            qc.x(2)\n",
    "            qc.mcry(params(t),list(range(n_qubits-1)),n_qubits-1,use_basis_gates=True)\n",
    "            qc.x(0)\n",
    "            qc.x(2)\n",
    "            t+=1\n",
    "\n",
    "        #2nd cry gate\n",
    "        if l>1 and l!=6:\n",
    "            qc.cry(params(t),n_qubits-3,n_qubits-1)\n",
    "            t+=1\n",
    "\n",
    "            if l==14:#TODO see why qiskit error \n",
    "                qc.x(0)\n",
    "                qc.x(2)\n",
    "                qc.x(3)\n",
    "                #qc.mcry(params(t),list(range(n_qubits-1)),n_qubits-1,use_basis_gates=True)\n",
    "                qc.x(0)\n",
    "                qc.x(2)\n",
    "                qc.x(3)\n",
    "                t+=1\n",
    "\n",
    "            #layers of cry gates if l>3\n",
    "            if l>3 and l!=14:\n",
    "                for i in range(1,n_qubits-2)[::-1]:\n",
    "                    qc.cry(params(t),i-1,i)\n",
    "                    t+=1\n",
    "\n",
    "    par_list = [params(i) for i in range(t)]\n",
    "\n",
    "    return qc,par_list\n",
    "\n",
    "qc_test,par_list = gray_code_lim(l)\n",
    "\n",
    "qc_test.draw('mpl')#,filename='gray_code_lim_l1.png')"
   ]
  },
  {
   "cell_type": "code",
   "execution_count": 13,
   "metadata": {},
   "outputs": [
    {
     "name": "stdout",
     "output_type": "stream",
     "text": [
      "states reached: ['00', '01', '11'] states unphys: ['10'] states phys: ['00', '01', '11']\n",
      "all physical states reached : OK!\n"
     ]
    }
   ],
   "source": [
    "theta_values_0 = np.linspace(0, np.pi, 4)  # Parameter values\n",
    "#theta_values_0 = [0,np.pi/2,np.pi,3*np.pi/2,2*np.pi]\n",
    "from itertools import product\n",
    "\n",
    "states_reached = []\n",
    "for theta in list(product(theta_values_0, repeat=len(par_list))):\n",
    "    bound_qc =qc_test.bind_parameters(dict(zip(qc_test.parameters,theta)))\n",
    "    result = Statevector(bound_qc).probabilities_dict()\n",
    "\n",
    "\n",
    "    for k in [key for key, value in result.items() if value >1e-16]:#consider nonzero probabilities\n",
    "        if k not in states_reached:\n",
    "            states_reached.append(k)\n",
    "            \n",
    "\n",
    "gray_unph = []\n",
    "for i in range(2 * l + 1, 2**int(np.ceil(np.log2(2 * l+ 1)))):\n",
    "    gray_decimal = i ^ (i >> 1)\n",
    "    gray_unph.append(\"{0:0{1}b}\".format(gray_decimal,int(np.ceil(np.log2(2 * l+ 1)))))  \n",
    "\n",
    "gray_phys = []\n",
    "for i in range(0, 2 * l + 1):\n",
    "    gray_decimal = i ^ (i >> 1)\n",
    "    gray_phys.append(\"{0:0{1}b}\".format(gray_decimal,int(np.ceil(np.log2(2 * l+ 1)))))\n",
    "\n",
    "print('states reached:',states_reached,'states unphys:',gray_unph,'states phys:',gray_phys)\n",
    "if set(states_reached)==set(gray_phys):\n",
    "    print('all physical states reached : OK!')\n",
    "else:\n",
    "    print('not all physical states reached')"
   ]
  },
  {
   "attachments": {},
   "cell_type": "markdown",
   "metadata": {},
   "source": [
    "##### Test composite circuit"
   ]
  },
  {
   "cell_type": "code",
   "execution_count": 409,
   "metadata": {},
   "outputs": [
    {
     "data": {
      "image/png": "[encoded data removed]",
      "text/plain": [
       "<Figure size 267.197x264.88 with 1 Axes>"
      ]
     },
     "execution_count": 409,
     "metadata": {},
     "output_type": "execute_result"
    }
   ],
   "source": [
    "l=1\n",
    "nlayers = 1\n",
    "ngauge = class_H.len_e_op\n",
    "nsites = 0#TODO add fermionic part\n",
    "n_qubits =int(np.ceil(np.log2(2 * l+ 1)))\n",
    "qc_tot = QuantumCircuit(n_qubits*ngauge+nsites)\n",
    "\n",
    "th=0\n",
    "for n in range(nlayers):\n",
    "    #first gauge field\n",
    "    qcc,lst = gray_code_lim(l,theta=th)\n",
    "    qc_tot.compose(qcc,list(range(n_qubits)),inplace=True)\n",
    "\n",
    "    for i in range(1,ngauge):#for the other gauge fields\n",
    "        theta = int(''.join(list(filter(str.isdigit, str(lst[-1])))))\n",
    "        qcc,lst = gray_code_lim(l,theta=theta+1)\n",
    "        qc_tot.compose(qcc,list(range(n_qubits*i,n_qubits*(i+1))),inplace=True)\n",
    "    \n",
    "    th=int(''.join(list(filter(str.isdigit, str(lst[-1])))))+1\n",
    "    qc_tot.barrier()\n",
    "    \n",
    "\n",
    "\n",
    "\n",
    "qc_tot.draw('mpl')#,filename='gray_code_lim_l1.png')"
   ]
  },
  {
   "attachments": {},
   "cell_type": "markdown",
   "metadata": {},
   "source": [
    "#### VQD"
   ]
  },
  {
   "cell_type": "code",
   "execution_count": 410,
   "metadata": {},
   "outputs": [],
   "source": [
    "# import qiskit.quantum_info as qinf\n",
    "\n",
    "# def fidelity_func(myvqd_results2,eigenvectors_matrix,num_eigs):\n",
    "\n",
    "#     \"\"\" Inputs; results from VQD and eigenvector matrix from ED\"\"\"\n",
    "    \n",
    "#     vqd_states = [myvqd_results2.optimal_circuits[i].bind_parameters(myvqd_results2.optimal_parameters[i].values()) for i in range(num_eigs)]\n",
    "\n",
    "#     vqd_fid_states =ListOp([VectorStateFn(qinf.Statevector.from_instruction(i))for i in vqd_states])\n",
    "#     ed_fid_states = ListOp([VectorStateFn(Statevector(np.array(eigenvectors_matrix)[:,i])) for i in range(num_eigs)])\n",
    "\n",
    "#     return [np.abs(fid_ed.adjoint().compose(fid_vqd).reduce().eval())**2 for fid_ed,fid_vqd in zip(ed_fid_states,vqd_fid_states)]"
   ]
  },
  {
   "cell_type": "code",
   "execution_count": 411,
   "metadata": {},
   "outputs": [],
   "source": [
    "from qiskit.primitives import Sampler, Estimator\n",
    "from qiskit.algorithms.state_fidelities import ComputeUncompute\n",
    "from qiskit.quantum_info import SparsePauliOp, Pauli, Operator\n",
    "from sys import stdout\n",
    "estimator = Estimator()\n",
    "sampler = Sampler()\n",
    "fidelity = ComputeUncompute(sampler)\n"
   ]
  },
  {
   "cell_type": "code",
   "execution_count": 421,
   "metadata": {},
   "outputs": [
    {
     "name": "stdout",
     "output_type": "stream",
     "text": [
      "HamiltonianQED: Initializing...\n",
      "> Gauss law equations solved\n",
      "> e_op_free and u_op_free built\n",
      "> Pauli strings built\n",
      ">> Gauss law applied and Hamiltonian built.  Execution time: 1.9177320003509521 seconds\n",
      ">> Suppression term built.  Execution time: 0.001592874526977539 seconds\n"
     ]
    }
   ],
   "source": [
    "from qiskit.algorithms.optimizers import NFT\n",
    "\n",
    "iterations = [1000 for i in range(num_eigs)]\n",
    "optimizer = [NFT(maxiter=itr) for itr in iterations]\n",
    "ansatz = qc_tot\n",
    "betas = [50,]*num_eigs\n",
    "val_init = np.pi/4#0.8\n",
    "\n",
    "#initial_point=[val_init*(2*np.random.rand(ansatz0.num_parameters)-1.0) for kkk in range(num_eigs)]\n",
    "initial_point=val_init*(2*np.random.rand(ansatz.num_parameters)-1.0) \n",
    "\n",
    "class_H = HamiltonianQED(\n",
    "                        latt,\n",
    "                        n_sites,\n",
    "                        l,\n",
    "                        ll=L,\n",
    "                        encoding = encoding,\n",
    "                        rotors=rotors,\n",
    "                        magnetic_basis=magnetic_basis,\n",
    "                        pbc=pbc,\n",
    "                        puregauge=puregauge,\n",
    "                        static_charges_values=static_charges_values,\n",
    "                        e_op_out_plus = e_op_out_plus,\n",
    "                        display_hamiltonian=display_hamiltonian,\n",
    "                        sparse_pauli=sparse_pauli)\n",
    "Hamiltonian_Pauli_tot = class_H.get_hamiltonian(g_var=g, m_var=m, omega=omega,fact_b_op=fact_b_op,fact_e_op=fact_b_op,lambd=lambd)"
   ]
  },
  {
   "cell_type": "code",
   "execution_count": 422,
   "metadata": {},
   "outputs": [],
   "source": [
    "# counts = []\n",
    "# values = []\n",
    "# steps = []\n",
    "\n",
    "# def callback(eval_count, params, value, meta, step):\n",
    "#     counts.append(eval_count)\n",
    "#     values.append(value)\n",
    "#     steps.append(step)\n",
    "\n",
    "E_data = [[] for k in range(num_eigs)]\n",
    "#Fidelity = [[] for k in range(num_eigs)]\n",
    "def callback(eval_count, parameters, mean, meta, step):\n",
    "    stdout.write(\"eig: %d/%d -> its %4d/%d \\r\"%(step,num_eigs,eval_count,2*iterations[step-1]+51)) # assuming SPSA\n",
    "    stdout.flush()\n",
    "    vqd_states = [ansatz.bind_parameters(parameters) for i in range(num_eigs)]\n",
    "\n",
    "    #vqd_fid_states =ListOp([VectorStateFn(qinf.Statevector.from_instruction(i))for i in vqd_states])\n",
    "    #ed_fid_states = ListOp([VectorStateFn(Statevector(np.array(eigenvectors_matrix)[:,i])) for i in range(num_eigs)])\n",
    "\n",
    "    #Fidelity[step-1].append(np.abs(ed_fid_states[step-1].adjoint().compose(vqd_fid_states[step-1]).reduce().eval())**2)\n",
    "    E_data[step-1].append([len(E_data[step-1]),mean,meta])\n"
   ]
  },
  {
   "cell_type": "code",
   "execution_count": 423,
   "metadata": {},
   "outputs": [
    {
     "name": "stdout",
     "output_type": "stream",
     "text": [
      "eig: 2/2 -> its  100/2051 \r"
     ]
    }
   ],
   "source": [
    "from qiskit.algorithms.eigensolvers import VQD\n",
    "\n",
    "\n",
    "vqd = VQD(estimator, fidelity, ansatz, optimizer, k=num_eigs, betas=betas,initial_point=initial_point,  callback=callback)\n",
    "result = vqd.compute_eigenvalues(operator = Hamiltonian_Pauli_tot)\n",
    "vqd_values = result.eigenvalues\n",
    "\n",
    "vqd2_eigenstates = []\n",
    "for i in range(num_eigs):\n",
    "    tmp = result.optimal_circuits[i].copy()\n",
    "    \n",
    "    tmp.measure_all()\n",
    "    opt_pt =list(result.optimal_parameters[i].values())\n",
    "    res = sampler.run(tmp, opt_pt).result() \n",
    "    \n",
    "    vqd2_eigenstates.append({x:y for x,y in res.quasi_dists[0].binary_probabilities().items() if y>0.01})\n",
    "    tmp.remove_final_measurements()"
   ]
  },
  {
   "cell_type": "code",
   "execution_count": null,
   "metadata": {},
   "outputs": [
    {
     "name": "stdout",
     "output_type": "stream",
     "text": [
      "Spectrum of H with mbasisFalsepuregaugeTrue pbcFalse_g5_l1_factE1_factB1_m3_Omega1, encoding:gray\n",
      "E_0= -3.2e-05 [('0101', 0.9999993600006691)]\n",
      "E_1= 49.999968 [('0001', 0.2499996685228649), ('0100', 0.24999962298733172), ('0111', 0.24999969525569188), ('1101', 0.24999973323902702)]\n",
      "[-3.19999899e-05  2.99996800e+00] [{'0101': 0.9999993600007596}, {'0101': 0.9999993600007596}]\n"
     ]
    }
   ],
   "source": [
    "import scipy.sparse as sp\n",
    "Hamiltonian_Pauli_tot = class_H.get_hamiltonian(g_var=g, m_var=m, omega=omega,fact_b_op=fact_b_op,fact_e_op=fact_b_op,lambd=lambd)\n",
    "#memory sparse matrix\n",
    "#print((Hamiltonian_Pauli_tot.data.nbytes + Hamiltonian_Pauli_tot.indptr.nbytes + Hamiltonian_Pauli_tot.indices.nbytes)/1000**3,'Gb')\n",
    "if encoding=='gray':\n",
    "    Hamiltonian_Pauli_tot = Hamiltonian_Pauli_tot#.to_matrix(sparse=True)\n",
    "    h_b_sparse = class_H.hamiltonian_mag_pauli#.to_matrix(sparse=True) #plaquette\n",
    "    if not sparse_pauli:\n",
    "        Hamiltonian_Pauli_tot = Hamiltonian_Pauli_tot.to_matrix(sparse=True)\n",
    "        h_b_sparse = class_H.hamiltonian_mag_pauli.to_matrix(sparse=True) #plaquette\n",
    "          \n",
    "elif encoding=='ed':\n",
    "    Hamiltonian_Pauli_tot = sp.csr_matrix(Hamiltonian_Pauli_tot)\n",
    "    h_b_sparse =sp.csr_matrix(class_H.hamiltonian_mag_pauli)\n",
    "#spectrum, eigenvectors_matrix = eigsh(Hamiltonian_Pauli_tot,k=num_eigs,which=\"SA\",ncv = 30)#\n",
    "spectrum, eigenvectors_matrix =primme.eigsh(Hamiltonian_Pauli_tot,k=num_eigs,which=\"SA\")#,ncv = 30)\n",
    "#spectrum\n",
    "idx = spectrum.argsort() \n",
    "spectrum = spectrum[idx]\n",
    "eigenvectors_matrix = eigenvectors_matrix[:,idx]\n",
    "print(f'Spectrum of H with mbasis{magnetic_basis}puregauge{puregauge} pbc{pbc}_g{g}_l{l}_factE{fact_e_op}_factB{fact_b_op}_m{m}_Omega{omega}, encoding:'+encoding)\n",
    "eig0cj = sp.csr_matrix(eigenvectors_matrix[:,0]).transpose().conjugate()#.conj().T\n",
    "eig0= sp.csr_matrix(eigenvectors_matrix[:,0])\n",
    "plaq = (eig0*h_b_sparse*eig0cj/len(latt.plaq_list) ).toarray()[0][0].real\n",
    "#plaq = (eig0cj.dot((h_b_sparse).dot(eig0)).real)/len(latt.plaq_list) \n",
    "\n",
    "for kk,evalu in enumerate(spectrum):\n",
    "        if evalu<900:# only physical states, 1000 corresponds to factor of penalty term\n",
    "            print(f'E_{kk}=',round(evalu,8),[(str(np.binary_repr(i, width = (ngauge*n_qubits))),np.abs(eigenvectors_matrix[:,kk][i])**2) for i in range(2**(ngauge*n_qubits)) if np.abs(eigenvectors_matrix[:,kk][i])**2>1e-4])\n",
    "#print(f'plaq={plaq}')\n",
    "                \n",
    "\n",
    "print(vqd_values.real,vqd2_eigenstates)                        \n",
    "                         \n",
    "ed_val = []\n",
    "for kk in range(num_eigs):\n",
    "    ed_val.append(dict([(str(np.binary_repr(i, width = (ngauge*n_qubits))),np.abs(eigenvectors_matrix[:,kk][i])**2) for i in range(2**(ngauge*n_qubits)) if np.abs(eigenvectors_matrix[:,kk][i])**2>1e-4]))\n"
   ]
  },
  {
   "cell_type": "code",
   "execution_count": null,
   "metadata": {},
   "outputs": [
    {
     "data": {
      "image/png": "[encoded data removed]",
      "text/plain": [
       "<Figure size 720x360 with 1 Axes>"
      ]
     },
     "execution_count": 417,
     "metadata": {},
     "output_type": "execute_result"
    }
   ],
   "source": [
    "from qiskit.visualization import plot_histogram\n",
    "plot_histogram([ed_val[0],vqd2_eigenstates[0]], figsize=(10,5),legend=['ED','VQD'] ,bar_labels=False,\n",
    "               title=f'E_0 ED vs VQD test:{latt.dims}D_'+'x'.join(map(str,latt.n_sites))+f'mbasis{magnetic_basis} puregauge{puregauge} g{g} pbc{pbc} l{l} nlayers{nlayers} iterations{iterations}')\n",
    "               #,filename='ansatz_tests/'+f'E_0_ED_vs_VQD_test:{latt.dims}D_'+'x'.join(map(str,latt.n_sites))+f'mbasis{magnetic_basis}_puregauge{puregauge}_g{g}_pbc{pbc}_l{l}_nlayers{nlayers}_iterations{iterations}')\n"
   ]
  },
  {
   "cell_type": "code",
   "execution_count": null,
   "metadata": {},
   "outputs": [
    {
     "data": {
      "image/png": "[encoded data removed]",
      "text/plain": [
       "<Figure size 720x360 with 1 Axes>"
      ]
     },
     "execution_count": 418,
     "metadata": {},
     "output_type": "execute_result"
    }
   ],
   "source": [
    "plot_histogram([ed_val[1],vqd2_eigenstates[1]], figsize=(10,5),legend=['ED','VQD'] ,bar_labels=False,\n",
    "               title=f'E_1 ED vs VQD test:{latt.dims}D_'+'x'.join(map(str,latt.n_sites))+f'mbasis{magnetic_basis} puregauge{puregauge} g{g} pbc{pbc} l{l} nlayers{nlayers} iterations{iterations}')\n",
    "               #,filename='ansatz_tests/'+f'E_1_ED_vs_VQD_test:{latt.dims}D_'+'x'.join(map(str,latt.n_sites))+f'mbasis{magnetic_basis}_puregauge{puregauge}_g{g}_pbc{pbc}_l{l}_nlayers{nlayers}_iterations{iterations}')"
   ]
  },
  {
   "cell_type": "code",
   "execution_count": null,
   "metadata": {},
   "outputs": [
    {
     "data": {
      "text/plain": [
       "[<matplotlib.lines.Line2D at 0x7fec660e8a00>]"
      ]
     },
     "execution_count": 419,
     "metadata": {},
     "output_type": "execute_result"
    },
    {
     "data": {
      "image/png": "[encoded data removed]",
      "text/plain": [
       "<Figure size 936x360 with 1 Axes>"
      ]
     },
     "metadata": {
      "needs_background": "light"
     },
     "output_type": "display_data"
    }
   ],
   "source": [
    "fig=plt.figure(figsize=(15,5))\n",
    "plt.plot(np.array(E_data[0])[:,0],np.array(E_data[0])[:,1])"
   ]
  },
  {
   "cell_type": "code",
   "execution_count": null,
   "metadata": {},
   "outputs": [
    {
     "data": {
      "text/plain": [
       "[<matplotlib.lines.Line2D at 0x7fec44165c40>]"
      ]
     },
     "execution_count": 420,
     "metadata": {},
     "output_type": "execute_result"
    },
    {
     "data": {
      "image/png": "[encoded data removed]",
      "text/plain": [
       "<Figure size 936x360 with 1 Axes>"
      ]
     },
     "metadata": {
      "needs_background": "light"
     },
     "output_type": "display_data"
    }
   ],
   "source": [
    "fig=plt.figure(figsize=(15,5))\n",
    "plt.plot(np.array(E_data[1])[:,0],np.array(E_data[1])[:,1])"
   ]
  },
  {
   "cell_type": "code",
   "execution_count": null,
   "metadata": {},
   "outputs": [],
   "source": []
  }
 ],
 "metadata": {
  "kernelspec": {
   "display_name": "qiskit",
   "language": "python",
   "name": "python3"
  },
  "language_info": {
   "codemirror_mode": {
    "name": "ipython",
    "version": 3
   },
   "file_extension": ".py",
   "mimetype": "text/x-python",
   "name": "python",
   "nbconvert_exporter": "python",
   "pygments_lexer": "ipython3",
   "version": "3.9.6"
  },
  "vscode": {
   "interpreter": {
    "hash": "9732f19cd5dfd89c376a93c0ebf365daafb0a064118a63241088cb5e478d8ce2"
   }
  }
 },
 "nbformat": 4,
 "nbformat_minor": 2
}
