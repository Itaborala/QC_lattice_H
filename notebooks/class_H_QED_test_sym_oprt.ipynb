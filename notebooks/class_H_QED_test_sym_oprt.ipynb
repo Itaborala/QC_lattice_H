{
 "cells": [
  {
   "attachments": {},
   "cell_type": "markdown",
   "metadata": {},
   "source": [
    "# Test of class Hamiltonian_QED"
   ]
  },
  {
   "attachments": {},
   "cell_type": "markdown",
   "metadata": {},
   "source": [
    "\n",
    "\n",
    "This notebook uses the class in 'Hamiltonian_QED_oprt.py' and 'Hamiltonian_QED_sym.py' that builds the Hamiltonian in terms of Pauli matrices.\n"
   ]
  },
  {
   "cell_type": "code",
   "execution_count": 1,
   "metadata": {},
   "outputs": [],
   "source": [
    "import qiskit"
   ]
  },
  {
   "cell_type": "code",
   "execution_count": 2,
   "metadata": {},
   "outputs": [],
   "source": [
    "%load_ext autoreload\n",
    "%autoreload 2"
   ]
  },
  {
   "cell_type": "code",
   "execution_count": 3,
   "metadata": {},
   "outputs": [],
   "source": [
    "from scipy.sparse.linalg import eigsh\n",
    "from qiskit.quantum_info import Statevector\n",
    "import numpy as np\n",
    "import matplotlib.pyplot as plt\n",
    "import sys\n",
    "sys.path.append(\"../\") # go to parent dir\n",
    "from itertools import permutations"
   ]
  },
  {
   "cell_type": "code",
   "execution_count": 4,
   "metadata": {},
   "outputs": [
    {
     "name": "stderr",
     "output_type": "stream",
     "text": [
      "/var/folders/08/fx8gnyrx18jggry6_s4cbtz40000gn/T/ipykernel_81573/3415147788.py:4: DeprecationWarning: Please use `aslinearoperator` from the `scipy.sparse.linalg` namespace, the `scipy.sparse.linalg.interface` namespace is deprecated.\n",
      "  import primme\n"
     ]
    }
   ],
   "source": [
    "from Hamiltonian_QED_sym import HamiltonianQED_sym\n",
    "from Hamiltonian_QED_oprt import HamiltonianQED_oprt\n",
    "from HC_Lattice import HCLattice\n",
    "import primme"
   ]
  },
  {
   "attachments": {},
   "cell_type": "markdown",
   "metadata": {},
   "source": [
    "##### Class Hamilt"
   ]
  },
  {
   "cell_type": "code",
   "execution_count": 5,
   "metadata": {},
   "outputs": [],
   "source": [
    "#class input parameters:\n",
    "n_sites = [2,4]#how many sites for every dimension\n",
    "g=0.5\n",
    "fact_e_op = 1\n",
    "fact_b_op = 1\n",
    "m=3\n",
    "omega=1\n",
    "l=1\n",
    "L=8\n",
    "rotors = False\n",
    "lambd = 1000\n",
    "encoding = 'gray' #'ed'#\n",
    "magnetic_basis=False\n",
    "pbc=False\n",
    "puregauge = True \n",
    "static_charges_values =None#{(0,0):1,(1,0):-1}#TODO: no conditions applied, like charge conservation, etc. For conditions see func_qstatic_dist\n",
    "display_hamiltonian=False\n",
    "e_op_out_plus=False #if E out of site n has plus sign \n",
    "\n",
    "#exact diagonalisation parameters:\n",
    "threshold = 1e-12\n",
    "num_eigs = 3"
   ]
  },
  {
   "cell_type": "code",
   "execution_count": 6,
   "metadata": {},
   "outputs": [],
   "source": [
    "latt = HCLattice(n_sites,pbc=pbc)\n"
   ]
  },
  {
   "cell_type": "code",
   "execution_count": 7,
   "metadata": {},
   "outputs": [
    {
     "data": {
      "image/png": "[encoded data removed]",
      "text/plain": [
       "<Figure size 576x432 with 1 Axes>"
      ]
     },
     "metadata": {},
     "output_type": "display_data"
    }
   ],
   "source": [
    "#TODO: in this case no conditions applied\n",
    "latt.draw_graph_func(gauss_law_fig=False,static_charges=static_charges_values)\n",
    "#only dynamical fields after Gauss law applied\n",
    "#latt.draw_graph_func(gauss_law_fig=True,e_op_free=class_H.e_op_free)#,savefig_dir='.')"
   ]
  },
  {
   "cell_type": "code",
   "execution_count": 8,
   "metadata": {},
   "outputs": [],
   "source": [
    "#latt.func_qstatic_dist()#ch_val=1)\n",
    "#[latt.draw_graph_func(gauss_law_fig=False,static_charges=st ) for st in latt.distances_coord]#,savefig_dir='.')"
   ]
  },
  {
   "cell_type": "code",
   "execution_count": 9,
   "metadata": {},
   "outputs": [
    {
     "name": "stdout",
     "output_type": "stream",
     "text": [
      "HamiltonianQED_sym: Initializing...\n",
      "> Gauss law equations solved\n",
      "> e_op_free and u_op_free built\n",
      ">> Gauss law applied and Hamiltonian built.  Execution time: 0.023750782012939453 seconds\n",
      "HamiltonianQED_oprt: Initializing...\n",
      "> e_op_free and u_op_free built\n",
      "> Pauli strings built\n",
      ">> Hamiltonian built.  Execution time: 0.7107751369476318 seconds\n",
      ">> Suppression term built.  Execution time: 0.004626750946044922 seconds\n"
     ]
    }
   ],
   "source": [
    "hamilt_sym = HamiltonianQED_sym(\n",
    "                        latt,\n",
    "                        n_sites,\n",
    "                        l,\n",
    "                        ll=L,\n",
    "                        encoding = encoding,\n",
    "                        rotors=rotors,\n",
    "                        magnetic_basis=magnetic_basis,\n",
    "                        pbc=pbc,\n",
    "                        puregauge=puregauge,\n",
    "                        static_charges_values=static_charges_values,\n",
    "                        e_op_out_plus = e_op_out_plus,\n",
    "                        display_hamiltonian=display_hamiltonian)\n",
    "\n",
    "class_H_oprt = HamiltonianQED_oprt(\n",
    "                        latt,\n",
    "                        hamilt_sym,\n",
    "                        n_sites,\n",
    "                        l,\n",
    "                        ll=L,\n",
    "                        encoding = encoding,\n",
    "                        rotors=rotors,\n",
    "                        magnetic_basis=magnetic_basis,\n",
    "                        pbc=pbc,\n",
    "                        puregauge=puregauge,\n",
    "                        static_charges_values=static_charges_values,\n",
    "                        e_op_out_plus = e_op_out_plus)"
   ]
  },
  {
   "cell_type": "code",
   "execution_count": 10,
   "metadata": {},
   "outputs": [],
   "source": [
    "def sparse_mem2(sparsem):\n",
    "    \"\"\"Return the memory in GiB of a sparse matrix\"\"\"\n",
    "    return (sparsem.data.nbytes + sparsem.indptr.nbytes + sparsem.indices.nbytes)/1024**3"
   ]
  },
  {
   "attachments": {},
   "cell_type": "markdown",
   "metadata": {},
   "source": [
    "##### ED spectrum"
   ]
  },
  {
   "cell_type": "code",
   "execution_count": 11,
   "metadata": {},
   "outputs": [],
   "source": [
    "import scipy.sparse as sp"
   ]
  },
  {
   "cell_type": "code",
   "execution_count": 12,
   "metadata": {},
   "outputs": [
    {
     "name": "stdout",
     "output_type": "stream",
     "text": [
      "5.36e-06 Gb\n",
      "Spectrum of 2D_2x4H with mbasisFalsepuregaugeTrue pbcFalse_g0.5_l1_L8_factE1_factB1_m3_Omega1, encoding:gray\n",
      "E_0= -7.77257715\n",
      "E_1= -4.84638535\n",
      "E_2= -4.68164043\n",
      "plaq=0.7041063744786762\n"
     ]
    }
   ],
   "source": [
    "Hamiltonian_Pauli_tot = class_H_oprt.get_hamiltonian(g_var=g, m_var=m, omega=omega,fact_b_op=fact_b_op,fact_e_op=fact_b_op,lambd=lambd)\n",
    "#memory sparse matrix\n",
    "print((Hamiltonian_Pauli_tot.data.nbytes + Hamiltonian_Pauli_tot.indptr.nbytes + Hamiltonian_Pauli_tot.indices.nbytes)/1000**3,'Gb')\n",
    "if encoding=='gray':\n",
    "    Hamiltonian_Pauli_tot = Hamiltonian_Pauli_tot#.to_matrix(sparse=True)\n",
    "    h_b_sparse = class_H_oprt.hamiltonian_mag_pauli#.to_matrix(sparse=True) #plaquette\n",
    "elif encoding=='ed':\n",
    "    Hamiltonian_Pauli_tot = sp.csr_matrix(Hamiltonian_Pauli_tot)\n",
    "    h_b_sparse =sp.csr_matrix(class_H_oprt.hamiltonian_mag_pauli)\n",
    "#spectrum, eigenvectors_matrix = eigsh(Hamiltonian_Pauli_tot,k=num_eigs,which=\"SA\",ncv = 30)#\n",
    "spectrum, eigenvectors_matrix =primme.eigsh(Hamiltonian_Pauli_tot,k=num_eigs,which=\"SA\")#,ncv = 30)\n",
    "#spectrum\n",
    "idx = spectrum.argsort() \n",
    "spectrum = spectrum[idx]\n",
    "eigenvectors_matrix = eigenvectors_matrix[:,idx]\n",
    "print(f'Spectrum of {latt.dims}D_'+'x'.join([str(i) for i in n_sites])+f'H with mbasis{magnetic_basis}puregauge{puregauge} pbc{pbc}_g{g}_l{l}_L{L}_factE{fact_e_op}_factB{fact_b_op}_m{m}_Omega{omega}, encoding:'+encoding)\n",
    "for kk,evalu in enumerate(spectrum):\n",
    "        if evalu<900:# only physical states, 1000 corresponds to factor of penalty term\n",
    "                print(f'E_{kk}=',round(evalu,8))\n",
    "\n",
    "if class_H_oprt.len_e_op != 0:\n",
    "    eig0cj = sp.csr_matrix(eigenvectors_matrix[:,0]).transpose().conjugate()#.conj().T\n",
    "    eig0= sp.csr_matrix(eigenvectors_matrix[:,0])\n",
    "    plaq = (eig0*h_b_sparse*eig0cj/len(latt.plaq_list) ).toarray()[0][0].real\n",
    "    #plaq = (eig0cj.dot((h_b_sparse).dot(eig0)).real)/len(latt.plaq_list) \n",
    "    print(f'plaq={plaq}')\n",
    "                \n",
    "                         "
   ]
  },
  {
   "attachments": {},
   "cell_type": "markdown",
   "metadata": {},
   "source": [
    "5.36e-06 Gb\n",
    "Spectrum of 2D_2x4H with mbasisFalsepuregaugeTrue pbcFalse_g0.5_l1_L8_factE1_factB1_m3_Omega1, encoding:gray\n",
    "E_0= -7.77257715\n",
    "E_1= -4.84638535\n",
    "E_2= -4.68164043\n",
    "plaq=0.7041063744787524"
   ]
  },
  {
   "attachments": {},
   "cell_type": "markdown",
   "metadata": {},
   "source": [
    "Spectrum of 2D_2x3H with mbasisTruepuregaugeTrue pbcFalse_g0.1_l1_L8_factE1_factB1_m3_Omega1, encoding:ed\n",
    "E_0= -199.09117537\n",
    "E_1= -192.51972172\n",
    "E_2= -192.24965882\n",
    "plaq=0.999748619699202\n",
    "\n",
    "Spectrum of H with mbasisFalsepuregaugeTrue pbcTrue_g1_l1_factE1_factB1_m3_Omega1_TNFalse, encoding:ed\n",
    "E_0= -1.0066823\n",
    "E_1= -0.26964819\n",
    "plaq=0.4623451128853849\n",
    "\n",
    "\n",
    "Spectrum of H with mbasisFalsepuregaugeFalse pbcTrue_g1_l1_factE1_factB1_m3_Omega1_TNFalse, encoding:ed\n",
    "E_0= -7.30371524\n",
    "E_1= -6.55004296\n",
    "E_2= -6.53959578\n",
    "plaq= 0.45649020277218433"
   ]
  }
 ],
 "metadata": {
  "kernelspec": {
   "display_name": "qiskit",
   "language": "python",
   "name": "python3"
  },
  "language_info": {
   "codemirror_mode": {
    "name": "ipython",
    "version": 3
   },
   "file_extension": ".py",
   "mimetype": "text/x-python",
   "name": "python",
   "nbconvert_exporter": "python",
   "pygments_lexer": "ipython3",
   "version": "3.9.6"
  },
  "vscode": {
   "interpreter": {
    "hash": "9732f19cd5dfd89c376a93c0ebf365daafb0a064118a63241088cb5e478d8ce2"
   }
  }
 },
 "nbformat": 4,
 "nbformat_minor": 2
}
