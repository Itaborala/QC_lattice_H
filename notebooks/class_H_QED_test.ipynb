{
 "cells": [
  {
   "attachments": {},
   "cell_type": "markdown",
   "metadata": {},
   "source": [
    "# Test of class Hamiltonian_QED"
   ]
  },
  {
   "attachments": {},
   "cell_type": "markdown",
   "metadata": {},
   "source": [
    "!!! Qiskit version < 0.24.0 Deprecated functions not yet active. !!!"
   ]
  },
  {
   "cell_type": "code",
   "execution_count": 1,
   "metadata": {},
   "outputs": [],
   "source": [
    "import qiskit"
   ]
  },
  {
   "cell_type": "code",
   "execution_count": 2,
   "metadata": {},
   "outputs": [
    {
     "data": {
      "text/plain": [
       "'0.24.1'"
      ]
     },
     "execution_count": 2,
     "metadata": {},
     "output_type": "execute_result"
    }
   ],
   "source": [
    "qiskit.__version__"
   ]
  },
  {
   "attachments": {},
   "cell_type": "markdown",
   "metadata": {},
   "source": [
    "\n",
    "\n",
    "This notebook uses the class in 'Hamiltonian_QED.py' that builds the Hamiltonian in terms of Pauli matrices.\n",
    "\n",
    "The code import the class in 'HC_Lattice.py' (that defines the lattice) and then is uses the Gray encoding for gauge fields (E and U) and Jordan-Wigner formulation for fermionic degrees of freedom."
   ]
  },
  {
   "cell_type": "code",
   "execution_count": 3,
   "metadata": {},
   "outputs": [],
   "source": [
    "%load_ext autoreload\n",
    "%autoreload 2"
   ]
  },
  {
   "cell_type": "code",
   "execution_count": 4,
   "metadata": {},
   "outputs": [],
   "source": [
    "from scipy.sparse.linalg import eigsh\n",
    "from qiskit.quantum_info import Statevector\n",
    "import numpy as np\n",
    "import matplotlib.pyplot as plt\n",
    "import sys\n",
    "sys.path.append(\"../\") # go to parent dir\n",
    "from itertools import permutations"
   ]
  },
  {
   "cell_type": "code",
   "execution_count": 5,
   "metadata": {},
   "outputs": [
    {
     "name": "stderr",
     "output_type": "stream",
     "text": [
      "/var/folders/08/fx8gnyrx18jggry6_s4cbtz40000gn/T/ipykernel_87233/3502893271.py:3: DeprecationWarning: Please use `aslinearoperator` from the `scipy.sparse.linalg` namespace, the `scipy.sparse.linalg.interface` namespace is deprecated.\n",
      "  import primme\n"
     ]
    }
   ],
   "source": [
    "from Hamiltonian_QED import HamiltonianQED\n",
    "from HC_Lattice import HCLattice\n",
    "import primme"
   ]
  },
  {
   "attachments": {},
   "cell_type": "markdown",
   "metadata": {},
   "source": [
    "##### static charges"
   ]
  },
  {
   "cell_type": "code",
   "execution_count": 50,
   "metadata": {},
   "outputs": [],
   "source": [
    "def func_qstatic_dist(coordlist,charge = (0,)*latt.dims):\n",
    "    \"\"\"Returns two lists:\n",
    "    1. A list of dictionaries of the form {charge:1,j:-1} where j is the coordinate of the site to which charge is connected.\n",
    "    The default is the origin (0,0,...,0) and the sites to which it is connected are the odd sites. \n",
    "    If the charge is on an odd site, then it is connected to the even sites.\n",
    "    2. A list of distances between the charge and the sites to which it is connected.\"\"\"\n",
    "    print(charge)\n",
    "    if latt.dims == 1:\n",
    "        if len(charge) != 1:\n",
    "            raise ValueError(\"Charge must be a tuple of length 1 for a 1D lattice.\")\n",
    "        if charge == (0,) or (charge[0]+1)%2:#even site\n",
    "            distances_coord = np.array([{charge[0]:-1,j:1} for j in coordlist if j%2 and j!=charge],dtype=object)#connect (0,0) to only odd sites\n",
    "        else:\n",
    "            distances_coord = np.array([{charge[0]:1,j:-1} for j in coordlist if (j+1)%2 and j!=charge],dtype=object)#connect (odd,) to only even sites\n",
    "    else:\n",
    "        if len(charge) != latt.dims:\n",
    "            raise ValueError(\"Charge must be a tuple of length latt.dims for a {}D lattice.\".format(latt.dims))\n",
    "        if charge == (0,)*latt.dims or (sum(charge)+1)%2:#even site\n",
    "            distances_coord = np.array([{charge:-1,j:1} for j in coordlist if sum(j)%2 and j!=charge],dtype=object)#connect (0,0) to only odd sites\n",
    "        else:\n",
    "            distances_coord = np.array([{charge:1,j:-1} for j in coordlist if (sum(j)+1)%2 and j!=charge],dtype=object)\n",
    "            \n",
    "    def distance_f(*points):\n",
    "        if len(points) < 2:\n",
    "            raise ValueError(\"At least two points are required to calculate the distance.\")\n",
    "        if latt.dims == 1:\n",
    "            return np.abs(points[0] - points[1])\n",
    "        else:\n",
    "            return np.sqrt(sum((x - y) ** 2 for x, y in zip(points[0], points[1])))\n",
    "\n",
    "\n",
    "    r_list = np.empty(len(distances_coord),dtype=object)\n",
    "    for i,dd in enumerate(distances_coord):\n",
    "        r_list[i] =distance_f(*dd.keys())\n",
    "    return distances_coord,r_list"
   ]
  },
  {
   "cell_type": "code",
   "execution_count": 51,
   "metadata": {},
   "outputs": [
    {
     "name": "stdout",
     "output_type": "stream",
     "text": [
      "(0, 0)\n"
     ]
    },
    {
     "data": {
      "text/plain": [
       "(array([{(0, 0): -1, (0, 1): 1}, {(0, 0): -1, (1, 0): 1}], dtype=object),\n",
       " array([1.0, 1.0], dtype=object))"
      ]
     },
     "execution_count": 51,
     "metadata": {},
     "output_type": "execute_result"
    }
   ],
   "source": [
    "func_qstatic_dist(list(latt.graph.nodes))#,charge=(1,))"
   ]
  },
  {
   "cell_type": "code",
   "execution_count": null,
   "metadata": {},
   "outputs": [],
   "source": [
    "static_charges_values_input=[{(0,0):-1,(1,0):1},{(0,0):-1,(2,1):1},{(0,0):-1,(3,0):1},{(0,0):-1,(3,2):1}] #obc 4x3\n",
    "\n",
    "#static_charges_values_input=[{(0,0):-1,(1,0):1},{(0,0):-1,(2,1):1},{(0,0):-1,(3,0):1},{(0,0):-1,(5,0):1},{(0,0):-1,(3,2):1},{(0,0):-1,(5,2):1}] #obc 6x3"
   ]
  },
  {
   "attachments": {},
   "cell_type": "markdown",
   "metadata": {},
   "source": [
    "##### new function efficient"
   ]
  },
  {
   "cell_type": "code",
   "execution_count": 22,
   "metadata": {},
   "outputs": [],
   "source": [
    "import sys"
   ]
  },
  {
   "cell_type": "code",
   "execution_count": 23,
   "metadata": {},
   "outputs": [],
   "source": [
    "from sympy import (\n",
    "    Symbol,\n",
    "    symbols,\n",
    "    solve,\n",
    "    lambdify,\n",
    "    Mul,\n",
    "    Eq,\n",
    "    latex,\n",
    "    expand,\n",
    "    simplify,\n",
    "    Pow,\n",
    "    Float,\n",
    "    Integer,\n",
    "    cos,\n",
    ")\n",
    "from scipy import sparse\n",
    "from sympy.core.numbers import ImaginaryUnit\n",
    "from sympy.physics.quantum.dagger import Dagger\n",
    "from qiskit.quantum_info import SparsePauliOp"
   ]
  },
  {
   "cell_type": "code",
   "execution_count": 11,
   "metadata": {},
   "outputs": [],
   "source": [
    "from joblib import Parallel, delayed"
   ]
  },
  {
   "cell_type": "code",
   "execution_count": 12,
   "metadata": {},
   "outputs": [],
   "source": [
    "def list_to_enc_hamilt2(ei , subst, ferm_lst=[], gauge_lst=[], encoding=\"gray\",massterm=False ):#list_el\n",
    "    \"\"\"Return a list of Pauli operators or list of matrices (depending on the encoding used) from a list of symbolic operators.\n",
    "    It consider only single operator, not entire pauli string, thus operation like (I^op^I)**2 and I^op1^I*I^op2^I are\n",
    "    then simplied to I^(op**2)^I and I^(op1*op2)^I, respectively.\n",
    "    Last part is put everything together and add identity matrices where needed.\n",
    "\n",
    "    encoding: gray, ed (exact diagonalization)\"\"\"\n",
    "    ham_encoded =0# np.empty(len(list_el), dtype=object)  # []\n",
    "    #for kk, ei in enumerate(list_el):\n",
    "    jj_mass = 0\n",
    "#    for ei in list_el:\n",
    "    index_op = []  # build index list order ..q2q1q0 (little endian)\n",
    "    for e in ei:\n",
    "        if not isinstance(\n",
    "            e, (int, float, complex, Float, Integer, str, ImaginaryUnit)\n",
    "        ):\n",
    "            if ( list(e.free_symbols)[0].name[-1] == \"D\" and list(e.free_symbols)[0].name[0] == \"U\" ):  # gauge field U adjoint\n",
    "                index_op.append( str( ( ferm_lst[::-1] + [Symbol(i.name + \"D\") for i in gauge_lst][::-1] ).index(*e.free_symbols) ) + \"D\" )\n",
    "            elif ( list(e.free_symbols)[0].name[-1] == \"D\" and list(e.free_symbols)[0].name[0:3] == \"Phi\" ):  # fermion adjoint (but JW index only 0, must cover all the fermionic dof)\n",
    "                index_op.append( str( ( [ Symbol(i.name + \"D\", commutative=False) for i in ferm_lst ][::-1] + gauge_lst[::-1] ).index(*e.free_symbols) ) + \"D\" )\n",
    "            else:  # no adjoint\n",
    "                index_op.append( str( (ferm_lst[::-1] + gauge_lst[::-1]).index( *e.free_symbols ) ) )\n",
    "\n",
    "\n",
    "    symb_el = lambdify(list(zip(*subst))[0], ei)(*list(zip(*subst))[1])\n",
    "\n",
    "    q10 = -0.5 * (class_H.I + class_H.Z)  # JW dependent\n",
    "    q00 = 0.5 * (class_H.I - class_H.Z)\n",
    "    sym_list_tomatrix = [(Symbol('q10OP'),q10),(Symbol('q00OP'),q00),(Symbol('EOP'),class_H.e_oper),(Symbol('UOP'),class_H.u_oper),(Symbol('UdagOP'),class_H.u_oper_dag)]\n",
    "    if class_H.magnetic_basis: # U->exp(-i*alpha*E), U_dag->exp(i*alpha*E) in mag basis\n",
    "        ei_class = lambda fct: class_H.matx_exp(\n",
    "        fct * class_H.e_oper, 1j * class_H.alpha\n",
    "    )\n",
    "        sym_list_tomatrix += [(Symbol('exppiEOP'),ei_class(1)),(Symbol('expmiEOP'),ei_class(-1))]\n",
    "\n",
    "    if not class_H.puregauge:#add fermions subst\n",
    "        sym_list_tomatrix += class_H.phi_jw_list\n",
    "\n",
    "    pauli_ei = lambdify(list(zip(*sym_list_tomatrix))[0], symb_el)(*list(zip(*sym_list_tomatrix))[1])\n",
    "\n",
    "    op_dct = {}\n",
    "    numbers = []\n",
    "    ct = 0\n",
    "    for ( el ) in pauli_ei:  # build dictionary of sparse pauli operators and their index\n",
    "        if isinstance( el, ( SparsePauliOp, np.ndarray, sparse._csr.csr_matrix, sparse._coo.coo_matrix, ), ):\n",
    "            op_dct[index_op[ct]] = el\n",
    "            ct += 1\n",
    "        else:\n",
    "            numbers.append(el)\n",
    "    if subst[0][0] == Symbol(\"Phi_1D\", commutative=False):  # ferm\n",
    "        res = [\"id_f\"] * len(ferm_lst) + [\"id_g\"] * class_H.len_e_op\n",
    "        f_index_op = [\n",
    "            i for i in index_op if int(re.findall(\"\\d+\", i)[0]) < len(ferm_lst)\n",
    "        ]  # select only fermionic dof\n",
    "        res[0] = (\n",
    "            op_dct[f_index_op[0]] @ op_dct[f_index_op[1]]\n",
    "        )  # compute product between fermions dof when JW applied\n",
    "        start = len(ferm_lst)\n",
    "\n",
    "    else:  # no JW\n",
    "        res = [\"id_q\"] * len(ferm_lst) + [\"id_g\"] * class_H.len_e_op\n",
    "        start = 0\n",
    "\n",
    "    for i in range(start, len(res)):  # only for gauge or charges q\n",
    "        if str(i) in op_dct.keys() and isinstance(\n",
    "            res[i], str\n",
    "        ):  # fill res with SparsePauli\n",
    "            res[i] = op_dct[str(i)]\n",
    "        if str(i) + \"D\" in op_dct.keys() and isinstance(\n",
    "            res[i], str\n",
    "        ):  # fill res with SparsePauli\n",
    "            res[i] = op_dct[str(i) + \"D\"]\n",
    "\n",
    "        if (\n",
    "            isinstance(res[i], str) and res[i] == \"id_q\"\n",
    "        ):  # remaining spots for charges are filled with I\n",
    "            res[i] = class_H.I.to_matrix(sparse=False)  # single qubit for charge\n",
    "        elif isinstance(res[i], str) and res[i] == \"id_g\":\n",
    "            if encoding == \"gray\":\n",
    "                res[i] = class_H.tensor_prod(\n",
    "                    class_H.I, (class_H._n_qubits_g())\n",
    "                ).to_matrix(\n",
    "                    sparse=False\n",
    "                )  # Gray encoding for E field\n",
    "            elif (\n",
    "                encoding == \"ed\"\n",
    "            ):  # exact diagonaliz. dimensions of gauge fields 2l+1\n",
    "                res[i] = sparse.eye(2 * class_H.l_par + 1,dtype=np.float32,format='csr')\n",
    "    res = (\n",
    "        elem for elem in res if not isinstance(elem, str)\n",
    "    )  # remove id_f when JW applied\n",
    "\n",
    "    #ham_encoded[kk] = np.prod(numbers) * class_H.pauli_tns(*res)\n",
    "\n",
    "    # if massterm:\n",
    "    #     print(((-1) ** jj_mass))\n",
    "    #     ham_encoded+=((-1) ** jj_mass)* np.prod(numbers) * class_H.pauli_tns(*res)  # sum over all terms for mass hamiltonian\n",
    "    #     jj_mass+=1\n",
    "    # else:\n",
    "    #     ham_encoded+= np.prod(numbers) * class_H.pauli_tns(*res) #sum over all terms\n",
    "\n",
    "    return res#"
   ]
  },
  {
   "cell_type": "code",
   "execution_count": 13,
   "metadata": {},
   "outputs": [],
   "source": [
    "from functools import reduce"
   ]
  },
  {
   "cell_type": "code",
   "execution_count": 14,
   "metadata": {},
   "outputs": [
    {
     "data": {
      "text/latex": [
       "$\\displaystyle - 6 E_{20y} E_{22y}$"
      ],
      "text/plain": [
       "-6*E_20y*E_22y"
      ]
     },
     "execution_count": 14,
     "metadata": {},
     "output_type": "execute_result"
    }
   ],
   "source": [
    "class_H.hamiltonian_el_subs[10]"
   ]
  },
  {
   "cell_type": "code",
   "execution_count": 89,
   "metadata": {},
   "outputs": [
    {
     "data": {
      "text/plain": [
       "[array([[1.+0.j, 0.+0.j],\n",
       "        [0.+0.j, 1.+0.j]]),\n",
       " array([[1.+0.j, 0.+0.j],\n",
       "        [0.+0.j, 1.+0.j]]),\n",
       " array([[1.+0.j, 0.+0.j],\n",
       "        [0.+0.j, 1.+0.j]]),\n",
       " array([[1.+0.j, 0.+0.j],\n",
       "        [0.+0.j, 1.+0.j]]),\n",
       " <3x3 sparse matrix of type '<class 'numpy.float32'>'\n",
       " \twith 2 stored elements in Compressed Sparse Row format>,\n",
       " <3x3 sparse matrix of type '<class 'numpy.float32'>'\n",
       " \twith 3 stored elements in Compressed Sparse Row format>,\n",
       " <3x3 sparse matrix of type '<class 'numpy.float32'>'\n",
       " \twith 2 stored elements in Compressed Sparse Row format>,\n",
       " <3x3 sparse matrix of type '<class 'numpy.float32'>'\n",
       " \twith 3 stored elements in Compressed Sparse Row format>,\n",
       " <3x3 sparse matrix of type '<class 'numpy.float32'>'\n",
       " \twith 3 stored elements in Compressed Sparse Row format>]"
      ]
     },
     "execution_count": 89,
     "metadata": {},
     "output_type": "execute_result"
    }
   ],
   "source": [
    "list([list_to_enc_hamilt2(i.as_ordered_factors()  , class_H.qcharge_list + class_H.e_field_list, class_H.qop_list, class_H.eop_list, encoding=class_H.encoding, )for i in class_H.hamiltonian_el_subs][10])"
   ]
  },
  {
   "cell_type": "code",
   "execution_count": 90,
   "metadata": {},
   "outputs": [],
   "source": [
    "def tensor_or_kron(x, y):\n",
    "    if isinstance(x, SPARSE_PAULI) and isinstance(y, SPARSE_PAULI):\n",
    "        return x.tensor(y)\n",
    "    else:\n",
    "        return sparse.kron(x, y, format=\"csr\")\n",
    "\n",
    "res4 = reduce(tensor_or_kron, [list_to_enc_hamilt2(i.as_ordered_factors(), class_H.qcharge_list + class_H.e_field_list, class_H.qop_list, class_H.eop_list, encoding=class_H.encoding, )for i in class_H.hamiltonian_el_subs][0])"
   ]
  },
  {
   "cell_type": "code",
   "execution_count": 91,
   "metadata": {},
   "outputs": [
    {
     "data": {
      "text/plain": [
       "<3888x3888 sparse matrix of type '<class 'numpy.complex128'>'\n",
       "\twith 1944 stored elements in Compressed Sparse Row format>"
      ]
     },
     "execution_count": 91,
     "metadata": {},
     "output_type": "execute_result"
    }
   ],
   "source": [
    "res4"
   ]
  },
  {
   "cell_type": "code",
   "execution_count": 92,
   "metadata": {},
   "outputs": [],
   "source": [
    "SPARSE_PAULI = qiskit.quantum_info.operators.symplectic.sparse_pauli_op.SparsePauliOp\n",
    "from functools import reduce\n",
    "def pauli_tns(*args):\n",
    "    \"\"\"Returns Pauli tensor product of all arguments. If int in args then it skips it.\n",
    "    If all arguments are SparsePauliOp then it applies tensor method of SparsePauliOp.\n",
    "    If not it applies kronecker product of numpy.(it works also with SparsePauliOp) but much slower.)\n",
    "    \"\"\"\n",
    "    valid_args = [arg for arg in args if not isinstance(arg, int)]\n",
    "\n",
    "    if len(valid_args) >= 2:\n",
    "        if all(\n",
    "            [type(arg) == SPARSE_PAULI for arg in valid_args]\n",
    "        ):  # all SparsePauliOp\n",
    "            return reduce(lambda x, y: x.tensor(y), valid_args)\n",
    "        else:\n",
    "            return reduce(\n",
    "                lambda x, y: sparse.kron(\n",
    "                    x, y, format=\"csr\"\n",
    "                ),\n",
    "                valid_args,\n",
    "            )\n",
    "    elif len(valid_args) == 1:\n",
    "        return valid_args[0]\n",
    "    else:\n",
    "        raise ValueError(\"Insufficient valid arguments for tensor product\")\n"
   ]
  },
  {
   "cell_type": "code",
   "execution_count": 93,
   "metadata": {},
   "outputs": [],
   "source": [
    "res1 = pauli_tns(*[list_to_enc_hamilt2(i.as_ordered_factors()  , class_H.qcharge_list + class_H.e_field_list, class_H.qop_list, class_H.eop_list, encoding=class_H.encoding, )for i in class_H.hamiltonian_el_subs][0])"
   ]
  },
  {
   "cell_type": "code",
   "execution_count": 95,
   "metadata": {},
   "outputs": [
    {
     "data": {
      "text/plain": [
       "<3888x3888 sparse matrix of type '<class 'numpy.complex128'>'\n",
       "\twith 1944 stored elements in Compressed Sparse Row format>"
      ]
     },
     "execution_count": 95,
     "metadata": {},
     "output_type": "execute_result"
    }
   ],
   "source": [
    "res1"
   ]
  },
  {
   "cell_type": "code",
   "execution_count": 99,
   "metadata": {},
   "outputs": [
    {
     "ename": "TypeError",
     "evalue": "kron() missing 1 required positional argument: 'B'",
     "output_type": "error",
     "traceback": [
      "\u001b[0;31m---------------------------------------------------------------------------\u001b[0m",
      "\u001b[0;31mTypeError\u001b[0m                                 Traceback (most recent call last)",
      "Cell \u001b[0;32mIn[99], line 1\u001b[0m\n\u001b[0;32m----> 1\u001b[0m sparse\u001b[39m.\u001b[39;49mkron(class_H\u001b[39m.\u001b[39;49mI)\n",
      "\u001b[0;31mTypeError\u001b[0m: kron() missing 1 required positional argument: 'B'"
     ]
    }
   ],
   "source": [
    "sparse.kron(class_H.I)"
   ]
  },
  {
   "cell_type": "code",
   "execution_count": 96,
   "metadata": {},
   "outputs": [],
   "source": [
    "SPARSE_PAULI = qiskit.quantum_info.operators.symplectic.sparse_pauli_op.SparsePauliOp\n",
    "from functools import reduce\n",
    "def pauli_tns2(*args):\n",
    "    valid_args = (arg for arg in args if not isinstance(arg, int))\n",
    "    try:\n",
    "        first_arg = next(valid_args)\n",
    "    except StopIteration:\n",
    "        raise ValueError(\"Insufficient valid arguments for tensor product\")\n",
    "\n",
    "    if all(isinstance(arg, SPARSE_PAULI) for arg in valid_args):\n",
    "        return reduce(lambda x, y: x.tensor(y), [first_arg, *valid_args])\n",
    "    else:\n",
    "        return reduce(lambda x, y: sparse.kron(x, y, format=\"csr\"), [first_arg, *valid_args])"
   ]
  },
  {
   "cell_type": "code",
   "execution_count": 97,
   "metadata": {},
   "outputs": [],
   "source": [
    "res2 = pauli_tns2(*[list_to_enc_hamilt2(i.as_ordered_factors()  , class_H.qcharge_list + class_H.e_field_list, class_H.qop_list, class_H.eop_list, encoding=class_H.encoding, )for i in class_H.hamiltonian_el_subs][0])"
   ]
  },
  {
   "cell_type": "code",
   "execution_count": 98,
   "metadata": {},
   "outputs": [
    {
     "data": {
      "text/plain": [
       "<1944x1944 sparse matrix of type '<class 'numpy.complex128'>'\n",
       "\twith 972 stored elements in Compressed Sparse Row format>"
      ]
     },
     "execution_count": 98,
     "metadata": {},
     "output_type": "execute_result"
    }
   ],
   "source": [
    "res2"
   ]
  },
  {
   "cell_type": "code",
   "execution_count": 52,
   "metadata": {},
   "outputs": [],
   "source": [
    "import scipy.sparse as sparse\n",
    "from functools import reduce\n",
    "from qiskit.quantum_info import SparsePauliOp\n",
    "from itertools import tee\n",
    "\n",
    "def pauli_tns3(*args):\n",
    "    \"\"\"Returns Pauli tensor product of all arguments. If int in args then it skips it.\n",
    "    If all arguments are SparsePauliOp then it applies tensor method of SparsePauliOp.\n",
    "    If not it applies kronecker product of numpy.(it works also with SparsePauliOp) \n",
    "    but for hardware device we probably not need sparse matrices.)\"\"\"\n",
    "    valid_args, tensor_args = tee((arg for arg in args if not isinstance(arg, int)))\n",
    "\n",
    "    if len(list(valid_args)) >= 2:\n",
    "        if all(isinstance(arg, SparsePauliOp) for arg in valid_args):\n",
    "            return reduce(lambda x, y: x.tensor(y), tensor_args)\n",
    "        else:\n",
    "            return reduce(lambda x, y: sparse.kron(x, y, format=\"csr\"), tensor_args)\n",
    "    elif len(list(valid_args)) == 1:\n",
    "        return next(valid_args)\n",
    "    else:\n",
    "        raise ValueError(\"Insufficient valid arguments for tensor product\")\n"
   ]
  },
  {
   "cell_type": "code",
   "execution_count": 61,
   "metadata": {},
   "outputs": [
    {
     "ename": "QiskitError",
     "evalue": "'Invalid input data for Pauli.'",
     "output_type": "error",
     "traceback": [
      "\u001b[0;31m---------------------------------------------------------------------------\u001b[0m",
      "\u001b[0;31mQiskitError\u001b[0m                               Traceback (most recent call last)",
      "Cell \u001b[0;32mIn[61], line 1\u001b[0m\n\u001b[0;32m----> 1\u001b[0m res3 \u001b[39m=\u001b[39m pauli_tns3(\u001b[39m*\u001b[39;49m[list_to_enc_hamilt2(i\u001b[39m.\u001b[39;49mas_ordered_factors()  , class_H\u001b[39m.\u001b[39;49mqcharge_list \u001b[39m+\u001b[39;49m class_H\u001b[39m.\u001b[39;49me_field_list, class_H\u001b[39m.\u001b[39;49mqop_list, class_H\u001b[39m.\u001b[39;49meop_list, encoding\u001b[39m=\u001b[39;49mclass_H\u001b[39m.\u001b[39;49mencoding, )\u001b[39mfor\u001b[39;49;00m i \u001b[39min\u001b[39;49;00m class_H\u001b[39m.\u001b[39;49mhamiltonian_el_subs][\u001b[39m0\u001b[39;49m])\n",
      "Cell \u001b[0;32mIn[52], line 11\u001b[0m, in \u001b[0;36mpauli_tns3\u001b[0;34m(*args)\u001b[0m\n\u001b[1;32m      9\u001b[0m \u001b[39mif\u001b[39;00m \u001b[39mlen\u001b[39m(\u001b[39mlist\u001b[39m(valid_args)) \u001b[39m>\u001b[39m\u001b[39m=\u001b[39m \u001b[39m2\u001b[39m:\n\u001b[1;32m     10\u001b[0m     \u001b[39mif\u001b[39;00m \u001b[39mall\u001b[39m(\u001b[39misinstance\u001b[39m(arg, SparsePauliOp) \u001b[39mfor\u001b[39;00m arg \u001b[39min\u001b[39;00m valid_args):\n\u001b[0;32m---> 11\u001b[0m         \u001b[39mreturn\u001b[39;00m reduce(\u001b[39mlambda\u001b[39;49;00m x, y: x\u001b[39m.\u001b[39;49mtensor(y), tensor_args)\n\u001b[1;32m     12\u001b[0m     \u001b[39melse\u001b[39;00m:\n\u001b[1;32m     13\u001b[0m         \u001b[39mreturn\u001b[39;00m reduce(\u001b[39mlambda\u001b[39;00m x, y: sparse\u001b[39m.\u001b[39mkron(x, y, \u001b[39mformat\u001b[39m\u001b[39m=\u001b[39m\u001b[39m\"\u001b[39m\u001b[39mcsr\u001b[39m\u001b[39m\"\u001b[39m), tensor_args)\n",
      "Cell \u001b[0;32mIn[52], line 11\u001b[0m, in \u001b[0;36mpauli_tns3.<locals>.<lambda>\u001b[0;34m(x, y)\u001b[0m\n\u001b[1;32m      9\u001b[0m \u001b[39mif\u001b[39;00m \u001b[39mlen\u001b[39m(\u001b[39mlist\u001b[39m(valid_args)) \u001b[39m>\u001b[39m\u001b[39m=\u001b[39m \u001b[39m2\u001b[39m:\n\u001b[1;32m     10\u001b[0m     \u001b[39mif\u001b[39;00m \u001b[39mall\u001b[39m(\u001b[39misinstance\u001b[39m(arg, SparsePauliOp) \u001b[39mfor\u001b[39;00m arg \u001b[39min\u001b[39;00m valid_args):\n\u001b[0;32m---> 11\u001b[0m         \u001b[39mreturn\u001b[39;00m reduce(\u001b[39mlambda\u001b[39;00m x, y: x\u001b[39m.\u001b[39;49mtensor(y), tensor_args)\n\u001b[1;32m     12\u001b[0m     \u001b[39melse\u001b[39;00m:\n\u001b[1;32m     13\u001b[0m         \u001b[39mreturn\u001b[39;00m reduce(\u001b[39mlambda\u001b[39;00m x, y: sparse\u001b[39m.\u001b[39mkron(x, y, \u001b[39mformat\u001b[39m\u001b[39m=\u001b[39m\u001b[39m\"\u001b[39m\u001b[39mcsr\u001b[39m\u001b[39m\"\u001b[39m), tensor_args)\n",
      "File \u001b[0;32m~/qiskit/lib/python3.9/site-packages/qiskit/quantum_info/operators/symplectic/sparse_pauli_op.py:341\u001b[0m, in \u001b[0;36mSparsePauliOp.tensor\u001b[0;34m(self, other)\u001b[0m\n\u001b[1;32m    339\u001b[0m \u001b[39mdef\u001b[39;00m \u001b[39mtensor\u001b[39m(\u001b[39mself\u001b[39m, other):\n\u001b[1;32m    340\u001b[0m     \u001b[39mif\u001b[39;00m \u001b[39mnot\u001b[39;00m \u001b[39misinstance\u001b[39m(other, SparsePauliOp):\n\u001b[0;32m--> 341\u001b[0m         other \u001b[39m=\u001b[39m SparsePauliOp(other)\n\u001b[1;32m    342\u001b[0m     \u001b[39mreturn\u001b[39;00m \u001b[39mself\u001b[39m\u001b[39m.\u001b[39m_tensor(\u001b[39mself\u001b[39m, other)\n",
      "File \u001b[0;32m~/qiskit/lib/python3.9/site-packages/qiskit/quantum_info/operators/symplectic/sparse_pauli_op.py:120\u001b[0m, in \u001b[0;36mSparsePauliOp.__init__\u001b[0;34m(self, data, coeffs, ignore_pauli_phase, copy)\u001b[0m\n\u001b[1;32m    116\u001b[0m     \u001b[39m# `SparsePauliOp._pauli_list` is already compatible with the internal ZX-phase\u001b[39;00m\n\u001b[1;32m    117\u001b[0m     \u001b[39m# convention.  See `BasePauli._from_array` for the internal ZX-phase convention.\u001b[39;00m\n\u001b[1;32m    118\u001b[0m     ignore_pauli_phase \u001b[39m=\u001b[39m \u001b[39mTrue\u001b[39;00m\n\u001b[0;32m--> 120\u001b[0m pauli_list \u001b[39m=\u001b[39m PauliList(data\u001b[39m.\u001b[39;49mcopy() \u001b[39mif\u001b[39;49;00m copy \u001b[39mand\u001b[39;49;00m \u001b[39mhasattr\u001b[39;49m(data, \u001b[39m\"\u001b[39;49m\u001b[39mcopy\u001b[39;49m\u001b[39m\"\u001b[39;49m) \u001b[39melse\u001b[39;49;00m data)\n\u001b[1;32m    122\u001b[0m \u001b[39mif\u001b[39;00m \u001b[39misinstance\u001b[39m(coeffs, np\u001b[39m.\u001b[39mndarray) \u001b[39mand\u001b[39;00m coeffs\u001b[39m.\u001b[39mdtype \u001b[39m==\u001b[39m \u001b[39mobject\u001b[39m:\n\u001b[1;32m    123\u001b[0m     dtype \u001b[39m=\u001b[39m \u001b[39mobject\u001b[39m\n",
      "File \u001b[0;32m~/qiskit/lib/python3.9/site-packages/qiskit/quantum_info/operators/symplectic/pauli_list.py:140\u001b[0m, in \u001b[0;36mPauliList.__init__\u001b[0;34m(self, data)\u001b[0m\n\u001b[1;32m    137\u001b[0m     base_z, base_x, base_phase \u001b[39m=\u001b[39m \u001b[39mself\u001b[39m\u001b[39m.\u001b[39m_from_array(data\u001b[39m.\u001b[39mZ, data\u001b[39m.\u001b[39mX)\n\u001b[1;32m    138\u001b[0m \u001b[39melse\u001b[39;00m:\n\u001b[1;32m    139\u001b[0m     \u001b[39m# Conversion as iterable of Paulis\u001b[39;00m\n\u001b[0;32m--> 140\u001b[0m     base_z, base_x, base_phase \u001b[39m=\u001b[39m \u001b[39mself\u001b[39;49m\u001b[39m.\u001b[39;49m_from_paulis(data)\n\u001b[1;32m    142\u001b[0m \u001b[39m# Initialize BasePauli\u001b[39;00m\n\u001b[1;32m    143\u001b[0m \u001b[39msuper\u001b[39m()\u001b[39m.\u001b[39m\u001b[39m__init__\u001b[39m(base_z, base_x, base_phase)\n",
      "File \u001b[0;32m~/qiskit/lib/python3.9/site-packages/qiskit/quantum_info/operators/symplectic/pauli_list.py:185\u001b[0m, in \u001b[0;36mPauliList._from_paulis\u001b[0;34m(data)\u001b[0m\n\u001b[1;32m    183\u001b[0m \u001b[39mfor\u001b[39;00m i \u001b[39min\u001b[39;00m data:\n\u001b[1;32m    184\u001b[0m     \u001b[39mif\u001b[39;00m \u001b[39mnot\u001b[39;00m \u001b[39misinstance\u001b[39m(i, Pauli):\n\u001b[0;32m--> 185\u001b[0m         paulis\u001b[39m.\u001b[39mappend(Pauli(i))\n\u001b[1;32m    186\u001b[0m     \u001b[39melse\u001b[39;00m:\n\u001b[1;32m    187\u001b[0m         paulis\u001b[39m.\u001b[39mappend(i)\n",
      "File \u001b[0;32m~/qiskit/lib/python3.9/site-packages/qiskit/quantum_info/operators/symplectic/pauli.py:209\u001b[0m, in \u001b[0;36mPauli.__init__\u001b[0;34m(self, data, x, z, label)\u001b[0m\n\u001b[1;32m    207\u001b[0m     base_z, base_x, base_phase \u001b[39m=\u001b[39m \u001b[39mself\u001b[39m\u001b[39m.\u001b[39m_from_label(label)\n\u001b[1;32m    208\u001b[0m \u001b[39melse\u001b[39;00m:\n\u001b[0;32m--> 209\u001b[0m     \u001b[39mraise\u001b[39;00m QiskitError(\u001b[39m\"\u001b[39m\u001b[39mInvalid input data for Pauli.\u001b[39m\u001b[39m\"\u001b[39m)\n\u001b[1;32m    211\u001b[0m \u001b[39m# Initialize BasePauli\u001b[39;00m\n\u001b[1;32m    212\u001b[0m \u001b[39mif\u001b[39;00m base_z\u001b[39m.\u001b[39mshape[\u001b[39m0\u001b[39m] \u001b[39m!=\u001b[39m \u001b[39m1\u001b[39m:\n",
      "\u001b[0;31mQiskitError\u001b[0m: 'Invalid input data for Pauli.'"
     ]
    }
   ],
   "source": [
    "res3 = pauli_tns3(*[list_to_enc_hamilt2(i.as_ordered_factors()  , class_H.qcharge_list + class_H.e_field_list, class_H.qop_list, class_H.eop_list, encoding=class_H.encoding, )for i in class_H.hamiltonian_el_subs][0])"
   ]
  },
  {
   "cell_type": "code",
   "execution_count": 57,
   "metadata": {},
   "outputs": [
    {
     "data": {
      "text/plain": [
       "<3888x3888 sparse matrix of type '<class 'numpy.complex128'>'\n",
       "\twith 0 stored elements in Compressed Sparse Row format>"
      ]
     },
     "execution_count": 57,
     "metadata": {},
     "output_type": "execute_result"
    }
   ],
   "source": [
    "res3-res4"
   ]
  },
  {
   "cell_type": "code",
   "execution_count": 18,
   "metadata": {},
   "outputs": [],
   "source": [
    "def kron_product(matrices):\n",
    "    def kron_wrapper(a, b):\n",
    "        return sparse.kron(a, b, format=\"csr\")\n",
    "    \n",
    "    return reduce(kron_wrapper, matrices)"
   ]
  },
  {
   "cell_type": "code",
   "execution_count": 12,
   "metadata": {},
   "outputs": [
    {
     "ename": "NameError",
     "evalue": "name 'kron_product' is not defined",
     "output_type": "error",
     "traceback": [
      "\u001b[0;31m---------------------------------------------------------------------------\u001b[0m",
      "\u001b[0;31mNameError\u001b[0m                                 Traceback (most recent call last)",
      "Cell \u001b[0;32mIn[12], line 1\u001b[0m\n\u001b[0;32m----> 1\u001b[0m kron_product([list_to_enc_hamilt2(i\u001b[39m.\u001b[39mas_ordered_factors(), class_H\u001b[39m.\u001b[39mqcharge_list \u001b[39m+\u001b[39m class_H\u001b[39m.\u001b[39me_field_list, class_H\u001b[39m.\u001b[39mqop_list, class_H\u001b[39m.\u001b[39meop_list, encoding\u001b[39m=\u001b[39mclass_H\u001b[39m.\u001b[39mencoding, )\u001b[39mfor\u001b[39;00m i \u001b[39min\u001b[39;00m class_H\u001b[39m.\u001b[39mhamiltonian_el_subs][\u001b[39m0\u001b[39m])\n",
      "\u001b[0;31mNameError\u001b[0m: name 'kron_product' is not defined"
     ]
    }
   ],
   "source": [
    "kron_product([list_to_enc_hamilt2(i.as_ordered_factors(), class_H.qcharge_list + class_H.e_field_list, class_H.qop_list, class_H.eop_list, encoding=class_H.encoding, )for i in class_H.hamiltonian_el_subs][0])"
   ]
  },
  {
   "cell_type": "code",
   "execution_count": 186,
   "metadata": {},
   "outputs": [],
   "source": [
    "(i.as_ordered_factors() for i in class_H.hamiltonian_el_subs )\n",
    "ei = [class_H.decompose_expression(i) for i in class_H.hamiltonian_el_subs][0]"
   ]
  },
  {
   "cell_type": "code",
   "execution_count": 247,
   "metadata": {},
   "outputs": [],
   "source": [
    "\n",
    "# Parallelize the for loop using joblib\n",
    "results3 = Parallel()(delayed(list_to_enc_hamilt2)(item, class_H.qcharge_list + class_H.e_field_list, class_H.qop_list, class_H.eop_list, encoding=class_H.encoding) for item in (class_H.decompose_expression(i) for i in class_H.hamiltonian_el_subs))\n"
   ]
  },
  {
   "cell_type": "code",
   "execution_count": 231,
   "metadata": {},
   "outputs": [],
   "source": [
    "\n",
    "# Parallelize the for loop using joblib\n",
    "results = Parallel()(delayed(list_to_enc_hamilt2)(item.as_ordered_factors(), class_H.qcharge_list + class_H.e_field_list, class_H.qop_list, class_H.eop_list, encoding=class_H.encoding) for item in class_H.hamiltonian_el_subs)\n"
   ]
  },
  {
   "cell_type": "code",
   "execution_count": 46,
   "metadata": {},
   "outputs": [],
   "source": [
    "import multiprocessing \n",
    "from functools import partial"
   ]
  },
  {
   "cell_type": "code",
   "execution_count": 52,
   "metadata": {},
   "outputs": [
    {
     "name": "stderr",
     "output_type": "stream",
     "text": [
      "Process SpawnPoolWorker-125:\n",
      "Process SpawnPoolWorker-126:\n",
      "Process SpawnPoolWorker-127:\n",
      "Traceback (most recent call last):\n",
      "  File \"/Users/crippa/opt/anaconda3/envs/qiskit/lib/python3.9/multiprocessing/process.py\", line 315, in _bootstrap\n",
      "    self.run()\n",
      "  File \"/Users/crippa/opt/anaconda3/envs/qiskit/lib/python3.9/multiprocessing/process.py\", line 108, in run\n",
      "    self._target(*self._args, **self._kwargs)\n",
      "  File \"/Users/crippa/opt/anaconda3/envs/qiskit/lib/python3.9/multiprocessing/pool.py\", line 114, in worker\n",
      "    task = get()\n",
      "  File \"/Users/crippa/opt/anaconda3/envs/qiskit/lib/python3.9/multiprocessing/queues.py\", line 368, in get\n",
      "    return _ForkingPickler.loads(res)\n",
      "AttributeError: Can't get attribute 'list_to_enc_hamilt2' on <module '__main__' (built-in)>\n",
      "Traceback (most recent call last):\n",
      "  File \"/Users/crippa/opt/anaconda3/envs/qiskit/lib/python3.9/multiprocessing/process.py\", line 315, in _bootstrap\n",
      "    self.run()\n",
      "  File \"/Users/crippa/opt/anaconda3/envs/qiskit/lib/python3.9/multiprocessing/process.py\", line 108, in run\n",
      "    self._target(*self._args, **self._kwargs)\n",
      "  File \"/Users/crippa/opt/anaconda3/envs/qiskit/lib/python3.9/multiprocessing/pool.py\", line 114, in worker\n",
      "    task = get()\n",
      "  File \"/Users/crippa/opt/anaconda3/envs/qiskit/lib/python3.9/multiprocessing/queues.py\", line 368, in get\n",
      "    return _ForkingPickler.loads(res)\n",
      "AttributeError: Can't get attribute 'list_to_enc_hamilt2' on <module '__main__' (built-in)>\n",
      "Traceback (most recent call last):\n",
      "  File \"/Users/crippa/opt/anaconda3/envs/qiskit/lib/python3.9/multiprocessing/process.py\", line 315, in _bootstrap\n",
      "    self.run()\n",
      "  File \"/Users/crippa/opt/anaconda3/envs/qiskit/lib/python3.9/multiprocessing/process.py\", line 108, in run\n",
      "    self._target(*self._args, **self._kwargs)\n",
      "  File \"/Users/crippa/opt/anaconda3/envs/qiskit/lib/python3.9/multiprocessing/pool.py\", line 114, in worker\n",
      "    task = get()\n",
      "  File \"/Users/crippa/opt/anaconda3/envs/qiskit/lib/python3.9/multiprocessing/queues.py\", line 368, in get\n",
      "    return _ForkingPickler.loads(res)\n",
      "AttributeError: Can't get attribute 'list_to_enc_hamilt2' on <module '__main__' (built-in)>\n",
      "Process SpawnPoolWorker-128:\n",
      "Traceback (most recent call last):\n",
      "  File \"/Users/crippa/opt/anaconda3/envs/qiskit/lib/python3.9/multiprocessing/process.py\", line 315, in _bootstrap\n",
      "    self.run()\n",
      "  File \"/Users/crippa/opt/anaconda3/envs/qiskit/lib/python3.9/multiprocessing/process.py\", line 108, in run\n",
      "    self._target(*self._args, **self._kwargs)\n",
      "  File \"/Users/crippa/opt/anaconda3/envs/qiskit/lib/python3.9/multiprocessing/pool.py\", line 114, in worker\n",
      "    task = get()\n",
      "  File \"/Users/crippa/opt/anaconda3/envs/qiskit/lib/python3.9/multiprocessing/queues.py\", line 368, in get\n",
      "    return _ForkingPickler.loads(res)\n",
      "AttributeError: Can't get attribute 'list_to_enc_hamilt2' on <module '__main__' (built-in)>\n",
      "Process SpawnPoolWorker-129:\n",
      "Traceback (most recent call last):\n",
      "  File \"/Users/crippa/opt/anaconda3/envs/qiskit/lib/python3.9/multiprocessing/process.py\", line 315, in _bootstrap\n",
      "    self.run()\n",
      "  File \"/Users/crippa/opt/anaconda3/envs/qiskit/lib/python3.9/multiprocessing/process.py\", line 108, in run\n",
      "    self._target(*self._args, **self._kwargs)\n",
      "  File \"/Users/crippa/opt/anaconda3/envs/qiskit/lib/python3.9/multiprocessing/pool.py\", line 114, in worker\n",
      "    task = get()\n",
      "  File \"/Users/crippa/opt/anaconda3/envs/qiskit/lib/python3.9/multiprocessing/queues.py\", line 368, in get\n",
      "    return _ForkingPickler.loads(res)\n",
      "AttributeError: Can't get attribute 'list_to_enc_hamilt2' on <module '__main__' (built-in)>\n",
      "Process SpawnPoolWorker-130:\n",
      "Traceback (most recent call last):\n",
      "  File \"/Users/crippa/opt/anaconda3/envs/qiskit/lib/python3.9/multiprocessing/process.py\", line 315, in _bootstrap\n",
      "    self.run()\n",
      "  File \"/Users/crippa/opt/anaconda3/envs/qiskit/lib/python3.9/multiprocessing/process.py\", line 108, in run\n",
      "    self._target(*self._args, **self._kwargs)\n",
      "  File \"/Users/crippa/opt/anaconda3/envs/qiskit/lib/python3.9/multiprocessing/pool.py\", line 114, in worker\n",
      "    task = get()\n",
      "  File \"/Users/crippa/opt/anaconda3/envs/qiskit/lib/python3.9/multiprocessing/queues.py\", line 368, in get\n",
      "    return _ForkingPickler.loads(res)\n",
      "AttributeError: Can't get attribute 'list_to_enc_hamilt2' on <module '__main__' (built-in)>\n",
      "Process SpawnPoolWorker-131:\n",
      "Traceback (most recent call last):\n",
      "  File \"/Users/crippa/opt/anaconda3/envs/qiskit/lib/python3.9/multiprocessing/process.py\", line 315, in _bootstrap\n",
      "    self.run()\n",
      "  File \"/Users/crippa/opt/anaconda3/envs/qiskit/lib/python3.9/multiprocessing/process.py\", line 108, in run\n",
      "    self._target(*self._args, **self._kwargs)\n",
      "  File \"/Users/crippa/opt/anaconda3/envs/qiskit/lib/python3.9/multiprocessing/pool.py\", line 114, in worker\n",
      "    task = get()\n",
      "  File \"/Users/crippa/opt/anaconda3/envs/qiskit/lib/python3.9/multiprocessing/queues.py\", line 368, in get\n",
      "    return _ForkingPickler.loads(res)\n",
      "AttributeError: Can't get attribute 'list_to_enc_hamilt2' on <module '__main__' (built-in)>\n",
      "Process SpawnPoolWorker-132:\n",
      "Traceback (most recent call last):\n",
      "  File \"/Users/crippa/opt/anaconda3/envs/qiskit/lib/python3.9/multiprocessing/process.py\", line 315, in _bootstrap\n",
      "    self.run()\n",
      "  File \"/Users/crippa/opt/anaconda3/envs/qiskit/lib/python3.9/multiprocessing/process.py\", line 108, in run\n",
      "    self._target(*self._args, **self._kwargs)\n",
      "  File \"/Users/crippa/opt/anaconda3/envs/qiskit/lib/python3.9/multiprocessing/pool.py\", line 114, in worker\n",
      "    task = get()\n",
      "  File \"/Users/crippa/opt/anaconda3/envs/qiskit/lib/python3.9/multiprocessing/queues.py\", line 368, in get\n",
      "    return _ForkingPickler.loads(res)\n",
      "AttributeError: Can't get attribute 'list_to_enc_hamilt2' on <module '__main__' (built-in)>\n",
      "Process SpawnPoolWorker-133:\n",
      "Traceback (most recent call last):\n",
      "  File \"/Users/crippa/opt/anaconda3/envs/qiskit/lib/python3.9/multiprocessing/process.py\", line 315, in _bootstrap\n",
      "    self.run()\n",
      "  File \"/Users/crippa/opt/anaconda3/envs/qiskit/lib/python3.9/multiprocessing/process.py\", line 108, in run\n",
      "    self._target(*self._args, **self._kwargs)\n",
      "  File \"/Users/crippa/opt/anaconda3/envs/qiskit/lib/python3.9/multiprocessing/pool.py\", line 114, in worker\n",
      "    task = get()\n",
      "  File \"/Users/crippa/opt/anaconda3/envs/qiskit/lib/python3.9/multiprocessing/queues.py\", line 368, in get\n",
      "    return _ForkingPickler.loads(res)\n",
      "AttributeError: Can't get attribute 'list_to_enc_hamilt2' on <module '__main__' (built-in)>\n",
      "Process SpawnPoolWorker-134:\n",
      "Traceback (most recent call last):\n",
      "  File \"/Users/crippa/opt/anaconda3/envs/qiskit/lib/python3.9/multiprocessing/process.py\", line 315, in _bootstrap\n",
      "    self.run()\n",
      "  File \"/Users/crippa/opt/anaconda3/envs/qiskit/lib/python3.9/multiprocessing/process.py\", line 108, in run\n",
      "    self._target(*self._args, **self._kwargs)\n",
      "  File \"/Users/crippa/opt/anaconda3/envs/qiskit/lib/python3.9/multiprocessing/pool.py\", line 114, in worker\n",
      "    task = get()\n",
      "  File \"/Users/crippa/opt/anaconda3/envs/qiskit/lib/python3.9/multiprocessing/queues.py\", line 368, in get\n",
      "    return _ForkingPickler.loads(res)\n",
      "AttributeError: Can't get attribute 'list_to_enc_hamilt2' on <module '__main__' (built-in)>\n",
      "Process SpawnPoolWorker-135:\n",
      "Process SpawnPoolWorker-136:\n",
      "Traceback (most recent call last):\n",
      "  File \"/Users/crippa/opt/anaconda3/envs/qiskit/lib/python3.9/multiprocessing/process.py\", line 315, in _bootstrap\n",
      "    self.run()\n",
      "  File \"/Users/crippa/opt/anaconda3/envs/qiskit/lib/python3.9/multiprocessing/process.py\", line 108, in run\n",
      "    self._target(*self._args, **self._kwargs)\n",
      "  File \"/Users/crippa/opt/anaconda3/envs/qiskit/lib/python3.9/multiprocessing/pool.py\", line 114, in worker\n",
      "    task = get()\n",
      "  File \"/Users/crippa/opt/anaconda3/envs/qiskit/lib/python3.9/multiprocessing/queues.py\", line 368, in get\n",
      "    return _ForkingPickler.loads(res)\n",
      "AttributeError: Can't get attribute 'list_to_enc_hamilt2' on <module '__main__' (built-in)>\n",
      "Traceback (most recent call last):\n",
      "  File \"/Users/crippa/opt/anaconda3/envs/qiskit/lib/python3.9/multiprocessing/process.py\", line 315, in _bootstrap\n",
      "    self.run()\n",
      "  File \"/Users/crippa/opt/anaconda3/envs/qiskit/lib/python3.9/multiprocessing/process.py\", line 108, in run\n",
      "    self._target(*self._args, **self._kwargs)\n",
      "  File \"/Users/crippa/opt/anaconda3/envs/qiskit/lib/python3.9/multiprocessing/pool.py\", line 114, in worker\n",
      "    task = get()\n",
      "  File \"/Users/crippa/opt/anaconda3/envs/qiskit/lib/python3.9/multiprocessing/queues.py\", line 368, in get\n",
      "    return _ForkingPickler.loads(res)\n",
      "AttributeError: Can't get attribute 'list_to_enc_hamilt2' on <module '__main__' (built-in)>\n"
     ]
    },
    {
     "ename": "KeyboardInterrupt",
     "evalue": "",
     "output_type": "error",
     "traceback": [
      "\u001b[0;31m---------------------------------------------------------------------------\u001b[0m",
      "\u001b[0;31mKeyboardInterrupt\u001b[0m                         Traceback (most recent call last)",
      "Cell \u001b[0;32mIn[52], line 6\u001b[0m\n\u001b[1;32m      3\u001b[0m \u001b[39mwith\u001b[39;00m Pool() \u001b[39mas\u001b[39;00m pool:\n\u001b[1;32m      4\u001b[0m     partial_func \u001b[39m=\u001b[39m partial(list_to_enc_hamilt2, class_H\u001b[39m.\u001b[39mqcharge_list \u001b[39m+\u001b[39m class_H\u001b[39m.\u001b[39me_field_list, class_H\u001b[39m.\u001b[39mqop_list, class_H\u001b[39m.\u001b[39meop_list, encoding\u001b[39m=\u001b[39mclass_H\u001b[39m.\u001b[39mencoding)\n\u001b[0;32m----> 6\u001b[0m     result \u001b[39m=\u001b[39m pool\u001b[39m.\u001b[39;49mmap(partial_func, [class_H\u001b[39m.\u001b[39;49mdecompose_expression(i) \u001b[39mfor\u001b[39;49;00m i \u001b[39min\u001b[39;49;00m class_H\u001b[39m.\u001b[39;49mhamiltonian_el_subs])\n",
      "File \u001b[0;32m~/opt/anaconda3/envs/qiskit/lib/python3.9/multiprocessing/pool.py:364\u001b[0m, in \u001b[0;36mPool.map\u001b[0;34m(self, func, iterable, chunksize)\u001b[0m\n\u001b[1;32m    359\u001b[0m \u001b[39mdef\u001b[39;00m \u001b[39mmap\u001b[39m(\u001b[39mself\u001b[39m, func, iterable, chunksize\u001b[39m=\u001b[39m\u001b[39mNone\u001b[39;00m):\n\u001b[1;32m    360\u001b[0m     \u001b[39m'''\u001b[39;00m\n\u001b[1;32m    361\u001b[0m \u001b[39m    Apply `func` to each element in `iterable`, collecting the results\u001b[39;00m\n\u001b[1;32m    362\u001b[0m \u001b[39m    in a list that is returned.\u001b[39;00m\n\u001b[1;32m    363\u001b[0m \u001b[39m    '''\u001b[39;00m\n\u001b[0;32m--> 364\u001b[0m     \u001b[39mreturn\u001b[39;00m \u001b[39mself\u001b[39;49m\u001b[39m.\u001b[39;49m_map_async(func, iterable, mapstar, chunksize)\u001b[39m.\u001b[39;49mget()\n",
      "File \u001b[0;32m~/opt/anaconda3/envs/qiskit/lib/python3.9/multiprocessing/pool.py:765\u001b[0m, in \u001b[0;36mApplyResult.get\u001b[0;34m(self, timeout)\u001b[0m\n\u001b[1;32m    764\u001b[0m \u001b[39mdef\u001b[39;00m \u001b[39mget\u001b[39m(\u001b[39mself\u001b[39m, timeout\u001b[39m=\u001b[39m\u001b[39mNone\u001b[39;00m):\n\u001b[0;32m--> 765\u001b[0m     \u001b[39mself\u001b[39;49m\u001b[39m.\u001b[39;49mwait(timeout)\n\u001b[1;32m    766\u001b[0m     \u001b[39mif\u001b[39;00m \u001b[39mnot\u001b[39;00m \u001b[39mself\u001b[39m\u001b[39m.\u001b[39mready():\n\u001b[1;32m    767\u001b[0m         \u001b[39mraise\u001b[39;00m \u001b[39mTimeoutError\u001b[39;00m\n",
      "File \u001b[0;32m~/opt/anaconda3/envs/qiskit/lib/python3.9/multiprocessing/pool.py:762\u001b[0m, in \u001b[0;36mApplyResult.wait\u001b[0;34m(self, timeout)\u001b[0m\n\u001b[1;32m    761\u001b[0m \u001b[39mdef\u001b[39;00m \u001b[39mwait\u001b[39m(\u001b[39mself\u001b[39m, timeout\u001b[39m=\u001b[39m\u001b[39mNone\u001b[39;00m):\n\u001b[0;32m--> 762\u001b[0m     \u001b[39mself\u001b[39;49m\u001b[39m.\u001b[39;49m_event\u001b[39m.\u001b[39;49mwait(timeout)\n",
      "File \u001b[0;32m~/opt/anaconda3/envs/qiskit/lib/python3.9/threading.py:574\u001b[0m, in \u001b[0;36mEvent.wait\u001b[0;34m(self, timeout)\u001b[0m\n\u001b[1;32m    572\u001b[0m signaled \u001b[39m=\u001b[39m \u001b[39mself\u001b[39m\u001b[39m.\u001b[39m_flag\n\u001b[1;32m    573\u001b[0m \u001b[39mif\u001b[39;00m \u001b[39mnot\u001b[39;00m signaled:\n\u001b[0;32m--> 574\u001b[0m     signaled \u001b[39m=\u001b[39m \u001b[39mself\u001b[39;49m\u001b[39m.\u001b[39;49m_cond\u001b[39m.\u001b[39;49mwait(timeout)\n\u001b[1;32m    575\u001b[0m \u001b[39mreturn\u001b[39;00m signaled\n",
      "File \u001b[0;32m~/opt/anaconda3/envs/qiskit/lib/python3.9/threading.py:312\u001b[0m, in \u001b[0;36mCondition.wait\u001b[0;34m(self, timeout)\u001b[0m\n\u001b[1;32m    310\u001b[0m \u001b[39mtry\u001b[39;00m:    \u001b[39m# restore state no matter what (e.g., KeyboardInterrupt)\u001b[39;00m\n\u001b[1;32m    311\u001b[0m     \u001b[39mif\u001b[39;00m timeout \u001b[39mis\u001b[39;00m \u001b[39mNone\u001b[39;00m:\n\u001b[0;32m--> 312\u001b[0m         waiter\u001b[39m.\u001b[39;49macquire()\n\u001b[1;32m    313\u001b[0m         gotit \u001b[39m=\u001b[39m \u001b[39mTrue\u001b[39;00m\n\u001b[1;32m    314\u001b[0m     \u001b[39melse\u001b[39;00m:\n",
      "\u001b[0;31mKeyboardInterrupt\u001b[0m: "
     ]
    }
   ],
   "source": [
    "pool = multiprocessing.Pool()\n",
    "\n",
    "with Pool() as pool:\n",
    "    partial_func = partial(list_to_enc_hamilt2, class_H.qcharge_list + class_H.e_field_list, class_H.qop_list, class_H.eop_list, encoding=class_H.encoding)\n",
    "\n",
    "    result = pool.map(partial_func, [class_H.decompose_expression(i) for i in class_H.hamiltonian_el_subs])\n"
   ]
  },
  {
   "attachments": {},
   "cell_type": "markdown",
   "metadata": {},
   "source": [
    "##### Memory functions"
   ]
  },
  {
   "attachments": {},
   "cell_type": "markdown",
   "metadata": {},
   "source": [
    ">>> 3^10*2*64/8/1000/1000/1000\n",
    ".00094478400000000000\n",
    ">>> 7^10*2*64/8/1000/1000/1000\n",
    "4.51960398400000000000\n",
    ">>> "
   ]
  },
  {
   "cell_type": "code",
   "execution_count": 47,
   "metadata": {},
   "outputs": [
    {
     "data": {
      "text/plain": [
       "0.15625"
      ]
     },
     "execution_count": 47,
     "metadata": {},
     "output_type": "execute_result"
    }
   ],
   "source": [
    "(2*l+1)**10*16/1000**3"
   ]
  },
  {
   "cell_type": "code",
   "execution_count": 37,
   "metadata": {},
   "outputs": [],
   "source": [
    "def estimate_sparse_matrix_memory(rows, nnz):\n",
    "    index_size = 4  #int\n",
    "    value_size = 8  #float\n",
    "    \n",
    "    # Memory required for non-zero indices and values\n",
    "    data_memory = nnz * (index_size + value_size)\n",
    "    \n",
    "    # Memory required for row pointers\n",
    "    row_ptr_memory = (rows + 1) * index_size\n",
    "    \n",
    "    # Total memory\n",
    "    total_memory = data_memory + row_ptr_memory\n",
    "    \n",
    "    return total_memory"
   ]
  },
  {
   "cell_type": "code",
   "execution_count": 38,
   "metadata": {},
   "outputs": [
    {
     "name": "stdout",
     "output_type": "stream",
     "text": [
      "1.467249992\n"
     ]
    }
   ],
   "source": [
    "#memory sparse matrix\n",
    "print((Hamiltonian_Pauli_tot.data.nbytes + Hamiltonian_Pauli_tot.indptr.nbytes + Hamiltonian_Pauli_tot.indices.nbytes)/1000**3)"
   ]
  },
  {
   "cell_type": "code",
   "execution_count": 39,
   "metadata": {},
   "outputs": [
    {
     "data": {
      "text/plain": [
       "1.467249992"
      ]
     },
     "execution_count": 39,
     "metadata": {},
     "output_type": "execute_result"
    }
   ],
   "source": [
    "estimate_sparse_matrix_memory((2*l+1)**10,Hamiltonian_Pauli_tot.count_nonzero())/1000**3"
   ]
  },
  {
   "cell_type": "code",
   "execution_count": 23,
   "metadata": {},
   "outputs": [
    {
     "name": "stdout",
     "output_type": "stream",
     "text": [
      "number of active gauge links after Gauss law applied: 10\n",
      "Rough estimation of memory needed for sparse Hamiltonian 9765625x9765625, ed. encoding for gauge fields and 0-charge sector for fermions\n",
      "ed 0.039112504 Gb\n",
      "Rough estimation of memory needed for sparse Hamiltonian 2^30.0x2^30.0, Gray encoding for gauge fields and 0-charge sector for fermions (50):\n",
      " 4.2950173 Gb\n"
     ]
    }
   ],
   "source": [
    "# def memory_func():\n",
    "#     gauge_indep = len(latt.graph.edges)- (len(latt.graph.nodes)-1)\n",
    "#     print('number of active gauge links after Gauss law applied:', gauge_indep)\n",
    "\n",
    "\n",
    "#     #ED\n",
    "#     if puregauge:\n",
    "#         ed_size_row = (2*l+1)**(len(latt.graph.edges)- (len(latt.graph.nodes)-1))\n",
    "#     else :\n",
    "#         ed_size_row = (2*l+1)**(len(latt.graph.edges)- (len(latt.graph.nodes)-1))*2**len(latt.graph.nodes)\n",
    "#     ferm_states = 0 if puregauge else len(set(permutations('0'*(latt.n_sitestot//2)+'1'*(latt.n_sitestot//2))))\n",
    "#     nonzero_el = ((2*l+1)*gauge_indep+ferm_states)\n",
    "#     print(f'Rough estimation of memory needed for sparse Hamiltonian {ed_size_row}x{ed_size_row}, ed. encoding for gauge fields and 0-charge sector for fermions')\n",
    "#     print('ed',estimate_sparse_matrix_memory(ed_size_row,nonzero_el**2)/10**9,'Gb')\n",
    "\n",
    "#     #GRAY\n",
    "#     if puregauge:\n",
    "#         size_row = (np.ceil(np.log2(2*l+1))*gauge_indep)  \n",
    "#         #print(f'{gauge_indep} gauge fields: {np.ceil(np.log2(2*l+1))} bits for every gauge field')\n",
    "#     else :\n",
    "#         size_row = (len(latt.graph.nodes)+np.ceil(np.log2(2*l+1))*gauge_indep)\n",
    "#         #print(f'{gauge_indep} gauge fields: {np.ceil(np.log2(2*l+1))} bits for every gauge field, fermions:{len(latt.graph.nodes)}  bits for every site')\n",
    "#     ferm_states = 0 if puregauge else len(set(permutations('0'*(latt.n_sitestot//2)+'1'*(latt.n_sitestot//2))))\n",
    "#     nonzero_el = ((2*l+1)*gauge_indep+ferm_states)\n",
    "#     print(f'Rough estimation of memory needed for sparse Hamiltonian 2^{size_row}x2^{size_row}, Gray encoding for gauge fields and 0-charge sector for fermions ({nonzero_el}):\\n',\n",
    "#     estimate_sparse_matrix_memory(2**size_row,nonzero_el**2)/10**9,'Gb')\n",
    "\n",
    "#     return\n",
    "\n",
    "# memory_func()"
   ]
  },
  {
   "cell_type": "code",
   "execution_count": 19,
   "metadata": {},
   "outputs": [
    {
     "data": {
      "text/plain": [
       "27.159129202365875"
      ]
     },
     "execution_count": 19,
     "metadata": {},
     "output_type": "execute_result"
    }
   ],
   "source": [
    "\n",
    "def memory_array_fromshape(tupl,type_=np.float64):\n",
    "    \"\"\"return the memory in GiB of a dense array with shape tupl\"\"\"\n",
    "    #exaple (3645236616,) *8/1024**3 #27.2 GiB\n",
    "    #result in GiB\n",
    "    if type_==np.float64 or type_==np.int64:\n",
    "        return  np.prod(tupl)*8/1024**3\n",
    "    elif type_==np.complex128:\n",
    "        return  np.prod(tupl)*16/1024**3\n",
    "    \n",
    "memory_array_fromshape((3645236616,)) #27.2 GiB"
   ]
  },
  {
   "attachments": {},
   "cell_type": "markdown",
   "metadata": {},
   "source": [
    "##### Class Hamilt"
   ]
  },
  {
   "cell_type": "code",
   "execution_count": 464,
   "metadata": {},
   "outputs": [],
   "source": [
    "#class input parameters:\n",
    "n_sites = [2,3]#how many sites for every dimension\n",
    "g=0.1\n",
    "fact_e_op = 1\n",
    "fact_b_op = 1\n",
    "m=3\n",
    "omega=1\n",
    "l=1\n",
    "L=8\n",
    "rotors = False\n",
    "lambd = 1000\n",
    "encoding = 'ed'#'gray' #\n",
    "magnetic_basis=True\n",
    "pbc=False\n",
    "puregauge = True \n",
    "static_charges_values =None#{(0,0):1,(1,0):-1}#TODO: no conditions applied, like charge conservation, etc. For conditions see func_qstatic_dist\n",
    "display_hamiltonian=False\n",
    "e_op_out_plus=False #if E out of site n has plus sign \n",
    "\n",
    "#exact diagonalisation parameters:\n",
    "threshold = 1e-12\n",
    "num_eigs = 3"
   ]
  },
  {
   "cell_type": "code",
   "execution_count": 465,
   "metadata": {},
   "outputs": [],
   "source": [
    "latt = HCLattice(n_sites,pbc=pbc)\n"
   ]
  },
  {
   "cell_type": "code",
   "execution_count": 466,
   "metadata": {},
   "outputs": [
    {
     "data": {
      "image/png": "[encoded data removed]",
      "text/plain": [
       "<Figure size 576x432 with 1 Axes>"
      ]
     },
     "metadata": {},
     "output_type": "display_data"
    }
   ],
   "source": [
    "#TODO: in this case no conditions applied\n",
    "latt.draw_graph_func(gauss_law_fig=False,static_charges=static_charges_values)\n",
    "#only dynamical fields after Gauss law applied\n",
    "#latt.draw_graph_func(gauss_law_fig=True,e_op_free=class_H.e_op_free)#,savefig_dir='.')"
   ]
  },
  {
   "cell_type": "code",
   "execution_count": 467,
   "metadata": {},
   "outputs": [],
   "source": [
    "#latt.func_qstatic_dist()#ch_val=1)\n",
    "#[latt.draw_graph_func(gauss_law_fig=False,static_charges=st ) for st in latt.distances_coord]#,savefig_dir='.')"
   ]
  },
  {
   "cell_type": "code",
   "execution_count": 468,
   "metadata": {},
   "outputs": [
    {
     "name": "stdout",
     "output_type": "stream",
     "text": [
      "HamiltonianQED: Initializing...\n",
      "> Gauss law equations solved\n",
      "> e_op_free and u_op_free built\n",
      "> Pauli strings built\n",
      "Magnetic basis used for electric H\n",
      "Hamiltonian B mag basis: done\n",
      ">> Gauss law applied and Hamiltonian built.  Execution time: 27.312903881072998 seconds\n",
      ">> Suppression term built.  Execution time: 0.0002741813659667969 seconds\n"
     ]
    }
   ],
   "source": [
    "class_H = HamiltonianQED(\n",
    "                        latt,\n",
    "                        n_sites,\n",
    "                        l,\n",
    "                        ll=L,\n",
    "                        encoding = encoding,\n",
    "                        rotors=rotors,\n",
    "                        magnetic_basis=magnetic_basis,\n",
    "                        pbc=pbc,\n",
    "                        puregauge=puregauge,\n",
    "                        static_charges_values=static_charges_values,\n",
    "                        e_op_out_plus = e_op_out_plus,\n",
    "                        display_hamiltonian=display_hamiltonian)"
   ]
  },
  {
   "cell_type": "code",
   "execution_count": 11,
   "metadata": {},
   "outputs": [],
   "source": [
    "def sparse_mem2(sparsem):\n",
    "    \"\"\"Return the memory in GiB of a sparse matrix\"\"\"\n",
    "    return (sparsem.data.nbytes + sparsem.indptr.nbytes + sparsem.indices.nbytes)/1024**3"
   ]
  },
  {
   "attachments": {},
   "cell_type": "markdown",
   "metadata": {},
   "source": [
    "##### lattice and ED spectrum"
   ]
  },
  {
   "cell_type": "code",
   "execution_count": 11,
   "metadata": {},
   "outputs": [],
   "source": [
    "#NEW PAULI rules:\n",
    "#SparsePauliOp @ only with other SparsePauliOp\n",
    "#Pauli @ only with other Pauli\n",
    "# tensor ^ only between Pauli not with numbers like before that I^2 ==II . not working anymore"
   ]
  },
  {
   "cell_type": "code",
   "execution_count": 12,
   "metadata": {},
   "outputs": [
    {
     "data": {
      "image/png": "[encoded data removed]",
      "text/plain": [
       "<Figure size 576x432 with 1 Axes>"
      ]
     },
     "metadata": {},
     "output_type": "display_data"
    }
   ],
   "source": [
    "latt.draw_graph_func(gauss_law_fig=False)#,savefig_dir='.')"
   ]
  },
  {
   "cell_type": "code",
   "execution_count": 31,
   "metadata": {},
   "outputs": [],
   "source": [
    "import scipy.sparse as sp"
   ]
  },
  {
   "cell_type": "code",
   "execution_count": 472,
   "metadata": {},
   "outputs": [
    {
     "name": "stdout",
     "output_type": "stream",
     "text": [
      "1.34e-06 Gb\n",
      "Spectrum of 2D_2x3H with mbasisTruepuregaugeTrue pbcFalse_g0.1_l1_L8_factE1_factB1_m3_Omega1, encoding:ed\n",
      "E_0= -199.09117537\n",
      "E_1= -192.51972172\n",
      "E_2= -192.24965882\n",
      "plaq=0.999748619699202\n"
     ]
    }
   ],
   "source": [
    "Hamiltonian_Pauli_tot = class_H.get_hamiltonian(g_var=g, m_var=m, omega=omega,fact_b_op=fact_b_op,fact_e_op=fact_b_op,lambd=lambd)\n",
    "#memory sparse matrix\n",
    "print((Hamiltonian_Pauli_tot.data.nbytes + Hamiltonian_Pauli_tot.indptr.nbytes + Hamiltonian_Pauli_tot.indices.nbytes)/1000**3,'Gb')\n",
    "if encoding=='gray':\n",
    "    Hamiltonian_Pauli_tot = Hamiltonian_Pauli_tot#.to_matrix(sparse=True)\n",
    "    h_b_sparse = class_H.hamiltonian_mag_pauli#.to_matrix(sparse=True) #plaquette\n",
    "elif encoding=='ed':\n",
    "    Hamiltonian_Pauli_tot = sp.csr_matrix(Hamiltonian_Pauli_tot)\n",
    "    h_b_sparse =sp.csr_matrix(class_H.hamiltonian_mag_pauli)\n",
    "#spectrum, eigenvectors_matrix = eigsh(Hamiltonian_Pauli_tot,k=num_eigs,which=\"SA\",ncv = 30)#\n",
    "spectrum, eigenvectors_matrix =primme.eigsh(Hamiltonian_Pauli_tot,k=num_eigs,which=\"SA\")#,ncv = 30)\n",
    "#spectrum\n",
    "idx = spectrum.argsort() \n",
    "spectrum = spectrum[idx]\n",
    "eigenvectors_matrix = eigenvectors_matrix[:,idx]\n",
    "print(f'Spectrum of {latt.dims}D_'+'x'.join([str(i) for i in n_sites])+f'H with mbasis{magnetic_basis}puregauge{puregauge} pbc{pbc}_g{g}_l{l}_L{L}_factE{fact_e_op}_factB{fact_b_op}_m{m}_Omega{omega}, encoding:'+encoding)\n",
    "for kk,evalu in enumerate(spectrum):\n",
    "        if evalu<900:# only physical states, 1000 corresponds to factor of penalty term\n",
    "                print(f'E_{kk}=',round(evalu,8))\n",
    "\n",
    "if class_H.len_e_op != 0:\n",
    "    eig0cj = sp.csr_matrix(eigenvectors_matrix[:,0]).transpose().conjugate()#.conj().T\n",
    "    eig0= sp.csr_matrix(eigenvectors_matrix[:,0])\n",
    "    plaq = (eig0*h_b_sparse*eig0cj/len(latt.plaq_list) ).toarray()[0][0].real\n",
    "    #plaq = (eig0cj.dot((h_b_sparse).dot(eig0)).real)/len(latt.plaq_list) \n",
    "    print(f'plaq={plaq}')\n",
    "                \n",
    "                         "
   ]
  },
  {
   "attachments": {},
   "cell_type": "markdown",
   "metadata": {},
   "source": [
    "Spectrum of 2D_2x3H with mbasisTruepuregaugeTrue pbcFalse_g0.1_l1_L8_factE1_factB1_m3_Omega1, encoding:ed\n",
    "E_0= -199.09117537\n",
    "E_1= -192.51972172\n",
    "E_2= -192.24965882\n",
    "plaq=0.999748619699202\n",
    "\n",
    "Spectrum of H with mbasisFalsepuregaugeTrue pbcTrue_g1_l1_factE1_factB1_m3_Omega1_TNFalse, encoding:ed\n",
    "E_0= -1.0066823\n",
    "E_1= -0.26964819\n",
    "plaq=0.4623451128853849\n",
    "\n",
    "\n",
    "Spectrum of H with mbasisFalsepuregaugeFalse pbcTrue_g1_l1_factE1_factB1_m3_Omega1_TNFalse, encoding:ed\n",
    "E_0= -7.30371524\n",
    "E_1= -6.55004296\n",
    "E_2= -6.53959578\n",
    "plaq= 0.45649020277218433"
   ]
  },
  {
   "attachments": {},
   "cell_type": "markdown",
   "metadata": {},
   "source": [
    "##### Test mag basis"
   ]
  },
  {
   "cell_type": "code",
   "execution_count": 50,
   "metadata": {},
   "outputs": [],
   "source": [
    "from functools import reduce\n",
    "n_kron  = lambda arg_list:reduce( lambda x, y: np.kron( x, y ), arg_list)"
   ]
  },
  {
   "cell_type": "code",
   "execution_count": 270,
   "metadata": {},
   "outputs": [
    {
     "data": {
      "text/plain": [
       "array([[-1.+0.j,  0.+0.j,  0.+0.j,  0.+0.j],\n",
       "       [ 0.+0.j,  0.+0.j,  0.+0.j,  0.+0.j],\n",
       "       [ 0.+0.j,  0.+0.j,  0.+0.j,  0.+0.j],\n",
       "       [ 0.+0.j,  0.+0.j,  0.+0.j,  1.+0.j]])"
      ]
     },
     "execution_count": 270,
     "metadata": {},
     "output_type": "execute_result"
    }
   ],
   "source": [
    "class_H.str_to_pauli(\n",
    "                class_H._r_c()[1], class_H._n_qubits_g()\n",
    "            ).to_matrix(sparse=False)"
   ]
  },
  {
   "cell_type": "code",
   "execution_count": 39,
   "metadata": {},
   "outputs": [
    {
     "data": {
      "text/plain": [
       "(array([-2., -1.,  0.,  1.,  2.], dtype=float32),\n",
       " array([[1., 0., 0., 0., 0.],\n",
       "        [0., 1., 0., 0., 0.],\n",
       "        [0., 0., 1., 0., 0.],\n",
       "        [0., 0., 0., 1., 0.],\n",
       "        [0., 0., 0., 0., 1.]], dtype=float32))"
      ]
     },
     "execution_count": 39,
     "metadata": {},
     "output_type": "execute_result"
    }
   ],
   "source": [
    "np.linalg.eig(class_H.e_oper.toarray())"
   ]
  },
  {
   "cell_type": "code",
   "execution_count": 141,
   "metadata": {},
   "outputs": [],
   "source": [
    "from qiskit.quantum_info import SparsePauliOp\n",
    "from sympy import Symbol,symbols,solve,lambdify,Mul,Eq,latex,expand,simplify,Pow,Float,Integer,cos\n",
    "from scipy import sparse"
   ]
  },
  {
   "cell_type": "code",
   "execution_count": 409,
   "metadata": {},
   "outputs": [
    {
     "name": "stdout",
     "output_type": "stream",
     "text": [
      "(1024,)\n",
      "(1024,)\n",
      "(1024,)\n",
      "(1024,)\n"
     ]
    }
   ],
   "source": [
    "\n",
    "U_mag_subs = {\n",
    "    **{\n",
    "        el_uop: Symbol(\"E_\" + el_uop.name[2:])\n",
    "        for el_uop in class_H.u_op_free\n",
    "    },\n",
    "    **{\n",
    "        el_uop: Symbol(\"E_\" + el_uop.name[2:-1] + \"m\")\n",
    "        for el_uop in class_H.u_op_free_dag\n",
    "    },\n",
    "}\n",
    "hamiltonian_mag_sym = [\n",
    "    [U_mag_subs.get(item, item) for item in sublst if item != 1]\n",
    "    for sublst in class_H.hamiltonian_mag_subs\n",
    "]\n",
    "e_op_dict_mbasis = dict(class_H.e_field_list)\n",
    "# compute exp(i*alpha*E)\n",
    "ei_class = lambda fct: class_H.matx_exp(fct * class_H.e_oper, 1j * class_H.alpha)\n",
    "\n",
    "hamiltonian_mag_pauli2 = []\n",
    "for ei in hamiltonian_mag_sym:\n",
    "    id_eop = {}#dict with position for tensor product as keys and ±1 as values\n",
    "    for e in ei:\n",
    "        if e in e_op_dict_mbasis.keys():\n",
    "            id_eop[list(e_op_dict_mbasis.keys()).index(e)] = 1  #'p'== +\n",
    "        else:\n",
    "            id_eop[\n",
    "                list(e_op_dict_mbasis.keys()).index(Symbol(e.name[:-1]))\n",
    "            ] = -1  #'m'== -\n",
    "\n",
    "    if class_H.sparse_pauli:\n",
    "\n",
    "\n",
    "        if class_H.encoding == \"gray\":\n",
    "            arg_cos = np.zeros(2**(class_H._n_qubits_g()*class_H.len_e_op),dtype=np.complex128)\n",
    "            left_factor = lambda key: 2**(class_H._n_qubits_g()*(class_H.len_e_op-key-1))\n",
    "            e_vals_eop = np.linalg.eig(class_H.e_oper.toarray())[0]\n",
    "            right_factor = lambda key: 2**(class_H._n_qubits_g()*key)\n",
    "        elif class_H.encoding == \"ed\":\n",
    "            arg_cos = np.zeros((2 * class_H.l_par + 1)**class_H.len_e_op,dtype=np.complex128)\n",
    "            left_factor = lambda key:(2 * class_H.l_par + 1)**(class_H.len_e_op-key-1)\n",
    "            e_vals_eop = np.arange(- class_H.l_par, class_H.l_par+1)\n",
    "            right_factor = lambda key:(2 * class_H.l_par + 1)**key\n",
    "        else:\n",
    "            raise ValueError(\"encoding not recognized\")\n",
    "\n",
    "\n",
    "        for key,val in id_eop.items():\n",
    "            if key==class_H.len_e_op-1:\n",
    "                arg_cos+= val*n_kron([e_vals_eop,np.ones(right_factor(key))] )\n",
    "            elif key==0:\n",
    "                arg_cos+= val*n_kron([np.ones(left_factor(key)),e_vals_eop] ) \n",
    "            else:   \n",
    "                arg_cos+= val*n_kron([np.ones(left_factor(key)),e_vals_eop,np.ones(right_factor(key))] )\n",
    "\n",
    "        print(np.shape(arg_cos))\n",
    "        hamiltonian_mag_pauli2.append(sp.diags(np.cos(class_H.alpha*arg_cos)))\n",
    "        \n",
    "    else:#old method with cosE as exp(iE)+exp(-iE)/2. necessary if gray and sparse_pauli=False\n",
    "        if class_H.encoding == \"gray\":\n",
    "            idx = class_H.tensor_prod(\n",
    "                class_H.I, (class_H._n_qubits_g())\n",
    "            )  # Gray encoding for E field\n",
    "        elif (\n",
    "            class_H.encoding == \"ed\"\n",
    "        ):  # exact diagonaliz. dimensions of gauge fields 2l+1\n",
    "            idx = sparse.eye(2 * class_H.l_par + 1,format='csr')\n",
    "        if len(ei) == 1:  # cos 1 operator is enough and rest is I\n",
    "            \n",
    "            cos1 = [\n",
    "                class_H.cos_oper(ei_class(id_eop[i])) if i in id_eop else idx\n",
    "                for i in range(class_H.len_e_op)[::-1]\n",
    "            ]  # inverse because little endian\n",
    "\n",
    "            hamiltonian_mag_pauli2.append(HamiltonianQED.pauli_tns(*cos1))\n",
    "\n",
    "        else:\n",
    "            # compute cosine of multiple operators cos(E1+E2+...)=e^iE1 e^iE2 ... + e^-iE1 e^-iE2 ... /2\n",
    "            cosn = class_H.cos_oper(\n",
    "                class_H.pauli_tns(\n",
    "                    *[\n",
    "                        ei_class(id_eop[i]) if i in id_eop else idx\n",
    "                        for i in range(class_H.len_e_op)\n",
    "                    ][min(id_eop) : max(id_eop) + 1][::-1]\n",
    "                )\n",
    "            )\n",
    "            # combine with identities, e.g. cos(E2+E3) -> I^cos(E2+E3)^I^I (q4^q3^q2^q1^q0)\n",
    "            hamiltonian_mag_pauli2.append(\n",
    "                class_H.pauli_tns(\n",
    "                    *[idx for i in range(class_H.len_e_op)[::-1]][\n",
    "                        max(id_eop) + 1 :\n",
    "                    ]\n",
    "                    + [cosn]\n",
    "                    + [idx for i in range(class_H.len_e_op)[::-1]][\n",
    "                        : min(id_eop)\n",
    "                    ]\n",
    "                )\n",
    "            )"
   ]
  },
  {
   "cell_type": "code",
   "execution_count": 402,
   "metadata": {},
   "outputs": [
    {
     "data": {
      "text/plain": [
       "<1024x1024 sparse matrix of type '<class 'numpy.complex128'>'\n",
       "\twith 1024 stored elements (1 diagonals) in DIAgonal format>"
      ]
     },
     "execution_count": 402,
     "metadata": {},
     "output_type": "execute_result"
    }
   ],
   "source": []
  },
  {
   "cell_type": "code",
   "execution_count": 329,
   "metadata": {},
   "outputs": [],
   "source": [
    "def r_c(l_par):\n",
    "    symlist = [\"I\", \"X\", \"Y\", \"Z\", \"Sd\", \"S-\", \"Su\", \"S+\"]\n",
    "    \"\"\"Rotator-string/Electric field operator.\n",
    "    Function equivalent to S_z term.\n",
    "    Defined for Gray encoding\"\"\"\n",
    "    n_qubits_g = int(np.ceil(np.log2(2 * l_par + 1)))\n",
    "    def gray_map(l_par):\n",
    "        \"\"\"Gray map dictionary for a certain value of the truncation parameter l.\n",
    "        for example if l = 1, it returns:{-1: '00', 0: '01', 1: '11'}\"\"\"\n",
    "        ret = {}\n",
    "        for i in range(0, 2 * l_par + 1):\n",
    "            gray_decimal = i ^ (i >> 1)\n",
    "            ret[i - l_par] = \"{0:0{1}b}\".format(gray_decimal, n_qubits_g)\n",
    "        return ret\n",
    "\n",
    "    states_list = list(range(-l_par, l_par + 1))  # states: -l, ..., l\n",
    "    e_op_list = []\n",
    "    for st_fact in states_list:\n",
    "        if st_fact != 0:\n",
    "            # using the fact that the superposition encoding is only for st_fact=0\n",
    "            e_op_list.append(\n",
    "                [\n",
    "                    st_fact,\n",
    "                    *HamiltonianQED._trans_map(\n",
    "                        gray_map(l_par)[st_fact], gray_map(l_par)[st_fact]\n",
    "                    ),\n",
    "                ]\n",
    "            )\n",
    "    e_oper = [\n",
    "        [\n",
    "            v_elem[0],\n",
    "            [\n",
    "                f\"{symlist[s_tmp]}_{n_qubits_g-i-1}\"\n",
    "                for i, s_tmp in enumerate(v_elem[1:])\n",
    "            ],\n",
    "        ]\n",
    "        for v_elem in e_op_list\n",
    "    ]\n",
    "    e_oper_str = [\n",
    "        f\"{v_elem[0]} \"\n",
    "        + \" \".join(\n",
    "            f\"{symlist[s_tmp]}_{n_qubits_g-i-1}\"\n",
    "            for i, s_tmp in enumerate(v_elem[1:])\n",
    "        )\n",
    "        for v_elem in e_op_list\n",
    "    ]\n",
    "    return e_oper, e_oper_str"
   ]
  },
  {
   "cell_type": "code",
   "execution_count": 378,
   "metadata": {},
   "outputs": [
    {
     "name": "stdout",
     "output_type": "stream",
     "text": [
      "0 1\n"
     ]
    }
   ],
   "source": [
    "# if sparsepauli true\n",
    "\n",
    "\n",
    "if class_H.encoding == \"gray\":\n",
    "    arg_cos = np.zeros(2**(class_H._n_qubits_g()*class_H.len_e_op),dtype=np.complex128)\n",
    "    left_factor = lambda key: 2**(class_H._n_qubits_g()*(class_H.len_e_op-key-1))\n",
    "    e_vals_eop = np.linalg.eig(class_H.e_oper.toarray())[0]\n",
    "    right_factor = lambda key: 2**(class_H._n_qubits_g()*key)\n",
    "elif class_H.encoding == \"ed\":\n",
    "    arg_cos = np.zeros((2 * class_H.l_par + 1)**class_H.len_e_op,dtype=np.complex128)\n",
    "    left_factor = lambda key:(2 * class_H.l_par + 1)**(class_H.len_e_op-key-1)\n",
    "    e_vals_eop = np.arange(- class_H.l_par, class_H.l_par+1)\n",
    "    right_factor = lambda key:(2 * class_H.l_par + 1)**key\n",
    "else:\n",
    "    raise ValueError(\"encoding not recognized\")\n",
    "\n",
    "\n",
    "for key,val in id_eop.items():\n",
    "    if key==class_H.len_e_op-1:\n",
    "        arg_cos+= val*n_kron([e_vals_eop,np.ones(right_factor(key))] )\n",
    "    elif key==0:\n",
    "        arg_cos+= val*n_kron([np.ones(left_factor(key)),e_vals_eop] ) \n",
    "    else:   \n",
    "        arg_cos+= val*n_kron([np.ones(left_factor(key)),e_vals_eop,np.ones(right_factor(key))] )\n",
    "\n",
    "\n",
    "test1=sp.diags(np.cos(class_H.alpha*arg_cos)).toarray()"
   ]
  },
  {
   "cell_type": "code",
   "execution_count": 383,
   "metadata": {},
   "outputs": [
    {
     "data": {
      "text/plain": [
       "<1024x1024 sparse matrix of type '<class 'numpy.complex128'>'\n",
       "\twith 1024 stored elements in Compressed Sparse Row format>"
      ]
     },
     "execution_count": 383,
     "metadata": {},
     "output_type": "execute_result"
    }
   ],
   "source": [
    "class_H.pauli_tns(*cos1)"
   ]
  },
  {
   "cell_type": "code",
   "execution_count": 379,
   "metadata": {},
   "outputs": [
    {
     "data": {
      "text/plain": [
       "array([[0.+0.j, 0.+0.j, 0.+0.j, ..., 0.+0.j, 0.+0.j, 0.+0.j],\n",
       "       [0.+0.j, 0.+0.j, 0.+0.j, ..., 0.+0.j, 0.+0.j, 0.+0.j],\n",
       "       [0.+0.j, 0.+0.j, 0.+0.j, ..., 0.+0.j, 0.+0.j, 0.+0.j],\n",
       "       ...,\n",
       "       [0.+0.j, 0.+0.j, 0.+0.j, ..., 0.+0.j, 0.+0.j, 0.+0.j],\n",
       "       [0.+0.j, 0.+0.j, 0.+0.j, ..., 0.+0.j, 0.+0.j, 0.+0.j],\n",
       "       [0.+0.j, 0.+0.j, 0.+0.j, ..., 0.+0.j, 0.+0.j, 0.+0.j]])"
      ]
     },
     "execution_count": 379,
     "metadata": {},
     "output_type": "execute_result"
    }
   ],
   "source": [
    "hamiltonian_mag_pauli[0].toarray()-test1"
   ]
  },
  {
   "cell_type": "code",
   "execution_count": 320,
   "metadata": {},
   "outputs": [],
   "source": [
    "#TODO add this to class_H for cos and add option gray encoding"
   ]
  },
  {
   "cell_type": "code",
   "execution_count": 321,
   "metadata": {},
   "outputs": [],
   "source": [
    "#only for 1 operator at pos 0\n",
    "test0 =sparse.diags(np.cos(class_H.alpha*np.kron(np.ones((2 * class_H.l_par + 1)**(class_H.len_e_op-1)),np.arange(- class_H.l_par, class_H.l_par+1))))"
   ]
  },
  {
   "cell_type": "code",
   "execution_count": 322,
   "metadata": {},
   "outputs": [
    {
     "data": {
      "text/plain": [
       "matrix([[0.+0.j, 0.+0.j, 0.+0.j, ..., 0.+0.j, 0.+0.j, 0.+0.j],\n",
       "        [0.+0.j, 0.+0.j, 0.+0.j, ..., 0.+0.j, 0.+0.j, 0.+0.j],\n",
       "        [0.+0.j, 0.+0.j, 0.+0.j, ..., 0.+0.j, 0.+0.j, 0.+0.j],\n",
       "        ...,\n",
       "        [0.+0.j, 0.+0.j, 0.+0.j, ..., 0.+0.j, 0.+0.j, 0.+0.j],\n",
       "        [0.+0.j, 0.+0.j, 0.+0.j, ..., 0.+0.j, 0.+0.j, 0.+0.j],\n",
       "        [0.+0.j, 0.+0.j, 0.+0.j, ..., 0.+0.j, 0.+0.j, 0.+0.j]])"
      ]
     },
     "execution_count": 322,
     "metadata": {},
     "output_type": "execute_result"
    }
   ],
   "source": [
    "test0-test1"
   ]
  },
  {
   "cell_type": "code",
   "execution_count": 112,
   "metadata": {},
   "outputs": [
    {
     "data": {
      "text/plain": [
       "array([5., 2., 5., 2., 5., 2., 5., 2., 5., 2., 5., 2., 5., 2., 5., 2.])"
      ]
     },
     "execution_count": 112,
     "metadata": {},
     "output_type": "execute_result"
    }
   ],
   "source": [
    "n_kron([np.ones(8),np.array([ 5.,  2.])])#*sp.eye(4)"
   ]
  },
  {
   "cell_type": "code",
   "execution_count": 84,
   "metadata": {},
   "outputs": [
    {
     "data": {
      "text/plain": [
       "array([[5., 0., 0., 0.],\n",
       "       [0., 2., 0., 0.],\n",
       "       [0., 0., 5., 0.],\n",
       "       [0., 0., 0., 2.]])"
      ]
     },
     "execution_count": 84,
     "metadata": {},
     "output_type": "execute_result"
    }
   ],
   "source": [
    "n_kron([np.ones(2),np.array([ 5.,  2.])])*np.eye(4) #right quante volte si ripete ogni val in array/ left quanto volte si ripete tutto l'array"
   ]
  },
  {
   "attachments": {},
   "cell_type": "markdown",
   "metadata": {},
   "source": [
    "##### cProfile"
   ]
  },
  {
   "cell_type": "code",
   "execution_count": 9,
   "metadata": {},
   "outputs": [],
   "source": [
    "from memory_profiler import profile,memory_usage\n",
    "#use this in class and put @profile on top of function that you want to profile"
   ]
  },
  {
   "cell_type": "code",
   "execution_count": 10,
   "metadata": {},
   "outputs": [
    {
     "name": "stdout",
     "output_type": "stream",
     "text": [
      "list_to_enc_hamilt [] [E_12y, E_11y, E_10y, E_02y, E_20x, E_22y, E_22x, E_21y, E_20y, E_21x]\n",
      "list_to_enc_hamilt [] [U_12y, U_11y, U_10y, U_02y, U_20x, U_22y, U_22x, U_21y, U_20y, U_21x]\n",
      "Maximum memory usage: 3111.671875\n"
     ]
    }
   ],
   "source": [
    "print('Maximum memory usage: %s' % max(memory_usage(class_H.build_hamiltonian_tot)))"
   ]
  },
  {
   "cell_type": "code",
   "execution_count": 221,
   "metadata": {},
   "outputs": [],
   "source": [
    "import cProfile,sys"
   ]
  },
  {
   "cell_type": "code",
   "execution_count": 222,
   "metadata": {},
   "outputs": [
    {
     "data": {
      "text/plain": [
       "48"
      ]
     },
     "execution_count": 222,
     "metadata": {},
     "output_type": "execute_result"
    }
   ],
   "source": [
    "sys.getsizeof(class_H.get_hamiltonian())"
   ]
  },
  {
   "cell_type": "code",
   "execution_count": 223,
   "metadata": {},
   "outputs": [
    {
     "name": "stdout",
     "output_type": "stream",
     "text": [
      "Alpha angle α=2 π/2L+1\n",
      "HamiltonianQED: Initializing...\n",
      ">> Gauss law system of equations (symbolic + latex):\n",
      "static charges: ['Q_10=1', 'Q_02=-1']\n"
     ]
    },
    {
     "data": {
      "text/latex": [
       "$\\displaystyle - E_{00x} - E_{00y} = 0$"
      ],
      "text/plain": [
       "Eq(-E_00x - E_00y, 0)"
      ]
     },
     "metadata": {},
     "output_type": "display_data"
    },
    {
     "data": {
      "text/latex": [
       "$\\displaystyle E_{00y} - E_{01x} - E_{01y} = 0$"
      ],
      "text/plain": [
       "Eq(E_00y - E_01x - E_01y, 0)"
      ]
     },
     "metadata": {},
     "output_type": "display_data"
    },
    {
     "data": {
      "text/latex": [
       "$\\displaystyle E_{01y} - E_{02x} + 1 = 0$"
      ],
      "text/plain": [
       "Eq(E_01y - E_02x + 1, 0)"
      ]
     },
     "metadata": {},
     "output_type": "display_data"
    },
    {
     "data": {
      "text/latex": [
       "$\\displaystyle E_{00x} - E_{10x} - E_{10y} - 1 = 0$"
      ],
      "text/plain": [
       "Eq(E_00x - E_10x - E_10y - 1, 0)"
      ]
     },
     "metadata": {},
     "output_type": "display_data"
    },
    {
     "data": {
      "text/latex": [
       "$\\displaystyle E_{01x} + E_{10y} - E_{11x} - E_{11y} = 0$"
      ],
      "text/plain": [
       "Eq(E_01x + E_10y - E_11x - E_11y, 0)"
      ]
     },
     "metadata": {},
     "output_type": "display_data"
    },
    {
     "data": {
      "text/latex": [
       "$\\displaystyle E_{02x} + E_{11y} - E_{12x} = 0$"
      ],
      "text/plain": [
       "Eq(E_02x + E_11y - E_12x, 0)"
      ]
     },
     "metadata": {},
     "output_type": "display_data"
    },
    {
     "data": {
      "text/latex": [
       "$\\displaystyle E_{10x} - E_{20y} = 0$"
      ],
      "text/plain": [
       "Eq(E_10x - E_20y, 0)"
      ]
     },
     "metadata": {},
     "output_type": "display_data"
    },
    {
     "data": {
      "text/latex": [
       "$\\displaystyle E_{11x} + E_{20y} - E_{21y} = 0$"
      ],
      "text/plain": [
       "Eq(E_11x + E_20y - E_21y, 0)"
      ]
     },
     "metadata": {},
     "output_type": "display_data"
    },
    {
     "data": {
      "text/latex": [
       "$\\displaystyle E_{12x} + E_{21y} = 0$"
      ],
      "text/plain": [
       "Eq(E_12x + E_21y, 0)"
      ]
     },
     "metadata": {},
     "output_type": "display_data"
    },
    {
     "name": "stdout",
     "output_type": "stream",
     "text": [
      "- E_{00x} - E_{00y} &= 0 \\\\ \\nonumber\n",
      "E_{00y} - E_{01x} - E_{01y} &= 0 \\\\ \\nonumber\n",
      "E_{01y} - E_{02x} + 1 &= 0 \\\\ \\nonumber\n",
      "E_{00x} - E_{10x} - E_{10y} - 1 &= 0 \\\\ \\nonumber\n",
      "E_{01x} + E_{10y} - E_{11x} - E_{11y} &= 0 \\\\ \\nonumber\n",
      "E_{02x} + E_{11y} - E_{12x} &= 0 \\\\ \\nonumber\n",
      "E_{10x} - E_{20y} &= 0 \\\\ \\nonumber\n",
      "E_{11x} + E_{20y} - E_{21y} &= 0 \\\\ \\nonumber\n",
      "E_{12x} + E_{21y} &= 0 \n",
      "\n",
      "> Gauss law equations solved\n",
      "> e_op_free and u_op_free built\n",
      "> Pauli strings built\n",
      ">> Hamiltonian (symbolic + latex):\n"
     ]
    },
    {
     "data": {
      "text/latex": [
       "$\\displaystyle H_{E} = \\frac{g^{2} \\left(E_{10y}^{2} + E_{11y}^{2} + 2 E_{20y}^{2} + 2 E_{21y}^{2} + \\left(- E_{11y} - E_{21y}\\right)^{2} + \\left(- E_{20y} + E_{21y}\\right)^{2} + \\left(- E_{10y} - E_{20y} - 1\\right)^{2} + \\left(E_{10y} + E_{20y} + 1\\right)^{2} + \\left(- E_{11y} - E_{21y} - 1\\right)^{2} + \\left(- E_{10y} + E_{11y} - E_{20y} + E_{21y}\\right)^{2}\\right)}{2}$"
      ],
      "text/plain": [
       "Eq(H_E, g**2*(E_10y**2 + E_11y**2 + 2*E_20y**2 + 2*E_21y**2 + (-E_11y - E_21y)**2 + (-E_20y + E_21y)**2 + (-E_10y - E_20y - 1)**2 + (E_10y + E_20y + 1)**2 + (-E_11y - E_21y - 1)**2 + (-E_10y + E_11y - E_20y + E_21y)**2)/2)"
      ]
     },
     "metadata": {},
     "output_type": "display_data"
    },
    {
     "name": "stdout",
     "output_type": "stream",
     "text": [
      "H_{E} = \\frac{g^{2} \\left(E_{10y}^{2} + E_{11y}^{2} + 2 E_{20y}^{2} + 2 E_{21y}^{2} + \\left(- E_{11y} - E_{21y}\\right)^{2} + \\left(- E_{20y} + E_{21y}\\right)^{2} + \\left(- E_{10y} - E_{20y} - 1\\right)^{2} + \\left(E_{10y} + E_{20y} + 1\\right)^{2} + \\left(- E_{11y} - E_{21y} - 1\\right)^{2} + \\left(- E_{10y} + E_{11y} - E_{20y} + E_{21y}\\right)^{2}\\right)}{2}\n"
     ]
    },
    {
     "data": {
      "text/latex": [
       "$\\displaystyle H_{B} = - \\frac{U_{10y} + U_{11y} + U_{20y} U_{10y}^{\\dagger} + U_{21y} U_{11y}^{\\dagger} + h.c.}{2 g^{2}}$"
      ],
      "text/plain": [
       "Eq(H_B, -(U_10y + U_11y + U_20y*Dagger(U_10y) + U_21y*Dagger(U_11y) + h.c.)/(2*g**2))"
      ]
     },
     "metadata": {},
     "output_type": "display_data"
    },
    {
     "name": "stdout",
     "output_type": "stream",
     "text": [
      "H_{B} = - \\frac{U_{10y} + U_{11y} + U_{20y} U_{10y}^{\\dagger} + U_{21y} U_{11y}^{\\dagger} + h.c.}{2 g^{2}}\n",
      ">> Gauss law applied and Hamiltonian built.  Execution time: 0.25234293937683105 seconds\n",
      ">> Suppression term built.  Execution time: 0.061959028244018555 seconds\n",
      "         327802 function calls (318851 primitive calls) in 0.318 seconds\n",
      "\n",
      "   Ordered by: internal time\n",
      "\n",
      "   ncalls  tottime  percall  cumtime  percall filename:lineno(function)\n",
      "      174    0.034    0.000    0.034    0.000 {method 'repeat' of 'numpy.ndarray' objects}\n",
      "       58    0.019    0.000    0.075    0.001 _construct.py:277(kron)\n",
      "        8    0.017    0.002    0.018    0.002 linalg.py:476(inv)\n",
      "6494/3381    0.013    0.000    0.056    0.000 {built-in method numpy.core._multiarray_umath.implement_array_function}\n",
      "     1575    0.010    0.000    0.020    0.000 {method 'reduce' of 'numpy.ufunc' objects}\n",
      "      170    0.005    0.000    0.005    0.000 {method 'acquire' of '_thread.lock' objects}\n",
      "      371    0.005    0.000    0.018    0.000 _coo.py:265(_check)\n",
      "      352    0.004    0.000    0.011    0.000 _compressed.py:136(check_format)\n",
      "27033/26931    0.004    0.000    0.005    0.000 {built-in method builtins.isinstance}\n",
      "      235    0.004    0.000    0.004    0.000 {method 'copy' of 'numpy.ndarray' objects}\n",
      "     3912    0.004    0.000    0.007    0.000 cache.py:67(wrapper)\n",
      "     2971    0.004    0.000    0.007    0.000 sympify.py:101(sympify)\n",
      "     1360    0.004    0.000    0.010    0.000 _sputils.py:131(get_index_dtype)\n",
      " 1112/431    0.003    0.000    0.007    0.000 sorting.py:10(default_sort_key)\n",
      "  952/370    0.003    0.000    0.029    0.000 printer.py:294(_print)\n",
      "     2778    0.003    0.000    0.003    0.000 getlimits.py:647(__init__)\n",
      "       76    0.003    0.000    0.004    0.000 pauli.py:604(_from_label)\n",
      "      296    0.003    0.000    0.020    0.000 base_pauli.py:77(_tensor)\n",
      "       26    0.003    0.000    0.003    0.000 {built-in method scipy.sparse._sparsetools.csr_plus_csr}\n",
      "       11    0.003    0.000    0.003    0.000 {method 'nonzero' of 'numpy.ndarray' objects}\n",
      "       60    0.003    0.000    0.003    0.000 socket.py:545(send)\n",
      "      387    0.002    0.000    0.008    0.000 sparse_pauli_op.py:84(__init__)\n",
      "       24    0.002    0.000    0.002    0.000 {built-in method builtins.compile}\n",
      "      215    0.002    0.000    0.002    0.000 {built-in method numpy.zeros}\n",
      "     2196    0.002    0.000    0.002    0.000 {built-in method numpy.array}\n",
      "     9927    0.002    0.000    0.002    0.000 {built-in method builtins.getattr}\n",
      "     1862    0.002    0.000    0.005    0.000 {built-in method builtins.sorted}\n",
      "        1    0.002    0.002    0.005    0.005 sparse_pauli_op.py:960(__getitem__)\n",
      "     4920    0.002    0.000    0.003    0.000 <frozen importlib._bootstrap>:398(parent)\n",
      "  371/255    0.002    0.000    0.030    0.000 _coo.py:126(__init__)\n",
      "      774    0.002    0.000    0.003    0.000 _sputils.py:277(check_shape)\n",
      "       51    0.002    0.000    0.006    0.000 _dia.py:392(tocoo)\n",
      "  681/227    0.002    0.000    0.003    0.000 sorting.py:180(_nodes)\n",
      "  756/264    0.002    0.000    0.012    0.000 sorting.py:203(ordered)\n",
      "      123    0.002    0.000    0.002    0.000 {built-in method scipy.sparse._sparsetools.coo_tocsr}\n",
      "20264/20262    0.002    0.000    0.002    0.000 {built-in method builtins.len}\n",
      "     1115    0.002    0.000    0.004    0.000 base_pauli.py:39(__init__)\n",
      "  352/221    0.001    0.000    0.039    0.000 _compressed.py:26(__init__)\n",
      "      282    0.001    0.000    0.009    0.000 codeprinter.py:106(doprint)\n",
      "      296    0.001    0.000    0.009    0.000 shape_base.py:1067(kron)\n",
      "        2    0.001    0.001    0.089    0.045 Hamiltonian_QED.py:474(list_to_enc_hamilt)\n",
      "      206    0.001    0.000    0.003    0.000 latex.py:2851(translate)\n",
      "       51    0.001    0.000    0.002    0.000 arraysetops.py:320(_unique1d)\n",
      "       65    0.001    0.000    0.012    0.000 expr.py:1181(as_terms)\n",
      "      296    0.001    0.000    0.002    0.000 numeric.py:851(outer)\n",
      "2247/2173    0.001    0.000    0.004    0.000 {built-in method builtins.any}\n",
      "      247    0.001    0.000    0.003    0.000 symbol.py:580(symbols)\n",
      "      378    0.001    0.000    0.003    0.000 _compressed.py:1168(prune)\n",
      "     1262    0.001    0.000    0.001    0.000 _coo.py:239(getnnz)\n",
      "     7289    0.001    0.000    0.001    0.000 {built-in method builtins.hasattr}\n",
      "      236    0.001    0.000    0.001    0.000 {method 'update' of 'dict' objects}\n",
      "       19    0.001    0.000    0.033    0.002 lambdify.py:181(lambdify)\n",
      "        8    0.001    0.000    0.024    0.003 Hamiltonian_QED.py:898(matx_exp)\n",
      "     1502    0.001    0.000    0.002    0.000 op_shape.py:223(auto)\n",
      "     1303    0.001    0.000    0.001    0.000 {method 'reshape' of 'numpy.ndarray' objects}\n",
      "     1502    0.001    0.000    0.001    0.000 op_shape.py:29(__init__)\n",
      "      309    0.001    0.000    0.006    0.000 basic.py:1322(replace)\n",
      "     6808    0.001    0.000    0.001    0.000 numbers.py:2286(__hash__)\n",
      "     2829    0.001    0.000    0.003    0.000 _base.py:291(nnz)\n",
      "5132/5119    0.001    0.000    0.001    0.000 basic.py:148(__hash__)\n",
      "      123    0.001    0.000    0.013    0.000 _coo.py:371(tocsr)\n",
      "     1502    0.001    0.000    0.003    0.000 base_operator.py:29(__init__)\n",
      "      730    0.001    0.000    0.009    0.000 pauli_list.py:116(__init__)\n",
      "  735/717    0.001    0.000    0.003    0.000 basic.py:345(__eq__)\n",
      "     1480    0.001    0.000    0.003    0.000 base_pauli.py:346(_stack)\n",
      "      228    0.001    0.000    0.003    0.000 evalf.py:1569(evalf)\n",
      "       47    0.001    0.000    0.005    0.000 sparse_pauli_op.py:368(_multiply)\n",
      "      717    0.001    0.000    0.001    0.000 shape_base.py:23(atleast_1d)\n",
      "      296    0.001    0.000    0.037    0.000 sparse_pauli_op.py:349(_tensor)\n",
      "      462    0.001    0.000    0.001    0.000 shape_base.py:81(atleast_2d)\n",
      "     1360    0.001    0.000    0.011    0.000 <__array_function__ internals>:177(concatenate)\n",
      "      684    0.001    0.000    0.002    0.000 numbers.py:1371(__eq__)\n",
      "     1480    0.001    0.000    0.001    0.000 iterables.py:2898(iterable)\n",
      "       36    0.001    0.000    0.005    0.000 pauli_list.py:163(_from_paulis)\n",
      "      664    0.001    0.000    0.008    0.000 shape_base.py:285(hstack)\n",
      "      478    0.001    0.000    0.001    0.000 _sputils.py:220(isshape)\n",
      "4439/4437    0.001    0.000    0.005    0.000 {built-in method numpy.asarray}\n",
      "     4920    0.001    0.000    0.001    0.000 {method 'rpartition' of 'str' objects}\n",
      "      774    0.001    0.000    0.001    0.000 _base.py:105(__init__)\n",
      "      874    0.001    0.000    0.001    0.000 sparse_pauli_op.py:127(<genexpr>)\n",
      "       19    0.001    0.000    0.021    0.001 lambdify.py:1169(_preprocess)\n",
      "     1456    0.001    0.000    0.002    0.000 <__array_function__ internals>:177(can_cast)\n",
      "     1604    0.001    0.000    0.006    0.000 sympify.py:502(_sympify)\n",
      "      116    0.001    0.000    0.002    0.000 basic.py:2012(_aresame)\n",
      "     5191    0.001    0.000    0.001    0.000 {method 'endswith' of 'str' objects}\n",
      "      132    0.001    0.000    0.001    0.000 inspect.py:2926(_bind)\n",
      "       37    0.001    0.000    0.007    0.000 _data.py:123(_mul_scalar)\n",
      "      440    0.001    0.000    0.001    0.000 {built-in method numpy.empty}\n",
      "     6065    0.001    0.000    0.001    0.000 {method 'get' of 'dict' objects}\n",
      "      511    0.001    0.000    0.001    0.000 symbol.py:250(_sanitize)\n",
      "     2322    0.001    0.000    0.001    0.000 _sputils.py:290(<genexpr>)\n",
      "       46    0.001    0.000    0.004    0.000 basic.py:795(subs)\n",
      "     2436    0.001    0.000    0.001    0.000 traitlets.py:675(__get__)\n",
      "     1192    0.001    0.000    0.001    0.000 {built-in method _abc._abc_instancecheck}\n",
      "    216/9    0.001    0.000    0.001    0.000 densebasic.py:975(dmp_from_dict)\n",
      "     1997    0.001    0.000    0.001    0.000 {built-in method builtins.max}\n",
      "      511    0.001    0.000    0.002    0.000 symbol.py:281(__new__)\n",
      "     7304    0.001    0.000    0.001    0.000 {method 'append' of 'list' objects}\n",
      "     4083    0.001    0.000    0.001    0.000 _base.py:119(get_shape)\n",
      "     1567    0.001    0.000    0.001    0.000 _compressed.py:108(getnnz)\n",
      "     1008    0.001    0.000    0.001    0.000 densebasic.py:695(dmp_zero_p)\n",
      "      506    0.001    0.000    0.001    0.000 symbol.py:347(assumptions0)\n",
      "      456    0.001    0.000    0.001    0.000 numbers.py:148(mpf_norm)\n",
      "      555    0.001    0.000    0.001    0.000 precedence.py:118(precedence)\n",
      "     1360    0.001    0.000    0.001    0.000 getlimits.py:658(min)\n",
      "     7673    0.001    0.000    0.001    0.000 {built-in method builtins.hash}\n",
      "      121    0.001    0.000    0.002    0.000 formatters.py:396(lookup_by_type)\n",
      "      506    0.001    0.000    0.001    0.000 symbol.py:349(<dictcomp>)\n",
      "      116    0.001    0.000    0.008    0.000 _compressed.py:1034(tocoo)\n",
      "      723    0.000    0.000    0.001    0.000 _sputils.py:91(to_native)\n",
      "      228    0.000    0.000    0.004    0.000 expr.py:1918(as_real_imag)\n",
      " 1064/676    0.000    0.000    0.001    0.000 traversal.py:120(_preorder_traversal)\n",
      "       36    0.000    0.000    0.008    0.000 sparse_pauli_op.py:798(from_sparse_list)\n",
      "       10    0.000    0.000    0.001    0.000 polyutils.py:180(_parallel_dict_from_expr_if_gens)\n",
      "      400    0.000    0.000    0.005    0.000 shape_base.py:222(vstack)\n",
      "      888    0.000    0.000    0.001    0.000 shape_base.py:1043(<genexpr>)\n",
      "     2436    0.000    0.000    0.000    0.000 traitlets.py:643(get)\n",
      "        8    0.000    0.000    0.001    0.000 linalg.py:1175(eig)\n",
      "      106    0.000    0.000    0.001    0.000 conventions.py:13(split_super_sub)\n",
      "      498    0.000    0.000    0.002    0.000 symbol.py:335(_hashable_content)\n",
      "      847    0.000    0.000    0.001    0.000 formatters.py:552(_in_deferred_types)\n",
      "      296    0.000    0.000    0.022    0.000 pauli_list.py:658(tensor)\n",
      "      228    0.000    0.000    0.001    0.000 evalf.py:1461(evalf)\n",
      "        1    0.000    0.000    0.003    0.003 base_pauli.py:397(_to_matrix)\n",
      "       42    0.000    0.000    0.003    0.000 expr.py:1730(as_independent)\n",
      "      282    0.000    0.000    0.005    0.000 codeprinter.py:102(_handle_UnevaluatedExpr)\n",
      "       51    0.000    0.000    0.004    0.000 _dia.py:89(__init__)\n",
      "     2740    0.000    0.000    0.000    0.000 basic.py:743(args)\n",
      "       56    0.000    0.000    0.000    0.000 {built-in method numpy.arange}\n",
      "       65    0.000    0.000    0.014    0.000 expr.py:1127(as_ordered_terms)\n",
      "    221/9    0.000    0.000    0.001    0.000 densebasic.py:1071(dmp_to_dict)\n",
      "      228    0.000    0.000    0.008    0.000 expr.py:347(__complex__)\n",
      "  914/837    0.000    0.000    0.001    0.000 assumptions.py:477(getit)\n",
      "     1418    0.000    0.000    0.000    0.000 getlimits.py:671(max)\n",
      "      178    0.000    0.000    0.001    0.000 _base.py:73(_coo_container)\n",
      "       19    0.000    0.000    0.000    0.000 {method 'split' of 're.Pattern' objects}\n",
      "      717    0.000    0.000    0.002    0.000 <__array_function__ internals>:177(atleast_1d)\n",
      "       58    0.000    0.000    0.100    0.002 Hamiltonian_QED.py:449(<lambda>)\n",
      "        1    0.000    0.000    0.062    0.062 Hamiltonian_QED.py:1856(hamiltonian_suppr)\n",
      "      664    0.000    0.000    0.009    0.000 <__array_function__ internals>:177(hstack)\n",
      "       18    0.000    0.000    0.048    0.003 Hamiltonian_QED.py:596(jw_funct)\n",
      "    49/36    0.000    0.000    0.005    0.000 str.py:265(_print_Mul)\n",
      "      774    0.000    0.000    0.001    0.000 _data.py:20(__init__)\n",
      "       51    0.000    0.000    0.000    0.000 {method 'flatten' of 'numpy.ndarray' objects}\n",
      "       19    0.000    0.000    0.000    0.000 textwrap.py:233(_wrap_chunks)\n",
      "     1064    0.000    0.000    0.001    0.000 shape_base.py:218(_vhstack_dispatcher)\n",
      "     1795    0.000    0.000    0.000    0.000 {built-in method builtins.iter}\n",
      "      742    0.000    0.000    0.005    0.000 {method 'max' of 'numpy.ndarray' objects}\n",
      "      296    0.000    0.000    0.001    0.000 shape_base.py:1038(get_array_prepare)\n",
      "      134    0.000    0.000    0.001    0.000 printer.py:258(__init__)\n",
      "  544/486    0.000    0.000    0.002    0.000 {built-in method builtins.all}\n",
      "        1    0.000    0.000    0.317    0.317 Hamiltonian_QED.py:141(__init__)\n",
      "     1192    0.000    0.000    0.001    0.000 abc.py:117(__instancecheck__)\n",
      "     2385    0.000    0.000    0.000    0.000 {built-in method numpy.asanyarray}\n",
      "      888    0.000    0.000    0.000    0.000 shape_base.py:1055(<genexpr>)\n",
      "     1064    0.000    0.000    0.001    0.000 shape_base.py:207(_arrays_for_stack_dispatcher)\n",
      "      527    0.000    0.000    0.001    0.000 operations.py:429(make_args)\n",
      "      723    0.000    0.000    0.000    0.000 {method 'newbyteorder' of 'numpy.dtype' objects}\n",
      "   305/73    0.000    0.000    0.025    0.000 Hamiltonian_QED.py:424(tensor_prod)\n",
      "   281/99    0.000    0.000    0.001    0.000 basic.py:523(free_symbols)\n",
      "      124    0.000    0.000    0.000    0.000 _base.py:83(_csr_container)\n",
      "     2322    0.000    0.000    0.000    0.000 _sputils.py:295(<genexpr>)\n",
      "      205    0.000    0.000    0.001    0.000 mul.py:182(__neg__)\n",
      "      228    0.000    0.000    0.001    0.000 expr.py:1078(key)\n",
      "       90    0.000    0.000    0.001    0.000 radsimp.py:1024(fraction)\n",
      "      636    0.000    0.000    0.001    0.000 sympify.py:67(_is_numpy_instance)\n",
      "     5150    0.000    0.000    0.000    0.000 {method 'lower' of 'str' objects}\n",
      "       26    0.000    0.000    0.011    0.000 _compressed.py:1238(_binopt)\n",
      "      756    0.000    0.000    0.000    0.000 _util.py:142(_prune_array)\n",
      "      228    0.000    0.000    0.000    0.000 expr.py:1067(neg)\n",
      "       11    0.000    0.000    0.002    0.000 relational.py:1408(is_eq)\n",
      "       61    0.000    0.000    0.000    0.000 {built-in method scipy.sparse._sparsetools.csr_has_canonical_format}\n",
      "      462    0.000    0.000    0.002    0.000 <__array_function__ internals>:177(atleast_2d)\n",
      "      228    0.000    0.000    0.001    0.000 numbers.py:1180(_new)\n",
      "      742    0.000    0.000    0.005    0.000 {method 'min' of 'numpy.ndarray' objects}\n",
      "     1366    0.000    0.000    0.000    0.000 {method 'pop' of 'list' objects}\n",
      "        1    0.000    0.000    0.018    0.018 solvers.py:376(solve)\n",
      "       44    0.000    0.000    0.001    0.000 encoder.py:204(iterencode)\n",
      "      116    0.000    0.000    0.000    0.000 _coo.py:589(isspmatrix_coo)\n",
      "  467/309    0.000    0.000    0.001    0.000 basic.py:1546(walk)\n",
      "  776/721    0.000    0.000    0.003    0.000 {method 'join' of 'str' objects}\n",
      "      132    0.000    0.000    0.000    0.000 inspect.py:2665(args)\n",
      "     1908    0.000    0.000    0.000    0.000 sympify.py:73(<genexpr>)\n",
      "      624    0.000    0.000    0.000    0.000 {method 'pop' of 'dict' objects}\n",
      "      116    0.000    0.000    0.000    0.000 {built-in method scipy.sparse._sparsetools.expandptr}\n",
      "      251    0.000    0.000    0.000    0.000 {method 'format' of 'str' objects}\n",
      "    28/20    0.000    0.000    0.001    0.000 add.py:601(as_numer_denom)\n",
      "       19    0.000    0.000    0.001    0.000 numpy.py:43(__init__)\n",
      "      456    0.000    0.000    0.001    0.000 numbers.py:677(__float__)\n",
      " 1042/815    0.000    0.000    0.003    0.000 {built-in method builtins.sum}\n",
      "       19    0.000    0.000    0.024    0.001 lambdify.py:1115(doprint)\n",
      "        9    0.000    0.000    0.003    0.000 solvers.py:2967(_invert)\n",
      "      400    0.000    0.000    0.006    0.000 <__array_function__ internals>:177(vstack)\n",
      "       10    0.000    0.000    0.001    0.000 polyoptions.py:128(__init__)\n",
      "      296    0.000    0.000    0.037    0.000 sparse_pauli_op.py:339(tensor)\n",
      "      113    0.000    0.000    0.112    0.001 {built-in method _functools.reduce}\n",
      "      132    0.000    0.000    0.000    0.000 inspect.py:2718(apply_defaults)\n",
      "      106    0.000    0.000    0.004    0.000 latex.py:1598(_deal_with_super_sub)\n",
      "      742    0.000    0.000    0.005    0.000 _methods.py:38(_amax)\n",
      "      311    0.000    0.000    0.000    0.000 basic.py:121(__new__)\n",
      "      303    0.000    0.000    0.001    0.000 _sputils.py:198(isintlike)\n",
      "      855    0.000    0.000    0.000    0.000 sympify.py:18(__init__)\n",
      "    74/19    0.000    0.000    0.002    0.000 lambdify.py:948(_recursive_to_string)\n",
      "      694    0.000    0.000    0.000    0.000 libmpf.py:153(_normalize)\n",
      "      461    0.000    0.000    0.001    0.000 numbers.py:810(__hash__)\n",
      "      456    0.000    0.000    0.001    0.000 numbers.py:1465(__hash__)\n",
      "       60    0.000    0.000    0.003    0.000 iostream.py:205(schedule)\n",
      "      630    0.000    0.000    0.000    0.000 random.py:237(_randbelow_with_getrandbits)\n",
      "       22    0.000    0.000    0.006    0.000 threading.py:556(wait)\n",
      "    31/13    0.000    0.000    0.011    0.001 str.py:52(_print_Add)\n",
      "       45    0.000    0.000    0.005    0.000 multiply.py:35(__rmul__)\n",
      "    240/9    0.000    0.000    0.001    0.000 densebasic.py:1694(_rec_list_terms)\n",
      "       47    0.000    0.000    0.001    0.000 base_pauli.py:704(_count_y)\n",
      "     1352    0.000    0.000    0.001    0.000 {built-in method builtins.next}\n",
      "       38    0.000    0.000    0.001    0.000 pycode.py:96(__init__)\n",
      "      512    0.000    0.000    0.000    0.000 Hamiltonian_QED.py:1907(<listcomp>)\n",
      "     24/6    0.000    0.000    0.014    0.002 latex.py:507(_print_Mul)\n",
      "       18    0.000    0.000    0.048    0.003 Hamiltonian_QED.py:1059(<lambda>)\n",
      "       77    0.000    0.000    0.005    0.000 pauli.py:153(__init__)\n",
      "    34/22    0.000    0.000    0.014    0.001 latex.py:377(_print_Add)\n",
      "      317    0.000    0.000    0.020    0.000 _base.py:348(asformat)\n",
      "      244    0.000    0.000    0.000    0.000 _sputils.py:95(getdtype)\n",
      "      303    0.000    0.000    0.001    0.000 <__array_function__ internals>:177(ndim)\n",
      "       74    0.000    0.000    0.113    0.002 Hamiltonian_QED.py:434(pauli_tns)\n",
      "      509    0.000    0.000    0.000    0.000 op_shape.py:104(num_qubits)\n",
      "      485    0.000    0.000    0.000    0.000 {method 'astype' of 'numpy.ndarray' objects}\n",
      "     1456    0.000    0.000    0.000    0.000 multiarray.py:498(can_cast)\n",
      "     2140    0.000    0.000    0.000    0.000 {method 'items' of 'dict' objects}\n",
      "      253    0.000    0.000    0.000    0.000 pycode.py:453(_print_Symbol)\n",
      "    82/19    0.000    0.000    0.000    0.000 lambdify.py:1281(_imp_namespace)\n",
      "       74    0.000    0.000    0.012    0.000 _print_helpers.py:27(__str__)\n",
      "       11    0.000    0.000    0.024    0.002 formatters.py:90(format)\n",
      "      742    0.000    0.000    0.005    0.000 _methods.py:42(_amin)\n",
      "       44    0.000    0.000    0.001    0.000 copy.py:66(copy)\n",
      "      947    0.000    0.000    0.000    0.000 {built-in method __new__ of type object at 0x10245da40}\n",
      "      158    0.000    0.000    0.001    0.000 mul.py:176(could_extract_minus_sign)\n",
      "     1360    0.000    0.000    0.000    0.000 multiarray.py:148(concatenate)\n",
      "      270    0.000    0.000    0.000    0.000 pythonmpq.py:292(__mul__)\n",
      "      228    0.000    0.000    0.000    0.000 libmpf.py:64(dps_to_prec)\n",
      "      509    0.000    0.000    0.000    0.000 base_operator.py:85(num_qubits)\n",
      "      296    0.000    0.000    0.021    0.000 base_pauli.py:71(tensor)\n",
      "      246    0.000    0.000    0.000    0.000 <__array_function__ internals>:177(empty_like)\n",
      "      132    0.000    0.000    0.002    0.000 decorator.py:199(fix)\n",
      "     1072    0.000    0.000    0.000    0.000 inspect.py:488(getmro)\n",
      "        1    0.000    0.000    0.016    0.016 solvers.py:1742(_solve_system)\n",
      "        1    0.000    0.000    0.001    0.001 sdm.py:969(sdm_matmul_exraw)\n",
      "  160/124    0.000    0.000    0.002    0.000 decorators.py:99(binary_op_wrapper)\n",
      "      456    0.000    0.000    0.000    0.000 libmpf.py:454(to_float)\n",
      "      241    0.000    0.000    0.000    0.000 operations.py:108(_from_args)\n",
      "      185    0.000    0.000    0.000    0.000 mul.py:854(as_coeff_Mul)\n",
      "       22    0.000    0.000    0.008    0.000 iostream.py:509(flush)\n",
      "      116    0.000    0.000    0.000    0.000 basic.py:937(<listcomp>)\n",
      "      253    0.000    0.000    0.000    0.000 codeprinter.py:397(_print_Symbol)\n",
      "      227    0.000    0.000    0.000    0.000 lambdify.py:1164(_is_safe_ident)\n",
      "       58    0.000    0.000    0.001    0.000 iostream.py:572(write)\n",
      "      296    0.000    0.000    0.001    0.000 shape_base.py:1050(get_array_wrap)\n",
      "       22    0.000    0.000    0.000    0.000 {method 'isoformat' of 'datetime.datetime' objects}\n",
      "       51    0.000    0.000    0.001    0.000 shape_base.py:1171(tile)\n",
      "      169    0.000    0.000    0.001    0.000 _compressed.py:125(_set_self)\n",
      "      828    0.000    0.000    0.000    0.000 {method 'add' of 'set' objects}\n",
      "      554    0.000    0.000    0.000    0.000 logic.py:92(fuzzy_bool)\n",
      "     1590    0.000    0.000    0.000    0.000 core.py:71(<lambda>)\n",
      "      560    0.000    0.000    0.000    0.000 pythonmpq.py:103(_new)\n",
      "      159    0.000    0.000    0.001    0.000 decorators.py:224(_func)\n",
      "       42    0.000    0.000    0.005    0.000 str.py:611(_print_Pow)\n",
      "      296    0.000    0.000    0.009    0.000 <__array_function__ internals>:177(kron)\n",
      "      643    0.000    0.000    0.000    0.000 {method 'ravel' of 'numpy.ndarray' objects}\n",
      "       51    0.000    0.000    0.005    0.000 _construct.py:222(eye)\n",
      "       76    0.000    0.000    0.000    0.000 {built-in method numpy.frombuffer}\n",
      "      467    0.000    0.000    0.000    0.000 basic.py:1567(rec_replace)\n",
      "      121    0.000    0.000    0.002    0.000 formatters.py:373(lookup)\n",
      "      247    0.000    0.000    0.000    0.000 symbol.py:724(<listcomp>)\n",
      "      227    0.000    0.000    0.000    0.000 sorting.py:169(_node_count)\n",
      "       51    0.000    0.000    0.000    0.000 _dia.py:446(isspmatrix_dia)\n",
      "     42/2    0.000    0.000    0.001    0.000 assumptions.py:489(_ask)\n",
      "       99    0.000    0.000    0.013    0.000 formatters.py:330(__call__)\n",
      "      296    0.000    0.000    0.002    0.000 <__array_function__ internals>:177(outer)\n",
      "        1    0.000    0.000    0.001    0.001 _construct.py:66(diags)\n",
      "      238    0.000    0.000    0.000    0.000 libmpf.py:291(from_man_exp)\n",
      "       40    0.000    0.000    0.000    0.000 random.py:348(shuffle)\n",
      "       44    0.000    0.000    0.002    0.000 base_pauli.py:56(copy)\n",
      "      260    0.000    0.000    0.000    0.000 traversal.py:116(__init__)\n",
      "      227    0.000    0.000    0.004    0.000 sorting.py:142(<listcomp>)\n",
      "      134    0.000    0.000    0.000    0.000 printer.py:250(_get_initial_settings)\n",
      "     1568    0.000    0.000    0.000    0.000 {built-in method _operator.index}\n",
      "      237    0.000    0.000    0.000    0.000 {built-in method builtins.pow}\n",
      "      296    0.000    0.000    0.000    0.000 {method 'transpose' of 'numpy.ndarray' objects}\n",
      "      244    0.000    0.000    0.000    0.000 _sputils.py:119(getdata)\n",
      "       28    0.000    0.000    0.000    0.000 add.py:1096(primitive)\n",
      "      132    0.000    0.000    0.000    0.000 inspect.py:2688(kwargs)\n",
      "   155/86    0.000    0.000    0.007    0.000 str.py:35(parenthesize)\n",
      "        1    0.000    0.000    0.123    0.123 Hamiltonian_QED.py:1314(build_hamiltonian_tot)\n",
      "      681    0.000    0.000    0.002    0.000 sorting.py:196(<genexpr>)\n",
      "      541    0.000    0.000    0.000    0.000 {built-in method builtins.min}\n",
      "      352    0.000    0.000    0.000    0.000 iterables.py:2956(is_sequence)\n",
      "      282    0.000    0.000    0.000    0.000 codeprinter.py:37(_convert_python_lists)\n",
      "       61    0.000    0.000    0.001    0.000 _compressed.py:1081(__get_has_canonical_format)\n",
      "       44    0.000    0.000    0.000    0.000 {method '__reduce_ex__' of 'object' objects}\n",
      "     1474    0.000    0.000    0.000    0.000 inspect.py:2577(kind)\n",
      "       11    0.000    0.000    0.011    0.001 zmqshell.py:80(publish)\n",
      "      560    0.000    0.000    0.000    0.000 _base.py:1291(isspmatrix)\n",
      "      132    0.000    0.000    0.021    0.000 formatters.py:219(catch_format_error)\n",
      "       65    0.000    0.000    0.000    0.000 expr.py:1052(_parse_order)\n",
      "     1328    0.000    0.000    0.000    0.000 _csr.py:231(_swap)\n",
      "      282    0.000    0.000    0.000    0.000 codeprinter.py:122(_handle_assign_to)\n",
      "  628/308    0.000    0.000    0.000    0.000 basic.py:537(<genexpr>)\n",
      "      240    0.000    0.000    0.000    0.000 exprtools.py:215(decompose_power)\n",
      "       19    0.000    0.000    0.000    0.000 iterables.py:57(flatten)\n",
      "      132    0.000    0.000    0.024    0.000 decorator.py:229(fun)\n",
      "      158    0.000    0.000    0.000    0.000 {method 'copy' of 'dict' objects}\n",
      "       50    0.000    0.000    0.004    0.000 _construct.py:26(spdiags)\n",
      "      303    0.000    0.000    0.000    0.000 fromnumeric.py:3164(ndim)\n",
      "       76    0.000    0.000    0.000    0.000 {method 'fullmatch' of 're.Pattern' objects}\n",
      "      237    0.000    0.000    0.000    0.000 pythonmpq.py:142(__hash__)\n",
      "      110    0.000    0.000    0.000    0.000 numeric.py:1859(isscalar)\n",
      "      102    0.000    0.000    0.000    0.000 exponential.py:211(__instancecheck__)\n",
      "      223    0.000    0.000    0.000    0.000 pythonmpq.py:261(__sub__)\n",
      "      434    0.000    0.000    0.000    0.000 densebasic.py:157(dmp_degree)\n",
      "       24    0.000    0.000    0.000    0.000 latex.py:299(_needs_mul_brackets)\n",
      "        1    0.000    0.000    0.001    0.001 dense.py:94(ddm_irref)\n",
      "        2    0.000    0.000    0.000    0.000 {method 'dot' of 'numpy.ndarray' objects}\n",
      "       68    0.000    0.000    0.001    0.000 numbers.py:2202(__mul__)\n",
      "       11    0.000    0.000    0.002    0.000 session.py:751(send)\n",
      "        7    0.000    0.000    0.000    0.000 base_pauli.py:368(_from_array)\n",
      "     1197    0.000    0.000    0.000    0.000 {method 'keys' of 'dict' objects}\n",
      "       11    0.000    0.000    0.000    0.000 session.py:599(msg_id)\n",
      "       44    0.000    0.000    0.001    0.000 __init__.py:183(dumps)\n",
      "      123    0.000    0.000    0.000    0.000 str.py:680(_print_Integer)\n",
      "       44    0.000    0.000    0.000    0.000 copy.py:258(_reconstruct)\n",
      "       35    0.000    0.000    0.011    0.000 fromnumeric.py:69(_wrapreduction)\n",
      "    96/88    0.000    0.000    0.028    0.000 printer.py:371(__call__)\n",
      "      641    0.000    0.000    0.000    0.000 sparse_pauli_op.py:233(coeffs)\n",
      "      308    0.000    0.000    0.000    0.000 basic.py:717(func)\n",
      "       19    0.000    0.000    0.000    0.000 lambdify.py:1089(__init__)\n",
      "      110    0.000    0.000    0.000    0.000 _sputils.py:193(isscalarlike)\n",
      "      154    0.000    0.000    0.000    0.000 _sputils.py:20(upcast)\n",
      "       51    0.000    0.000    0.010    0.000 _base.py:973(tocsr)\n",
      "       11    0.000    0.000    0.007    0.001 pretty.py:372(pretty)\n",
      "      167    0.000    0.000    0.001    0.000 numbers.py:2240(__eq__)\n",
      "   119/73    0.000    0.000    0.000    0.000 expr.py:391(is_number)\n",
      "       19    0.000    0.000    0.005    0.000 _coo.py:508(_with_data)\n",
      "      444    0.000    0.000    0.001    0.000 traversal.py:163(__next__)\n",
      "       51    0.000    0.000    0.002    0.000 arraysetops.py:138(unique)\n",
      "       39    0.000    0.000    0.007    0.000 _base.py:507(_mul_dispatch)\n",
      "      190    0.000    0.000    0.000    0.000 densebasic.py:279(dmp_strip)\n",
      "       11    0.000    0.000    0.035    0.003 display_functions.py:105(display)\n",
      "       65    0.000    0.000    0.014    0.000 printer.py:340(_as_ordered_terms)\n",
      "       51    0.000    0.000    0.000    0.000 expr.py:1294(args_cnc)\n",
      "      277    0.000    0.000    0.000    0.000 symbol.py:373(free_symbols)\n",
      "       10    0.000    0.000    0.001    0.000 solvers.py:128(denoms)\n",
      "      121    0.000    0.000    0.000    0.000 dir2.py:54(get_real_method)\n",
      "       76    0.000    0.000    0.001    0.000 polyutils.py:171(_not_a_coeff)\n",
      "      562    0.000    0.000    0.000    0.000 {method 'strip' of 'str' objects}\n",
      "    41/28    0.000    0.000    0.001    0.000 mul.py:1260(as_numer_denom)\n",
      "      641    0.000    0.000    0.000    0.000 sparse_pauli_op.py:222(paulis)\n",
      "       22    0.000    0.000    0.000    0.000 threading.py:228(__init__)\n",
      "        1    0.000    0.000    0.030    0.030 Hamiltonian_QED.py:1068(<listcomp>)\n",
      "      228    0.000    0.000    0.000    0.000 numbers.py:1222(_as_mpf_val)\n",
      "       28    0.000    0.000    0.012    0.000 _base.py:459(__add__)\n",
      "       82    0.000    0.000    0.000    0.000 threading.py:1113(is_alive)\n",
      "      408    0.000    0.000    0.000    0.000 basic.py:1494(<lambda>)\n",
      "       80    0.000    0.000    0.000    0.000 expr.py:1883(has)\n",
      "      106    0.000    0.000    0.004    0.000 latex.py:1590(_print_Symbol)\n",
      "    97/58    0.000    0.000    0.001    0.000 decorators.py:58(__sympifyit_wrapper)\n",
      "      130    0.000    0.000    0.000    0.000 polyoptions.py:293(<genexpr>)\n",
      "        1    0.000    0.000    0.076    0.076 Hamiltonian_QED.py:1009(_get_symbol_subs)\n",
      "      140    0.000    0.000    0.000    0.000 polyoptions.py:65(getter)\n",
      "       26    0.000    0.000    0.000    0.000 matrices.py:1152(_setitem)\n",
      "      228    0.000    0.000    0.000    0.000 numbers.py:2080(_as_mpf_val)\n",
      "      412    0.000    0.000    0.000    0.000 {method 'find' of 'str' objects}\n",
      "      114    0.000    0.000    0.000    0.000 {method 'match' of 're.Pattern' objects}\n",
      "       22    0.000    0.000    0.005    0.000 threading.py:280(wait)\n",
      "        3    0.000    0.000    0.000    0.000 repmatrix.py:347(_fromrep)\n",
      "       11    0.000    0.000    0.007    0.001 formatters.py:695(__call__)\n",
      "       23    0.000    0.000    0.001    0.000 fromnumeric.py:2970(prod)\n",
      "      122    0.000    0.000    0.000    0.000 _base.py:739(__getattr__)\n",
      "       74    0.000    0.000    0.012    0.000 str.py:983(sstr)\n",
      "       76    0.000    0.000    0.000    0.000 <__array_function__ internals>:177(count_nonzero)\n",
      "      282    0.000    0.000    0.000    0.000 {method 'union' of 'set' objects}\n",
      "      412    0.000    0.000    0.000    0.000 {method 'startswith' of 'str' objects}\n",
      "       44    0.000    0.000    0.001    0.000 encoder.py:182(encode)\n",
      "        1    0.000    0.000    0.006    0.006 solvers.py:2267(solve_linear_system)\n",
      "       74    0.000    0.000    0.000    0.000 Hamiltonian_QED.py:440(<listcomp>)\n",
      "       55    0.000    0.000    0.001    0.000 numeric.py:149(ones)\n",
      "      364    0.000    0.000    0.000    0.000 _data.py:23(_get_dtype)\n",
      "       27    0.000    0.000    0.002    0.000 _compressed.py:1224(_with_data)\n",
      "       11    0.000    0.000    0.009    0.001 zmqshell.py:63(_flush_streams)\n",
      "      717    0.000    0.000    0.000    0.000 shape_base.py:19(_atleast_1d_dispatcher)\n",
      "      238    0.000    0.000    0.000    0.000 libmpf.py:330(from_int)\n",
      "       75    0.000    0.000    0.000    0.000 numbers.py:1036(__new__)\n",
      "    22/11    0.000    0.000    0.002    0.000 relational.py:613(__new__)\n",
      "      118    0.000    0.000    0.000    0.000 basic.py:326(_do_eq_sympify)\n",
      "    36/23    0.000    0.000    0.000    0.000 basic.py:199(compare)\n",
      "      116    0.000    0.000    0.000    0.000 latex.py:330(_needs_add_brackets)\n",
      "      232    0.000    0.000    0.000    0.000 latex.py:338(<genexpr>)\n",
      "      227    0.000    0.000    0.000    0.000 {method '__contains__' of 'frozenset' objects}\n",
      "     12/8    0.000    0.000    0.013    0.002 latex.py:529(convert_args)\n",
      "      228    0.000    0.000    0.000    0.000 {built-in method math.ldexp}\n",
      "      393    0.000    0.000    0.000    0.000 pauli_list.py:292(size)\n",
      "      374    0.000    0.000    0.000    0.000 str.py:848(_print_Symbol)\n",
      "       22    0.000    0.000    0.000    0.000 latex.py:166(__init__)\n",
      "        4    0.000    0.000    0.001    0.000 _compressed.py:507(_mul_sparse_matrix)\n",
      "       48    0.000    0.000    0.000    0.000 precedence.py:160(precedence_traditional)\n",
      "        8    0.000    0.000    0.000    0.000 linalg.py:205(_assert_finite)\n",
      "       24    0.000    0.000    0.005    0.000 latex.py:677(_helper_print_standard_power)\n",
      "    96/88    0.000    0.000    0.027    0.000 printer.py:290(doprint)\n",
      "      498    0.000    0.000    0.000    0.000 {method 'split' of 'str' objects}\n",
      "        5    0.000    0.000    0.000    0.000 sdm.py:68(__init__)\n",
      "       11    0.000    0.000    0.001    0.000 session.py:687(serialize)\n",
      "       88    0.000    0.000    0.000    0.000 numbers.py:418(ilcm)\n",
      "       19    0.000    0.000    0.001    0.000 numpy.py:368(__init__)\n",
      "     24/5    0.000    0.000    0.318    0.064 {built-in method builtins.exec}\n",
      "        8    0.000    0.000    0.000    0.000 twodim_base.py:234(diag)\n",
      "       19    0.000    0.000    0.001    0.000 textwrap.py:381(fill)\n",
      "        1    0.000    0.000    0.001    0.001 Hamiltonian_QED.py:377(gauss_equations)\n",
      "       10    0.000    0.000    0.000    0.000 constructor.py:270(construct_domain)\n",
      "      312    0.000    0.000    0.000    0.000 {method 'splitlines' of 'str' objects}\n",
      "       89    0.000    0.000    0.000    0.000 numbers.py:1869(__eq__)\n",
      "       61    0.000    0.000    0.000    0.000 _compressed.py:1103(__set_has_canonical_format)\n",
      "      228    0.000    0.000    0.000    0.000 {built-in method builtins.round}\n",
      "       47    0.000    0.000    0.001    0.000 {method 'sum' of 'numpy.ndarray' objects}\n",
      "      131    0.000    0.000    0.000    0.000 {method 'encode' of 'str' objects}\n",
      "       22    0.000    0.000    0.000    0.000 threading.py:521(__init__)\n",
      "      213    0.000    0.000    0.000    0.000 numbers.py:3585(__eq__)\n",
      "       66    0.000    0.000    0.000    0.000 {method 'sort' of 'list' objects}\n",
      "        1    0.000    0.000    0.001    0.001 rings.py:128(sring)\n",
      "      373    0.000    0.000    0.000    0.000 expr.py:143(_hashable_content)\n",
      "        4    0.000    0.000    0.002    0.000 Hamiltonian_QED.py:1182(<listcomp>)\n",
      "       39    0.000    0.000    0.001    0.000 numbers.py:1736(__mul__)\n",
      "       26    0.000    0.000    0.000    0.000 matrices.py:1842(key2ij)\n",
      "      106    0.000    0.000    0.001    0.000 latex.py:1606(<listcomp>)\n",
      "       55    0.000    0.000    0.000    0.000 <__array_function__ internals>:177(copyto)\n",
      "        2    0.000    0.000    0.000    0.000 iterables.py:987(_strongly_connected_components)\n",
      "      494    0.000    0.000    0.000    0.000 symbol.py:725(<genexpr>)\n",
      "       24    0.000    0.000    0.005    0.000 latex.py:627(_print_Pow)\n",
      "      246    0.000    0.000    0.000    0.000 lambdify.py:908(<genexpr>)\n",
      "       21    0.000    0.000    0.001    0.000 {built-in method builtins.print}\n",
      "      312    0.000    0.000    0.000    0.000 {method '__array_prepare__' of 'numpy.ndarray' objects}\n",
      "       39    0.000    0.000    0.000    0.000 numbers.py:740(__mul__)\n",
      "      477    0.000    0.000    0.000    0.000 {method 'extend' of 'list' objects}\n",
      "       26    0.000    0.000    0.011    0.000 _compressed.py:359(_add_sparse)\n",
      "       10    0.000    0.000    0.000    0.000 iterables.py:1925(has_dups)\n",
      "      227    0.000    0.000    0.000    0.000 iterables.py:104(<lambda>)\n",
      "       35    0.000    0.000    0.007    0.000 _base.py:598(_rmul_dispatch)\n",
      "        9    0.000    0.000    0.003    0.000 expr.py:1093(as_poly)\n",
      "       44    0.000    0.000    0.001    0.000 session.py:97(json_packer)\n",
      "        9    0.000    0.000    0.001    0.000 polytools.py:242(_from_dict)\n",
      "       38    0.000    0.000    0.000    0.000 codeprinter.py:96(__init__)\n",
      "       56    0.000    0.000    0.000    0.000 Hamiltonian_QED.py:444(<listcomp>)\n",
      "       11    0.000    0.000    0.011    0.001 display_functions.py:45(publish_display_data)\n",
      "      228    0.000    0.000    0.000    0.000 pythonmpq.py:126(__eq__)\n",
      "       78    0.000    0.000    0.001    0.000 {method 'index' of 'list' objects}\n",
      "      228    0.000    0.000    0.000    0.000 expr.py:1147(<lambda>)\n",
      "      462    0.000    0.000    0.000    0.000 shape_base.py:77(_atleast_2d_dispatcher)\n",
      "       11    0.000    0.000    0.000    0.000 {method 'replace' of 'datetime.datetime' objects}\n",
      "      132    0.000    0.000    0.001    0.000 inspect.py:3057(bind)\n",
      "       51    0.000    0.000    0.001    0.000 <__array_function__ internals>:177(tile)\n",
      "        9    0.000    0.000    0.001    0.000 polyutils.py:345(_dict_from_expr)\n",
      "      528    0.000    0.000    0.000    0.000 inspect.py:2882(parameters)\n",
      "        1    0.000    0.000    0.002    0.002 solvers.py:187(solve_lin_sys)\n",
      "      561    0.000    0.000    0.000    0.000 inspect.py:2565(name)\n",
      "      293    0.000    0.000    0.000    0.000 expr.py:1162(<genexpr>)\n",
      "       20    0.000    0.000    0.000    0.000 polyoptions.py:140(preprocess_options)\n",
      "       60    0.000    0.000    0.000    0.000 iostream.py:91(_event_pipe)\n",
      "       22    0.000    0.000    0.021    0.001 latex.py:2882(latex)\n",
      "       16    0.000    0.000    0.000    0.000 polyutils.py:375(expr_from_dict)\n",
      "       87    0.000    0.000    0.000    0.000 <frozen importlib._bootstrap>:1033(_handle_fromlist)\n",
      "       28    0.000    0.000    0.000    0.000 iterables.py:588(sift)\n",
      "       76    0.000    0.000    0.000    0.000 {built-in method numpy.core._multiarray_umath.count_nonzero}\n",
      "        8    0.000    0.000    0.024    0.003 Hamiltonian_QED.py:1050(<lambda>)\n",
      "       33    0.000    0.000    0.000    0.000 {method 'copy' of '_hashlib.HASH' objects}\n",
      "        1    0.000    0.000    0.019    0.019 Hamiltonian_QED.py:1062(<listcomp>)\n",
      "       51    0.000    0.000    0.002    0.000 <__array_function__ internals>:177(unique)\n",
      "        1    0.000    0.000    0.002    0.002 Hamiltonian_QED.py:1042(<listcomp>)\n",
      "      118    0.000    0.000    0.000    0.000 domain.py:820(__eq__)\n",
      "       66    0.000    0.000    0.000    0.000 orderings.py:200(monomial_key)\n",
      "       82    0.000    0.000    0.000    0.000 threading.py:1059(_wait_for_tstate_lock)\n",
      "       11    0.000    0.000    0.000    0.000 {built-in method utcnow}\n",
      "       16    0.000    0.000    0.000    0.000 rings.py:1071(__mul__)\n",
      "      813    0.000    0.000    0.000    0.000 {built-in method math.gcd}\n",
      "  271/148    0.000    0.000    0.000    0.000 expr.py:441(<genexpr>)\n",
      "       44    0.000    0.000    0.000    0.000 {built-in method _thread.allocate_lock}\n",
      "      159    0.000    0.000    0.000    0.000 mul.py:2109(_keep_coeff)\n",
      "       44    0.000    0.000    0.000    0.000 encoder.py:104(__init__)\n",
      "       11    0.000    0.000    0.007    0.001 pretty.py:775(_repr_pprint)\n",
      "    28/10    0.000    0.000    0.014    0.001 latex.py:513(convert)\n",
      "      296    0.000    0.000    0.000    0.000 shape_base.py:1063(_kron_dispatcher)\n",
      "       55    0.000    0.000    0.000    0.000 {method 'update' of '_hashlib.HASH' objects}\n",
      "       76    0.000    0.000    0.000    0.000 lambdify.py:925(_module_present)\n",
      "       10    0.000    0.000    0.000    0.000 repmatrix.py:673(_getitem_RepMatrix)\n",
      "      513    0.000    0.000    0.000    0.000 {built-in method builtins.callable}\n",
      "       74    0.000    0.000    0.000    0.000 numbers.py:2132(__neg__)\n",
      "       57    0.000    0.000    0.000    0.000 expr.py:209(__mul__)\n",
      "      958    0.000    0.000    0.000    0.000 {method 'getrandbits' of '_random.Random' objects}\n",
      "       19    0.000    0.000    0.000    0.000 {method 'translate' of 'str' objects}\n",
      "       13    0.000    0.000    0.000    0.000 add.py:41(_unevaluated_Add)\n",
      "      136    0.000    0.000    0.001    0.000 basic.py:387(__ne__)\n",
      "        4    0.000    0.000    0.001    0.000 Hamiltonian_QED.py:271(<listcomp>)\n",
      "      8/4    0.000    0.000    0.002    0.000 _base.py:708(__pow__)\n",
      "      121    0.000    0.000    0.000    0.000 formatters.py:358(_check_return)\n",
      "       19    0.000    0.000    0.000    0.000 textwrap.py:115(__init__)\n",
      "      303    0.000    0.000    0.000    0.000 fromnumeric.py:3160(_ndim_dispatcher)\n",
      "        2    0.000    0.000    0.002    0.001 Hamiltonian_QED.py:337(get_hamiltonian)\n",
      "      246    0.000    0.000    0.000    0.000 lambdify.py:1185(<genexpr>)\n",
      "      296    0.000    0.000    0.000    0.000 numeric.py:847(_outer_dispatcher)\n",
      "       36    0.000    0.000    0.000    0.000 mul.py:2059(as_ordered_factors)\n",
      "        4    0.000    0.000    0.000    0.000 {built-in method scipy.sparse._sparsetools.csr_matmat_maxnnz}\n",
      "       47    0.000    0.000    0.000    0.000 Hamiltonian_QED.py:194(<lambda>)\n",
      "      317    0.000    0.000    0.000    0.000 power.py:389(exp)\n",
      "       52    0.000    0.000    0.000    0.000 integerring.py:53(to_sympy)\n",
      "        4    0.000    0.000    0.000    0.000 pycode.py:366(_hprint_Pow)\n",
      "      250    0.000    0.000    0.000    0.000 {method 'replace' of 'str' objects}\n",
      "      354    0.000    0.000    0.000    0.000 rings.py:570(__hash__)\n",
      "        1    0.000    0.000    0.000    0.000 Hamiltonian_QED.py:1208(<dictcomp>)\n",
      "        8    0.000    0.000    0.000    0.000 _compressed.py:1048(toarray)\n",
      "       11    0.000    0.000    0.006    0.001 str.py:765(_print_Relational)\n",
      "       10    0.000    0.000    0.000    0.000 iterables.py:1947(<genexpr>)\n",
      "       96    0.000    0.000    0.001    0.000 precedence.py:61(precedence_Mul)\n",
      "       26    0.000    0.000    0.000    0.000 repmatrix.py:62(_unify_element_sympy)\n",
      "        9    0.000    0.000    0.003    0.000 polytools.py:161(__new__)\n",
      "       60    0.000    0.000    0.000    0.000 numbers.py:2259(__lt__)\n",
      "      296    0.000    0.000    0.000    0.000 {method '__array_wrap__' of 'numpy.ndarray' objects}\n",
      "      396    0.000    0.000    0.000    0.000 {method 'items' of 'mappingproxy' objects}\n",
      "       76    0.000    0.000    0.000    0.000 numeric.py:425(count_nonzero)\n",
      "       26    0.000    0.000    0.000    0.000 densebasic.py:917(dup_from_dict)\n",
      "      228    0.000    0.000    0.000    0.000 numbers.py:1201(_hashable_content)\n",
      "       11    0.000    0.000    0.011    0.001 _print_helpers.py:54(_repr_latex_)\n",
      "       19    0.000    0.000    0.000    0.000 textwrap.py:160(_split)\n",
      "        4    0.000    0.000    0.001    0.000 Hamiltonian_QED.py:282(<listcomp>)\n",
      "       13    0.000    0.000    0.017    0.001 latex.py:1620(_print_Relational)\n",
      "       22    0.000    0.000    0.000    0.000 threading.py:259(__exit__)\n",
      "       60    0.000    0.000    0.000    0.000 core.py:73(__cmp__)\n",
      "       16    0.000    0.000    0.000    0.000 linalg.py:135(_commonType)\n",
      "      132    0.000    0.000    0.000    0.000 pretty.py:321(_get_mro)\n",
      "       11    0.000    0.000    0.000    0.000 session.py:672(sign)\n",
      "        1    0.000    0.000    0.000    0.000 3544843532.py:27(<module>)\n",
      "    67/31    0.000    0.000    0.000    0.000 basic.py:1552(<listcomp>)\n",
      "       40    0.000    0.000    0.001    0.000 base_pauli.py:342(_count_y)\n",
      "       11    0.000    0.000    0.000    0.000 displaypub.py:43(_validate_data)\n",
      "      512    0.000    0.000    0.000    0.000 {built-in method builtins.bin}\n",
      "       57    0.000    0.000    0.000    0.000 lambdify.py:119(_import)\n",
      "       44    0.000    0.000    0.000    0.000 threading.py:1089(ident)\n",
      "      190    0.000    0.000    0.000    0.000 expr.py:1992(as_base_exp)\n",
      "      227    0.000    0.000    0.000    0.000 {method 'isidentifier' of 'str' objects}\n",
      "       33    0.000    0.000    0.000    0.000 pretty.py:495(enq)\n",
      "       26    0.000    0.000    0.001    0.000 repmatrix.py:360(__setitem__)\n",
      "      140    0.000    0.000    0.000    0.000 inspect.py:73(isclass)\n",
      "      152    0.000    0.000    0.000    0.000 expr.py:3492(as_coeff_Mul)\n",
      "       44    0.000    0.000    0.000    0.000 copyreg.py:94(__newobj__)\n",
      "       57    0.000    0.000    0.000    0.000 lambdify.py:933(_get_namespace)\n",
      "      132    0.000    0.000    0.000    0.000 {method 'values' of 'mappingproxy' objects}\n",
      "        1    0.000    0.000    0.001    0.001 Hamiltonian_QED.py:1221(_hamiltonian_k_autom)\n",
      "        1    0.000    0.000    0.021    0.021 Hamiltonian_QED.py:244(<listcomp>)\n",
      "       22    0.000    0.000    0.000    0.000 pretty.py:280(begin_group)\n",
      "       11    0.000    0.000    0.000    0.000 formatters.py:907(__call__)\n",
      "       10    0.000    0.000    0.000    0.000 polyoptions.py:282(preprocess)\n",
      "      228    0.000    0.000    0.000    0.000 expr.py:1082(<listcomp>)\n",
      "       58    0.000    0.000    0.000    0.000 iostream.py:467(_is_master_process)\n",
      "      100    0.000    0.000    0.000    0.000 str.py:274(<genexpr>)\n",
      "       22    0.000    0.000    0.000    0.000 jsonutil.py:108(json_default)\n",
      "       11    0.000    0.000    0.000    0.000 hmac.py:115(copy)\n",
      "       11    0.000    0.000    0.000    0.000 session.py:201(utcnow)\n",
      "       20    0.000    0.000    0.000    0.000 expr.py:199(__sub__)\n",
      "        9    0.000    0.000    0.000    0.000 basic.py:1580(find)\n",
      "        3    0.000    0.000    0.000    0.000 domain.py:367(__hash__)\n",
      "       35    0.000    0.000    0.007    0.000 _base.py:609(__rmul__)\n",
      "      126    0.000    0.000    0.000    0.000 printer.py:283(order)\n",
      "       11    0.000    0.000    0.000    0.000 session.py:646(msg)\n",
      "       61    0.000    0.000    0.001    0.000 _compressed.py:1111(sum_duplicates)\n",
      "       21    0.000    0.000    0.000    0.000 iterables.py:1020(finish)\n",
      "      209    0.000    0.000    0.000    0.000 numbers.py:3198(__neg__)\n",
      "       71    0.000    0.000    0.000    0.000 mul.py:2073(<lambda>)\n",
      "       55    0.000    0.000    0.000    0.000 pretty.py:417(_in_deferred_types)\n",
      "       51    0.000    0.000    0.000    0.000 latex.py:2825(_print_int)\n",
      "       64    0.000    0.000    0.012    0.000 Hamiltonian_QED.py:446(<lambda>)\n",
      "       11    0.000    0.000    0.000    0.000 pretty.py:201(__init__)\n",
      "       27    0.000    0.000    0.000    0.000 add.py:636(<listcomp>)\n",
      "       74    0.000    0.000    0.002    0.000 lambdify.py:964(<genexpr>)\n",
      "       16    0.000    0.000    0.000    0.000 contextlib.py:86(__init__)\n",
      "       20    0.000    0.000    0.001    0.000 polyoptions.py:740(build_options)\n",
      "       22    0.000    0.000    0.000    0.000 dispatcher.py:231(__call__)\n",
      "        1    0.000    0.000    0.000    0.000 sdm.py:901(unop_dict)\n",
      "       10    0.000    0.000    0.000    0.000 constructor.py:15(_construct_simple)\n",
      "      121    0.000    0.000    0.000    0.000 formatters.py:273(_get_type)\n",
      "        1    0.000    0.000    0.000    0.000 matrices.py:926(_handle_creation_inputs)\n",
      "        1    0.000    0.000    0.000    0.000 solvers.py:428(<setcomp>)\n",
      "       51    0.000    0.000    0.000    0.000 latex.py:1561(_print_Rational)\n",
      "      228    0.000    0.000    0.000    0.000 {built-in method builtins.ord}\n",
      "        1    0.000    0.000    0.002    0.002 solvers.py:365(_solve_lin_sys_component)\n",
      "    49/36    0.000    0.000    0.003    0.000 str.py:368(<listcomp>)\n",
      "       19    0.000    0.000    0.000    0.000 textwrap.py:179(<listcomp>)\n",
      "       19    0.000    0.000    0.000    0.000 numbers.py:3495(__sub__)\n",
      "        1    0.000    0.000    0.000    0.000 Hamiltonian_QED.py:1046(<listcomp>)\n",
      "      282    0.000    0.000    0.000    0.000 pycode.py:129(_format_code)\n",
      "      246    0.000    0.000    0.000    0.000 multiarray.py:80(empty_like)\n",
      "        1    0.000    0.000    0.002    0.002 solvers.py:304(_solve_lin_sys)\n",
      "        8    0.000    0.000    0.000    0.000 {built-in method scipy.sparse._sparsetools.csr_todense}\n",
      "       47    0.000    0.000    0.001    0.000 _methods.py:46(_sum)\n",
      "      260    0.000    0.000    0.000    0.000 traversal.py:166(__iter__)\n",
      "       89    0.000    0.000    0.000    0.000 domain.py:824(__ne__)\n",
      "    41/28    0.000    0.000    0.000    0.000 mul.py:1264(<listcomp>)\n",
      "      125    0.000    0.000    0.000    0.000 precedence.py:73(precedence_Integer)\n",
      "      132    0.000    0.000    0.000    0.000 inspect.py:2657(__init__)\n",
      "       19    0.000    0.000    0.000    0.000 textwrap.py:146(_munge_whitespace)\n",
      "       19    0.000    0.000    0.001    0.000 textwrap.py:342(wrap)\n",
      "       66    0.000    0.000    0.001    0.000 radsimp.py:1119(denom)\n",
      "       21    0.000    0.000    0.000    0.000 iterables.py:1014(start)\n",
      "       71    0.000    0.000    0.000    0.000 power.py:966(as_base_exp)\n",
      "        1    0.000    0.000    0.000    0.000 repmatrix.py:127(_flat_list_to_DomainMatrix)\n",
      "      124    0.000    0.000    0.000    0.000 evalf.py:1424(<lambda>)\n",
      "       35    0.000    0.000    0.000    0.000 fromnumeric.py:70(<dictcomp>)\n",
      "        1    0.000    0.000    0.002    0.002 common.py:2776(multiply)\n",
      "       12    0.000    0.000    0.000    0.000 power.py:1549(as_numer_denom)\n",
      "     59/9    0.000    0.000    0.000    0.000 solvers.py:1094(_has_piecewise)\n",
      "      228    0.000    0.000    0.000    0.000 orderings.py:43(__call__)\n",
      "      247    0.000    0.000    0.000    0.000 symbol.py:710(literal)\n",
      "        7    0.000    0.000    0.000    0.000 pauli_list.py:1091(from_symplectic)\n",
      "       24    0.000    0.000    0.004    0.000 latex.py:229(parenthesize)\n",
      "       22    0.000    0.000    0.000    0.000 threading.py:268(_acquire_restore)\n",
      "        9    0.000    0.000    0.000    0.000 rings.py:353(from_dict)\n",
      "        4    0.000    0.000    0.000    0.000 {built-in method scipy.sparse._sparsetools.csr_matmat}\n",
      "      222    0.000    0.000    0.000    0.000 numbers.py:3372(__neg__)\n",
      "       19    0.000    0.000    0.001    0.000 textwrap.py:356(fill)\n",
      "        4    0.000    0.000    0.000    0.000 pauli_list.py:747(_add)\n",
      "       10    0.000    0.000    0.001    0.000 solvers.py:1809(<genexpr>)\n",
      "       26    0.000    0.000    0.000    0.000 pythonmpq.py:57(__new__)\n",
      "       11    0.000    0.000    0.000    0.000 session.py:273(msg_header)\n",
      "       51    0.000    0.000    0.000    0.000 {method 'sort' of 'numpy.ndarray' objects}\n",
      "       66    0.000    0.000    0.000    0.000 sdm.py:75(<genexpr>)\n",
      "       35    0.000    0.000    0.000    0.000 polyutils.py:364(<genexpr>)\n",
      "      630    0.000    0.000    0.000    0.000 {method 'bit_length' of 'int' objects}\n",
      "        1    0.000    0.000    0.000    0.000 Hamiltonian_QED.py:1080(_hamiltonian_el_autom)\n",
      "      130    0.000    0.000    0.000    0.000 {built-in method builtins.issubclass}\n",
      "        4    0.000    0.000    0.000    0.000 sparse_pauli_op.py:355(_add)\n",
      "       24    0.000    0.000    0.000    0.000 {method 'search' of 're.Pattern' objects}\n",
      "        4    0.000    0.000    0.000    0.000 numpy.py:207(_print_Pow)\n",
      "       51    0.000    0.000    0.000    0.000 arraysetops.py:125(_unpack_tuple)\n",
      "       22    0.000    0.000    0.000    0.000 threading.py:1338(current_thread)\n",
      "       26    0.000    0.000    0.000    0.000 sdm.py:91(setitem)\n",
      "       17    0.000    0.000    0.000    0.000 logic.py:115(fuzzy_and)\n",
      "       11    0.000    0.000    0.000    0.000 session.py:280(extract_header)\n",
      "        1    0.000    0.000    0.000    0.000 Hamiltonian_QED.py:1085(<listcomp>)\n",
      "       65    0.000    0.000    0.000    0.000 expr.py:1179(<listcomp>)\n",
      "       19    0.000    0.000    0.000    0.000 inspect.py:1546(currentframe)\n",
      "        9    0.000    0.000    0.001    0.000 polytools.py:913(terms)\n",
      "        1    0.000    0.000    0.000    0.000 {built-in method _abc._abc_init}\n",
      "       19    0.000    0.000    0.000    0.000 Hamiltonian_QED.py:588(<listcomp>)\n",
      "        1    0.000    0.000    0.000    0.000 solvers.py:74(eqs_to_matrix)\n",
      "      150    0.000    0.000    0.000    0.000 pythonmpq.py:122(__bool__)\n",
      "       23    0.000    0.000    0.001    0.000 <__array_function__ internals>:177(prod)\n",
      "       26    0.000    0.000    0.000    0.000 matrices.py:1857(<listcomp>)\n",
      "      121    0.000    0.000    0.000    0.000 pretty.py:118(_safe_getattr)\n",
      "      132    0.000    0.000    0.000    0.000 {built-in method builtins.id}\n",
      "      138    0.000    0.000    0.000    0.000 power.py:385(base)\n",
      "       11    0.000    0.000    0.000    0.000 session.py:643(msg_header)\n",
      "       52    0.000    0.000    0.000    0.000 common.py:3245(a2idx)\n",
      "        4    0.000    0.000    0.000    0.000 Hamiltonian_QED.py:1173(<listcomp>)\n",
      "      270    0.000    0.000    0.000    0.000 {built-in method builtins.abs}\n",
      "        2    0.000    0.000    0.005    0.002 custom_iterator.py:43(__next__)\n",
      "       33    0.000    0.000    0.000    0.000 pretty.py:482(__init__)\n",
      "       15    0.000    0.000    0.000    0.000 mul.py:38(_unevaluated_Mul)\n",
      "        1    0.000    0.000    0.002    0.002 repmatrix.py:248(_eval_matrix_mul)\n",
      "       69    0.000    0.000    0.000    0.000 {method 'write' of '_io.StringIO' objects}\n",
      "       58    0.000    0.000    0.001    0.000 iostream.py:494(_schedule_flush)\n",
      "        9    0.000    0.000    0.001    0.000 _data.py:91(copy)\n",
      "       19    0.000    0.000    0.001    0.000 textwrap.py:336(_split_chunks)\n",
      "       16    0.000    0.000    0.000    0.000 contextlib.py:242(helper)\n",
      "       10    0.000    0.000    0.000    0.000 constructor.py:76(<listcomp>)\n",
      "        9    0.000    0.000    0.000    0.000 fromnumeric.py:2404(all)\n",
      "       26    0.000    0.000    0.000    0.000 sdm.py:590(<lambda>)\n",
      "       26    0.000    0.000    0.000    0.000 rationalfield.py:57(from_sympy)\n",
      "       11    0.000    0.000    0.000    0.000 {method 'digest' of '_hashlib.HASH' objects}\n",
      "       11    0.000    0.000    0.000    0.000 iostream.py:289(send_multipart)\n",
      "        2    0.000    0.000    0.000    0.000 iterables.py:898(strongly_connected_components)\n",
      "        5    0.000    0.000    0.318    0.064 interactiveshell.py:3472(run_code)\n",
      "        1    0.000    0.000    0.003    0.003 Hamiltonian_QED.py:269(<listcomp>)\n",
      "       35    0.000    0.000    0.000    0.000 polyutils.py:359(<genexpr>)\n",
      "        9    0.000    0.000    0.001    0.000 polyclasses.py:276(from_dict)\n",
      "       66    0.000    0.000    0.000    0.000 boolalg.py:460(<lambda>)\n",
      "        4    0.000    0.000    0.000    0.000 Hamiltonian_QED.py:1226(<listcomp>)\n",
      "       27    0.000    0.000    0.000    0.000 densebasic.py:1019(dup_to_dict)\n",
      "        1    0.000    0.000    0.005    0.005 sparse_pauli_op.py:887(to_matrix)\n",
      "       22    0.000    0.000    0.000    0.000 pretty.py:304(end_group)\n",
      "       62    0.000    0.000    0.000    0.000 _compressed.py:1143(__set_sorted)\n",
      "        2    0.000    0.000    0.000    0.000 sdm.py:572(convert_to)\n",
      "      102    0.000    0.000    0.000    0.000 shape_base.py:1243(<genexpr>)\n",
      "       62    0.000    0.000    0.000    0.000 domain.py:402(convert)\n",
      "        5    0.000    0.000    0.000    0.000 codeop.py:142(__call__)\n",
      "        1    0.000    0.000    0.000    0.000 Hamiltonian_QED.py:1229(<listcomp>)\n",
      "        3    0.000    0.000    0.000    0.000 expr.py:2551(is_polynomial)\n",
      "       10    0.000    0.000    0.000    0.000 polyoptions.py:205(clone)\n",
      "       10    0.000    0.000    0.000    0.000 sdm.py:78(getitem)\n",
      "        1    0.000    0.000    0.000    0.000 _construct.py:166(<listcomp>)\n",
      "        7    0.000    0.000    0.000    0.000 domainmatrix.py:188(from_rep)\n",
      "       19    0.000    0.000    0.000    0.000 inspect.py:159(isfunction)\n",
      "        1    0.000    0.000    0.001    0.001 3544843532.py:25(<module>)\n",
      "       80    0.000    0.000    0.000    0.000 {built-in method posix.getpid}\n",
      "       16    0.000    0.000    0.000    0.000 linalg.py:106(get_linalg_error_extobj)\n",
      "        1    0.000    0.000    0.024    0.024 Hamiltonian_QED.py:1054(<listcomp>)\n",
      "       94    0.000    0.000    0.000    0.000 evalf.py:1429(<lambda>)\n",
      "        1    0.000    0.000    0.000    0.000 repmatrix.py:331(_new)\n",
      "       22    0.000    0.000    0.000    0.000 configurable.py:521(instance)\n",
      "       11    0.000    0.000    0.000    0.000 jsonutil.py:77(json_clean)\n",
      "       11    0.000    0.000    0.000    0.000 pretty.py:355(__init__)\n",
      "        1    0.000    0.000    0.000    0.000 {built-in method scipy.sparse._sparsetools.csc_tocsr}\n",
      "       16    0.000    0.000    0.000    0.000 contextlib.py:121(__exit__)\n",
      "       16    0.000    0.000    0.000    0.000 rings.py:618(as_expr)\n",
      "       49    0.000    0.000    0.000    0.000 sdm.py:73(<genexpr>)\n",
      "        1    0.000    0.000    0.000    0.000 Hamiltonian_QED.py:211(<dictcomp>)\n",
      "       32    0.000    0.000    0.000    0.000 {method 'setdefault' of 'dict' objects}\n",
      "      190    0.000    0.000    0.000    0.000 polyoptions.py:39(postprocess)\n",
      "        9    0.000    0.000    0.001    0.000 polyclasses.py:899(is_linear)\n",
      "       22    0.000    0.000    0.000    0.000 pretty.py:184(group)\n",
      "       16    0.000    0.000    0.000    0.000 contextlib.py:112(__enter__)\n",
      "        1    0.000    0.000    0.001    0.001 solvers.py:132(sympy_eqs_to_ring)\n",
      "      106    0.000    0.000    0.000    0.000 latex.py:1605(<listcomp>)\n",
      "       82    0.000    0.000    0.000    0.000 {method 'append' of 'collections.deque' objects}\n",
      "       24    0.000    0.000    0.000    0.000 pythonmpq.py:219(__add__)\n",
      "        8    0.000    0.000    0.018    0.002 <__array_function__ internals>:177(inv)\n",
      "        1    0.000    0.000    0.000    0.000 sdm.py:221(<dictcomp>)\n",
      "       27    0.000    0.000    0.000    0.000 rationalfield.py:53(to_sympy)\n",
      "        1    0.000    0.000    0.000    0.000 Hamiltonian_QED.py:1194(_hamiltonian_m_autom)\n",
      "       11    0.000    0.000    0.000    0.000 formatters.py:944(_check_return)\n",
      "       30    0.000    0.000    0.000    0.000 core.py:101(__gt__)\n",
      "       11    0.000    0.000    0.000    0.000 formatters.py:953(__call__)\n",
      "       82    0.000    0.000    0.000    0.000 threading.py:529(is_set)\n",
      "        1    0.000    0.000    0.000    0.000 solvers.py:65(recast_to_symbols)\n",
      "       22    0.000    0.000    0.020    0.001 latex.py:253(doprint)\n",
      "       15    0.000    0.000    0.000    0.000 Hamiltonian_QED.py:461(decompose_expression)\n",
      "       40    0.000    0.000    0.000    0.000 linalg.py:116(isComplexType)\n",
      "       76    0.000    0.000    0.000    0.000 numeric.py:421(_count_nonzero_dispatcher)\n",
      "        9    0.000    0.000    0.002    0.000 polytools.py:307(_from_expr)\n",
      "       28    0.000    0.000    0.000    0.000 rings.py:308(zero)\n",
      "        4    0.000    0.000    0.001    0.000 _base.py:616(__matmul__)\n",
      "       77    0.000    0.000    0.000    0.000 expr.py:2150(as_numer_denom)\n",
      "       10    0.000    0.000    0.000    0.000 repmatrix.py:232(__getitem__)\n",
      "       34    0.000    0.000    0.000    0.000 pythonmpq.py:93(_new_check)\n",
      "       11    0.000    0.000    0.000    0.000 pretty.py:490(__init__)\n",
      "       44    0.000    0.000    0.000    0.000 latex.py:322(<genexpr>)\n",
      "       60    0.000    0.000    0.000    0.000 operations.py:121(<genexpr>)\n",
      "       10    0.000    0.000    0.001    0.000 solvers.py:113(_simple_dens)\n",
      "       24    0.000    0.000    0.000    0.000 solvers.py:432(<genexpr>)\n",
      "        9    0.000    0.000    0.000    0.000 polyclasses.py:151(__init__)\n",
      "       58    0.000    0.000    0.000    0.000 {method '__exit__' of '_thread.RLock' objects}\n",
      "       44    0.000    0.000    0.000    0.000 hmac.py:111(update)\n",
      "       45    0.000    0.000    0.000    0.000 relational.py:1595(<genexpr>)\n",
      "       16    0.000    0.000    0.000    0.000 linalg.py:111(_makearray)\n",
      "        1    0.000    0.000    0.003    0.003 pauli.py:425(to_matrix)\n",
      "       24    0.000    0.000    0.000    0.000 linalg.py:129(_realType)\n",
      "       57    0.000    0.000    0.000    0.000 numbers.py:3142(__neg__)\n",
      "       11    0.000    0.000    0.000    0.000 session.py:846(<listcomp>)\n",
      "   109/35    0.000    0.000    0.000    0.000 solvers.py:1097(<genexpr>)\n",
      "        1    0.000    0.000    0.000    0.000 common.py:1196(zeros)\n",
      "       24    0.000    0.000    0.000    0.000 latex.py:523(<lambda>)\n",
      "        8    0.000    0.000    0.000    0.000 rings.py:990(__sub__)\n",
      "       22    0.000    0.000    0.000    0.000 jsonutil.py:39(_ensure_tzinfo)\n",
      "       26    0.000    0.000    0.000    0.000 expressionrawdomain.py:45(convert_from)\n",
      "        8    0.000    0.000    0.000    0.000 {method 'all' of 'numpy.ndarray' objects}\n",
      "        1    0.000    0.000    0.000    0.000 type_check.py:716(common_type)\n",
      "       71    0.000    0.000    0.000    0.000 numbers.py:2416(as_numer_denom)\n",
      "       11    0.000    0.000    0.000    0.000 pretty.py:313(flush)\n",
      "        9    0.000    0.000    0.000    0.000 <__array_function__ internals>:177(all)\n",
      "        1    0.000    0.000    0.000    0.000 domainmatrix.py:1615(zeros)\n",
      "       59    0.000    0.000    0.000    0.000 solvers.py:926(<lambda>)\n",
      "        9    0.000    0.000    0.000    0.000 polytools.py:192(new)\n",
      "       19    0.000    0.000    0.000    0.000 {built-in method sys._getframe}\n",
      "       11    0.000    0.000    0.000    0.000 zmqshell.py:73(_hooks)\n",
      "       30    0.000    0.000    0.000    0.000 expr.py:189(__add__)\n",
      "       52    0.000    0.000    0.000    0.000 integerring.py:57(from_sympy)\n",
      "       16    0.000    0.000    0.000    0.000 <string>:1(monomial_mul)\n",
      "        2    0.000    0.000    0.000    0.000 add.py:780(_eval_is_extended_positive)\n",
      "       35    0.000    0.000    0.000    0.000 polyclasses.py:902(<genexpr>)\n",
      "        1    0.000    0.000    0.002    0.002 domainmatrix.py:810(__mul__)\n",
      "        5    0.000    0.000    0.000    0.000 numbers.py:1972(__hash__)\n",
      "        8    0.000    0.000    0.000    0.000 <__array_function__ internals>:177(diag)\n",
      "       34    0.000    0.000    0.000    0.000 _sputils.py:250(isdense)\n",
      "        9    0.000    0.000    0.001    0.000 polyutils.py:305(_dict_from_expr_if_gens)\n",
      "        1    0.000    0.000    0.000    0.000 Hamiltonian_QED.py:1241(<dictcomp>)\n",
      "        1    0.000    0.000    0.000    0.000 {built-in method builtins.__build_class__}\n",
      "       52    0.000    0.000    0.000    0.000 latex.py:557(<genexpr>)\n",
      "       34    0.000    0.000    0.000    0.000 wrapper.py:132(is_infinite)\n",
      "       55    0.000    0.000    0.000    0.000 {method 'get' of 'mappingproxy' objects}\n",
      "       51    0.000    0.000    0.000    0.000 shape_base.py:1167(_tile_dispatcher)\n",
      "       48    0.000    0.000    0.000    0.000 latex.py:325(<genexpr>)\n",
      "       11    0.000    0.000    0.000    0.000 numbers.py:1694(__neg__)\n",
      "        9    0.000    0.000    0.000    0.000 basic.py:670(is_comparable)\n",
      "        8    0.000    0.000    0.001    0.000 <__array_function__ internals>:177(eig)\n",
      "        1    0.000    0.000    0.000    0.000 domainmatrix.py:545(_unify_domain)\n",
      "       16    0.000    0.000    0.000    0.000 rings.py:628(<dictcomp>)\n",
      "        1    0.000    0.000    0.000    0.000 domainmatrix.py:572(unify)\n",
      "       11    0.000    0.000    0.000    0.000 pretty.py:232(text)\n",
      "        1    0.000    0.000    0.000    0.000 polynomialring.py:19(__init__)\n",
      "        2    0.000    0.000    0.000    0.000 linear.py:40(__add__)\n",
      "       11    0.000    0.000    0.000    0.000 {built-in method builtins.locals}\n",
      "        9    0.000    0.000    0.000    0.000 polytools.py:931(<listcomp>)\n",
      "       11    0.000    0.000    0.000    0.000 hmac.py:128(_current)\n",
      "        4    0.000    0.000    0.000    0.000 Hamiltonian_QED.py:1490(<listcomp>)\n",
      "       28    0.000    0.000    0.000    0.000 add.py:1142(<listcomp>)\n",
      "       25    0.000    0.000    0.000    0.000 expr.py:214(__rmul__)\n",
      "        1    0.000    0.000    0.000    0.000 {method 'disable' of '_lsprof.Profiler' objects}\n",
      "       40    0.000    0.000    0.000    0.000 solvers.py:3061(<genexpr>)\n",
      "        1    0.000    0.000    0.000    0.000 repmatrix.py:101(_dod_to_DomainMatrix)\n",
      "        1    0.000    0.000    0.001    0.001 Hamiltonian_QED.py:835(el_op_enc)\n",
      "        2    0.000    0.000    0.000    0.000 domainmatrix.py:106(__new__)\n",
      "       10    0.000    0.000    0.000    0.000 compilerop.py:180(extra_flags)\n",
      "        8    0.000    0.000    0.000    0.000 {method 'findall' of 're.Pattern' objects}\n",
      "        3    0.000    0.000    0.002    0.001 _base.py:443(_add_sparse)\n",
      "       16    0.000    0.000    0.000    0.000 rings.py:626(as_expr_dict)\n",
      "       41    0.000    0.000    0.000    0.000 common.py:595(shape)\n",
      "       62    0.000    0.000    0.000    0.000 domain.py:464(of_type)\n",
      "        1    0.000    0.000    0.001    0.001 domainmatrix.py:1025(matmul)\n",
      "        1    0.000    0.000    0.001    0.001 polyutils.py:323(_parallel_dict_from_expr)\n",
      "        1    0.000    0.000    0.003    0.003 Hamiltonian_QED.py:245(<listcomp>)\n",
      "       11    0.000    0.000    0.000    0.000 {method 'hexdigest' of '_hashlib.HASH' objects}\n",
      "       22    0.000    0.000    0.000    0.000 threading.py:256(__enter__)\n",
      "        2    0.000    0.000    0.000    0.000 domainmatrix.py:439(convert_to)\n",
      "        1    0.000    0.000    0.000    0.000 abc.py:105(__new__)\n",
      "       14    0.000    0.000    0.000    0.000 expr.py:219(_pow)\n",
      "        8    0.000    0.000    0.000    0.000 _base.py:1277(_process_toarray_args)\n",
      "       30    0.000    0.000    0.000    0.000 core.py:96(__lt__)\n",
      "        8    0.000    0.000    0.000    0.000 rings.py:916(__add__)\n",
      "        1    0.000    0.000    0.000    0.000 Hamiltonian_QED.py:1035(<listcomp>)\n",
      "        9    0.000    0.000    0.001    0.000 polyclasses.py:316(terms)\n",
      "        1    0.000    0.000    0.000    0.000 pauli_list.py:305(__getitem__)\n",
      "       52    0.000    0.000    0.000    0.000 {method 'index' of 'tuple' objects}\n",
      "        1    0.000    0.000    0.000    0.000 Hamiltonian_QED.py:1488(<listcomp>)\n",
      "       51    0.000    0.000    0.000    0.000 arraysetops.py:133(_unique_dispatcher)\n",
      "       22    0.000    0.000    0.000    0.000 dispatcher.py:232(<listcomp>)\n",
      "        1    0.000    0.000    0.000    0.000 3544843532.py:24(<module>)\n",
      "        1    0.000    0.000    0.000    0.000 Hamiltonian_QED.py:1225(<listcomp>)\n",
      "        1    0.000    0.000    0.000    0.000 rings.py:199(__new__)\n",
      "        1    0.000    0.000    0.000    0.000 dense.py:747(zeros)\n",
      "       20    0.000    0.000    0.000    0.000 logic.py:43(_fuzzy_group)\n",
      "       44    0.000    0.000    0.000    0.000 facts.py:482(_tell)\n",
      "       13    0.000    0.000    0.000    0.000 iterables.py:1974(uniq)\n",
      "       16    0.000    0.000    0.000    0.000 linalg.py:199(_assert_stacked_square)\n",
      "       29    0.000    0.000    0.000    0.000 rings.py:316(domain_new)\n",
      "        1    0.000    0.000    0.000    0.000 domainmatrix.py:548(<setcomp>)\n",
      "        1    0.000    0.000    0.002    0.002 Hamiltonian_QED.py:1170(_hamiltonian_mag_autom)\n",
      "       11    0.000    0.000    0.000    0.000 iostream.py:217(send_multipart)\n",
      "        1    0.000    0.000    0.001    0.001 sdm.py:442(matmul)\n",
      "       14    0.000    0.000    0.000    0.000 expr.py:224(__pow__)\n",
      "       11    0.000    0.000    0.000    0.000 relational.py:151(__new__)\n",
      "        8    0.000    0.000    0.000    0.000 expr.py:1048(adjoint)\n",
      "        9    0.000    0.000    0.000    0.000 rings.py:171(<dictcomp>)\n",
      "        9    0.000    0.000    0.000    0.000 expressionrawdomain.py:53(sum)\n",
      "       55    0.000    0.000    0.000    0.000 multiarray.py:1071(copyto)\n",
      "        1    0.000    0.000    0.000    0.000 Hamiltonian_QED.py:1082(<listcomp>)\n",
      "        2    0.000    0.000    0.000    0.000 add.py:674(<lambda>)\n",
      "        2    0.000    0.000    0.000    0.000 iterables.py:1052(connected_components)\n",
      "        1    0.000    0.000    0.317    0.317 3544843532.py:8(<module>)\n",
      "       22    0.000    0.000    0.000    0.000 core.py:12(dispatch)\n",
      "       22    0.000    0.000    0.000    0.000 pretty.py:512(remove)\n",
      "        1    0.000    0.000    0.000    0.000 repmatrix.py:235(_eval_zeros)\n",
      "       16    0.000    0.000    0.000    0.000 rings.py:647(strip_zero)\n",
      "       11    0.000    0.000    0.006    0.001 {built-in method builtins.repr}\n",
      "        1    0.000    0.000    0.002    0.002 Hamiltonian_QED.py:1181(<listcomp>)\n",
      "       14    0.000    0.000    0.000    0.000 numbers.py:2247(__ne__)\n",
      "        8    0.000    0.000    0.000    0.000 assumptions.py:369(check_assumptions)\n",
      "       22    0.000    0.000    0.000    0.000 relational.py:1510(<genexpr>)\n",
      "        1    0.000    0.000    0.000    0.000 3544843532.py:35(<module>)\n",
      "       28    0.000    0.000    0.000    0.000 add.py:1143(<listcomp>)\n",
      "        8    0.000    0.000    0.000    0.000 re.py:289(_compile)\n",
      "       10    0.000    0.000    0.000    0.000 polyoptions.py:568(postprocess)\n",
      "        1    0.000    0.000    0.000    0.000 Hamiltonian_QED.py:1021(<listcomp>)\n",
      "       55    0.000    0.000    0.000    0.000 wrapper.py:121(__new__)\n",
      "       11    0.000    0.000    0.000    0.000 relational.py:1208(_n2)\n",
      "       22    0.000    0.000    0.000    0.000 threading.py:265(_release_save)\n",
      "       59    0.000    0.000    0.000    0.000 basic.py:2115(<lambda>)\n",
      "        3    0.000    0.000    0.000    0.000 sdm.py:176(new)\n",
      "       11    0.000    0.000    0.000    0.000 hmac.py:147(hexdigest)\n",
      "       14    0.000    0.000    0.000    0.000 Hamiltonian_QED.py:468(<listcomp>)\n",
      "        2    0.000    0.000    0.000    0.000 _base.py:632(_divide)\n",
      "        1    0.000    0.000    0.001    0.001 ddm.py:382(rref)\n",
      "        8    0.000    0.000    0.000    0.000 re.py:233(findall)\n",
      "        1    0.000    0.000    0.000    0.000 polyutils.py:326(<listcomp>)\n",
      "        1    0.000    0.000    0.000    0.000 _csc.py:132(tocsr)\n",
      "        2    0.000    0.000    0.000    0.000 ddm.py:94(__init__)\n",
      "       36    0.000    0.000    0.000    0.000 numbers.py:2036(as_coeff_Mul)\n",
      "       16    0.000    0.000    0.000    0.000 solvers.py:283(to_sympy)\n",
      "       22    0.000    0.000    0.000    0.000 threading.py:271(_is_owned)\n",
      "       19    0.000    0.000    0.000    0.000 lambdify.py:1160(<listcomp>)\n",
      "        1    0.000    0.000    0.002    0.002 Hamiltonian_QED.py:280(<listcomp>)\n",
      "        2    0.000    0.000    0.000    0.000 add.py:723(_eval_is_zero)\n",
      "       33    0.000    0.000    0.000    0.000 relational.py:1557(<genexpr>)\n",
      "       22    0.000    0.000    0.000    0.000 {built-in method _thread.get_ident}\n",
      "       36    0.000    0.000    0.000    0.000 polyutils.py:360(<genexpr>)\n",
      "        1    0.000    0.000    0.001    0.001 <lambdifygenerated-7004>:1(_lambdifygenerated)\n",
      "        1    0.000    0.000    0.000    0.000 common.py:3261(classof)\n",
      "        9    0.000    0.000    0.001    0.000 polytools.py:3992(is_linear)\n",
      "        8    0.000    0.000    0.000    0.000 pythonmpq.py:319(__pow__)\n",
      "        1    0.000    0.000    0.000    0.000 rings.py:459(to_domain)\n",
      "       16    0.000    0.000    0.000    0.000 linalg.py:193(_assert_stacked_2d)\n",
      "       24    0.000    0.000    0.000    0.000 relational.py:179(lhs)\n",
      "       18    0.000    0.000    0.000    0.000 solvers.py:937(<genexpr>)\n",
      "        1    0.000    0.000    0.000    0.000 sparse_pauli_op.py:938(matrix_iter)\n",
      "        2    0.000    0.000    0.000    0.000 facts.py:499(deduce_all_facts)\n",
      "       50    0.000    0.000    0.000    0.000 polyutils.py:350(_is_expandable_pow)\n",
      "       11    0.000    0.000    0.000    0.000 expr.py:194(__radd__)\n",
      "       22    0.000    0.000    0.000    0.000 {method 'release' of '_thread.lock' objects}\n",
      "       14    0.000    0.000    0.000    0.000 matrices.py:1036(<genexpr>)\n",
      "       19    0.000    0.000    0.000    0.000 {method 'expandtabs' of 'str' objects}\n",
      "        1    0.000    0.000    0.000    0.000 repmatrix.py:328(__new__)\n",
      "       15    0.000    0.000    0.000    0.000 add.py:36(_addsort)\n",
      "       24    0.000    0.000    0.000    0.000 rings.py:559(new)\n",
      "       11    0.000    0.000    0.000    0.000 configurable.py:565(initialized)\n",
      "        1    0.000    0.000    0.000    0.000 Hamiltonian_QED.py:848(u_op_enc)\n",
      "       49    0.000    0.000    0.000    0.000 str.py:369(<listcomp>)\n",
      "        3    0.000    0.000    0.010    0.003 fromnumeric.py:2160(sum)\n",
      "       39    0.000    0.000    0.000    0.000 expr.py:1089(as_ordered_factors)\n",
      "        1    0.000    0.000    0.000    0.000 Hamiltonian_QED.py:256(<listcomp>)\n",
      "        8    0.000    0.000    0.000    0.000 _methods.py:60(_all)\n",
      "        8    0.000    0.000    0.000    0.000 op_shape.py:84(__eq__)\n",
      "       24    0.000    0.000    0.000    0.000 rings.py:581(copy)\n",
      "        1    0.000    0.000    0.000    0.000 Hamiltonian_QED.py:204(<listcomp>)\n",
      "        3    0.000    0.000    0.000    0.000 domainmatrix.py:552(<genexpr>)\n",
      "        1    0.000    0.000    0.000    0.000 Hamiltonian_QED.py:1024(<listcomp>)\n",
      "        2    0.000    0.000    0.000    0.000 assumptions.py:461(copy)\n",
      "        2    0.000    0.000    0.000    0.000 Hamiltonian_QED.py:498(<listcomp>)\n",
      "        9    0.000    0.000    0.000    0.000 add.py:653(<genexpr>)\n",
      "       16    0.000    0.000    0.000    0.000 numbers.py:3082(__neg__)\n",
      "        8    0.000    0.000    0.000    0.000 op_shape.py:500(_validate_add)\n",
      "       41    0.000    0.000    0.000    0.000 boolalg.py:345(__bool__)\n",
      "        1    0.000    0.000    0.000    0.000 Hamiltonian_QED.py:1330(<listcomp>)\n",
      "       16    0.000    0.000    0.000    0.000 rings.py:1886(iterterms)\n",
      "        1    0.000    0.000    0.000    0.000 Hamiltonian_QED.py:218(<dictcomp>)\n",
      "        1    0.000    0.000    0.000    0.000 solvers.py:1073(<listcomp>)\n",
      "        2    0.000    0.000    0.000    0.000 solvers.py:848(_sympified_list)\n",
      "        9    0.000    0.000    0.000    0.000 basic.py:2108(_make_find_query)\n",
      "        2    0.000    0.000    0.000    0.000 numbers.py:1919(_Rrel)\n",
      "        2    0.000    0.000    0.000    0.000 linear.py:56(__sub__)\n",
      "       19    0.000    0.000    0.000    0.000 numbers.py:3716(__eq__)\n",
      "        2    0.000    0.000    0.000    0.000 misc.py:488(as_int)\n",
      "        2    0.000    0.000    0.000    0.000 add.py:864(_eval_is_extended_negative)\n",
      "       46    0.000    0.000    0.000    0.000 numbers.py:3106(__bool__)\n",
      "        1    0.000    0.000    0.000    0.000 utilities.py:24(_get_intermediate_simp)\n",
      "       22    0.000    0.000    0.000    0.000 {method '__exit__' of '_thread.lock' objects}\n",
      "       10    0.000    0.000    0.000    0.000 numbers.py:624(could_extract_minus_sign)\n",
      "        1    0.000    0.000    0.000    0.000 rings.py:181(_parse_symbols)\n",
      "       24    0.000    0.000    0.000    0.000 relational.py:184(rhs)\n",
      "       10    0.000    0.000    0.000    0.000 polyoptions.py:500(postprocess)\n",
      "        1    0.000    0.000    0.000    0.000 solvers.py:1752(<dictcomp>)\n",
      "        1    0.000    0.000    0.000    0.000 <lambdifygenerated-7006>:1(_lambdifygenerated)\n",
      "       27    0.000    0.000    0.000    0.000 {method 'popitem' of 'dict' objects}\n",
      "       23    0.000    0.000    0.000    0.000 {built-in method builtins.divmod}\n",
      "        2    0.000    0.000    0.000    0.000 iterables.py:981(<dictcomp>)\n",
      "        1    0.000    0.000    0.000    0.000 custom_iterator.py:22(__init__)\n",
      "        1    0.000    0.000    0.000    0.000 solvers.py:290(<dictcomp>)\n",
      "       15    0.000    0.000    0.000    0.000 mul.py:33(_mulsort)\n",
      "        2    0.000    0.000    0.000    0.000 add.py:680(<lambda>)\n",
      "        4    0.000    0.000    0.000    0.000 add.py:667(<genexpr>)\n",
      "        2    0.000    0.000    0.000    0.000 numbers.py:2013(as_numer_denom)\n",
      "       10    0.000    0.000    0.000    0.000 evalf.py:491(evalf_integer)\n",
      "        1    0.000    0.000    0.000    0.000 rings.py:1826(monoms)\n",
      "       48    0.000    0.000    0.000    0.000 polyoptions.py:705(default)\n",
      "       26    0.000    0.000    0.000    0.000 {method 'values' of 'dict' objects}\n",
      "        1    0.000    0.000    0.000    0.000 rings.py:166(<listcomp>)\n",
      "        1    0.000    0.000    0.002    0.002 common.py:2745(__mul__)\n",
      "        8    0.000    0.000    0.000    0.000 add.py:472(as_coeff_Add)\n",
      "        8    0.000    0.000    0.000    0.000 dagger.py:80(__new__)\n",
      "       12    0.000    0.000    0.000    0.000 base_operator.py:75(qargs)\n",
      "        1    0.000    0.000    0.000    0.000 rings.py:171(<listcomp>)\n",
      "        1    0.000    0.000    0.000    0.000 solvers.py:975(<listcomp>)\n",
      "        1    0.000    0.000    0.000    0.000 rings.py:1852(terms)\n",
      "        1    0.000    0.000    0.000    0.000 Hamiltonian_QED.py:1172(<listcomp>)\n",
      "       21    0.000    0.000    0.000    0.000 {method 'popitem' of 'collections.OrderedDict' objects}\n",
      "       16    0.000    0.000    0.000    0.000 linalg.py:472(_unary_dispatcher)\n",
      "        5    0.000    0.000    0.000    0.000 interactiveshell.py:3424(compare)\n",
      "       22    0.000    0.000    0.000    0.000 {method '__enter__' of '_thread.lock' objects}\n",
      "        2    0.000    0.000    0.000    0.000 add.py:700(_eval_is_imaginary)\n",
      "       26    0.000    0.000    0.000    0.000 densebasic.py:252(dup_strip)\n",
      "        6    0.000    0.000    0.000    0.000 numbers.py:2250(__gt__)\n",
      "        4    0.000    0.000    0.000    0.000 complexes.py:971(_latex)\n",
      "        9    0.000    0.000    0.001    0.000 densebasic.py:1713(dmp_list_terms)\n",
      "       10    0.000    0.000    0.000    0.000 polyoptions.py:551(preprocess)\n",
      "       13    0.000    0.000    0.000    0.000 matrices.py:1023(make_explicit_row)\n",
      "        1    0.000    0.000    0.000    0.000 <__array_function__ internals>:177(common_type)\n",
      "       12    0.000    0.000    0.000    0.000 latex.py:222(_add_parens)\n",
      "        9    0.000    0.000    0.000    0.000 mul.py:1283(<genexpr>)\n",
      "       23    0.000    0.000    0.000    0.000 fromnumeric.py:2965(_prod_dispatcher)\n",
      "        4    0.000    0.000    0.000    0.000 reportviews.py:185(__iter__)\n",
      "        1    0.000    0.000    0.000    0.000 solvers.py:2321(<dictcomp>)\n",
      "       34    0.000    0.000    0.000    0.000 expr.py:2444(could_extract_minus_sign)\n",
      "       11    0.000    0.000    0.000    0.000 {method 'getvalue' of '_io.StringIO' objects}\n",
      "        1    0.000    0.000    0.000    0.000 solvers.py:1750(<dictcomp>)\n",
      "        1    0.000    0.000    0.000    0.000 sdm.py:338(zeros)\n",
      "        9    0.000    0.000    0.000    0.000 Hamiltonian_QED.py:1032(<lambda>)\n",
      "        1    0.000    0.000    0.000    0.000 <__array_function__ internals>:177(iscomplexobj)\n",
      "        1    0.000    0.000    0.000    0.000 polyoptions.py:413(preprocess)\n",
      "        3    0.000    0.000    0.000    0.000 rings.py:319(ground_new)\n",
      "        1    0.000    0.000    0.000    0.000 solvers.py:860(<listcomp>)\n",
      "        1    0.000    0.000    0.000    0.000 matrices.py:1031(<listcomp>)\n",
      "        1    0.000    0.000    0.000    0.000 solvers.py:256(<listcomp>)\n",
      "        5    0.000    0.000    0.000    0.000 densebasic.py:720(dmp_zero)\n",
      "       20    0.000    0.000    0.000    0.000 ddm.py:99(<genexpr>)\n",
      "       22    0.000    0.000    0.000    0.000 {method 'remove' of 'list' objects}\n",
      "        3    0.000    0.000    0.010    0.003 <__array_function__ internals>:177(sum)\n",
      "       11    0.000    0.000    0.000    0.000 tz.py:74(utcoffset)\n",
      "        1    0.000    0.000    0.000    0.000 matrices.py:1038(<listcomp>)\n",
      "        1    0.000    0.000    0.000    0.000 Hamiltonian_QED.py:866(u_op_dag_enc)\n",
      "        1    0.000    0.000    0.000    0.000 sdm.py:205(copy)\n",
      "       10    0.000    0.000    0.000    0.000 polyutils.py:328(<genexpr>)\n",
      "        1    0.000    0.000    0.000    0.000 solvers.py:430(<listcomp>)\n",
      "        2    0.000    0.000    0.000    0.000 numbers.py:2182(__sub__)\n",
      "        1    0.000    0.000    0.000    0.000 <lambdifygenerated-7005>:1(_lambdifygenerated)\n",
      "        1    0.000    0.000    0.000    0.000 Hamiltonian_QED.py:260(<listcomp>)\n",
      "        1    0.000    0.000    0.000    0.000 solvers.py:429(<dictcomp>)\n",
      "        9    0.000    0.000    0.000    0.000 pythonmpq.py:215(__neg__)\n",
      "        6    0.000    0.000    0.000    0.000 operations.py:125(_new_rawargs)\n",
      "        2    0.000    0.000    0.000    0.000 str.py:161(_print_Function)\n",
      "        1    0.000    0.000    0.000    0.000 domainmatrix.py:838(_check)\n",
      "       19    0.000    0.000    0.000    0.000 {method 'reverse' of 'list' objects}\n",
      "       10    0.000    0.000    0.000    0.000 polyoptions.py:631(postprocess)\n",
      "        1    0.000    0.000    0.000    0.000 domain.py:678(unify)\n",
      "        3    0.000    0.000    0.000    0.000 mul.py:1282(_eval_is_polynomial)\n",
      "        1    0.000    0.000    0.000    0.000 polyoptions.py:356(default)\n",
      "        1    0.000    0.000    0.001    0.001 sdm.py:925(sdm_matmul)\n",
      "       19    0.000    0.000    0.000    0.000 lambdify.py:1233(_print_funcargwrapping)\n",
      "       22    0.000    0.000    0.000    0.000 relational.py:1225(_eval_is_eq)\n",
      "        9    0.000    0.000    0.000    0.000 str.py:911(_print_Zero)\n",
      "        1    0.000    0.000    0.000    0.000 expr.py:246(__truediv__)\n",
      "       13    0.000    0.000    0.000    0.000 matrices.py:1014(make_explicit)\n",
      "        2    0.000    0.000    0.000    0.000 add.py:670(<lambda>)\n",
      "       25    0.000    0.000    0.000    0.000 boolalg.py:420(__bool__)\n",
      "        1    0.000    0.000    0.000    0.000 rings.py:312(one)\n",
      "        2    0.000    0.000    0.000    0.000 add.py:672(<lambda>)\n",
      "        2    0.000    0.000    0.000    0.000 add.py:761(<listcomp>)\n",
      "        1    0.000    0.000    0.001    0.001 domainmatrix.py:1233(rref)\n",
      "        1    0.000    0.000    0.000    0.000 Hamiltonian_QED.py:885(hermitian_c)\n",
      "       13    0.000    0.000    0.000    0.000 rings.py:189(<genexpr>)\n",
      "        2    0.000    0.000    0.000    0.000 add.py:668(<lambda>)\n",
      "        3    0.000    0.000    0.000    0.000 rings.py:322(term_new)\n",
      "        1    0.000    0.000    0.000    0.000 Hamiltonian_QED.py:1045(<listcomp>)\n",
      "        1    0.000    0.000    0.000    0.000 <lambdifygenerated-7007>:1(_lambdifygenerated)\n",
      "        1    0.000    0.000    0.000    0.000 type_check.py:303(iscomplexobj)\n",
      "        8    0.000    0.000    0.000    0.000 rings.py:970(__radd__)\n",
      "        2    0.000    0.000    0.000    0.000 assumptions.py:449(__init__)\n",
      "        3    0.000    0.000    0.000    0.000 add.py:652(_eval_is_polynomial)\n",
      "        1    0.000    0.000    0.000    0.000 rings.py:1789(_sorted)\n",
      "       12    0.000    0.000    0.000    0.000 latex.py:239(parenthesize_super)\n",
      "        2    0.000    0.000    0.000    0.000 add.py:678(<lambda>)\n",
      "        1    0.000    0.000    0.000    0.000 solvers.py:867(<listcomp>)\n",
      "       22    0.000    0.000    0.000    0.000 _print_helpers.py:33(_repr_disabled)\n",
      "        2    0.000    0.000    0.000    0.000 _data.py:68(astype)\n",
      "       10    0.000    0.000    0.000    0.000 polyoptions.py:535(postprocess)\n",
      "        2    0.000    0.000    0.000    0.000 sparse_pauli_op.py:213(size)\n",
      "        2    0.000    0.000    0.000    0.000 add.py:684(<lambda>)\n",
      "       12    0.000    0.000    0.000    0.000 iterables.py:2004(check)\n",
      "        1    0.000    0.000    0.000    0.000 str.py:335(apow)\n",
      "       16    0.000    0.000    0.000    0.000 str.py:276(<genexpr>)\n",
      "        5    0.000    0.000    0.000    0.000 interactiveshell.py:1229(user_global_ns)\n",
      "        2    0.000    0.000    0.000    0.000 expr.py:834(_eval_is_positive)\n",
      "        1    0.000    0.000    0.000    0.000 _base.py:78(_csc_container)\n",
      "       13    0.000    0.000    0.000    0.000 matrices.py:1008(<lambda>)\n",
      "       11    0.000    0.000    0.000    0.000 {method 'clear' of 'collections.deque' objects}\n",
      "        1    0.000    0.000    0.000    0.000 Hamiltonian_QED.py:243(<listcomp>)\n",
      "        1    0.000    0.000    0.000    0.000 add.py:647(<listcomp>)\n",
      "        4    0.000    0.000    0.000    0.000 {built-in method time.time}\n",
      "        1    0.000    0.000    0.000    0.000 _csr.py:135(transpose)\n",
      "       19    0.000    0.000    0.000    0.000 polyoptions.py:31(default)\n",
      "        1    0.000    0.000    0.000    0.000 solvers.py:888(<listcomp>)\n",
      "        9    0.000    0.000    0.000    0.000 fromnumeric.py:2399(_all_dispatcher)\n",
      "        1    0.000    0.000    0.000    0.000 domainmatrix.py:554(_unify_fmt)\n",
      "       10    0.000    0.000    0.000    0.000 polyoptions.py:593(postprocess)\n",
      "        2    0.000    0.000    0.000    0.000 _base.py:675(__truediv__)\n",
      "        4    0.000    0.000    0.000    0.000 add.py:677(<genexpr>)\n",
      "        1    0.000    0.000    0.000    0.000 solvers.py:120(<dictcomp>)\n",
      "        1    0.000    0.000    0.000    0.000 polyoptions.py:53(preprocess)\n",
      "       11    0.000    0.000    0.000    0.000 {method 'update' of 'set' objects}\n",
      "        1    0.000    0.000    0.005    0.005 sparse_pauli_op.py:159(__array__)\n",
      "        2    0.000    0.000    0.000    0.000 sparse_pauli_op.py:218(__len__)\n",
      "        2    0.000    0.000    0.000    0.000 numbers.py:1956(__lt__)\n",
      "        1    0.000    0.000    0.000    0.000 domainmatrix.py:562(<setcomp>)\n",
      "        1    0.000    0.000    0.000    0.000 expr.py:255(__rtruediv__)\n",
      "       13    0.000    0.000    0.000    0.000 matrices.py:1004(<lambda>)\n",
      "        4    0.000    0.000    0.000    0.000 Hamiltonian_QED.py:1175(<listcomp>)\n",
      "        8    0.000    0.000    0.000    0.000 twodim_base.py:230(_diag_dispatcher)\n",
      "       10    0.000    0.000    0.000    0.000 solvers.py:948(<genexpr>)\n",
      "       10    0.000    0.000    0.000    0.000 ddm.py:195(<genexpr>)\n",
      "       11    0.000    0.000    0.000    0.000 jsonutil.py:52(encode_images)\n",
      "        2    0.000    0.000    0.000    0.000 add.py:760(_eval_is_odd)\n",
      "        1    0.000    0.000    0.000    0.000 _data.py:81(conj)\n",
      "        1    0.000    0.000    0.000    0.000 Hamiltonian_QED.py:199(<listcomp>)\n",
      "        1    0.000    0.000    0.000    0.000 Hamiltonian_QED.py:258(<listcomp>)\n",
      "        1    0.000    0.000    0.000    0.000 utilities.py:44(_get_intermediate_simp_bool)\n",
      "        1    0.000    0.000    0.000    0.000 domainmatrix.py:551(<lambda>)\n",
      "       10    0.000    0.000    0.000    0.000 polyoptions.py:265(default)\n",
      "        1    0.000    0.000    0.000    0.000 common.py:3220(_matrixify)\n",
      "        1    0.000    0.000    0.000    0.000 solvers.py:123(<listcomp>)\n",
      "        2    0.000    0.000    0.000    0.000 add.py:666(<lambda>)\n",
      "       10    0.000    0.000    0.000    0.000 polyoptions.py:520(postprocess)\n",
      "        2    0.000    0.000    0.000    0.000 str.py:41(stringify)\n",
      "        8    0.000    0.000    0.000    0.000 _csr.py:164(tocsr)\n",
      "       11    0.000    0.000    0.000    0.000 formatters.py:830(_check_return)\n",
      "        2    0.000    0.000    0.000    0.000 add.py:682(<lambda>)\n",
      "        2    0.000    0.000    0.001    0.000 expr.py:844(_eval_is_negative)\n",
      "        2    0.000    0.000    0.000    0.000 add.py:676(<lambda>)\n",
      "        1    0.000    0.000    0.000    0.000 sparse_pauli_op.py:954(MatrixIterator)\n",
      "        1    0.000    0.000    0.000    0.000 numerictypes.py:356(issubdtype)\n",
      "        7    0.000    0.000    0.000    0.000 add.py:684(<genexpr>)\n",
      "        1    0.000    0.000    0.000    0.000 polyoptions.py:360(preprocess)\n",
      "       18    0.000    0.000    0.000    0.000 basic.py:961(<listcomp>)\n",
      "        1    0.000    0.000    0.000    0.000 Hamiltonian_QED.py:1238(<dictcomp>)\n",
      "        2    0.000    0.000    0.000    0.000 add.py:834(_eval_is_extended_nonnegative)\n",
      "        2    0.000    0.000    0.000    0.000 add.py:797(<listcomp>)\n",
      "        6    0.000    0.000    0.000    0.000 _csc.py:230(_swap)\n",
      "        1    0.000    0.000    0.000    0.000 ddm.py:194(copy)\n",
      "        2    0.000    0.000    0.000    0.000 add.py:767(_eval_is_irrational)\n",
      "        4    0.000    0.000    0.000    0.000 add.py:675(<genexpr>)\n",
      "        4    0.000    0.000    0.000    0.000 add.py:671(<genexpr>)\n",
      "        1    0.000    0.000    0.000    0.000 solvers.py:1987(<listcomp>)\n",
      "        1    0.000    0.000    0.000    0.000 {method 'intersection' of 'set' objects}\n",
      "        2    0.000    0.000    0.000    0.000 matrices.py:810(__len__)\n",
      "        1    0.000    0.000    0.000    0.000 <lambdifygenerated-7000>:1(<module>)\n",
      "        1    0.000    0.000    0.000    0.000 <lambdifygenerated-7016>:1(<module>)\n",
      "        3    0.000    0.000    0.000    0.000 repmatrix.py:119(<genexpr>)\n",
      "        1    0.000    0.000    0.000    0.000 <lambdifygenerated-7006>:1(<module>)\n",
      "        4    0.000    0.000    0.000    0.000 add.py:673(<genexpr>)\n",
      "        2    0.000    0.000    0.000    0.000 add.py:849(_eval_is_extended_nonpositive)\n",
      "        3    0.000    0.000    0.000    0.000 solvers.py:858(<genexpr>)\n",
      "        2    0.000    0.000    0.000    0.000 add.py:687(_eval_is_infinite)\n",
      "        2    0.000    0.000    0.000    0.000 multiply.py:44(__neg__)\n",
      "        4    0.000    0.000    0.000    0.000 add.py:679(<genexpr>)\n",
      "        2    0.000    0.000    0.000    0.000 numerictypes.py:282(issubclass_)\n",
      "        9    0.000    0.000    0.000    0.000 expr.py:3934(_eval_is_polynomial)\n",
      "        3    0.000    0.000    0.000    0.000 repmatrix.py:104(<genexpr>)\n",
      "        1    0.000    0.000    0.000    0.000 <lambdifygenerated-7013>:1(<module>)\n",
      "        4    0.000    0.000    0.000    0.000 add.py:681(<genexpr>)\n",
      "        2    0.000    0.000    0.000    0.000 add.py:881(<listcomp>)\n",
      "        2    0.000    0.000    0.000    0.000 str.py:42(<listcomp>)\n",
      "        4    0.000    0.000    0.000    0.000 add.py:669(<genexpr>)\n",
      "        1    0.000    0.000    0.000    0.000 <lambdifygenerated-7015>:1(<module>)\n",
      "        1    0.000    0.000    0.000    0.000 _base.py:813(conjugate)\n",
      "        4    0.000    0.000    0.000    0.000 add.py:683(<genexpr>)\n",
      "        1    0.000    0.000    0.000    0.000 <lambdifygenerated-7007>:1(<module>)\n",
      "        1    0.000    0.000    0.000    0.000 rings.py:1796(<lambda>)\n",
      "        1    0.000    0.000    0.000    0.000 <lambdifygenerated-7003>:1(<module>)\n",
      "        1    0.000    0.000    0.000    0.000 <lambdifygenerated-7012>:1(<module>)\n",
      "        1    0.000    0.000    0.000    0.000 polynomialring.py:50(one)\n",
      "        4    0.000    0.000    0.000    0.000 printer.py:324(<genexpr>)\n",
      "        2    0.000    0.000    0.000    0.000 rings.py:187(<genexpr>)\n",
      "        3    0.000    0.000    0.000    0.000 fromnumeric.py:2155(_sum_dispatcher)\n",
      "        1    0.000    0.000    0.000    0.000 <lambdifygenerated-7005>:1(<module>)\n",
      "        1    0.000    0.000    0.000    0.000 <lambdifygenerated-7002>:1(<module>)\n",
      "        1    0.000    0.000    0.000    0.000 polyoptions.py:217(__setattr__)\n",
      "        1    0.000    0.000    0.000    0.000 <lambdifygenerated-7009>:1(<module>)\n",
      "        1    0.000    0.000    0.000    0.000 <lambdifygenerated-6999>:1(<module>)\n",
      "        1    0.000    0.000    0.000    0.000 <lambdifygenerated-7001>:1(<module>)\n",
      "        1    0.000    0.000    0.000    0.000 <lambdifygenerated-7004>:1(<module>)\n",
      "        1    0.000    0.000    0.000    0.000 <lambdifygenerated-7011>:1(<module>)\n",
      "        1    0.000    0.000    0.000    0.000 pauli.py:296(x)\n",
      "        1    0.000    0.000    0.000    0.000 add.py:646(<listcomp>)\n",
      "        2    0.000    0.000    0.000    0.000 custom_iterator.py:36(__len__)\n",
      "        1    0.000    0.000    0.000    0.000 type_check.py:206(_is_type_dispatcher)\n",
      "        1    0.000    0.000    0.000    0.000 pauli.py:305(z)\n",
      "        2    0.000    0.000    0.000    0.000 facts.py:479(__init__)\n",
      "        1    0.000    0.000    0.000    0.000 <lambdifygenerated-7014>:1(<module>)\n",
      "        1    0.000    0.000    0.000    0.000 <lambdifygenerated-7008>:1(<module>)\n",
      "        1    0.000    0.000    0.000    0.000 <lambdifygenerated-7017>:1(<module>)\n",
      "        1    0.000    0.000    0.000    0.000 <lambdifygenerated-7010>:1(<module>)\n",
      "        1    0.000    0.000    0.000    0.000 <lambdifygenerated-7002>:1(_lambdifygenerated)\n",
      "        2    0.000    0.000    0.000    0.000 function.py:351(func)\n",
      "        1    0.000    0.000    0.000    0.000 orderings.py:30(__hash__)\n",
      "        1    0.000    0.000    0.000    0.000 solvers.py:348(<listcomp>)\n",
      "        1    0.000    0.000    0.000    0.000 type_check.py:712(_common_type_dispatcher)\n",
      "        1    0.000    0.000    0.000    0.000 {method 'insert' of 'list' objects}\n",
      "        1    0.000    0.000    0.000    0.000 custom_iterator.py:39(__iter__)\n",
      "        1    0.000    0.000    0.000    0.000 solvers.py:1988(<genexpr>)\n",
      "        1    0.000    0.000    0.000    0.000 solvers.py:1994(<listcomp>)\n",
      "        1    0.000    0.000    0.000    0.000 <lambdifygenerated-7013>:1(_lambdifygenerated)\n",
      "        1    0.000    0.000    0.000    0.000 <lambdifygenerated-7010>:1(_lambdifygenerated)\n",
      "        1    0.000    0.000    0.000    0.000 <lambdifygenerated-7011>:1(_lambdifygenerated)\n",
      "        1    0.000    0.000    0.000    0.000 <lambdifygenerated-7009>:1(_lambdifygenerated)\n",
      "        1    0.000    0.000    0.000    0.000 <lambdifygenerated-7003>:1(_lambdifygenerated)\n",
      "        1    0.000    0.000    0.000    0.000 <lambdifygenerated-7001>:1(_lambdifygenerated)\n",
      "        1    0.000    0.000    0.000    0.000 <lambdifygenerated-7016>:1(_lambdifygenerated)\n",
      "        1    0.000    0.000    0.000    0.000 <lambdifygenerated-7012>:1(_lambdifygenerated)\n",
      "        1    0.000    0.000    0.000    0.000 <lambdifygenerated-7014>:1(_lambdifygenerated)\n",
      "        1    0.000    0.000    0.000    0.000 <lambdifygenerated-7015>:1(_lambdifygenerated)\n",
      "        2    0.000    0.000    0.000    0.000 numbers.py:813(is_constant)\n",
      "        1    0.000    0.000    0.000    0.000 <lambdifygenerated-7008>:1(_lambdifygenerated)\n",
      "        1    0.000    0.000    0.000    0.000 <lambdifygenerated-6999>:1(_lambdifygenerated)\n",
      "        1    0.000    0.000    0.000    0.000 rings.py:1850(<listcomp>)\n",
      "        1    0.000    0.000    0.000    0.000 ddm.py:142(to_ddm)\n",
      "        1    0.000    0.000    0.000    0.000 <lambdifygenerated-7017>:1(_lambdifygenerated)\n",
      "        1    0.000    0.000    0.000    0.000 <lambdifygenerated-7000>:1(_lambdifygenerated)\n",
      "        1    0.000    0.000    0.000    0.000 solvers.py:1072(<listcomp>)\n",
      "        1    0.000    0.000    0.000    0.000 solvers.py:104(<dictcomp>)\n",
      "        1    0.000    0.000    0.000    0.000 solvers.py:1077(<listcomp>)\n",
      "\n",
      "\n"
     ]
    }
   ],
   "source": [
    "# Create an instance of the cProfile.Profile class\n",
    "profiler = cProfile.Profile()\n",
    "\n",
    "# Enable the profiler\n",
    "profiler.enable()\n",
    "\n",
    "# Create an instance of the class\n",
    "class_H = HamiltonianQED(\n",
    "                        latt,\n",
    "                        n_sites,\n",
    "                        l,\n",
    "                        ll=L,\n",
    "                        encoding = encoding,\n",
    "                        rotors=rotors,\n",
    "                        magnetic_basis=magnetic_basis,\n",
    "                        pbc=pbc,\n",
    "                        puregauge=puregauge,\n",
    "                        static_charges_values=static_charges_values,\n",
    "                        e_op_out_plus = e_op_out_plus,\n",
    "                        display_hamiltonian=display_hamiltonian,\n",
    "                        tn_comparison=tn_comparison)\n",
    "\n",
    "# Call the methods or perform operations to be profiled\n",
    "import scipy.sparse as sp\n",
    "Hamiltonian_Pauli_tot = class_H.get_hamiltonian(g_var=g, m_var=m, omega=omega,fact_b_op=fact_b_op,fact_e_op=fact_b_op,lambd=lambd)\n",
    "\n",
    "if encoding=='gray':\n",
    "    Hamiltonian_Pauli_tot = Hamiltonian_Pauli_tot.to_matrix(sparse=True)\n",
    "    h_b_sparse = class_H.hamiltonian_mag_pauli.to_matrix(sparse=True) #plaquette\n",
    "elif encoding=='ed':\n",
    "    Hamiltonian_Pauli_tot = sp.csr_matrix(Hamiltonian_Pauli_tot)\n",
    "    h_b_sparse =sp.csr_matrix(class_H.hamiltonian_mag_pauli)\n",
    "\n",
    "# Disable the profiler\n",
    "profiler.disable()\n",
    "\n",
    "# Print the profiling results\n",
    "profiler.print_stats(sort='time')"
   ]
  },
  {
   "cell_type": "code",
   "execution_count": 224,
   "metadata": {},
   "outputs": [
    {
     "ename": "NameError",
     "evalue": "name 'pstats' is not defined",
     "output_type": "error",
     "traceback": [
      "\u001b[0;31m---------------------------------------------------------------------------\u001b[0m",
      "\u001b[0;31mNameError\u001b[0m                                 Traceback (most recent call last)",
      "Cell \u001b[0;32mIn[224], line 2\u001b[0m\n\u001b[1;32m      1\u001b[0m \u001b[39m# Create a Stats object from the profiler output\u001b[39;00m\n\u001b[0;32m----> 2\u001b[0m stats \u001b[39m=\u001b[39m pstats\u001b[39m.\u001b[39mStats(profiler)\n\u001b[1;32m      3\u001b[0m \u001b[39mimport\u001b[39;00m \u001b[39mlinecache\u001b[39;00m\n\u001b[1;32m      4\u001b[0m \u001b[39m# Sort the statistics by a specific criterion (e.g., 'tottime', 'cumtime')\u001b[39;00m\n",
      "\u001b[0;31mNameError\u001b[0m: name 'pstats' is not defined"
     ]
    }
   ],
   "source": [
    "# Create a Stats object from the profiler output\n",
    "stats = pstats.Stats(profiler)\n",
    "import linecache\n",
    "# Sort the statistics by a specific criterion (e.g., 'tottime', 'cumtime')\n",
    "stats.sort_stats('tottime')\n",
    "\n",
    "# Print the filename, line number, and function name for each entry\n",
    "for entry in stats.stats:\n",
    "    filename = entry[0]\n",
    "    lineno = entry[1]\n",
    "    funcname = entry[2]\n",
    "    \n",
    "    # Get the source code line using linecache\n",
    "    line = linecache.getline(filename, lineno)\n",
    "    \n",
    "    print(f\"{filename}:{lineno}({funcname}): {line.strip()}\")\n"
   ]
  },
  {
   "attachments": {},
   "cell_type": "markdown",
   "metadata": {},
   "source": [
    "##### E U for ED"
   ]
  },
  {
   "attachments": {},
   "cell_type": "markdown",
   "metadata": {},
   "source": [
    "Here U(Udag) is lowering(raising) operator"
   ]
  },
  {
   "cell_type": "code",
   "execution_count": null,
   "metadata": {},
   "outputs": [],
   "source": [
    "l=1\n",
    "size_op = (2*l+1)"
   ]
  },
  {
   "cell_type": "code",
   "execution_count": null,
   "metadata": {},
   "outputs": [],
   "source": [
    "def e_ed_fun(l):\n",
    "    return np.diag(np.arange(-l,l+1))\n",
    "\n",
    "e_ed = e_ed_fun(l)"
   ]
  },
  {
   "cell_type": "code",
   "execution_count": null,
   "metadata": {},
   "outputs": [],
   "source": [
    "def u_ed_fun(l):\n",
    "    size_op = (2*l+1)\n",
    "    u_ed = np.zeros((size_op,size_op))\n",
    "    # Fill the upper diagonal with 1s: U\n",
    "    for i in range(size_op-1):\n",
    "        u_ed[i,i+1] = 1\n",
    "    return u_ed\n",
    "\n",
    "u_ed = u_ed_fun(l)"
   ]
  },
  {
   "cell_type": "code",
   "execution_count": null,
   "metadata": {},
   "outputs": [],
   "source": [
    "from itertools import permutations\n",
    "from functools import reduce"
   ]
  },
  {
   "cell_type": "code",
   "execution_count": null,
   "metadata": {},
   "outputs": [],
   "source": [
    "def str_to_tens(string: str):\n",
    "    \"\"\"Transforms bitstring to tensor '0'=[1,0] and '1'=[0,1]\n",
    "    for example: '00' = array([1, 0, 0, 0]) , '01' = array([0, 1, 0, 0]), '10' = array([0, 0, 1, 0]) etc.\n",
    "\n",
    "    Parameters\n",
    "    ----------\n",
    "    string: sequence of 0s and 1s\n",
    "\n",
    "    Returns\n",
    "    -------\n",
    "    array, result of the tensor product\n",
    "\n",
    "    \"\"\"\n",
    "\n",
    "    return reduce(\n",
    "        lambda x, y: np.kron(x, y), [[1, 0] if x == \"0\" else [0, 1] for x in string]\n",
    "    )"
   ]
  },
  {
   "cell_type": "code",
   "execution_count": null,
   "metadata": {},
   "outputs": [],
   "source": [
    "#onehot E |-1> |0> |1>\n",
    "for el in [str_to_tens('100'),str_to_tens('010'),str_to_tens('001')]:\n",
    "    print(el, (0.5*((class_H.I^class_H.I^class_H.Z)+(class_H.I^class_H.Z^class_H.Z))).to_matrix()@el)"
   ]
  },
  {
   "cell_type": "code",
   "execution_count": null,
   "metadata": {},
   "outputs": [],
   "source": [
    "#onehot U |-1> |0> |1> #TODO NB not little endian q0^q1^q2 (like in https://arxiv.org/pdf/2008.09252.pdf)\n",
    "s_p = (class_H.X+1j*class_H.Y)/2\n",
    "s_m = (class_H.X-1j*class_H.Y)/2\n",
    "\n",
    "for el in [str_to_tens('100'),str_to_tens('010'),str_to_tens('001')]:\n",
    "    print(el,(((s_m^s_p^class_H.I)+(class_H.I^s_m^s_p))).to_matrix()@el)\n"
   ]
  },
  {
   "cell_type": "code",
   "execution_count": null,
   "metadata": {},
   "outputs": [],
   "source": [
    "#onehot U^dag |-1> |0> |1> #TODO NB little endian q2^q1^q0\n",
    "s_p = (class_H.X+1j*class_H.Y)/2\n",
    "s_m = (class_H.X-1j*class_H.Y)/2\n",
    "\n",
    "for el in [str_to_tens('100'),str_to_tens('010'),str_to_tens('001')]:\n",
    "    print(el,(((class_H.I^s_p^s_m)+(s_p^s_m^class_H.I))).to_matrix()@el)\n"
   ]
  },
  {
   "cell_type": "code",
   "execution_count": null,
   "metadata": {},
   "outputs": [],
   "source": [
    "def u_ed_dag_fun(l):\n",
    "    u_ed_dag = np.zeros((2*l+1,2*l+1))\n",
    "    # Fill the lower diagonal with 1s: U_dag\n",
    "    for i in range(2*l):\n",
    "        u_ed_dag[i+1,i] = 1\n",
    "    return u_ed_dag\n",
    "\n",
    "u_ed_dag =u_ed_dag_fun(l)"
   ]
  },
  {
   "cell_type": "code",
   "execution_count": null,
   "metadata": {},
   "outputs": [],
   "source": [
    "print(np.array([1]+[0]*(2*l)) ,'\\n',u_ed,u_ed@np.array([1]+[0]*(2*l)) )"
   ]
  },
  {
   "cell_type": "code",
   "execution_count": null,
   "metadata": {},
   "outputs": [],
   "source": [
    "print(np.array([1]+[0]*(2*l)) ,'\\n',u_ed_dag,u_ed_dag@np.array([1]+[0]*(2*l)) )"
   ]
  }
 ],
 "metadata": {
  "kernelspec": {
   "display_name": "qiskit",
   "language": "python",
   "name": "python3"
  },
  "language_info": {
   "codemirror_mode": {
    "name": "ipython",
    "version": 3
   },
   "file_extension": ".py",
   "mimetype": "text/x-python",
   "name": "python",
   "nbconvert_exporter": "python",
   "pygments_lexer": "ipython3",
   "version": "3.9.6"
  },
  "vscode": {
   "interpreter": {
    "hash": "9732f19cd5dfd89c376a93c0ebf365daafb0a064118a63241088cb5e478d8ce2"
   }
  }
 },
 "nbformat": 4,
 "nbformat_minor": 2
}
