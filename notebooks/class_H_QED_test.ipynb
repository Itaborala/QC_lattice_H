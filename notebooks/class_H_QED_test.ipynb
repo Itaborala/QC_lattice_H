{
 "cells": [
  {
   "attachments": {},
   "cell_type": "markdown",
   "metadata": {},
   "source": [
    "# Test of class Hamiltonian_QED"
   ]
  },
  {
   "attachments": {},
   "cell_type": "markdown",
   "metadata": {},
   "source": [
    "This notebook uses the class in 'Hamiltonian_QED.py' that builds the Hamiltonian in terms of Pauli matrices.\n",
    "\n",
    "The code import the class in 'HC_Lattice.py' (that defines the lattice) and then is uses the Gray encoding for gauge fields (E and U) and Jordan-Wigner formulation for fermionic degrees of freedom."
   ]
  },
  {
   "cell_type": "code",
   "execution_count": 1,
   "metadata": {},
   "outputs": [],
   "source": [
    "%load_ext autoreload\n",
    "%autoreload 2"
   ]
  },
  {
   "cell_type": "code",
   "execution_count": 2,
   "metadata": {},
   "outputs": [],
   "source": [
    "from scipy.sparse.linalg import eigsh\n",
    "from qiskit.quantum_info import Statevector\n",
    "import numpy as np\n",
    "import matplotlib.pyplot as plt\n",
    "import sys\n",
    "sys.path.append(\"../\") # go to parent dir"
   ]
  },
  {
   "cell_type": "code",
   "execution_count": 3,
   "metadata": {},
   "outputs": [],
   "source": [
    "from Hamiltonian_QED import HamiltonianQED\n",
    "from HC_Lattice import HCLattice"
   ]
  },
  {
   "cell_type": "code",
   "execution_count": 4,
   "metadata": {},
   "outputs": [],
   "source": [
    "#class input parameters:\n",
    "n_sites = [2,2,]#how many sites for every dimension\n",
    "g=1\n",
    "fact_e_op = 1\n",
    "fact_b_op = 1\n",
    "m=7\n",
    "omega=1\n",
    "l=1\n",
    "L=1\n",
    "lambd = 1000\n",
    "magnetic_basis=False\n",
    "pbc=False\n",
    "puregauge = False #TODO check when true\n",
    "static_charges_values =None#{(0,0):-1,(1,0):1}\n",
    "display_hamiltonian=True\n",
    "e_op_out_plus=False #if E out of site n has plus sign \n",
    "tn_comparison = False #TODO only kept for TN comparison, remove later\n",
    "\n",
    "#exact diagonalisation parameters:\n",
    "threshold = 1e-12\n",
    "num_eigs = 5"
   ]
  },
  {
   "cell_type": "code",
   "execution_count": 5,
   "metadata": {},
   "outputs": [],
   "source": [
    "latt = HCLattice(n_sites,pbc=pbc)"
   ]
  },
  {
   "cell_type": "code",
   "execution_count": 6,
   "metadata": {},
   "outputs": [
    {
     "name": "stdout",
     "output_type": "stream",
     "text": [
      "HamiltonianQED: Initializing...\n",
      ">> Gauss law system of equations (symbolic + latex):\n"
     ]
    },
    {
     "data": {
      "text/latex": [
       "$\\displaystyle - E_{00x} - E_{00y} - q_{00} = 0$"
      ],
      "text/plain": [
       "Eq(-E_00x - E_00y - q_00, 0)"
      ]
     },
     "metadata": {},
     "output_type": "display_data"
    },
    {
     "data": {
      "text/latex": [
       "$\\displaystyle E_{00y} - E_{01x} - q_{01} = 0$"
      ],
      "text/plain": [
       "Eq(E_00y - E_01x - q_01, 0)"
      ]
     },
     "metadata": {},
     "output_type": "display_data"
    },
    {
     "data": {
      "text/latex": [
       "$\\displaystyle E_{00x} - E_{10y} - q_{10} = 0$"
      ],
      "text/plain": [
       "Eq(E_00x - E_10y - q_10, 0)"
      ]
     },
     "metadata": {},
     "output_type": "display_data"
    },
    {
     "data": {
      "text/latex": [
       "$\\displaystyle E_{01x} + E_{10y} - q_{11} = 0$"
      ],
      "text/plain": [
       "Eq(E_01x + E_10y - q_11, 0)"
      ]
     },
     "metadata": {},
     "output_type": "display_data"
    },
    {
     "data": {
      "text/latex": [
       "$\\displaystyle q_{00} + q_{01} + q_{10} + q_{11} = 0$"
      ],
      "text/plain": [
       "Eq(q_00 + q_01 + q_10 + q_11, 0)"
      ]
     },
     "metadata": {},
     "output_type": "display_data"
    },
    {
     "name": "stdout",
     "output_type": "stream",
     "text": [
      "- E_{00x} - E_{00y} - q_{00} &= 0 \\\\ \\nonumber\n",
      "E_{00y} - E_{01x} - q_{01} &= 0 \\\\ \\nonumber\n",
      "E_{00x} - E_{10y} - q_{10} &= 0 \\\\ \\nonumber\n",
      "E_{01x} + E_{10y} - q_{11} &= 0 \\\\ \\nonumber\n",
      "q_{00} + q_{01} + q_{10} + q_{11} &= 0 \n",
      "\n",
      ">> Hamiltonian (symbolic + latex):\n"
     ]
    },
    {
     "data": {
      "text/latex": [
       "$\\displaystyle H_{E} = \\frac{g^{2} \\left(E_{10y}^{2} + \\left(- E_{10y} + q_{11}\\right)^{2} + \\left(E_{10y} + q_{10}\\right)^{2} + \\left(- E_{10y} + q_{01} + q_{11}\\right)^{2}\\right)}{2}$"
      ],
      "text/plain": [
       "Eq(H_E, g**2*(E_10y**2 + (-E_10y + q_11)**2 + (E_10y + q_10)**2 + (-E_10y + q_01 + q_11)**2)/2)"
      ]
     },
     "metadata": {},
     "output_type": "display_data"
    },
    {
     "name": "stdout",
     "output_type": "stream",
     "text": [
      "H_{E} = \\frac{g^{2} \\left(E_{10y}^{2} + \\left(- E_{10y} + q_{11}\\right)^{2} + \\left(E_{10y} + q_{10}\\right)^{2} + \\left(- E_{10y} + q_{01} + q_{11}\\right)^{2}\\right)}{2}\n"
     ]
    },
    {
     "data": {
      "text/latex": [
       "$\\displaystyle H_{B} = - \\frac{U_{10y} + h.c.}{2 g^{2}}$"
      ],
      "text/plain": [
       "Eq(H_B, -(U_10y + h.c.)/(2*g**2))"
      ]
     },
     "metadata": {},
     "output_type": "display_data"
    },
    {
     "name": "stdout",
     "output_type": "stream",
     "text": [
      "H_{B} = - \\frac{U_{10y} + h.c.}{2 g^{2}}\n"
     ]
    },
    {
     "data": {
      "text/latex": [
       "$\\displaystyle H_{K} = \\Omega \\left(0.5 i \\left(- h.c.(x) + \\Phi_{1}^{\\dagger} \\Phi_{2} + \\Phi_{4}^{\\dagger} \\Phi_{3}\\right) - 0.5 \\left(- \\Phi_{2}^{\\dagger} U_{10y} \\Phi_{3} + h.c.(y) + \\Phi_{1}^{\\dagger} \\Phi_{4}\\right)\\right)$"
      ],
      "text/plain": [
       "Eq(H_K, Omega*(0.5*I*(-h.c.(x) + Dagger(Phi_1)*Phi_2 + Dagger(Phi_4)*Phi_3) - 0.5*(-Dagger(Phi_2)*U_10y*Phi_3 + h.c.(y) + Dagger(Phi_1)*Phi_4)))"
      ]
     },
     "metadata": {},
     "output_type": "display_data"
    },
    {
     "name": "stdout",
     "output_type": "stream",
     "text": [
      "H_{K} = \\Omega \\left(0.5 i \\left(- h.c.(x) + \\Phi_{1}^{\\dagger} \\Phi_{2} + \\Phi_{4}^{\\dagger} \\Phi_{3}\\right) - 0.5 \\left(- \\Phi_{2}^{\\dagger} U_{10y} \\Phi_{3} + h.c.(y) + \\Phi_{1}^{\\dagger} \\Phi_{4}\\right)\\right)\n"
     ]
    },
    {
     "data": {
      "text/latex": [
       "$\\displaystyle H_{m} = m \\left(\\Phi_{1}^{\\dagger} \\Phi_{1} - \\Phi_{2}^{\\dagger} \\Phi_{2} + \\Phi_{3}^{\\dagger} \\Phi_{3} - \\Phi_{4}^{\\dagger} \\Phi_{4}\\right)$"
      ],
      "text/plain": [
       "Eq(H_m, m*(Dagger(Phi_1)*Phi_1 - Dagger(Phi_2)*Phi_2 + Dagger(Phi_3)*Phi_3 - Dagger(Phi_4)*Phi_4))"
      ]
     },
     "metadata": {},
     "output_type": "display_data"
    },
    {
     "name": "stdout",
     "output_type": "stream",
     "text": [
      "H_{m} = m \\left(\\Phi_{1}^{\\dagger} \\Phi_{1} - \\Phi_{2}^{\\dagger} \\Phi_{2} + \\Phi_{3}^{\\dagger} \\Phi_{3} - \\Phi_{4}^{\\dagger} \\Phi_{4}\\right)\n",
      ">> Gauss law applied and Hamiltonian built.  Execution time: 0.09522008895874023 seconds\n",
      ">> Suppression term built.  Execution time: 0.005458831787109375 seconds\n"
     ]
    }
   ],
   "source": [
    "class_H = HamiltonianQED(\n",
    "                        latt,\n",
    "                        n_sites,\n",
    "                        l,\n",
    "                        ll=L,\n",
    "                        magnetic_basis=magnetic_basis,\n",
    "                        pbc=pbc,\n",
    "                        puregauge=puregauge,\n",
    "                        static_charges_values=static_charges_values,\n",
    "                        e_op_out_plus = e_op_out_plus,\n",
    "                        display_hamiltonian=display_hamiltonian,\n",
    "                        tn_comparison=tn_comparison)"
   ]
  },
  {
   "cell_type": "code",
   "execution_count": 7,
   "metadata": {},
   "outputs": [
    {
     "data": {
      "image/png": "[encoded data removed]",
      "text/plain": [
       "<Figure size 576x432 with 1 Axes>"
      ]
     },
     "metadata": {},
     "output_type": "display_data"
    }
   ],
   "source": [
    "latt.draw_graph_func(gauss_law_fig=False)#,savefig_dir='.')"
   ]
  },
  {
   "cell_type": "code",
   "execution_count": 8,
   "metadata": {},
   "outputs": [
    {
     "data": {
      "image/png": "[encoded data removed]",
      "text/plain": [
       "<Figure size 576x432 with 1 Axes>"
      ]
     },
     "metadata": {},
     "output_type": "display_data"
    }
   ],
   "source": [
    "#only dynamical fields after Gauss law applied\n",
    "latt.draw_graph_func(gauss_law_fig=True,e_op_free=class_H.e_op_free)#,savefig_dir='.')"
   ]
  },
  {
   "cell_type": "code",
   "execution_count": 9,
   "metadata": {},
   "outputs": [
    {
     "data": {
      "text/plain": [
       "1"
      ]
     },
     "execution_count": 9,
     "metadata": {},
     "output_type": "execute_result"
    }
   ],
   "source": [
    "len(class_H.e_op_free)"
   ]
  },
  {
   "cell_type": "code",
   "execution_count": 10,
   "metadata": {},
   "outputs": [],
   "source": [
    "Hamiltonian_Pauli_tot = class_H.get_hamiltonian(g_var=g, m_var=m, omega=omega,fact_b_op=fact_b_op,fact_e_op=fact_b_op,lambd=lambd)"
   ]
  },
  {
   "cell_type": "code",
   "execution_count": 11,
   "metadata": {},
   "outputs": [
    {
     "name": "stdout",
     "output_type": "stream",
     "text": [
      "is hermitian: True\n",
      "Spectrum of H with pbcFalse_g1_l1_factE1_factB1_m7_Omega1_TNFalse\n",
      "E_0= -14.29268012\n",
      "E_1= -12.06130724\n",
      "E_2= -11.83683911\n",
      "E_3= 0.2202931\n",
      "E_4= 0.22719615\n"
     ]
    }
   ],
   "source": [
    "print('is hermitian:',Hamiltonian_Pauli_tot.is_hermitian())\n",
    "\n",
    "spectrum, eigenvectors_matrix = eigsh(Hamiltonian_Pauli_tot.to_spmatrix(),k=num_eigs,which=\"SA\",ncv = 50)#\n",
    "\n",
    "idx = spectrum.argsort() \n",
    "spectrum = spectrum[idx]\n",
    "eigenvectors_matrix = eigenvectors_matrix[:,idx]\n",
    "print(f'Spectrum of H with pbc{pbc}_g{g}_l{l}_factE{fact_e_op}_factB{fact_b_op}_m{m}_Omega{omega}_TN{tn_comparison}')\n",
    "\n",
    "\n",
    "for kk,evalu in enumerate(spectrum):\n",
    "        if evalu<900:# only physical states, 1000 corresponds to factor of penalty term\n",
    "                print(f'E_{kk}=',round(evalu,8))\n",
    "                \n",
    "                         "
   ]
  },
  {
   "cell_type": "code",
   "execution_count": 12,
   "metadata": {},
   "outputs": [
    {
     "name": "stdout",
     "output_type": "stream",
     "text": [
      "plaq. 0.40703152004125465\n"
     ]
    }
   ],
   "source": [
    "#plaquette\n",
    "print('plaq.',(Statevector(np.array(eigenvectors_matrix[:,0])).expectation_value(class_H.hamiltonian_mag_pauli).real)/len(latt.plaq_list))\n"
   ]
  },
  {
   "cell_type": "code",
   "execution_count": null,
   "metadata": {},
   "outputs": [],
   "source": []
  }
 ],
 "metadata": {
  "kernelspec": {
   "display_name": "qiskit",
   "language": "python",
   "name": "python3"
  },
  "language_info": {
   "codemirror_mode": {
    "name": "ipython",
    "version": 3
   },
   "file_extension": ".py",
   "mimetype": "text/x-python",
   "name": "python",
   "nbconvert_exporter": "python",
   "pygments_lexer": "ipython3",
   "version": "3.9.6"
  },
  "vscode": {
   "interpreter": {
    "hash": "9732f19cd5dfd89c376a93c0ebf365daafb0a064118a63241088cb5e478d8ce2"
   }
  }
 },
 "nbformat": 4,
 "nbformat_minor": 2
}
