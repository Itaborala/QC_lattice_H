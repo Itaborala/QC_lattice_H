{
 "cells": [
  {
   "attachments": {},
   "cell_type": "markdown",
   "metadata": {},
   "source": [
    "# Test of class Hamiltonian_QED"
   ]
  },
  {
   "attachments": {},
   "cell_type": "markdown",
   "metadata": {},
   "source": [
    "!!! Qiskit version < 0.24.0 Deprecated functions not yet active. !!!"
   ]
  },
  {
   "cell_type": "code",
   "execution_count": 257,
   "metadata": {},
   "outputs": [],
   "source": [
    "import qiskit"
   ]
  },
  {
   "cell_type": "code",
   "execution_count": 258,
   "metadata": {},
   "outputs": [
    {
     "data": {
      "text/plain": [
       "'0.24.1'"
      ]
     },
     "execution_count": 258,
     "metadata": {},
     "output_type": "execute_result"
    }
   ],
   "source": [
    "qiskit.__version__"
   ]
  },
  {
   "attachments": {},
   "cell_type": "markdown",
   "metadata": {},
   "source": [
    "\n",
    "\n",
    "This notebook uses the class in 'Hamiltonian_QED.py' that builds the Hamiltonian in terms of Pauli matrices.\n",
    "\n",
    "The code import the class in 'HC_Lattice.py' (that defines the lattice) and then is uses the Gray encoding for gauge fields (E and U) and Jordan-Wigner formulation for fermionic degrees of freedom."
   ]
  },
  {
   "cell_type": "code",
   "execution_count": 259,
   "metadata": {},
   "outputs": [
    {
     "name": "stdout",
     "output_type": "stream",
     "text": [
      "The autoreload extension is already loaded. To reload it, use:\n",
      "  %reload_ext autoreload\n"
     ]
    }
   ],
   "source": [
    "%load_ext autoreload\n",
    "%autoreload 2"
   ]
  },
  {
   "cell_type": "code",
   "execution_count": 260,
   "metadata": {},
   "outputs": [],
   "source": [
    "from scipy.sparse.linalg import eigsh\n",
    "from qiskit.quantum_info import Statevector\n",
    "import numpy as np\n",
    "import matplotlib.pyplot as plt\n",
    "import sys\n",
    "sys.path.append(\"../\") # go to parent dir"
   ]
  },
  {
   "cell_type": "code",
   "execution_count": 341,
   "metadata": {},
   "outputs": [],
   "source": [
    "from Hamiltonian_QED import HamiltonianQED\n",
    "from HC_Lattice import HCLattice"
   ]
  },
  {
   "cell_type": "code",
   "execution_count": 465,
   "metadata": {},
   "outputs": [],
   "source": [
    "#class input parameters:\n",
    "n_sites = [2,2,]#how many sites for every dimension\n",
    "g=1\n",
    "fact_e_op = 1\n",
    "fact_b_op = 1\n",
    "m=3\n",
    "omega=1\n",
    "l=1\n",
    "L=2\n",
    "rotors = False\n",
    "lambd = 1000\n",
    "encoding = 'gray' #'ed'#\n",
    "magnetic_basis=False\n",
    "pbc=True\n",
    "puregauge = False #TODO check when true\n",
    "static_charges_values =None#{(0,0):-1,(1,0):1}\n",
    "display_hamiltonian=False\n",
    "e_op_out_plus=False #if E out of site n has plus sign \n",
    "tn_comparison = False #TODO only kept for TN comparison, remove later\n",
    "\n",
    "#exact diagonalisation parameters:\n",
    "threshold = 1e-12\n",
    "num_eigs = 5"
   ]
  },
  {
   "cell_type": "code",
   "execution_count": 466,
   "metadata": {},
   "outputs": [],
   "source": [
    "latt = HCLattice(n_sites,pbc=pbc)"
   ]
  },
  {
   "cell_type": "code",
   "execution_count": 467,
   "metadata": {},
   "outputs": [
    {
     "name": "stdout",
     "output_type": "stream",
     "text": [
      "HamiltonianQED: Initializing...\n",
      "> Gauss law equations solved\n",
      "> e_op_free and u_op_free built\n",
      "> Pauli strings built\n",
      ">> Gauss law applied and Hamiltonian built.  Execution time: 0.10139679908752441 seconds\n",
      ">> Suppression term built.  Execution time: 0.005378007888793945 seconds\n"
     ]
    }
   ],
   "source": [
    "class_H = HamiltonianQED(\n",
    "                        latt,\n",
    "                        n_sites,\n",
    "                        l,\n",
    "                        ll=L,\n",
    "                        encoding = encoding,\n",
    "                        rotors=rotors,\n",
    "                        magnetic_basis=magnetic_basis,\n",
    "                        pbc=pbc,\n",
    "                        puregauge=puregauge,\n",
    "                        static_charges_values=static_charges_values,\n",
    "                        e_op_out_plus = e_op_out_plus,\n",
    "                        display_hamiltonian=display_hamiltonian,\n",
    "                        tn_comparison=tn_comparison)"
   ]
  },
  {
   "attachments": {},
   "cell_type": "markdown",
   "metadata": {},
   "source": [
    "##### E U for ED"
   ]
  },
  {
   "cell_type": "code",
   "execution_count": 20,
   "metadata": {},
   "outputs": [],
   "source": [
    "#TODO per ED usare queste def. di E e U scalano meglio"
   ]
  },
  {
   "cell_type": "code",
   "execution_count": 21,
   "metadata": {},
   "outputs": [],
   "source": [
    "l=1\n",
    "size_op = (2*l+1)"
   ]
  },
  {
   "cell_type": "code",
   "execution_count": 22,
   "metadata": {},
   "outputs": [],
   "source": [
    "def e_ed_fun(l):\n",
    "    return np.diag(np.arange(-l,l+1))\n",
    "\n",
    "e_ed = e_ed_fun(l)"
   ]
  },
  {
   "cell_type": "code",
   "execution_count": 103,
   "metadata": {},
   "outputs": [],
   "source": [
    "def u_ed_fun(l):\n",
    "    size_op = (2*l+1)\n",
    "    u_ed = np.zeros((size_op,size_op))\n",
    "    # Fill the upper diagonal with 1s: U\n",
    "    for i in range(size_op-1):\n",
    "        u_ed[i,i+1] = 1\n",
    "    return u_ed\n",
    "\n",
    "u_ed = u_ed_fun(l)"
   ]
  },
  {
   "cell_type": "code",
   "execution_count": 24,
   "metadata": {},
   "outputs": [],
   "source": [
    "def u_ed_dag_fun(l):\n",
    "    u_ed_dag = np.zeros((2*l+1,2*l+1))\n",
    "    # Fill the lower diagonal with 1s: U_dag\n",
    "    for i in range(2*l):\n",
    "        u_ed_dag[i+1,i] = 1\n",
    "    return u_ed_dag\n",
    "\n",
    "u_ed_dag =u_ed_dag_fun(l)"
   ]
  },
  {
   "cell_type": "code",
   "execution_count": 25,
   "metadata": {},
   "outputs": [
    {
     "data": {
      "text/plain": [
       "array([0., 0., 0.])"
      ]
     },
     "execution_count": 25,
     "metadata": {},
     "output_type": "execute_result"
    }
   ],
   "source": [
    "u_ed@np.array([1]+[0]*(2*l)) "
   ]
  },
  {
   "cell_type": "code",
   "execution_count": 26,
   "metadata": {},
   "outputs": [
    {
     "data": {
      "text/plain": [
       "array([0., 1., 0.])"
      ]
     },
     "execution_count": 26,
     "metadata": {},
     "output_type": "execute_result"
    }
   ],
   "source": [
    "u_ed_dag@np.array([1]+[0]*(2*l)) "
   ]
  },
  {
   "attachments": {},
   "cell_type": "markdown",
   "metadata": {},
   "source": [
    "##### Test el basis"
   ]
  },
  {
   "cell_type": "code",
   "execution_count": 27,
   "metadata": {},
   "outputs": [],
   "source": [
    "from sympy import symbols,Symbol,Pow,Float,Integer,lambdify"
   ]
  },
  {
   "cell_type": "code",
   "execution_count": 400,
   "metadata": {},
   "outputs": [],
   "source": [
    "encoding ='ed'#'gray'"
   ]
  },
  {
   "cell_type": "code",
   "execution_count": 352,
   "metadata": {},
   "outputs": [],
   "source": [
    "def el_op_enc(encoding):\n",
    "    \"\"\"Return the encoding of the electric field operator in the chosen encoding\"\"\"\n",
    "    if encoding=='gray':\n",
    "        return class_H.str_to_pauli(class_H._r_c()[1], class_H._n_qubits_g())\n",
    "    elif encoding=='ed':\n",
    "        return e_ed_fun(l)\n",
    "    else:\n",
    "        raise ValueError('encoding not recognized')\n",
    "\n",
    "def u_op_enc(encoding):\n",
    "    \"\"\"Return the encoding of the link operator in the chosen encoding\"\"\"\n",
    "    if encoding=='gray':\n",
    "        return class_H.str_to_pauli(class_H._l_c(), class_H._n_qubits_g())\n",
    "    elif encoding=='ed':\n",
    "        return u_ed_fun(l)\n",
    "    else:\n",
    "        raise ValueError('encoding not recognized')\n",
    "\n",
    "def u_op_dag_enc(encoding):\n",
    "    \"\"\"Return the encoding of the link operator dagger in the chosen encoding\"\"\"\n",
    "    if encoding=='gray':\n",
    "        return class_H.str_to_pauli(class_H._l_c(), class_H._n_qubits_g()).adjoint()\n",
    "    elif encoding=='ed':\n",
    "        return u_ed_dag_fun(l)\n",
    "    else:\n",
    "        raise ValueError('encoding not recognized')\n",
    "\n",
    "def hermitian_c(expr):\n",
    "    \"\"\"Compute hermitian conjugate of input expr.\"\"\"\n",
    "\n",
    "    if isinstance(expr,np.ndarray):\n",
    "        return np.conj(expr).T \n",
    "    elif isinstance(expr,SparsePauliOp):\n",
    "        return expr.adjoint()\n",
    "    else:\n",
    "        raise ValueError('encoding not recognized for hermitian conjugate')"
   ]
  },
  {
   "cell_type": "code",
   "execution_count": 401,
   "metadata": {},
   "outputs": [],
   "source": [
    "eop1 = el_op_enc(encoding)\n",
    "uop1 = u_op_enc(encoding)\n",
    "uop1_dag = u_op_dag_enc(encoding)"
   ]
  },
  {
   "cell_type": "code",
   "execution_count": 374,
   "metadata": {},
   "outputs": [],
   "source": [
    "from qiskit.quantum_info import Pauli,SparsePauliOp"
   ]
  },
  {
   "cell_type": "code",
   "execution_count": 403,
   "metadata": {},
   "outputs": [],
   "source": [
    "_e_op_elem = lambda i: class_H._e_operator(index=i + 1)\n",
    "\n",
    "#list of symbols only (encoding not needed)\n",
    "eop_list = class_H.e_op_free if not class_H.rotors else class_H.rotor_list\n",
    "uop_list = class_H.u_op_free if not class_H.rotors else [] \n",
    "qop_list =[] if class_H.puregauge else  [ symbols(\"q_\" + class_H.str_node_f(k)) for k in class_H.lattice.jw_sites ] \n",
    "phiop_list = [ Symbol(f\"Phi_{i+1}\", commutative=False) for i, k in enumerate(class_H.lattice.jw_sites) ]\n",
    "\n",
    "q10 = -0.5 * (class_H.I + class_H.Z)  # JW dependent\n",
    "q00 = 0.5 * (class_H.I - class_H.Z)\n",
    "\n",
    "sum_k = lambda k: k if latt.dims == 1 else sum(k)\n",
    "\n",
    "#list of symbols and operators\n",
    "qcharge_list = [(symbols(\"q_\" + class_H.str_node_f(k)), (q10 if sum_k(k) % 2 else q00)) for k in class_H.lattice.jw_sites ]\n",
    "e_field_list = [(s_tmp,eop1) for s_tmp in eop_list]\n",
    "u_field_list = [(s_tmp,(uop1_dag if s_tmp.name[-1]=='D' else uop1)) for s_tmp in uop_list+class_H.u_op_free_dag]\n",
    "phi_el = lambda i, j: HamiltonianQED.pauli_tens((\n",
    "                class_H.jw_funct(i + 1, int(class_H.lattice.n_sitestot))[j]\n",
    "            ) , )\n",
    "\n",
    "phi_jw_list = [ ( Symbol(f\"Phi_{i+1}D\", commutative=False), phi_el(i, 0), ) for i, k in \n",
    "                enumerate(class_H.lattice.jw_sites) ] + [ ( Symbol(f\"Phi_{i+1}\", commutative=False), phi_el(i, 1), ) \n",
    "                for i, k in enumerate(class_H.lattice.jw_sites) ]"
   ]
  },
  {
   "cell_type": "code",
   "execution_count": 376,
   "metadata": {},
   "outputs": [],
   "source": [
    "SPARSE_PAULI = qiskit.quantum_info.operators.symplectic.sparse_pauli_op.SparsePauliOp"
   ]
  },
  {
   "cell_type": "code",
   "execution_count": 377,
   "metadata": {},
   "outputs": [
    {
     "data": {
      "text/plain": [
       "4"
      ]
     },
     "execution_count": 377,
     "metadata": {},
     "output_type": "execute_result"
    }
   ],
   "source": [
    "dim_qubit_space = class_H.len_e_op*(class_H._n_qubits_g()) if class_H.puregauge else latt.n_sitestot + class_H.len_e_op*(class_H._n_qubits_g()) ;dim_qubit_space"
   ]
  },
  {
   "cell_type": "code",
   "execution_count": 378,
   "metadata": {},
   "outputs": [],
   "source": [
    "import re"
   ]
  },
  {
   "cell_type": "code",
   "execution_count": 408,
   "metadata": {},
   "outputs": [],
   "source": [
    "def list_to_pauli_ham(list_el,subst,ferm_lst=[],gauge_lst=[],encoding='gray'):\n",
    "    \"\"\"Return a list of Pauli operators from a list of symbolic operators.\n",
    "    It consider only sparse pauli for single operator, not entire pauli string, thus operation like (I^op^I)**2 and I^op1^I*I^op2^I are\n",
    "    then simplied to I^(op**2)^I and I^(op1*op2)^I, respectively.\n",
    "    Last part is put everything together and add identity matrices where needed.\n",
    "    \n",
    "    encoding: gray, ed (exact diagonalization)\"\"\"\n",
    "    ham_el = []\n",
    "    for ei in list_el:\n",
    "        index_op = [] #build index list order ..q2q1q0 (little endian)\n",
    "        for e in ei:\n",
    "            if not isinstance(e, (int, float, complex,Float,Integer,str)):\n",
    "                if list(e.free_symbols)[0].name[-1]=='D' and list(e.free_symbols)[0].name[0]=='U':#gauge field U adjoint\n",
    "                    index_op.append(str((ferm_lst[::-1] + [Symbol(i.name+'D') for i in gauge_lst][::-1]).index(*e.free_symbols))+'D')\n",
    "                elif list(e.free_symbols)[0].name[-1]=='D' and list(e.free_symbols)[0].name[0:3]=='Phi':#fermion adjoint (but JW index only 0, must cover all the fermionic dof)\n",
    "                    index_op.append(str(([Symbol(i.name+'D', commutative=False) for i in ferm_lst][::-1] + gauge_lst[::-1]).index(*e.free_symbols))+'D')                   \n",
    "                else:#no adjoint\n",
    "                    index_op.append(str((ferm_lst[::-1] + gauge_lst[::-1]).index(*e.free_symbols)))\n",
    "                    \n",
    "        ei_func = lambdify(list(zip(*subst))[0], ei)\n",
    "        pauli_ei = ei_func(*list(zip(*subst))[1])\n",
    "        op_dct = {}\n",
    "        numbers = []\n",
    "        ct = 0\n",
    "        for el in pauli_ei:#build dictionary of sparse pauli operators and their index\n",
    "            if isinstance(el, (SparsePauliOp,np.ndarray)):\n",
    "                op_dct[index_op[ct]] = el\n",
    "                ct+=1\n",
    "            else:\n",
    "                numbers.append(el)\n",
    "        #print(op_dct,index_op,pauli_ei)\n",
    "        if subst[0][0]==Symbol('Phi_1D', commutative=False):#ferm\n",
    "            res = ['id_f']*len(ferm_lst) + ['id_g']*class_H.len_e_op\n",
    "            f_index_op = [i for i in index_op if int(re.findall('\\d+', i )[0])<len(ferm_lst)]#select only fermionic dof\n",
    "            #print(op_dct,f_index_op)\n",
    "            res[0]=op_dct[f_index_op[0]]@op_dct[f_index_op[1]] #compute product between fermions dof when JW applied\n",
    "            start = len(ferm_lst)\n",
    "\n",
    "        else: #no JW\n",
    "            res = ['id_q']*len(ferm_lst) + ['id_g']*class_H.len_e_op\n",
    "            start = 0\n",
    "\n",
    "        for i in range(start,len(res)): #only for gauge or charges q\n",
    "            if str(i) in op_dct.keys() and isinstance(res[i],str):#fill res with SparsePauli\n",
    "                res[i] = op_dct[str(i)]\n",
    "            if str(i)+'D' in op_dct.keys() and isinstance(res[i],str):#fill res with SparsePauli\n",
    "                res[i] = op_dct[str(i)+'D']\n",
    "\n",
    "            if isinstance(res[i],str) and res[i]=='id_q':#remaining spots for charges are filled with I\n",
    "                res[i]=class_H.I #single qubit for charge\n",
    "            elif isinstance(res[i],str) and res[i]=='id_g':\n",
    "                if encoding=='gray':\n",
    "                    res[i]=class_H.tensor_prod(class_H.I ,(class_H._n_qubits_g()))#Gray encoding for E field\n",
    "                elif encoding=='ed':#exact diagonaliz. dimensions of gauge fields 2l+1\n",
    "                    res[i]=np.eye(2*l+1)\n",
    "        res = [elem for elem in res if not isinstance(elem,str)]#remove id_f when JW applied\n",
    "\n",
    "\n",
    "\n",
    "        ham_el.append(np.prod(numbers)*class_H.pauli_tens(*res))\n",
    "    return ham_el"
   ]
  },
  {
   "cell_type": "code",
   "execution_count": 380,
   "metadata": {},
   "outputs": [],
   "source": [
    "hamiltonian_m_pauli = sum([((-1) ** j)*el for j,el in enumerate(list_to_pauli_ham(class_H.hamiltonian_m_sym,phi_jw_list,phiop_list,encoding=encoding))])"
   ]
  },
  {
   "cell_type": "code",
   "execution_count": 381,
   "metadata": {},
   "outputs": [],
   "source": [
    "#(class_H.hamiltonian_m_pauli - hamiltonian_m_pauli).simplify()"
   ]
  },
  {
   "cell_type": "code",
   "execution_count": 382,
   "metadata": {},
   "outputs": [],
   "source": [
    "hamiltonian_k_1y = sum(list_to_pauli_ham([h[1:] for h in class_H.hamiltonian_k_sym if h[0] == \"y\"],phi_jw_list+u_field_list,phiop_list,uop_list,encoding=encoding))\n",
    "hamiltonian_k_1x = sum(list_to_pauli_ham([h[1:] for h in class_H.hamiltonian_k_sym if h[0] == \"x\"],phi_jw_list+u_field_list,phiop_list,uop_list,encoding=encoding))\n",
    "\n",
    "hamiltonian_k_pauli = (\n",
    "                    0.5j * (hamiltonian_k_1x - hermitian_c(hamiltonian_k_1x))\n",
    "                    - 0.5 * (hamiltonian_k_1y + hermitian_c(hamiltonian_k_1y))\n",
    "                )"
   ]
  },
  {
   "cell_type": "code",
   "execution_count": 383,
   "metadata": {},
   "outputs": [],
   "source": [
    "#(class_H.hamiltonian_k_pauli-hamiltonian_k_pauli).simplify() "
   ]
  },
  {
   "cell_type": "code",
   "execution_count": 409,
   "metadata": {},
   "outputs": [
    {
     "name": "stdout",
     "output_type": "stream",
     "text": [
      "[array([[1., 0., 0.],\n",
      "       [0., 1., 0.],\n",
      "       [0., 0., 1.]]), array([[1, 0, 0],\n",
      "       [0, 0, 0],\n",
      "       [0, 0, 1]])] [[1. 0. 0. 0. 0. 0. 0. 0. 0.]\n",
      " [0. 0. 0. 0. 0. 0. 0. 0. 0.]\n",
      " [0. 0. 1. 0. 0. 0. 0. 0. 0.]\n",
      " [0. 0. 0. 1. 0. 0. 0. 0. 0.]\n",
      " [0. 0. 0. 0. 0. 0. 0. 0. 0.]\n",
      " [0. 0. 0. 0. 0. 1. 0. 0. 0.]\n",
      " [0. 0. 0. 0. 0. 0. 1. 0. 0.]\n",
      " [0. 0. 0. 0. 0. 0. 0. 0. 0.]\n",
      " [0. 0. 0. 0. 0. 0. 0. 0. 1.]]\n",
      "[array([[1, 0, 0],\n",
      "       [0, 0, 0],\n",
      "       [0, 0, 1]]), array([[1., 0., 0.],\n",
      "       [0., 1., 0.],\n",
      "       [0., 0., 1.]])] [[1. 0. 0. 0. 0. 0. 0. 0. 0.]\n",
      " [0. 1. 0. 0. 0. 0. 0. 0. 0.]\n",
      " [0. 0. 1. 0. 0. 0. 0. 0. 0.]\n",
      " [0. 0. 0. 0. 0. 0. 0. 0. 0.]\n",
      " [0. 0. 0. 0. 0. 0. 0. 0. 0.]\n",
      " [0. 0. 0. 0. 0. 0. 0. 0. 0.]\n",
      " [0. 0. 0. 0. 0. 0. 1. 0. 0.]\n",
      " [0. 0. 0. 0. 0. 0. 0. 1. 0.]\n",
      " [0. 0. 0. 0. 0. 0. 0. 0. 1.]]\n",
      "[array([[-1,  0,  0],\n",
      "       [ 0,  0,  0],\n",
      "       [ 0,  0,  1]]), array([[-1,  0,  0],\n",
      "       [ 0,  0,  0],\n",
      "       [ 0,  0,  1]])] [[ 1  0  0  0  0  0  0  0  0]\n",
      " [ 0  0  0  0  0  0  0  0  0]\n",
      " [ 0  0 -1  0  0  0  0  0  0]\n",
      " [ 0  0  0  0  0  0  0  0  0]\n",
      " [ 0  0  0  0  0  0  0  0  0]\n",
      " [ 0  0  0  0  0  0  0  0  0]\n",
      " [ 0  0  0  0  0  0 -1  0  0]\n",
      " [ 0  0  0  0  0  0  0  0  0]\n",
      " [ 0  0  0  0  0  0  0  0  1]]\n"
     ]
    }
   ],
   "source": [
    "ham_el=list_to_pauli_ham([class_H.decompose_expression(i) for i in class_H.hamiltonian_el_subs],qcharge_list+e_field_list,qop_list,eop_list,encoding=encoding)\n",
    "ham_el=(sum(ham_el)/2)"
   ]
  },
  {
   "cell_type": "code",
   "execution_count": 385,
   "metadata": {},
   "outputs": [],
   "source": [
    "ham_mag = list_to_pauli_ham(class_H.hamiltonian_mag_subs,u_field_list,qop_list,uop_list,encoding=encoding)\n",
    "ham_mag=((sum(ham_mag)+hermitian_c(sum(ham_mag)))/2)"
   ]
  },
  {
   "cell_type": "code",
   "execution_count": 243,
   "metadata": {},
   "outputs": [],
   "source": [
    "#(class_H.hamiltonian_mag_pauli-ham_mag).simplify()"
   ]
  },
  {
   "cell_type": "code",
   "execution_count": 244,
   "metadata": {},
   "outputs": [],
   "source": [
    "#(class_H.hamiltonian_el_pauli-ham_el).simplify()"
   ]
  },
  {
   "attachments": {},
   "cell_type": "markdown",
   "metadata": {},
   "source": [
    "##### Test mag basis"
   ]
  },
  {
   "cell_type": "code",
   "execution_count": 152,
   "metadata": {},
   "outputs": [],
   "source": [
    "U_mag_subs = {**{el_uop:Symbol('E_'+el_uop.name[2:]) for el_uop in class_H.u_op_free},**{el_uop:Symbol('E_'+el_uop.name[2:-1]) for el_uop in class_H.u_op_free_dag}}"
   ]
  },
  {
   "cell_type": "code",
   "execution_count": 153,
   "metadata": {},
   "outputs": [],
   "source": [
    "hamiltonian_mag_sym= [[U_mag_subs.get(item, item) for item in sublst if item != 1] for sublst in class_H.hamiltonian_mag_subs]"
   ]
  },
  {
   "cell_type": "code",
   "execution_count": 308,
   "metadata": {},
   "outputs": [
    {
     "data": {
      "text/plain": [
       "[[E_10y], [E_11y, E_01y], [E_10x, E_11x, E_10y], [E_11x, E_01y, E_10x, E_11y]]"
      ]
     },
     "execution_count": 308,
     "metadata": {},
     "output_type": "execute_result"
    }
   ],
   "source": [
    "hamiltonian_mag_sym_mbasis"
   ]
  },
  {
   "cell_type": "code",
   "execution_count": 301,
   "metadata": {},
   "outputs": [],
   "source": [
    "#compute e^i alpha E\n",
    "ei_class = class_H.matx_exp(class_H.str_to_pauli(class_H._r_c()[1], class_H._n_qubits_g()),1j*class_H.alpha)\n",
    "\n",
    "hamiltonian_mag_pauli = []\n",
    "for ei in hamiltonian_mag_sym:\n",
    "    id_eop = [list(e_op_dict_mbasis.keys()).index(e) for e in ei]\n",
    "    idx  = class_H.tensor_prod(class_H.I ,(class_H._n_qubits_g()))\n",
    "    if len(ei) == 1:# cos 1 operator is enough and rest is I\n",
    "        cos1 = [class_H.cos_oper(ei_class) if i in id_eop else class_H.tensor_prod(class_H.I ,(class_H._n_qubits_g())) for i in range(class_H.len_e_op)[::-1]] #inverse because little endian\n",
    "    else:\n",
    "        #compute cosine of multiple operators cos(E1+E2+...)=e^iE1 e^iE2 ... + e^-iE1 e^-iE2 ... /2\n",
    "        cosn = class_H.cos_oper(class_H.pauli_tens(*[ei_class if i in id_eop else idx  for i in range(class_H.len_e_op)[::-1]][min(id_eop):max(id_eop) + 1])).simplify()\n",
    "        hamiltonian_mag_pauli.append(class_H.pauli_tens(*[idx for i in range(class_H.len_e_op)[::-1]][max(id_eop) + 1:]+ [cosn]+ [idx for i in range(class_H.len_e_op)[::-1]][:min(id_eop)] ))\n",
    "\n",
    "hamiltonian_mag_pauli = sum(hamiltonian_mag_pauli) if class_H.puregauge else class_H.pauli_tens(class_H.tensor_prod(class_H.I , (int(class_H.lattice.n_sitestot))),sum(hamiltonian_mag_pauli))"
   ]
  },
  {
   "cell_type": "code",
   "execution_count": 154,
   "metadata": {},
   "outputs": [
    {
     "data": {
      "text/plain": [
       "[[E_10y], [E_11y, E_01y], [E_10x, E_11x, E_10y], [E_11x, E_01y, E_10x, E_11y]]"
      ]
     },
     "execution_count": 154,
     "metadata": {},
     "output_type": "execute_result"
    }
   ],
   "source": [
    "[el for el in hamiltonian_mag_sym_mbasis if el != []]"
   ]
  },
  {
   "cell_type": "code",
   "execution_count": 155,
   "metadata": {},
   "outputs": [],
   "source": [
    "eop_list = class_H.e_op_free if not class_H.rotors else class_H.rotor_list\n",
    "_e_op_elem = lambda i: class_H._e_operator(index=i + 1)\n",
    "e_op_dict_mbasis = dict([(Symbol(s_tmp), _e_op_elem(i)) if eop_list==class_H.rotor_list else (s_tmp, _e_op_elem(i)) for i, s_tmp in enumerate(eop_list)])"
   ]
  },
  {
   "cell_type": "code",
   "execution_count": 203,
   "metadata": {},
   "outputs": [],
   "source": [
    "hamiltonian_mag_subs_mbasis = [[e_op_dict_mbasis.get(item, item) for item in sublst] for sublst in hamiltonian_mag_sym_mbasis]"
   ]
  },
  {
   "cell_type": "code",
   "execution_count": 32,
   "metadata": {},
   "outputs": [],
   "source": [
    "from qiskit.quantum_info import Pauli,SparsePauliOp"
   ]
  },
  {
   "cell_type": "code",
   "execution_count": 80,
   "metadata": {},
   "outputs": [
    {
     "name": "stdout",
     "output_type": "stream",
     "text": [
      "SparsePauliOp(['IIIIIIIIII', 'IIIZIIIIII', 'IIZIIIIIII', 'IIZZIIIIII', 'IIIIIIIIII', 'IIIZIIIIII', 'IIZIIIIIII', 'IIZZIIIIII'],\n",
      "              coeffs=[-0.25+0.j, -0.25+0.j, -0.25+0.j, -0.25+0.j,  0.25+0.j, -0.25+0.j,\n",
      " -0.25+0.j,  0.25+0.j])\n"
     ]
    },
    {
     "ename": "AttributeError",
     "evalue": "'SparsePauliOp' object has no attribute 'shape'",
     "output_type": "error",
     "traceback": [
      "\u001b[0;31m---------------------------------------------------------------------------\u001b[0m",
      "\u001b[0;31mAttributeError\u001b[0m                            Traceback (most recent call last)",
      "Cell \u001b[0;32mIn[80], line 4\u001b[0m\n\u001b[1;32m      2\u001b[0m \u001b[39mfor\u001b[39;00m op \u001b[39min\u001b[39;00m hamiltonian_mag_subs_mbasis[\u001b[39m0\u001b[39m]:\n\u001b[1;32m      3\u001b[0m     \u001b[39mprint\u001b[39m(op)\n\u001b[0;32m----> 4\u001b[0m     hamiltonian_mag_pauli\u001b[39m.\u001b[39mappend(cosine_operator(op))\n",
      "Cell \u001b[0;32mIn[70], line 13\u001b[0m, in \u001b[0;36mcosine_operator\u001b[0;34m(operators)\u001b[0m\n\u001b[1;32m     10\u001b[0m \u001b[39mif\u001b[39;00m \u001b[39misinstance\u001b[39m(operators, \u001b[39mlist\u001b[39m):\n\u001b[1;32m     11\u001b[0m     operators \u001b[39m=\u001b[39m \u001b[39msum\u001b[39m(operators)\u001b[39m.\u001b[39mto_matrix(sparse\u001b[39m=\u001b[39m\u001b[39mTrue\u001b[39;00m)\n\u001b[0;32m---> 13\u001b[0m eigenvalues, eigenvectors \u001b[39m=\u001b[39m eigs(operators)\n\u001b[1;32m     14\u001b[0m \u001b[39mprint\u001b[39m(\u001b[39m'\u001b[39m\u001b[39meigs\u001b[39m\u001b[39m'\u001b[39m)\n\u001b[1;32m     15\u001b[0m inv_eigenvectors \u001b[39m=\u001b[39m eigenvectors\u001b[39m.\u001b[39mconj()\u001b[39m.\u001b[39mT\n",
      "File \u001b[0;32m~/qiskit/lib/python3.9/site-packages/scipy/sparse/linalg/_eigen/arpack/arpack.py:1249\u001b[0m, in \u001b[0;36meigs\u001b[0;34m(A, k, M, sigma, which, v0, ncv, maxiter, tol, return_eigenvectors, Minv, OPinv, OPpart)\u001b[0m\n\u001b[1;32m   1096\u001b[0m \u001b[39mdef\u001b[39;00m \u001b[39meigs\u001b[39m(A, k\u001b[39m=\u001b[39m\u001b[39m6\u001b[39m, M\u001b[39m=\u001b[39m\u001b[39mNone\u001b[39;00m, sigma\u001b[39m=\u001b[39m\u001b[39mNone\u001b[39;00m, which\u001b[39m=\u001b[39m\u001b[39m'\u001b[39m\u001b[39mLM\u001b[39m\u001b[39m'\u001b[39m, v0\u001b[39m=\u001b[39m\u001b[39mNone\u001b[39;00m,\n\u001b[1;32m   1097\u001b[0m          ncv\u001b[39m=\u001b[39m\u001b[39mNone\u001b[39;00m, maxiter\u001b[39m=\u001b[39m\u001b[39mNone\u001b[39;00m, tol\u001b[39m=\u001b[39m\u001b[39m0\u001b[39m, return_eigenvectors\u001b[39m=\u001b[39m\u001b[39mTrue\u001b[39;00m,\n\u001b[1;32m   1098\u001b[0m          Minv\u001b[39m=\u001b[39m\u001b[39mNone\u001b[39;00m, OPinv\u001b[39m=\u001b[39m\u001b[39mNone\u001b[39;00m, OPpart\u001b[39m=\u001b[39m\u001b[39mNone\u001b[39;00m):\n\u001b[1;32m   1099\u001b[0m     \u001b[39m\"\"\"\u001b[39;00m\n\u001b[1;32m   1100\u001b[0m \u001b[39m    Find k eigenvalues and eigenvectors of the square matrix A.\u001b[39;00m\n\u001b[1;32m   1101\u001b[0m \n\u001b[0;32m   (...)\u001b[0m\n\u001b[1;32m   1247\u001b[0m \n\u001b[1;32m   1248\u001b[0m \u001b[39m    \"\"\"\u001b[39;00m\n\u001b[0;32m-> 1249\u001b[0m     \u001b[39mif\u001b[39;00m A\u001b[39m.\u001b[39;49mshape[\u001b[39m0\u001b[39m] \u001b[39m!=\u001b[39m A\u001b[39m.\u001b[39mshape[\u001b[39m1\u001b[39m]:\n\u001b[1;32m   1250\u001b[0m         \u001b[39mraise\u001b[39;00m \u001b[39mValueError\u001b[39;00m(\u001b[39m'\u001b[39m\u001b[39mexpected square matrix (shape=\u001b[39m\u001b[39m%s\u001b[39;00m\u001b[39m)\u001b[39m\u001b[39m'\u001b[39m \u001b[39m%\u001b[39m (A\u001b[39m.\u001b[39mshape,))\n\u001b[1;32m   1251\u001b[0m     \u001b[39mif\u001b[39;00m M \u001b[39mis\u001b[39;00m \u001b[39mnot\u001b[39;00m \u001b[39mNone\u001b[39;00m:\n",
      "\u001b[0;31mAttributeError\u001b[0m: 'SparsePauliOp' object has no attribute 'shape'"
     ]
    }
   ],
   "source": [
    "hamiltonian_mag_pauli = []\n",
    "for op in hamiltonian_mag_subs_mbasis[0]:\n",
    "    print(op)\n",
    "    hamiltonian_mag_pauli.append(cosine_operator(op))"
   ]
  },
  {
   "cell_type": "code",
   "execution_count": 58,
   "metadata": {},
   "outputs": [],
   "source": [
    "eigenvalues, eigenvectors = eigs(hamiltonian_mag_subs_mbasis[0][0].to_matrix(sparse=True))\n",
    "inv_eigenvectors = eigenvectors.conj().T\n",
    "\n",
    "coeff1 = 1j*class_H.alpha\n",
    "\n",
    "diagonal_matrix1 = np.diag(np.exp(coeff1 * eigenvalues))\n",
    "exp_matrix1 = eigenvectors @ diagonal_matrix1 @ inv_eigenvectors"
   ]
  },
  {
   "cell_type": "code",
   "execution_count": 44,
   "metadata": {},
   "outputs": [],
   "source": [
    "from scipy.sparse.linalg import eigs, inv"
   ]
  },
  {
   "cell_type": "code",
   "execution_count": 70,
   "metadata": {},
   "outputs": [],
   "source": [
    "def cosine_operator(operators):\n",
    "    \"\"\"Compute the cosine of a matrix using the eigendecomposition,\n",
    "    if single operator is passed, it returns the cosine of the operator: cos(operators)=exp(i*operators)+exp(-i*operators)/2\n",
    "    if list of operators is passed, it returns the cosine of the sum of the operators: cos(sum(operators))=exp(i*sum(operators))+exp(-i*sum(operators))/2\"\"\"\n",
    "    #input matrix can be a single operator or a list of operators\n",
    "    \n",
    "    coeff1 = 1j*class_H.alpha\n",
    "    coeff2 = -1j*class_H.alpha\n",
    "\n",
    "    if isinstance(operators, list):\n",
    "        operators = sum(operators).to_matrix(sparse=True)\n",
    "\n",
    "    eigenvalues, eigenvectors = eigs(operators.to_matrix(sparse=True))\n",
    "    print('eigs')\n",
    "    inv_eigenvectors = eigenvectors.conj().T\n",
    "\n",
    "    diagonal_matrix1 = np.diag(np.exp(coeff1 * eigenvalues))\n",
    "    print('diag1')\n",
    "    diagonal_matrix2 = np.diag(np.exp(coeff2 * eigenvalues))\n",
    "    exp_matrix1 = eigenvectors @ diagonal_matrix1 @ inv_eigenvectors\n",
    "    print('exp1')\n",
    "    exp_matrix2 = eigenvectors @ diagonal_matrix2 @ inv_eigenvectors\n",
    "\n",
    "    oper = Operator((exp_matrix1+exp_matrix2)/2)\n",
    "    print('oper')\n",
    "\n",
    "    sparsep = SparsePauliOp.from_operator(oper)\n",
    "    print('sparsep')\n",
    "\n",
    "    return sparsep\n",
    "    "
   ]
  },
  {
   "cell_type": "code",
   "execution_count": 126,
   "metadata": {},
   "outputs": [],
   "source": [
    "from scipy.linalg import expm\n",
    "\n",
    "def compute_matrix_exponential(matrix, coefficient):\n",
    "    \"\"\"Compute the matrix exponential of a matrix using the eigendecomposition\"\"\"\n",
    "    eigenvalues, eigenvectors = np.linalg.eig(matrix)\n",
    "    diagonal_matrix = np.diag(np.exp(coefficient * eigenvalues))\n",
    "    exp_matrix = eigenvectors @ diagonal_matrix @ np.linalg.inv(eigenvectors)\n",
    "    return exp_matrix"
   ]
  },
  {
   "cell_type": "code",
   "execution_count": 634,
   "metadata": {},
   "outputs": [],
   "source": [
    "eop_test = []\n",
    "for index in range(1,4):\n",
    "    eop_test.append(class_H.pauli_tens(\n",
    "                    class_H.tensor_prod(class_H.I ,(class_H._n_qubits_g() * (3 - index)))\n",
    "                    , class_H.str_to_pauli(class_H._r_c()[1], class_H._n_qubits_g())\n",
    "                    , class_H.tensor_prod(class_H.I, (class_H._n_qubits_g() * (index - 1)))\n",
    "                ))"
   ]
  },
  {
   "cell_type": "code",
   "execution_count": 655,
   "metadata": {},
   "outputs": [
    {
     "data": {
      "text/plain": [
       "[SparsePauliOp(['IIIIII', 'IIIIIZ', 'IIIIZI', 'IIIIZZ', 'IIIIII', 'IIIIIZ', 'IIIIZI', 'IIIIZZ'],\n",
       "               coeffs=[-0.25+0.j, -0.25+0.j, -0.25+0.j, -0.25+0.j,  0.25+0.j, -0.25+0.j,\n",
       "  -0.25+0.j,  0.25+0.j]),\n",
       " SparsePauliOp(['IIIIII', 'IIIZII', 'IIZIII', 'IIZZII', 'IIIIII', 'IIIZII', 'IIZIII', 'IIZZII'],\n",
       "               coeffs=[-0.25+0.j, -0.25+0.j, -0.25+0.j, -0.25+0.j,  0.25+0.j, -0.25+0.j,\n",
       "  -0.25+0.j,  0.25+0.j]),\n",
       " SparsePauliOp(['IIIIII', 'IZIIII', 'ZIIIII', 'ZZIIII', 'IIIIII', 'IZIIII', 'ZIIIII', 'ZZIIII'],\n",
       "               coeffs=[-0.25+0.j, -0.25+0.j, -0.25+0.j, -0.25+0.j,  0.25+0.j, -0.25+0.j,\n",
       "  -0.25+0.j,  0.25+0.j])]"
      ]
     },
     "execution_count": 655,
     "metadata": {},
     "output_type": "execute_result"
    }
   ],
   "source": [
    "eop_test"
   ]
  },
  {
   "cell_type": "code",
   "execution_count": 656,
   "metadata": {},
   "outputs": [
    {
     "data": {
      "text/plain": [
       "SparsePauliOp(['IIIIIIIIII', 'IIIIIIIIIZ', 'IIIIIIIIZI', 'IIIIIIIIZZ', 'IIIIIIIIII', 'IIIIIIIIIZ', 'IIIIIIIIZI', 'IIIIIIIIZZ'],\n",
       "              coeffs=[-0.25+0.j, -0.25+0.j, -0.25+0.j, -0.25+0.j,  0.25+0.j, -0.25+0.j,\n",
       " -0.25+0.j,  0.25+0.j])"
      ]
     },
     "execution_count": 656,
     "metadata": {},
     "output_type": "execute_result"
    }
   ],
   "source": [
    "class_H._e_operator()"
   ]
  },
  {
   "cell_type": "code",
   "execution_count": null,
   "metadata": {},
   "outputs": [],
   "source": [
    "#TODO HERE: vedere come generalizzare eiSznoidx xk cosine_operator scala exp"
   ]
  },
  {
   "cell_type": "code",
   "execution_count": 137,
   "metadata": {},
   "outputs": [],
   "source": [
    "def eiSz_noidx_1():\n",
    "    \"\"\"Exponential function for Sz\n",
    "    Input args.: class_H.alpha - numerical coefficient\"\"\"\n",
    "\n",
    "    sznoidx = class_H._r_c()[0]\n",
    "    projterm = f\"{1.0} \" + \" \".join(sznoidx[0][1])\n",
    "\n",
    "    arg =  class_H.tensor_prod(class_H.I ,(class_H._n_qubits_g())) + (\n",
    "        (math.cos(class_H.alpha * sznoidx[0][0]) + 1j * math.sin(class_H.alpha * sznoidx[0][0]) - 1)\n",
    "        *  class_H.str_to_pauli([projterm], class_H._n_qubits_g())\n",
    "    )\n",
    "\n",
    "    for nn in range(1, 2 * class_H.l_par ):\n",
    "        aux = sznoidx[nn]\n",
    "        projterm = f\"{1.0} \" + \" \".join(aux[1])\n",
    "        arg = (\n",
    "            (\n",
    "                 class_H.tensor_prod(class_H.I ,(class_H._n_qubits_g()))\n",
    "                + (\n",
    "                    (math.cos(class_H.alpha * aux[0]) + 1j * math.sin(class_H.alpha * aux[0]) - 1)\n",
    "                    *  class_H.str_to_pauli([projterm], class_H._n_qubits_g())\n",
    "                )\n",
    "            )\n",
    "            @ arg\n",
    "        ).simplify()\n",
    "\n",
    "    return arg\n",
    "\n",
    "re_psum = lambda op: 0.5 * (op + op.adjoint()).simplify()\n",
    "im_psum = lambda op: -0.5j * (op - op.adjoint()).simplify()\n",
    "\n",
    "def cosSz_noidx_1():\n",
    "    \"\"\"Cosine function for Sz\n",
    "    Input args.: class_H.alpha - numerical coefficient\"\"\"\n",
    "    return (re_psum(eiSz_noidx_1())).simplify()\n",
    "\n",
    "def cosSz_noidx_3():\n",
    "    \"\"\"Cosine function for sum of 3 Sz (3 rotators system) gauge theory (w/o fermions)\n",
    "    Input args.: class_H.alpha - numerical coefficient\"\"\"\n",
    "    ei1 = eiSz_noidx_1()\n",
    "    r1 = (re_psum(ei1)).simplify()\n",
    "    i1 = (im_psum(ei1)).simplify()\n",
    "    arg = r1 ^ r1 ^ r1\n",
    "    arg -= r1 ^ i1 ^ i1\n",
    "    arg -= i1 ^ r1 ^ i1\n",
    "    arg -= i1 ^ i1 ^ r1\n",
    "    return arg"
   ]
  },
  {
   "cell_type": "code",
   "execution_count": 177,
   "metadata": {},
   "outputs": [
    {
     "data": {
      "text/plain": [
       "array([[0.30901699-0.95105652j, 0.        +0.j        ,\n",
       "        0.        +0.j        , 0.        +0.j        ],\n",
       "       [0.        +0.j        , 1.        +0.j        ,\n",
       "        0.        +0.j        , 0.        +0.j        ],\n",
       "       [0.        +0.j        , 0.        +0.j        ,\n",
       "        1.        +0.j        , 0.        +0.j        ],\n",
       "       [0.        +0.j        , 0.        +0.j        ,\n",
       "        0.        +0.j        , 0.30901699+0.95105652j]])"
      ]
     },
     "execution_count": 177,
     "metadata": {},
     "output_type": "execute_result"
    }
   ],
   "source": [
    "compute_matrix_exponential(class_H.str_to_pauli(class_H._r_c()[1], class_H._n_qubits_g()),1j*class_H.alpha)"
   ]
  },
  {
   "cell_type": "code",
   "execution_count": null,
   "metadata": {},
   "outputs": [],
   "source": []
  },
  {
   "cell_type": "code",
   "execution_count": 128,
   "metadata": {},
   "outputs": [
    {
     "data": {
      "text/plain": [
       "array([[0.30901699-0.95105652j, 0.        +0.j        ,\n",
       "        0.        +0.j        , 0.        +0.j        ],\n",
       "       [0.        +0.j        , 1.        +0.j        ,\n",
       "        0.        +0.j        , 0.        +0.j        ],\n",
       "       [0.        +0.j        , 0.        +0.j        ,\n",
       "        1.        +0.j        , 0.        +0.j        ],\n",
       "       [0.        +0.j        , 0.        +0.j        ,\n",
       "        0.        +0.j        , 0.30901699+0.95105652j]])"
      ]
     },
     "execution_count": 128,
     "metadata": {},
     "output_type": "execute_result"
    }
   ],
   "source": [
    "eiSz_noidx_1().to_matrix()"
   ]
  },
  {
   "cell_type": "code",
   "execution_count": 130,
   "metadata": {},
   "outputs": [
    {
     "data": {
      "text/plain": [
       "SparsePauliOp(['II', 'IZ', 'ZI', 'ZZ'],\n",
       "              coeffs=[ 0.6545085+0.j        ,  0.       -0.47552826j,  0.       -0.47552826j,\n",
       " -0.3454915+0.j        ])"
      ]
     },
     "execution_count": 130,
     "metadata": {},
     "output_type": "execute_result"
    }
   ],
   "source": [
    "eiSz_noidx_1()"
   ]
  },
  {
   "cell_type": "code",
   "execution_count": 188,
   "metadata": {},
   "outputs": [],
   "source": [
    "ei_rc = SparsePauliOp.from_operator(Operator(compute_matrix_exponential(class_H.str_to_pauli(class_H._r_c()[1], class_H._n_qubits_g()),1j*class_H.alpha)))"
   ]
  },
  {
   "cell_type": "code",
   "execution_count": 139,
   "metadata": {},
   "outputs": [
    {
     "data": {
      "text/plain": [
       "SparsePauliOp(['II', 'ZZ'],\n",
       "              coeffs=[ 0.6545085+0.j, -0.3454915+0.j])"
      ]
     },
     "execution_count": 139,
     "metadata": {},
     "output_type": "execute_result"
    }
   ],
   "source": [
    "re_psum(ei_rc).simplify()"
   ]
  },
  {
   "cell_type": "code",
   "execution_count": 196,
   "metadata": {},
   "outputs": [
    {
     "data": {
      "text/plain": [
       "SparsePauliOp(['II', 'ZZ'],\n",
       "              coeffs=[ 0.6545085+0.j, -0.3454915+0.j])"
      ]
     },
     "execution_count": 196,
     "metadata": {},
     "output_type": "execute_result"
    }
   ],
   "source": [
    "cosSz_noidx_1()"
   ]
  },
  {
   "cell_type": "code",
   "execution_count": 305,
   "metadata": {},
   "outputs": [],
   "source": [
    "ei_class = class_H.matx_exp(class_H.str_to_pauli(class_H._r_c()[1], class_H._n_qubits_g()),1j*class_H.alpha)"
   ]
  },
  {
   "cell_type": "code",
   "execution_count": 306,
   "metadata": {},
   "outputs": [
    {
     "data": {
      "text/plain": [
       "SparsePauliOp(['IIIII', 'IIZZI', 'ZZIII', 'ZZZZI'],\n",
       "              coeffs=[ 0.42838137+0.j, -0.22612712+0.j, -0.22612712+0.j,  0.11936438+0.j])"
      ]
     },
     "execution_count": 306,
     "metadata": {},
     "output_type": "execute_result"
    }
   ],
   "source": [
    "#cos e ^I\n",
    "class_H.pauli_tens(class_H.cos_oper(ei_class),class_H.cos_oper(ei_class),class_H.I)"
   ]
  },
  {
   "cell_type": "code",
   "execution_count": 307,
   "metadata": {},
   "outputs": [
    {
     "data": {
      "text/plain": [
       "SparsePauliOp(['IIIII', 'IIZZI', 'IZIZI', 'IZZII', 'ZIIZI', 'ZIZII', 'ZZIII', 'ZZZZI'],\n",
       "              coeffs=[ 0.42838137+0.j, -0.22612712+0.j, -0.22612712+0.j, -0.22612712+0.j,\n",
       " -0.22612712+0.j, -0.22612712+0.j, -0.22612712+0.j,  0.11936438+0.j])"
      ]
     },
     "execution_count": 307,
     "metadata": {},
     "output_type": "execute_result"
    }
   ],
   "source": [
    "#cos (e^ I)\n",
    "class_H.cos_oper(class_H.pauli_tens(ei_class,ei_class,class_H.I)).simplify()"
   ]
  },
  {
   "cell_type": "code",
   "execution_count": 299,
   "metadata": {},
   "outputs": [
    {
     "name": "stdout",
     "output_type": "stream",
     "text": [
      "[3]\n",
      "SparsePauliOp(['IIIIIIIIII', 'IIZZIIIIII'],\n",
      "              coeffs=[ 0.6545085+0.j, -0.3454915+0.j])\n",
      "[0, 4] 0 4\n",
      "['ei_class', 'I', 'I', 'I', 'ei_class']\n",
      "['ei_class', 'I', 'I', 'I', 'ei_class']\n",
      "SparsePauliOp(['IIIIIIIIII', 'IIIIIIIIZZ', 'IZIIIIIIIZ', 'IZIIIIIIZI', 'ZIIIIIIIIZ', 'ZIIIIIIIZI', 'ZZIIIIIIII', 'ZZIIIIIIZZ'],\n",
      "              coeffs=[ 0.42838137+0.j, -0.22612712+0.j, -0.22612712+0.j, -0.22612712+0.j,\n",
      " -0.22612712+0.j, -0.22612712+0.j, -0.22612712+0.j,  0.11936438+0.j])\n",
      "[2, 1, 3] 1 3\n",
      "['ei_class', 'ei_class', 'ei_class']\n",
      "['I', 'ei_class', 'ei_class', 'ei_class', 'I']\n",
      "SparsePauliOp(['IIIIIIIIII', 'IIIIIIZZII', 'IIIIIZIZII', 'IIIIIZZIII', 'IIIIZIIZII', 'IIIIZIZIII', 'IIIIZZIIII', 'IIIIZZZZII', 'IIIZIIIZII', 'IIIZIIZIII', 'IIIZIZIIII', 'IIIZIZZZII', 'IIIZZIIIII', 'IIIZZIZZII', 'IIIZZZIZII', 'IIIZZZZIII', 'IIZIIIIZII', 'IIZIIIZIII', 'IIZIIZIIII', 'IIZIIZZZII', 'IIZIZIIIII', 'IIZIZIZZII', 'IIZIZZIZII', 'IIZIZZZIII', 'IIZZIIIIII', 'IIZZIIZZII', 'IIZZIZIZII', 'IIZZIZZIII', 'IIZZZIIZII', 'IIZZZIZIII', 'IIZZZZIIII', 'IIZZZZZZII'],\n",
      "              coeffs=[ 0.28037925+0.j, -0.14800212+0.j, -0.14800212+0.j, -0.14800212+0.j,\n",
      " -0.14800212+0.j, -0.14800212+0.j, -0.14800212+0.j,  0.078125  +0.j,\n",
      " -0.14800212+0.j, -0.14800212+0.j, -0.14800212+0.j,  0.078125  +0.j,\n",
      " -0.14800212+0.j,  0.078125  +0.j,  0.078125  +0.j,  0.078125  +0.j,\n",
      " -0.14800212+0.j, -0.14800212+0.j, -0.14800212+0.j,  0.078125  +0.j,\n",
      " -0.14800212+0.j,  0.078125  +0.j,  0.078125  +0.j,  0.078125  +0.j,\n",
      " -0.14800212+0.j,  0.078125  +0.j,  0.078125  +0.j,  0.078125  +0.j,\n",
      "  0.078125  +0.j,  0.078125  +0.j,  0.078125  +0.j, -0.04123938+0.j])\n",
      "[1, 4, 2, 0] 0 4\n",
      "['ei_class', 'I', 'ei_class', 'ei_class', 'ei_class']\n",
      "['ei_class', 'I', 'ei_class', 'ei_class', 'ei_class']\n",
      "SparsePauliOp(['IIIIIIIIII', 'IIIIIIIIZZ', 'IIIIIIIZIZ', 'IIIIIIIZZI', 'IIIIIIZIIZ', 'IIIIIIZIZI', 'IIIIIIZZII', 'IIIIIIZZZZ', 'IIIIIZIIIZ', 'IIIIIZIIZI', 'IIIIIZIZII', 'IIIIIZIZZZ', 'IIIIIZZIII', 'IIIIIZZIZZ', 'IIIIIZZZIZ', 'IIIIIZZZZI', 'IIIIZIIIIZ', 'IIIIZIIIZI', 'IIIIZIIZII', 'IIIIZIIZZZ', 'IIIIZIZIII', 'IIIIZIZIZZ', 'IIIIZIZZIZ', 'IIIIZIZZZI', 'IIIIZZIIII', 'IIIIZZIIZZ', 'IIIIZZIZIZ', 'IIIIZZIZZI', 'IIIIZZZIIZ', 'IIIIZZZIZI', 'IIIIZZZZII', 'IIIIZZZZZZ', 'IZIIIIIIIZ', 'IZIIIIIIZI', 'IZIIIIIZII', 'IZIIIIIZZZ', 'IZIIIIZIII', 'IZIIIIZIZZ', 'IZIIIIZZIZ', 'IZIIIIZZZI', 'IZIIIZIIII', 'IZIIIZIIZZ', 'IZIIIZIZIZ', 'IZIIIZIZZI', 'IZIIIZZIIZ', 'IZIIIZZIZI', 'IZIIIZZZII', 'IZIIIZZZZZ', 'IZIIZIIIII', 'IZIIZIIIZZ', 'IZIIZIIZIZ', 'IZIIZIIZZI', 'IZIIZIZIIZ', 'IZIIZIZIZI', 'IZIIZIZZII', 'IZIIZIZZZZ', 'IZIIZZIIIZ', 'IZIIZZIIZI', 'IZIIZZIZII', 'IZIIZZIZZZ', 'IZIIZZZIII', 'IZIIZZZIZZ', 'IZIIZZZZIZ', 'IZIIZZZZZI', 'ZIIIIIIIIZ', 'ZIIIIIIIZI', 'ZIIIIIIZII', 'ZIIIIIIZZZ', 'ZIIIIIZIII', 'ZIIIIIZIZZ', 'ZIIIIIZZIZ', 'ZIIIIIZZZI', 'ZIIIIZIIII', 'ZIIIIZIIZZ', 'ZIIIIZIZIZ', 'ZIIIIZIZZI', 'ZIIIIZZIIZ', 'ZIIIIZZIZI', 'ZIIIIZZZII', 'ZIIIIZZZZZ', 'ZIIIZIIIII', 'ZIIIZIIIZZ', 'ZIIIZIIZIZ', 'ZIIIZIIZZI', 'ZIIIZIZIIZ', 'ZIIIZIZIZI', 'ZIIIZIZZII', 'ZIIIZIZZZZ', 'ZIIIZZIIIZ', 'ZIIIZZIIZI', 'ZIIIZZIZII', 'ZIIIZZIZZZ', 'ZIIIZZZIII', 'ZIIIZZZIZZ', 'ZIIIZZZZIZ', 'ZIIIZZZZZI', 'ZZIIIIIIII', 'ZZIIIIIIZZ', 'ZZIIIIIZIZ', 'ZZIIIIIZZI', 'ZZIIIIZIIZ', 'ZZIIIIZIZI', 'ZZIIIIZZII', 'ZZIIIIZZZZ', 'ZZIIIZIIIZ', 'ZZIIIZIIZI', 'ZZIIIZIZII', 'ZZIIIZIZZZ', 'ZZIIIZZIII', 'ZZIIIZZIZZ', 'ZZIIIZZZIZ', 'ZZIIIZZZZI', 'ZZIIZIIIIZ', 'ZZIIZIIIZI', 'ZZIIZIIZII', 'ZZIIZIIZZZ', 'ZZIIZIZIII', 'ZZIIZIZIZZ', 'ZZIIZIZZIZ', 'ZZIIZIZZZI', 'ZZIIZZIIII', 'ZZIIZZIIZZ', 'ZZIIZZIZIZ', 'ZZIIZZIZZI', 'ZZIIZZZIIZ', 'ZZIIZZZIZI', 'ZZIIZZZZII', 'ZZIIZZZZZZ'],\n",
      "              coeffs=[ 0.1835106 +0.j, -0.09686865+0.j, -0.09686865+0.j, -0.09686865+0.j,\n",
      " -0.09686865+0.j, -0.09686865+0.j, -0.09686865+0.j,  0.05113348+0.j,\n",
      " -0.09686865+0.j, -0.09686865+0.j, -0.09686865+0.j,  0.05113348+0.j,\n",
      " -0.09686865+0.j,  0.05113348+0.j,  0.05113348+0.j,  0.05113348+0.j,\n",
      " -0.09686865+0.j, -0.09686865+0.j, -0.09686865+0.j,  0.05113348+0.j,\n",
      " -0.09686865+0.j,  0.05113348+0.j,  0.05113348+0.j,  0.05113348+0.j,\n",
      " -0.09686865+0.j,  0.05113348+0.j,  0.05113348+0.j,  0.05113348+0.j,\n",
      "  0.05113348+0.j,  0.05113348+0.j,  0.05113348+0.j, -0.02699152+0.j,\n",
      " -0.09686865+0.j, -0.09686865+0.j, -0.09686865+0.j,  0.05113348+0.j,\n",
      " -0.09686865+0.j,  0.05113348+0.j,  0.05113348+0.j,  0.05113348+0.j,\n",
      " -0.09686865+0.j,  0.05113348+0.j,  0.05113348+0.j,  0.05113348+0.j,\n",
      "  0.05113348+0.j,  0.05113348+0.j,  0.05113348+0.j, -0.02699152+0.j,\n",
      " -0.09686865+0.j,  0.05113348+0.j,  0.05113348+0.j,  0.05113348+0.j,\n",
      "  0.05113348+0.j,  0.05113348+0.j,  0.05113348+0.j, -0.02699152+0.j,\n",
      "  0.05113348+0.j,  0.05113348+0.j,  0.05113348+0.j, -0.02699152+0.j,\n",
      "  0.05113348+0.j, -0.02699152+0.j, -0.02699152+0.j, -0.02699152+0.j,\n",
      " -0.09686865+0.j, -0.09686865+0.j, -0.09686865+0.j,  0.05113348+0.j,\n",
      " -0.09686865+0.j,  0.05113348+0.j,  0.05113348+0.j,  0.05113348+0.j,\n",
      " -0.09686865+0.j,  0.05113348+0.j,  0.05113348+0.j,  0.05113348+0.j,\n",
      "  0.05113348+0.j,  0.05113348+0.j,  0.05113348+0.j, -0.02699152+0.j,\n",
      " -0.09686865+0.j,  0.05113348+0.j,  0.05113348+0.j,  0.05113348+0.j,\n",
      "  0.05113348+0.j,  0.05113348+0.j,  0.05113348+0.j, -0.02699152+0.j,\n",
      "  0.05113348+0.j,  0.05113348+0.j,  0.05113348+0.j, -0.02699152+0.j,\n",
      "  0.05113348+0.j, -0.02699152+0.j, -0.02699152+0.j, -0.02699152+0.j,\n",
      " -0.09686865+0.j,  0.05113348+0.j,  0.05113348+0.j,  0.05113348+0.j,\n",
      "  0.05113348+0.j,  0.05113348+0.j,  0.05113348+0.j, -0.02699152+0.j,\n",
      "  0.05113348+0.j,  0.05113348+0.j,  0.05113348+0.j, -0.02699152+0.j,\n",
      "  0.05113348+0.j, -0.02699152+0.j, -0.02699152+0.j, -0.02699152+0.j,\n",
      "  0.05113348+0.j,  0.05113348+0.j,  0.05113348+0.j, -0.02699152+0.j,\n",
      "  0.05113348+0.j, -0.02699152+0.j, -0.02699152+0.j, -0.02699152+0.j,\n",
      "  0.05113348+0.j, -0.02699152+0.j, -0.02699152+0.j, -0.02699152+0.j,\n",
      " -0.02699152+0.j, -0.02699152+0.j, -0.02699152+0.j,  0.01424785+0.j])\n"
     ]
    }
   ],
   "source": [
    "\n",
    "length = class_H.len_e_op\n",
    "for ei in hamiltonian_mag_sym_mbasis:\n",
    "    numbers = [list(e_op_dict_mbasis.keys()).index(e) for e in ei]\n",
    "    idx  = class_H.tensor_prod(class_H.I ,(class_H._n_qubits_g()))\n",
    "    if len(ei) == 1:# cos 1 operator is enough and rest is I\n",
    "        print(numbers)\n",
    "        cos1 = [class_H.cos_oper(ei_class) if i in numbers else class_H.tensor_prod(class_H.I ,(class_H._n_qubits_g())) for i in range(length)[::-1]] #inverse because little endian\n",
    "        print(class_H.pauli_tens(*cos1))\n",
    "    else:\n",
    "        #compute cos(e^I^e) combinations and tesnor product with additional I's to match length of the system #TODO add fermions\n",
    "        print(numbers,min(numbers),max(numbers))\n",
    "        print(['ei_class' if i in numbers else 'I' for i in range(length)[::-1]][min(numbers):max(numbers) + 1])\n",
    "        cosn = class_H.cos_oper(class_H.pauli_tens(*[ei_class if i in numbers else idx  for i in range(length)[::-1]][min(numbers):max(numbers) + 1])).simplify()\n",
    "        #print(cosn)\n",
    "        print(['I' for i in range(length)[::-1]][max(numbers) + 1:]+ ['ei_class' if i in numbers else 'I' for i in range(length)[::-1]][min(numbers):max(numbers) + 1]+ ['I' for i in range(length)[::-1]][:min(numbers)] )\n",
    "        print(class_H.pauli_tens(*[idx for i in range(length)[::-1]][max(numbers) + 1:]+ [cosn]+ [idx for i in range(length)[::-1]][:min(numbers)] ))\n",
    "        "
   ]
  },
  {
   "cell_type": "code",
   "execution_count": 227,
   "metadata": {},
   "outputs": [
    {
     "data": {
      "text/plain": [
       "dict_keys([E_11y, E_11x, E_10x, E_10y, E_01y])"
      ]
     },
     "execution_count": 227,
     "metadata": {},
     "output_type": "execute_result"
    }
   ],
   "source": [
    "e_op_dict_mbasis.keys()"
   ]
  },
  {
   "cell_type": "code",
   "execution_count": 148,
   "metadata": {},
   "outputs": [
    {
     "data": {
      "text/plain": [
       "SparsePauliOp(['IIIIII'],\n",
       "              coeffs=[0.+0.j])"
      ]
     },
     "execution_count": 148,
     "metadata": {},
     "output_type": "execute_result"
    }
   ],
   "source": [
    "(cosSz_noidx_3()-((class_H.pauli_tens(ei_rc,ei_rc,ei_rc)+class_H.pauli_tens(ei_rc,ei_rc,ei_rc).adjoint())/2)).simplify()"
   ]
  },
  {
   "cell_type": "code",
   "execution_count": 201,
   "metadata": {},
   "outputs": [
    {
     "data": {
      "text/plain": [
       "SparsePauliOp(['IIIIII'],\n",
       "              coeffs=[0.+0.j])"
      ]
     },
     "execution_count": 201,
     "metadata": {},
     "output_type": "execute_result"
    }
   ],
   "source": [
    "(cosSz_noidx_3()-class_H.cos_oper(class_H.pauli_tens(ei_rc,ei_rc,ei_rc))).simplify()"
   ]
  },
  {
   "cell_type": "code",
   "execution_count": 147,
   "metadata": {},
   "outputs": [
    {
     "data": {
      "text/plain": [
       "SparsePauliOp(['IIIIII', 'IIIIZZ', 'IIIZIZ', 'IIIZZI', 'IIZIIZ', 'IIZIZI', 'IIZZII', 'IIZZZZ', 'IZIIIZ', 'IZIIZI', 'IZIZII', 'IZIZZZ', 'IZZIII', 'IZZIZZ', 'IZZZIZ', 'IZZZZI', 'ZIIIIZ', 'ZIIIZI', 'ZIIZII', 'ZIIZZZ', 'ZIZIII', 'ZIZIZZ', 'ZIZZIZ', 'ZIZZZI', 'ZZIIII', 'ZZIIZZ', 'ZZIZIZ', 'ZZIZZI', 'ZZZIIZ', 'ZZZIZI', 'ZZZZII', 'ZZZZZZ'],\n",
       "              coeffs=[ 0.28037925+0.j, -0.14800212+0.j, -0.14800212+0.j, -0.14800212+0.j,\n",
       " -0.14800212+0.j, -0.14800212+0.j, -0.14800212+0.j,  0.078125  +0.j,\n",
       " -0.14800212+0.j, -0.14800212+0.j, -0.14800212+0.j,  0.078125  +0.j,\n",
       " -0.14800212+0.j,  0.078125  +0.j,  0.078125  +0.j,  0.078125  +0.j,\n",
       " -0.14800212+0.j, -0.14800212+0.j, -0.14800212+0.j,  0.078125  +0.j,\n",
       " -0.14800212+0.j,  0.078125  +0.j,  0.078125  +0.j,  0.078125  +0.j,\n",
       " -0.14800212+0.j,  0.078125  +0.j,  0.078125  +0.j,  0.078125  +0.j,\n",
       "  0.078125  +0.j,  0.078125  +0.j,  0.078125  +0.j, -0.04123938+0.j])"
      ]
     },
     "execution_count": 147,
     "metadata": {},
     "output_type": "execute_result"
    }
   ],
   "source": [
    "((class_H.pauli_tens(ei_rc,ei_rc,ei_rc)+class_H.pauli_tens(ei_rc,ei_rc,ei_rc).adjoint())/2).simplify()"
   ]
  },
  {
   "cell_type": "code",
   "execution_count": null,
   "metadata": {},
   "outputs": [
    {
     "data": {
      "text/plain": [
       "SparsePauliOp(['IIIIII', 'IIIZII', 'IIZIII', 'IIZZII'],\n",
       "              coeffs=[ 0.6545085+0.j        ,  0.       -0.47552826j,  0.       -0.47552826j,\n",
       " -0.3454915+0.j        ])"
      ]
     },
     "metadata": {},
     "output_type": "display_data"
    }
   ],
   "source": [
    "class_H.pauli_tens(class_H.tensor_prod(class_H.I,2),ei_rc,class_H.tensor_prod(class_H.I,2))"
   ]
  },
  {
   "cell_type": "code",
   "execution_count": 142,
   "metadata": {},
   "outputs": [
    {
     "data": {
      "text/plain": [
       "SparsePauliOp(['II', 'ZZ'],\n",
       "              coeffs=[ 0.6545085+0.j, -0.3454915+0.j])"
      ]
     },
     "execution_count": 142,
     "metadata": {},
     "output_type": "execute_result"
    }
   ],
   "source": [
    "((ei_rc + ei_rc.adjoint())/2).simplify()"
   ]
  },
  {
   "cell_type": "code",
   "execution_count": 16,
   "metadata": {},
   "outputs": [],
   "source": [
    "from sympy import Integer,Mul,Pow,Float,Symbol\n",
    "import math\n",
    "from qiskit.quantum_info import Operator"
   ]
  },
  {
   "cell_type": "code",
   "execution_count": null,
   "metadata": {},
   "outputs": [],
   "source": [
    "#TODO apply subs_hamilt_sym_to_pauli NCHE PER H_E VED funzione qua sotto"
   ]
  },
  {
   "cell_type": "code",
   "execution_count": 441,
   "metadata": {},
   "outputs": [],
   "source": [
    "def decompose_expression(expr):\n",
    "    \"\"\"Decompose a sympy expression into a list of symbols and powers.\"\"\"\n",
    "\n",
    "    if isinstance(expr, (Symbol,Pow,Float,Integer)):\n",
    "        return [expr]\n",
    "    elif isinstance(expr, Mul):\n",
    "        terms = expr.as_ordered_factors()\n",
    "        result = [t if isinstance(t, (Symbol, Pow)) else t for t in terms]\n",
    "        return result\n",
    "    else:\n",
    "        raise ValueError(\"Invalid expression type\")"
   ]
  },
  {
   "cell_type": "code",
   "execution_count": 259,
   "metadata": {},
   "outputs": [],
   "source": [
    "from sympy import Symbol,expand,lambdify,symbols,simplify\n",
    "\n",
    "import re"
   ]
  },
  {
   "attachments": {},
   "cell_type": "markdown",
   "metadata": {},
   "source": [
    "#### lattice and ED spectrum"
   ]
  },
  {
   "cell_type": "code",
   "execution_count": 291,
   "metadata": {},
   "outputs": [],
   "source": [
    "#NEW PAULI rules:\n",
    "#SparsePauliOp @ only with other SparsePauliOp\n",
    "#Pauli @ only with other Pauli\n",
    "# tensor ^ only between Pauli not with numbers like before that I^2 ==II . not working anymore"
   ]
  },
  {
   "cell_type": "code",
   "execution_count": 468,
   "metadata": {},
   "outputs": [
    {
     "data": {
      "image/png": "[encoded data removed]",
      "text/plain": [
       "<Figure size 576x432 with 1 Axes>"
      ]
     },
     "metadata": {},
     "output_type": "display_data"
    }
   ],
   "source": [
    "latt.draw_graph_func(gauss_law_fig=False)#,savefig_dir='.')"
   ]
  },
  {
   "cell_type": "code",
   "execution_count": 469,
   "metadata": {},
   "outputs": [
    {
     "data": {
      "image/png": "[encoded data removed]",
      "text/plain": [
       "<Figure size 576x432 with 1 Axes>"
      ]
     },
     "metadata": {},
     "output_type": "display_data"
    }
   ],
   "source": [
    "#only dynamical fields after Gauss law applied\n",
    "latt.draw_graph_func(gauss_law_fig=True,e_op_free=class_H.e_op_free)#,savefig_dir='.')"
   ]
  },
  {
   "cell_type": "code",
   "execution_count": 462,
   "metadata": {},
   "outputs": [
    {
     "data": {
      "text/plain": [
       "5"
      ]
     },
     "execution_count": 462,
     "metadata": {},
     "output_type": "execute_result"
    }
   ],
   "source": [
    "len(class_H.e_op_free)"
   ]
  },
  {
   "cell_type": "code",
   "execution_count": 471,
   "metadata": {},
   "outputs": [],
   "source": [
    "import scipy.sparse as sp\n",
    "Hamiltonian_Pauli_tot = class_H.get_hamiltonian(g_var=g, m_var=m, omega=omega,fact_b_op=fact_b_op,fact_e_op=fact_b_op,lambd=lambd)\n",
    "\n",
    "if encoding=='gray':\n",
    "    Hamiltonian_Pauli_tot = Hamiltonian_Pauli_tot.to_matrix(sparse=True)\n",
    "elif encoding=='ed':\n",
    "    Hamiltonian_Pauli_tot = sp.csr_matrix(Hamiltonian_Pauli_tot)\n"
   ]
  },
  {
   "cell_type": "code",
   "execution_count": 472,
   "metadata": {},
   "outputs": [
    {
     "name": "stdout",
     "output_type": "stream",
     "text": [
      "Spectrum of H with pbcTrue_g1_l1_factE1_factB1_m3_Omega1_TNFalse\n",
      "E_0= -7.30371524\n",
      "E_1= -6.55004296\n",
      "E_2= -6.53959578\n",
      "E_3= -6.49182022\n",
      "E_4= -6.47101449\n"
     ]
    }
   ],
   "source": [
    "\n",
    "h_b_sparse = class_H.hamiltonian_mag_pauli.to_matrix(sparse=True) if encoding=='gray' else sp.csr_matrix(class_H.hamiltonian_mag_pauli)\n",
    "spectrum, eigenvectors_matrix = eigsh(Hamiltonian_Pauli_tot,k=num_eigs,which=\"SA\",ncv = 30)#\n",
    "\n",
    "idx = spectrum.argsort() \n",
    "spectrum = spectrum[idx]\n",
    "eigenvectors_matrix = eigenvectors_matrix[:,idx]\n",
    "print(f'Spectrum of H with pbc{pbc}_g{g}_l{l}_factE{fact_e_op}_factB{fact_b_op}_m{m}_Omega{omega}_TN{tn_comparison}')\n",
    "eig0cj = eigenvectors_matrix[:,0].conj().T\n",
    "eig0= eigenvectors_matrix[:,0]\n",
    "plaq = (eig0cj.dot((h_b_sparse).dot(eig0)).real)/len(latt.plaq_list) \n",
    "\n",
    "for kk,evalu in enumerate(spectrum):\n",
    "        if evalu<900:# only physical states, 1000 corresponds to factor of penalty term\n",
    "                print(f'E_{kk}=',round(evalu,8))\n",
    "                \n",
    "                         "
   ]
  },
  {
   "cell_type": "code",
   "execution_count": null,
   "metadata": {},
   "outputs": [],
   "source": [
    "#test ok \n",
    "Spectrum of H with pbcFalse_g1_l1_factE1_factB1_m3_Omega1_TNFalse\n",
    "E_0= -0.43669289\n",
    "E_1= 1.62553669\n",
    "E_2= 1.98787437\n",
    "E_3= 2.0\n",
    "E_4= 2.0\n",
    "\n",
    "Spectrum of H with pbcFalse_g1_l1_factE1_factB1_m3_Omega1_TNFalse\n",
    "E_0= -9.69594846\n",
    "E_1= -7.62047749\n",
    "E_2= -7.27194179\n",
    "E_3= -7.24864153\n",
    "E_4= -7.22617728\n",
    "\n",
    "Spectrum of H with pbcTrue_g1_l1_factE1_factB1_m3_Omega1_TNFalse\n",
    "E_0= -7.30371524\n",
    "E_1= -6.55004296\n",
    "E_2= -6.53959578\n",
    "E_3= -6.49182022\n",
    "E_4= -6.47101449"
   ]
  },
  {
   "cell_type": "code",
   "execution_count": null,
   "metadata": {},
   "outputs": [],
   "source": [
    "Spectrum of H with pbcTrue_g1_l1_factE1_factB1_m3_Omega1_TNTrue\n",
    "E_0= -7.27136676\n",
    "E_1= -6.37424805\n",
    "E_2= -6.37396764\n",
    "E_3= -6.3669531\n",
    "E_4= -6.36507155\n",
    "\n",
    "Spectrum of H with pbcTrue_g1_l1_factE1_factB1_m3_Omega1_phase_hkTrue_TNFalse\n",
    "E_0= -7.30371524\n",
    "E_1= -6.55004296\n",
    "E_2= -6.53959578"
   ]
  },
  {
   "cell_type": "code",
   "execution_count": 223,
   "metadata": {},
   "outputs": [
    {
     "data": {
      "text/plain": [
       "0.4564902027748994"
      ]
     },
     "execution_count": 223,
     "metadata": {},
     "output_type": "execute_result"
    }
   ],
   "source": [
    "plaq"
   ]
  },
  {
   "cell_type": "code",
   "execution_count": null,
   "metadata": {},
   "outputs": [],
   "source": []
  }
 ],
 "metadata": {
  "kernelspec": {
   "display_name": "qiskit",
   "language": "python",
   "name": "python3"
  },
  "language_info": {
   "codemirror_mode": {
    "name": "ipython",
    "version": 3
   },
   "file_extension": ".py",
   "mimetype": "text/x-python",
   "name": "python",
   "nbconvert_exporter": "python",
   "pygments_lexer": "ipython3",
   "version": "3.9.6"
  },
  "vscode": {
   "interpreter": {
    "hash": "9732f19cd5dfd89c376a93c0ebf365daafb0a064118a63241088cb5e478d8ce2"
   }
  }
 },
 "nbformat": 4,
 "nbformat_minor": 2
}
