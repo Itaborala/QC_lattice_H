{
 "cells": [
  {
   "attachments": {},
   "cell_type": "markdown",
   "metadata": {},
   "source": [
    "# Test of Ansaetze with structure. "
   ]
  },
  {
   "attachments": {},
   "cell_type": "markdown",
   "metadata": {},
   "source": [
    "VQD runs without shot noise"
   ]
  },
  {
   "cell_type": "code",
   "execution_count": 1,
   "metadata": {},
   "outputs": [],
   "source": [
    "import qiskit"
   ]
  },
  {
   "cell_type": "code",
   "execution_count": 2,
   "metadata": {},
   "outputs": [
    {
     "data": {
      "text/plain": [
       "'0.25.1'"
      ]
     },
     "execution_count": 2,
     "metadata": {},
     "output_type": "execute_result"
    }
   ],
   "source": [
    "qiskit.__version__"
   ]
  },
  {
   "cell_type": "code",
   "execution_count": 3,
   "metadata": {},
   "outputs": [],
   "source": [
    "%load_ext autoreload\n",
    "%autoreload 2"
   ]
  },
  {
   "cell_type": "code",
   "execution_count": 4,
   "metadata": {},
   "outputs": [],
   "source": [
    "from scipy.sparse.linalg import eigsh\n",
    "from qiskit.quantum_info import Statevector\n",
    "import numpy as np\n",
    "import matplotlib.pyplot as plt\n",
    "import sys\n",
    "sys.path.append(\"../\") # go to parent dir\n",
    "from itertools import permutations,product\n",
    "from tqdm.notebook import tqdm\n",
    "import datetime"
   ]
  },
  {
   "cell_type": "code",
   "execution_count": 5,
   "metadata": {},
   "outputs": [
    {
     "name": "stderr",
     "output_type": "stream",
     "text": [
      "/var/folders/08/fx8gnyrx18jggry6_s4cbtz40000gn/T/ipykernel_1085/2428390827.py:5: DeprecationWarning: Please use `aslinearoperator` from the `scipy.sparse.linalg` namespace, the `scipy.sparse.linalg.interface` namespace is deprecated.\n",
      "  import primme\n"
     ]
    }
   ],
   "source": [
    "from Hamiltonian_QED_sym import HamiltonianQED_sym\n",
    "from Hamiltonian_QED_oprt import HamiltonianQED_oprt\n",
    "from HC_Lattice import HCLattice\n",
    "from Ansaetze import Ansatz\n",
    "import primme"
   ]
  },
  {
   "cell_type": "code",
   "execution_count": 464,
   "metadata": {},
   "outputs": [],
   "source": [
    "from Observables import *"
   ]
  },
  {
   "cell_type": "code",
   "execution_count": 71,
   "metadata": {},
   "outputs": [],
   "source": [
    "#Qiskit import\n",
    "from qiskit import QuantumCircuit, QuantumRegister,ClassicalRegister\n",
    "from qiskit.quantum_info import Statevector\n",
    "from qiskit.visualization import plot_histogram\n",
    "from qiskit.circuit import Parameter\n",
    "import qiskit.quantum_info as qinf\n",
    "from qiskit.primitives import Sampler, Estimator\n",
    "#from qiskit_ibm_runtime import Estimator, Session, QiskitRuntimeService, Options\n",
    "from qiskit_algorithms.state_fidelities import ComputeUncompute\n",
    "from qiskit.quantum_info import SparsePauliOp, Pauli, Operator\n",
    "from sys import stdout\n",
    "from qiskit_algorithms.optimizers import NFT,SLSQP,COBYLA,ADAM,SPSA,QNSPSA,CG,GradientDescent\n",
    "from qiskit.quantum_info.states import DensityMatrix\n",
    "import qiskit.quantum_info as qinf\n",
    "from qiskit.quantum_info import entropy\n",
    "from qiskit_algorithms.eigensolvers import VQD\n",
    "from qiskit_algorithms.minimum_eigensolvers import VQE\n"
   ]
  },
  {
   "cell_type": "code",
   "execution_count": 7,
   "metadata": {},
   "outputs": [],
   "source": [
    "from qiskit_ibm_provider import IBMProvider"
   ]
  },
  {
   "cell_type": "code",
   "execution_count": 9,
   "metadata": {},
   "outputs": [],
   "source": [
    "from qiskit_ibm_provider import IBMProvider\n",
    "# Load a previously saved account.\n",
    "provider = IBMProvider(instance='ibm-q-desy/internal/simulators')"
   ]
  },
  {
   "cell_type": "code",
   "execution_count": 41,
   "metadata": {},
   "outputs": [],
   "source": [
    "backend = provider.get_backend(\"ibmq_qasm_simulator\")"
   ]
  },
  {
   "cell_type": "code",
   "execution_count": 42,
   "metadata": {},
   "outputs": [
    {
     "data": {
      "text/plain": [
       "<IBMBackend('ibmq_qasm_simulator')>"
      ]
     },
     "execution_count": 42,
     "metadata": {},
     "output_type": "execute_result"
    }
   ],
   "source": [
    "#runtime\n",
    "# # The IBM Qiskit Runtime\n",
    "# from qiskit_ibm_runtime import QiskitRuntimeService\n",
    "# from qiskit_ibm_runtime import Estimator, Session\n",
    "# service = QiskitRuntimeService(\n",
    "# \tchannel='ibm_quantum',instance='ibm-q-desy/internal/simulators')\n",
    "# backend = service.get_backend(\"ibmq_qasm_simulator\");backend"
   ]
  },
  {
   "cell_type": "code",
   "execution_count": 43,
   "metadata": {},
   "outputs": [],
   "source": [
    "# from qiskit_ibm_runtime import Options,Sampler"
   ]
  },
  {
   "attachments": {},
   "cell_type": "markdown",
   "metadata": {},
   "source": [
    "##### Functions"
   ]
  },
  {
   "cell_type": "code",
   "execution_count": 93,
   "metadata": {},
   "outputs": [],
   "source": [
    "def fidelity_func(myvqd_results2,eigenvectors_matrix,num_eigs):\n",
    "\n",
    "    \"\"\" Inputs; results from VQD and eigenvector matrix from ED. Update to Qiskit version 0.24.1\"\"\"\n",
    "    \n",
    "    vqd_states = [myvqd_results2.optimal_circuits[i].bind_parameters(myvqd_results2.optimal_parameters[i].values()) for i in range(num_eigs)]\n",
    "\n",
    "    vqd_fid_states =[qinf.Statevector.from_instruction(i) for i in vqd_states]\n",
    "    ed_fid_states =[Statevector(eigenvectors_matrix[:,i]) for i in range(num_eigs)]\n",
    "\n",
    "    return [qinf.state_fidelity(vqd,ed) for vqd,ed in zip(vqd_fid_states,ed_fid_states)]"
   ]
  },
  {
   "cell_type": "code",
   "execution_count": 94,
   "metadata": {},
   "outputs": [],
   "source": [
    "def fidelity_func_e(vqd,ed,index_ed,index_vqd):\n",
    "\n",
    "    \"\"\" Inputs; results from VQD and eigenvector matrix from ED. Update to Qiskit version 0.24.1\"\"\"\n",
    "    \n",
    "    vqd_states = vqd.optimal_circuits[index_vqd].bind_parameters(vqd.optimal_parameters[index_vqd].values())\n",
    "\n",
    "    vqd_fid_states =qinf.Statevector.from_instruction(vqd_states)\n",
    "    ed_fid_states =Statevector(ed[:,index_ed]) \n",
    "\n",
    "    return qinf.state_fidelity(vqd_fid_states,ed_fid_states)"
   ]
  },
  {
   "attachments": {},
   "cell_type": "markdown",
   "metadata": {},
   "source": [
    "##### Hamiltonian"
   ]
  },
  {
   "cell_type": "code",
   "execution_count": 668,
   "metadata": {},
   "outputs": [],
   "source": [
    "#class input parameters:\n",
    "n_sites = [2,2]#how many sites for every dimension\n",
    "g=1\n",
    "fact_e_op = 1\n",
    "fact_b_op = 1\n",
    "m=-2\n",
    "omega=1\n",
    "l=1\n",
    "L=4\n",
    "rotors = False\n",
    "lambd = 1000\n",
    "encoding = 'gray' ##'ed'#\n",
    "magnetic_basis=False\n",
    "pbc=True\n",
    "puregauge = True \n",
    "static_charges_values =None#{(0,0):1,(1,0):-1}#TODO: no conditions applied, like charge conservation, etc. For conditions see func_qstatic_dist\n",
    "display_hamiltonian=False\n",
    "e_op_out_plus=False #if E out of site n has plus sign \n",
    "sparse_pauli =False #false for circuit ansatz\n",
    "#exact diagonalisation parameters:\n",
    "threshold = 1e-12\n",
    "num_eigs = 2"
   ]
  },
  {
   "cell_type": "code",
   "execution_count": 669,
   "metadata": {},
   "outputs": [],
   "source": [
    "latt = HCLattice(n_sites,pbc=pbc)"
   ]
  },
  {
   "cell_type": "code",
   "execution_count": 670,
   "metadata": {},
   "outputs": [
    {
     "name": "stdout",
     "output_type": "stream",
     "text": [
      "HamiltonianQED_sym: Initializing...\n",
      "> Gauss law equations solved\n",
      "> e_op_free and u_op_free built\n",
      ">> Gauss law applied and Hamiltonian built.  Execution time: 0.009538650512695312 seconds\n",
      "HamiltonianQED_oprt: Initializing...\n",
      "> e_op_free and u_op_free built\n",
      "> Pauli strings built\n",
      ">> Hamiltonian built.  Execution time: 10.590226888656616 seconds\n",
      ">> Suppression term built.  Execution time: 0.0033540725708007812 seconds\n"
     ]
    }
   ],
   "source": [
    "hamilt_sym = HamiltonianQED_sym(\n",
    "                        latt,\n",
    "                        n_sites,\n",
    "                        l,\n",
    "                        ll=L,\n",
    "                        encoding = encoding,\n",
    "                        rotors=rotors,\n",
    "                        magnetic_basis=magnetic_basis,\n",
    "                        pbc=pbc,\n",
    "                        puregauge=puregauge,\n",
    "                        static_charges_values=static_charges_values,\n",
    "                        e_op_out_plus = e_op_out_plus,\n",
    "                        display_hamiltonian=display_hamiltonian)\n",
    "\n",
    "class_H_oprt = HamiltonianQED_oprt(\n",
    "                        latt,\n",
    "                        hamilt_sym,\n",
    "                        n_sites,\n",
    "                        l,\n",
    "                        ll=L,\n",
    "                        encoding = encoding,\n",
    "                        rotors=rotors,\n",
    "                        magnetic_basis=magnetic_basis,\n",
    "                        pbc=pbc,\n",
    "                        puregauge=puregauge,\n",
    "                        static_charges_values=static_charges_values,\n",
    "                        e_op_out_plus = e_op_out_plus,\n",
    "                        sparse_pauli=sparse_pauli)"
   ]
  },
  {
   "attachments": {},
   "cell_type": "markdown",
   "metadata": {},
   "source": [
    "##### Lattice system"
   ]
  },
  {
   "cell_type": "code",
   "execution_count": 671,
   "metadata": {},
   "outputs": [
    {
     "data": {
      "image/png": "[encoded data removed]",
      "text/plain": [
       "<Figure size 576x432 with 1 Axes>"
      ]
     },
     "metadata": {},
     "output_type": "display_data"
    }
   ],
   "source": [
    "\n",
    "#latt.draw_graph_func(gauss_law_fig=False,static_charges=static_charges_values)\n",
    "#only dynamical fields after Gauss law applied\n",
    "latt.draw_graph_func(gauss_law_fig=True,e_op_free=class_H_oprt.e_op_free)#,savefig_dir='.')"
   ]
  },
  {
   "cell_type": "code",
   "execution_count": 672,
   "metadata": {},
   "outputs": [
    {
     "data": {
      "text/plain": [
       "[U_01y, U_10x, U_11x, U_10y, U_11y]"
      ]
     },
     "execution_count": 672,
     "metadata": {},
     "output_type": "execute_result"
    }
   ],
   "source": [
    "class_H_oprt.qop_list[::-1]+class_H_oprt.uop_list[::-1]#order of operators in tensor product and on circuit little endian ..q2q1q0"
   ]
  },
  {
   "cell_type": "code",
   "execution_count": 673,
   "metadata": {},
   "outputs": [
    {
     "name": "stdout",
     "output_type": "stream",
     "text": [
      "qubit0:U_11y\n",
      "qubit1:U_10y\n",
      "qubit2:U_11x\n",
      "qubit3:U_10x\n",
      "qubit4:U_01y\n",
      "qubit5:Phi_1\n",
      "qubit6:Phi_2\n",
      "qubit7:Phi_3\n",
      "qubit8:Phi_4\n",
      "or charges\n",
      "qubit0:U_11y\n",
      "qubit1:U_10y\n",
      "qubit2:U_11x\n",
      "qubit3:U_10x\n",
      "qubit4:U_01y\n"
     ]
    }
   ],
   "source": [
    "for i,k in enumerate(class_H_oprt.uop_list+class_H_oprt.phiop_list):\n",
    "    print(f'qubit{i}:{k}') \n",
    "\n",
    "print('or charges')\n",
    "for i,k in enumerate(class_H_oprt.uop_list+class_H_oprt.qop_list):\n",
    "    print(f'qubit{i}:{k}') "
   ]
  },
  {
   "attachments": {},
   "cell_type": "markdown",
   "metadata": {},
   "source": [
    "##### Fermionic circuit"
   ]
  },
  {
   "cell_type": "code",
   "execution_count": 237,
   "metadata": {},
   "outputs": [
    {
     "data": {
      "image/png": "[encoded data removed]",
      "text/plain": [
       "<Figure size 90.3x24.08 with 1 Axes>"
      ]
     },
     "execution_count": 237,
     "metadata": {},
     "output_type": "execute_result"
    }
   ],
   "source": [
    "ngauge = class_H_oprt.len_e_op\n",
    "if puregauge:\n",
    "    n_qubits_f = 0\n",
    "else:\n",
    "    n_qubits_f = np.prod(latt.n_sites)#TODO add fermionic part\n",
    "\n",
    "\n",
    "ansatz_class = Ansatz(l,ngauge,nfermions=n_qubits_f)\n",
    "\n",
    "qferm = QuantumRegister(n_qubits_f,name='ferm')\n",
    "qc_tot2 = QuantumCircuit(qferm)\n",
    "\n",
    "qc_tot2.compose(ansatz_class.qc_ferm,qferm,inplace=True)\n",
    "\n",
    "qc_tot2.draw('mpl')"
   ]
  },
  {
   "attachments": {},
   "cell_type": "markdown",
   "metadata": {},
   "source": [
    "##### Puregauge circuit"
   ]
  },
  {
   "cell_type": "code",
   "execution_count": 675,
   "metadata": {},
   "outputs": [
    {
     "name": "stdout",
     "output_type": "stream",
     "text": [
      "Total n.er of CNOT gates (Toffoli are decomposed): 290\n"
     ]
    }
   ],
   "source": [
    "ngauge = class_H_oprt.len_e_op\n",
    "if puregauge:\n",
    "    n_qubits_f = 0\n",
    "else:\n",
    "    n_qubits_f = np.prod(latt.n_sites)\n",
    "\n",
    "n_qubits =int(np.ceil(np.log2(2 * l+ 1)))\n",
    "\n",
    "ansatz_class = Ansatz(l,ngauge,nfermions=n_qubits_f)\n",
    "\n",
    "qgaug = QuantumRegister(n_qubits*ngauge,name='gaug')\n",
    "qc_tot2 = QuantumCircuit(qgaug)\n",
    "\n",
    "qc_tot2.compose(ansatz_class.qc_gauge,qgaug,inplace=True)\n",
    "\n",
    "th = ansatz_class.th_gauge+1\n",
    "for k in range(n_qubits*ngauge):\n",
    "    qc_tot2.rz(Parameter(f'theta_{th}'), k)\n",
    "    th+=1\n",
    "#print('Total depth',qc_tot2.depth())    \n",
    "print('Total n.er of CNOT gates (Toffoli are decomposed):',dict(qc_tot2.decompose().count_ops())['cx'])\n",
    "#qc_tot2.draw('mpl')\n"
   ]
  },
  {
   "attachments": {},
   "cell_type": "markdown",
   "metadata": {},
   "source": [
    "##### Composite circuit: gauge + fermions"
   ]
  },
  {
   "cell_type": "code",
   "execution_count": 17,
   "metadata": {},
   "outputs": [],
   "source": [
    "# #ansatz pure gauge no entanglement\n",
    "# nlayers = 1#TODO ATTENTION: selection of only physical states work only for nlayers=1\n",
    "# ngauge = class_H_oprt.len_e_op\n",
    "# nsites = 0#TODO add fermionic part\n",
    "# n_qubits =int(np.ceil(np.log2(2 * l+ 1)))\n",
    "# qc_tot = QuantumCircuit(n_qubits*ngauge+nsites)\n",
    "\n",
    "\n",
    "# th=0\n",
    "# #first gauge field\n",
    "# qcc,lst = gray_code_lim(l,theta=th,layers=nlayers)\n",
    "# qc_tot.compose(qcc,list(range(n_qubits)),inplace=True)\n",
    "\n",
    "# for i in range(1,ngauge):#for the other gauge fields\n",
    "#     theta = int(''.join(list(filter(str.isdigit, str(lst[-1])))))\n",
    "#     qcc,lst = gray_code_lim(l,theta=theta+1,layers=nlayers)\n",
    "#     qc_tot.compose(qcc,list(range(n_qubits*i,n_qubits*(i+1))),inplace=True)\n",
    "\n",
    "# th=int(''.join(list(filter(str.isdigit, str(lst[-1])))))+1\n",
    "# qc_tot.barrier()\n",
    "\n",
    "# #**entanglement**\n",
    "# #between the gauge fields\n",
    "# # for i in range(n_qubits):\n",
    "# #     for j in range(n_qubits,n_qubits*ngauge):\n",
    "# #         qc_tot.cx(i,j)\n",
    "\n",
    "# #linear entanglement cx gates\n",
    "# # for i in range(n_qubits*ngauge-1):\n",
    "# #     qc_tot.cx(i,i+1)\n",
    "\n",
    "\n",
    "# #full entanglement cx gates\n",
    "# # for i in range(n_qubits*ngauge):\n",
    "# #     for j in range(i+1,n_qubits*ngauge):\n",
    "# #         qc_tot.cx(i,j)\n",
    "\n",
    "# #qc_tot.draw('mpl')#,filename='gray_code_lim_l1.png')"
   ]
  },
  {
   "cell_type": "code",
   "execution_count": 60,
   "metadata": {},
   "outputs": [
    {
     "data": {
      "image/png": "[encoded data removed]",
      "text/plain": [
       "<Figure size 486.739x385.28 with 1 Axes>"
      ]
     },
     "execution_count": 60,
     "metadata": {},
     "output_type": "execute_result"
    }
   ],
   "source": [
    "#ansatz full entanglement\n",
    "nlayers = 1#TODO option more layers?\n",
    "nlayers_f = 1\n",
    "ngauge = class_H_oprt.len_e_op\n",
    "if puregauge:\n",
    "    n_qubits_f = 0\n",
    "else:\n",
    "    n_qubits_f = np.prod(latt.n_sites)#TODO add fermionic part\n",
    "\n",
    "n_qubits =int(np.ceil(np.log2(2 * l+ 1)))\n",
    "\n",
    "qferm = QuantumRegister(n_qubits_f,name='ferm')\n",
    "qgaug = QuantumRegister(n_qubits*ngauge,name='gaug')\n",
    "qc_tot2 = QuantumCircuit(qgaug,qferm)\n",
    "\n",
    "th=0\n",
    "#gauge part\n",
    "if ngauge:\n",
    "    qcc,lst = gray_code_lim(l,theta=th,layers=nlayers)\n",
    "    #first gauge field\n",
    "    qc_tot2.compose(qcc,list(range(n_qubits)),inplace=True)\n",
    "    # qc_tot2.barrier()\n",
    "    th=int(''.join(list(filter(str.isdigit, str(lst[-1])))))+1\n",
    "\n",
    "    for i in range(1,ngauge):\n",
    "        qc_tot2.ry(Parameter(f'theta_{th}'),n_qubits*i)\n",
    "        th+=1\n",
    "        for j in range(n_qubits*i):\n",
    "            qc_tot2.cry(Parameter(f'theta_{th}'),j,n_qubits*i)\n",
    "            th+=1\n",
    "        # qc_tot2.barrier()\n",
    "        qc_tot2.cry(Parameter(f'theta_{th}'),n_qubits*i,n_qubits*i+1)\n",
    "        th+=1\n",
    "        # qc_tot2.barrier()\n",
    "        #multi-controlled gates\n",
    "        for j in range(n_qubits*i):\n",
    "            qc_tot2.mcry(Parameter(f'theta_{th}'),[j,n_qubits*i],n_qubits*i+1)\n",
    "            th+=1\n",
    "\n",
    "#fermion circuit proposal\n",
    "p = Parameter('p')\n",
    "qc = QuantumCircuit(2,name='iSWAP')\n",
    "qc.rxx(p, 0, 1)\n",
    "qc.ryy(p, 0, 1)\n",
    "\n",
    "\n",
    "params = lambda i: Parameter(f'theta_{i}')\n",
    "\n",
    "#th=0\n",
    "\n",
    "for i in range(0,n_qubits_f,2):\n",
    "    qc_tot2.x(qferm[i])\n",
    "for nl in range(nlayers_f):\n",
    "    for j in range(n_qubits_f//2):\n",
    "        for i in range(j,n_qubits_f-j,2):\n",
    "            qc_tot2.append(qc.to_instruction({p: params(th)}), qferm[i:i+2])\n",
    "            th+=1\n",
    "\n",
    "#last layer of Rz gates for correct phase\n",
    "# for i in range(ngauge*n_qubits):\n",
    "#     qc_tot2.rz(Parameter(f'theta_{th}'),i)\n",
    "#     th+=1\n",
    "for i in range(n_qubits_f):\n",
    "    qc_tot2.rz(Parameter(f'theta_{th}'),qferm[i])\n",
    "    th+=1\n",
    "    \n",
    "qc_tot2.draw('mpl')#,filename='gray_code_lim_l1.png')\n",
    "#qc_tot2.decompose().draw('mpl')"
   ]
  },
  {
   "cell_type": "code",
   "execution_count": 323,
   "metadata": {},
   "outputs": [
    {
     "data": {
      "image/png": "[encoded data removed]",
      "text/plain": [
       "<Figure size 1028.68x626.08 with 1 Axes>"
      ]
     },
     "execution_count": 323,
     "metadata": {},
     "output_type": "execute_result"
    }
   ],
   "source": [
    "#ansatz entanglement\n",
    "nlayers = 1#TODO option more layers?\n",
    "ngauge = class_H_oprt.len_e_op\n",
    "if puregauge:\n",
    "    n_qubits_f = 0\n",
    "else:\n",
    "    n_qubits_f = np.prod(latt.n_sites)#TODO add fermionic part\n",
    "\n",
    "n_qubits =int(np.ceil(np.log2(2 * l+ 1)))\n",
    "\n",
    "qferm = QuantumRegister(n_qubits_f,name='ferm')\n",
    "qgaug = QuantumRegister(n_qubits*ngauge,name='gaug')\n",
    "qc_tot2 = QuantumCircuit(qgaug,qferm)\n",
    "\n",
    "th=0\n",
    "qc_tot2.barrier()\n",
    "#fermion circuit proposal\n",
    "p = Parameter('p')\n",
    "qc = QuantumCircuit(2,name='iSWAP')\n",
    "qc.rxx(p, 0, 1)\n",
    "qc.ryy(p, 0, 1)\n",
    "#qc.rzz(p, 0, 1)#TODO: only for NFT optimizer\n",
    "params = lambda i: Parameter(f'theta_{i}')\n",
    "\n",
    "#th=0\n",
    "for i in range(1,n_qubits_f,2):\n",
    "    qc_tot2.x(qferm[i])\n",
    "\n",
    "for j in range(n_qubits_f//2):\n",
    "    for i in range(j,n_qubits_f-j,2):\n",
    "            qc_tot2.append(qc.to_instruction({p: params(th)}), qferm[i:i+2])\n",
    "            th+=1\n",
    "\n",
    "#gauge part\n",
    "qc_tot2.ry(Parameter(f'theta_{th}'),0)\n",
    "th+=1\n",
    "#entangling with fermions 1st option\n",
    "# for j in range(2,6):\n",
    "#     qc_tot2.cry(Parameter(f'theta_{th}'),j,0)\n",
    "#     th+=1\n",
    "# for j in range(2,6):\n",
    "#     qc_tot2.mcry(Parameter(f'theta_{th}'),[0,j],1)\n",
    "#     th+=1\n",
    "\n",
    "#entangling with fermions 2nd option\n",
    "qc_tot2.cry(Parameter(f'theta_{th}'),3,0)\n",
    "th+=1\n",
    "qc_tot2.cry(Parameter(f'theta_{th}'),4,0)\n",
    "th+=1\n",
    "\n",
    "\n",
    "qc_tot2.cry(Parameter(f'theta_{th}'),0,1)\n",
    "th+=1\n",
    "\n",
    "qc_tot2.mcry(Parameter(f'theta_{th}'),[0,3],1)\n",
    "th+=1\n",
    "qc_tot2.mcry(Parameter(f'theta_{th}'),[0,4],1)\n",
    "th+=1\n",
    "\n",
    "# for i in range(ngauge*n_qubits):\n",
    "#     qc_tot2.rz(Parameter(f'theta_{th}'),i)\n",
    "#     th+=1\n",
    "\n",
    "for i in range(n_qubits_f):\n",
    "    qc_tot2.rz(Parameter(f'theta_{th}'),qferm[i])\n",
    "    th+=1\n",
    "\n",
    "qc_tot2.draw('mpl')#,filename='gray_code_lim_l1.png')\n",
    "#qc_tot2.decompose().draw('mpl')"
   ]
  },
  {
   "cell_type": "code",
   "execution_count": 22,
   "metadata": {},
   "outputs": [
    {
     "data": {
      "text/plain": [
       "15"
      ]
     },
     "execution_count": 22,
     "metadata": {},
     "output_type": "execute_result"
    }
   ],
   "source": [
    "qc_tot2.depth()"
   ]
  },
  {
   "attachments": {},
   "cell_type": "markdown",
   "metadata": {},
   "source": [
    "##### ED"
   ]
  },
  {
   "cell_type": "code",
   "execution_count": 676,
   "metadata": {},
   "outputs": [
    {
     "name": "stdout",
     "output_type": "stream",
     "text": [
      "spectrum ED: [-1.0066823  -0.26964819] plaq 0.46234511306441434\n"
     ]
    }
   ],
   "source": [
    "#ED\n",
    "import scipy.sparse as sp\n",
    "Hamiltonian_Pauli_tot = class_H_oprt.get_hamiltonian(g_var=g, m_var=m, omega=omega,fact_b_op=fact_b_op,fact_e_op=fact_b_op,lambd=lambd)\n",
    "#memory sparse matrix\n",
    "#print((Hamiltonian_Pauli_tot.data.nbytes + Hamiltonian_Pauli_tot.indptr.nbytes + Hamiltonian_Pauli_tot.indices.nbytes)/1000**3,'Gb')\n",
    "if encoding=='gray' and not sparse_pauli:\n",
    "    Hamiltonian_Pauli_tot = Hamiltonian_Pauli_tot.to_matrix(sparse=True)\n",
    "    if ngauge:\n",
    "        h_b_sparse = class_H_oprt.hamiltonian_mag_pauli.to_matrix(sparse=True) #plaquette\n",
    "    else:\n",
    "        h_b_sparse = 0 \n",
    "elif encoding=='ed':\n",
    "    Hamiltonian_Pauli_tot = sp.csr_matrix(Hamiltonian_Pauli_tot)\n",
    "    if ngauge:\n",
    "        h_b_sparse =sp.csr_matrix(class_H_oprt.hamiltonian_mag_pauli)\n",
    "    else:\n",
    "        h_b_sparse =0\n",
    "\n",
    "#** Exact diagonalisation\n",
    "spectrum, eigenvectors_matrix =primme.eigsh(Hamiltonian_Pauli_tot,k=num_eigs,which=\"SA\")#,ncv = 30)\n",
    "#spectrum\n",
    "idx = spectrum.argsort() \n",
    "spectrum = spectrum[idx]\n",
    "eigenvectors_matrix = eigenvectors_matrix[:,idx]\n",
    "\n",
    "# ed_val = []\n",
    "# for kk in range(num_eigs):\n",
    "#     ed_val.append(dict([(str(np.binary_repr(i, width = (ngauge*n_qubits+n_qubits_f))),np.abs(eigenvectors_matrix[:,kk][i])**2) for i in range(2**(ngauge*n_qubits+n_qubits_f)) if np.abs(eigenvectors_matrix[:,kk][i])**2>1e-10]))\n",
    "\n",
    "eig0cj = sp.csr_matrix(eigenvectors_matrix[:,0]).transpose().conjugate()\n",
    "eig0= sp.csr_matrix(eigenvectors_matrix[:,0])\n",
    "if ngauge:\n",
    "    plaq = (eig0*h_b_sparse*eig0cj/len(latt.plaq_list) ).toarray()[0][0].real\n",
    "    #same as: ((eig0cj.toarray()[:,0]).dot((h_b_sparse).dot((eig0.toarray()[0,:]))).real)/len(latt.plaq_list)\n",
    "print('spectrum ED:',spectrum,'plaq',plaq)\n",
    "#***** total charge\n",
    "if not puregauge:\n",
    "    tot_charge_op = total_charge_op(latt,class_H_oprt, puregauge,encoding).to_matrix(sparse=True) if encoding=='gray' else total_charge_op(latt,class_H_oprt, puregauge,encoding)\n",
    "    tot_charge  =  (eig0*tot_charge_op*eig0cj).toarray()[0][0].real\n",
    "    print('total charge <GS|Q|GS>:',np.round(tot_charge,8))\n",
    "    particle_n_op = particle_density(latt,class_H_oprt, puregauge,encoding).to_matrix(sparse=True) if encoding=='gray' else particle_density(latt,class_H_oprt, puregauge,encoding)\n",
    "    particle_n =  (eig0*particle_n_op*eig0cj/(np.prod(n_sites))).toarray()[0][0].real\n",
    "    print('particle_density:',particle_n)"
   ]
  },
  {
   "cell_type": "code",
   "execution_count": 130,
   "metadata": {},
   "outputs": [],
   "source": [
    "#plot_histogram(ed_val[0])#TODO: physical interpretation of the states?"
   ]
  },
  {
   "attachments": {},
   "cell_type": "markdown",
   "metadata": {},
   "source": [
    "##### Input parameteres circuit"
   ]
  },
  {
   "cell_type": "code",
   "execution_count": 507,
   "metadata": {},
   "outputs": [],
   "source": [
    "from time import perf_counter"
   ]
  },
  {
   "cell_type": "code",
   "execution_count": 677,
   "metadata": {},
   "outputs": [
    {
     "name": "stdout",
     "output_type": "stream",
     "text": [
      "Options(shots=1024, backend=<IBMBackend('ibmq_qasm_simulator')>)\n"
     ]
    }
   ],
   "source": [
    "#Input parameters for VQD\n",
    "\n",
    "estimator = Estimator()\n",
    "estimator.set_options(shots=1024,backend=backend)\n",
    "print(estimator.options)\n",
    "sampler = Sampler()\n",
    "fidelity = ComputeUncompute(sampler)\n",
    "\n",
    "aux_operators =[class_H_oprt.hamiltonian_mag_pauli,] if ngauge else None\n",
    "Hamiltonian_Pauli_tot_vqd = class_H_oprt.get_hamiltonian(g_var=g, m_var=m, omega=omega,fact_b_op=fact_b_op,fact_e_op=fact_b_op,lambd=0)\n",
    "\n",
    "\n",
    "iterations = [500 for i in range(num_eigs)]\n",
    "optimizer = [COBYLA(maxiter=itr) for itr in iterations] #SLSQP,COBYLA  #TODO: with NFT iSWAPS with also Rzz gates\n",
    "ansatz = qc_tot2\n",
    "betas = [2,]*(num_eigs-1)  #***default value computed as the mean square sum of the coefficients of the observable.\n",
    "\n",
    "#*** initial point\n",
    "val_init = np.pi/4\n",
    "#initial_point=[val_init*(2*np.random.rand(ansatz.num_parameters)-1.0) for kkk in range(num_eigs)]\n",
    "initial_point=val_init*(2*np.random.rand(ansatz.num_parameters)-1.0) \n",
    "\n",
    "#previous best\n",
    "#initial_point = [np.array(list(result.optimal_parameters[0].values())),]+[val_init*(2*np.random.rand(ansatz.num_parameters)-1.0) for kkk in range(num_eigs-1)]\n",
    "\n",
    "#predefined initial point vacuum\n",
    "#initial_point = {pa: np.pi if str(pa) in ('theta_3') else float(val_init*(2*np.random.rand(1))) for pa in ansatz.parameters}\n",
    "# initial_dict={pa: np.pi if str(pa) in ('theta_3', 'theta_4') else float(val_init*(2*np.random.rand(1))) for pa in ansatz.parameters}\n",
    "\n",
    "# indices = [int(str(param).split('_')[1]) for param in initial_dict.keys()]\n",
    "# for i,el in enumerate(indices):\n",
    "#     if el==3:\n",
    "#         indices[i]=np.pi\n",
    "#     else:\n",
    "#         indices[i]=float(val_init*(2*np.random.rand(1)))\n",
    "# initial_point= np.array(indices)"
   ]
  },
  {
   "cell_type": "code",
   "execution_count": 663,
   "metadata": {},
   "outputs": [],
   "source": [
    "# from qiskit_ibm_runtime import Estimator, Session, QiskitRuntimeService, Options#TODO runtime estimator does not work\n",
    "# options = Options()\n",
    "# options.optimization_level = 0 # No optimization, optimization_level=3 adds dynamical decoupling\n",
    "# options.execution.shots = 1024\n",
    "# options.resilience_level = 1 #1: T-Rex / 2: ZNE/ 3: PEC readout error mitigation\n",
    "# options.simulator={'noise_model':None}#noise_model}\n",
    "# options.transpilation.skip_transpilation = False\n",
    "# #options = Options(optimization_level=0, resilience_level=0)#,simulator={'noise_model':noise_model}) #noise model\n",
    "\n",
    "# #callback function\n",
    "# E_data = [[] for k in range(num_eigs)]\n",
    "# Fidelity = [[] for k in range(num_eigs)]\n",
    "# def callback(eval_count, parameters, mean, meta, step):\n",
    "#     stdout.write(\"eig: %d/%d -> its %4d \\r\"%(step,num_eigs,eval_count)) # assuming SPSA\n",
    "#     stdout.flush()\n",
    "\n",
    "#     #fidelity\n",
    "#     vqd_states = [ansatz.bind_parameters(parameters) for i in range(num_eigs)]\n",
    "#     vqd_fid_states =[qinf.Statevector.from_instruction(i) for i in vqd_states]\n",
    "#     ed_fid_states =[Statevector(eigenvectors_matrix[:,i]) for i in range(num_eigs)]\n",
    "#     Fidelity[step-1].append([qinf.state_fidelity(vqd,ed) for vqd,ed in zip(vqd_fid_states,ed_fid_states)])\n",
    "\n",
    "#     #energy\n",
    "#     E_data[step-1].append([len(E_data[step-1]),mean,meta])\n",
    "    \n",
    "# with Session(service=service, backend=backend,max_time='2h') as session:\n",
    "#     estimator = Estimator(session=session,options=options)\n",
    "#     sampler = Sampler(session=session,options=options )\n",
    "#     fidelity = ComputeUncompute(sampler)\n",
    "\n",
    "#     print(estimator.options)\n",
    "#         # run VQD\n",
    "#     from qiskit.algorithms.eigensolvers import VQD #or myvqd for VQD with extensions\n",
    "    \n",
    "#     start_time = perf_counter()\n",
    "#     #Perform VQD for Hamiltonian and plaquette operator\n",
    "#     vqd = VQD(estimator, fidelity, ansatz, optimizer, k=num_eigs, betas=betas,initial_point=initial_point,  callback=callback)\n",
    "#     result = vqd.compute_eigenvalues(operator = Hamiltonian_Pauli_tot_vqd,aux_operators = aux_operators)# Hamiltonian + auxiliary operator\n",
    "#     end_time = perf_counter()\n",
    "\n",
    "#     #session_id = session.session_id()\n",
    "#     #print([service.runtime.jobs(session_id=session_id)[i].result() for i in range(len(service.runtime.jobs(session_id=session_id)))])\n",
    "#     session.close()\n",
    "#     print('time computation',end_time-start_time)\n",
    "#     print(result.eigenvalues[0].real)\n",
    "#     time_cost_func_evals = [result.optimizer_times[i]/result.cost_function_evals[i]+1 for i in range(num_eigs)]\n",
    "#     print(f'Time for each cost function evaluation (tot evaluations={result.cost_function_evals}):',[f'E_{k}:s {time_cost_func_evals[k]} ' for k in range(num_eigs)] )\n",
    "    "
   ]
  },
  {
   "attachments": {},
   "cell_type": "markdown",
   "metadata": {},
   "source": [
    "### VQD"
   ]
  },
  {
   "cell_type": "code",
   "execution_count": 664,
   "metadata": {},
   "outputs": [
    {
     "name": "stdout",
     "output_type": "stream",
     "text": [
      "2023-10-01 20:16:00.970218 *** step E_0 data: [9, 6.8359927982774105, {'variance': 5.11201696158345, 'shots': 1024}] Fid.: [0.00855359377594564, 0.018452053277392293] \n",
      "\n",
      "2023-10-01 20:16:01.629845 *** step E_0 data: [19, 1.8957357607092635, {'variance': 1.7952856919272793, 'shots': 1024}] Fid.: [0.06648489677660706, 0.44893570059395965] \n",
      "\n",
      "2023-10-01 20:16:02.246016 *** step E_0 data: [29, 0.3948792577710942, {'variance': 3.186506911222038, 'shots': 1024}] Fid.: [0.7893009395071061, 0.002314205028887865] \n",
      "\n",
      "2023-10-01 20:16:02.867418 *** step E_0 data: [39, 0.32958571706924494, {'variance': 1.7459144078325952, 'shots': 1024}] Fid.: [0.6879101821139332, 0.08820233268187727] \n",
      "\n",
      "2023-10-01 20:16:03.515731 *** step E_0 data: [49, 0.2862576192373709, {'variance': 1.334232415350573, 'shots': 1024}] Fid.: [0.6989560439316906, 0.0928805511878215] \n",
      "\n",
      "2023-10-01 20:16:04.148055 *** step E_0 data: [59, 0.2234884092256322, {'variance': 1.3375822303981677, 'shots': 1024}] Fid.: [0.7200488913324999, 0.08190689392964358] \n",
      "\n",
      "2023-10-01 20:16:04.784245 *** step E_0 data: [69, 0.239644335795334, {'variance': 1.3286104482966483, 'shots': 1024}] Fid.: [0.7233895046564373, 0.08069132718940382] \n",
      "\n",
      "2023-10-01 20:16:05.472004 *** step E_0 data: [79, 0.26554729008343475, {'variance': 1.3374718864048358, 'shots': 1024}] Fid.: [0.7233418379903498, 0.08005829141785727] \n",
      "\n",
      "2023-10-01 20:16:06.136637 *** step E_0 data: [89, 0.20386454002776852, {'variance': 1.329897383396482, 'shots': 1024}] Fid.: [0.7237505707742476, 0.08014731646319301] \n",
      "\n",
      "2023-10-01 20:16:06.770389 *** step E_0 data: [99, 0.2240917451342035, {'variance': 1.3300086572258714, 'shots': 1024}] Fid.: [0.7232835784120828, 0.08041673559461897] \n",
      "\n",
      "2023-10-01 20:16:07.394256 *** step E_0 data: [109, 0.18648461861764454, {'variance': 1.3304597811586938, 'shots': 1024}] Fid.: [0.7232787131351458, 0.0804010974394069] \n",
      "\n",
      "2023-10-01 20:16:08.017511 *** step E_0 data: [119, 0.2384949121549415, {'variance': 1.3303114855810354, 'shots': 1024}] Fid.: [0.7232710546937338, 0.08041032722631204] \n",
      "\n",
      "2023-10-01 20:16:08.719535 *** step E_1 data: [9, 7.035315451635953, {'variance': 5.028600815703001, 'shots': 1024}] Fid.: [0.012849012423229032, 0.0014642086511529298] \n",
      "\n",
      "2023-10-01 20:16:09.371498 *** step E_1 data: [19, 2.329640605943381, {'variance': 2.600695026161427, 'shots': 1024}] Fid.: [0.3629004118708836, 0.04266808727868935] \n",
      "\n",
      "2023-10-01 20:16:10.019843 *** step E_1 data: [29, 1.9511798281899009, {'variance': 3.0718971306641105, 'shots': 1024}] Fid.: [0.5524758426649092, 0.09420941791053991] \n",
      "\n",
      "2023-10-01 20:16:10.675641 *** step E_1 data: [39, 1.6140626475275868, {'variance': 2.7012790224072356, 'shots': 1024}] Fid.: [0.6715513415678382, 0.005929813532479334] \n",
      "\n",
      "2023-10-01 20:16:11.357529 *** step E_1 data: [49, 1.4925219297748888, {'variance': 2.259146230756254, 'shots': 1024}] Fid.: [0.721655879646626, 0.015762553982204334] \n",
      "\n",
      "2023-10-01 20:16:12.115547 *** step E_1 data: [59, 1.4652597276894954, {'variance': 2.3337252257608037, 'shots': 1024}] Fid.: [0.7189051967782885, 0.014934497881611958] \n",
      "\n",
      "2023-10-01 20:16:12.820988 *** step E_1 data: [69, 1.5069454411974468, {'variance': 2.3497458075253643, 'shots': 1024}] Fid.: [0.7162947750311963, 0.016366389448849616] \n",
      "\n",
      "2023-10-01 20:16:13.487554 *** step E_1 data: [79, 1.4941313391484807, {'variance': 2.3496048800561464, 'shots': 1024}] Fid.: [0.7183991741783334, 0.01537683076514093] \n",
      "\n",
      "2023-10-01 20:16:14.178179 *** step E_1 data: [89, 1.5442840532339461, {'variance': 2.3453851385300912, 'shots': 1024}] Fid.: [0.7187328588102306, 0.015440686822810891] \n",
      "\n",
      "2023-10-01 20:16:14.860101 *** step E_1 data: [99, 1.540437138860061, {'variance': 2.34675102214901, 'shots': 1024}] Fid.: [0.7182379676105173, 0.0155829399822891] \n",
      "\n",
      "2023-10-01 20:16:15.535078 *** step E_1 data: [109, 1.4773754093551685, {'variance': 2.3467083172295653, 'shots': 1024}] Fid.: [0.7183002330612464, 0.01556688346837982] \n",
      "\n",
      "2023-10-01 20:16:16.280666 *** step E_1 data: [119, 1.4271025343321273, {'variance': 2.3468464004899316, 'shots': 1024}] Fid.: [0.7182749121674689, 0.015560360536965686] \n",
      "\n",
      "2023-10-01 20:16:16.951884 *** step E_1 data: [129, 1.599927936663542, {'variance': 2.346962529036665, 'shots': 1024}] Fid.: [0.7182755446138059, 0.0155629431144224] \n",
      "\n",
      "time computation 16.70556616599788\n",
      "[0.23849491+0.j 1.59992794+0.j]\n",
      "Time for each cost function evaluation (tot evaluations=[120 130]): ['E_0:s 1.0645746350288392 ', 'E_1:s 1.0685751603199884 ']\n"
     ]
    }
   ],
   "source": [
    "#with shotnoise\n",
    "#callback function on file\n",
    "def callback_file(eval_count, parameters, mean, meta, step):\n",
    "\n",
    "    stdout.write(\"eig: %d/%d -> its %4d \\r\"%(step,num_eigs,eval_count)) # assuming SPSA\n",
    "    stdout.flush()\n",
    "    #write on file every 10 evaluations\n",
    "    if eval_count%10==0:\n",
    "        with open('output.txt', 'a') as f:\n",
    "            f.write(str(step)+','+str(eval_count)+','+str(mean)+','+str(parameters)+'\\n')\n",
    "\n",
    "#callback function\n",
    "E_data = [[] for k in range(num_eigs)]\n",
    "Fidelity = [[] for k in range(num_eigs)]\n",
    "def callback(eval_count, parameters, mean, meta, step):\n",
    "    now = datetime.datetime.now()\n",
    "    # stdout.write(\"eig: %d/%d -> its %4d \\r\"%(step,num_eigs,eval_count)) # assuming SPSA\n",
    "    # stdout.flush()\n",
    "\n",
    "    #fidelity\n",
    "    vqd_states = [ansatz.bind_parameters(parameters) for i in range(num_eigs)]\n",
    "    vqd_fid_states =[qinf.Statevector.from_instruction(i) for i in vqd_states]\n",
    "    ed_fid_states =[Statevector(eigenvectors_matrix[:,i]) for i in range(num_eigs)]\n",
    "    Fidelity[step-1].append([qinf.state_fidelity(vqd,ed) for vqd,ed in zip(vqd_fid_states,ed_fid_states)])\n",
    "    #energy\n",
    "    E_data[step-1].append([len(E_data[step-1]),mean,meta])\n",
    "    if not len(E_data[step-1])%10:\n",
    "        print(now, \"*** step\" ,f'E_{step-1} data:',E_data[step-1][-1],'Fid.:',Fidelity[step-1][-1], \"\\n\",flush=True)\n",
    "\n",
    "\n",
    "start_time = perf_counter()\n",
    "#Perform VQD for Hamiltonian and plaquette operator\n",
    "vqd = VQD(estimator, fidelity, ansatz, optimizer, k=num_eigs, betas=betas,initial_point=initial_point,  callback=callback)\n",
    "result = vqd.compute_eigenvalues(operator = Hamiltonian_Pauli_tot_vqd,aux_operators = aux_operators)# Hamiltonian + auxiliary operator\n",
    "vqd_values = result.eigenvalues\n",
    "end_time = perf_counter()\n",
    "\n",
    "print('time computation',end_time-start_time)\n",
    "print(result.eigenvalues)\n",
    "time_cost_func_evals = [result.optimizer_times[i]/result.cost_function_evals[i]+1 for i in range(num_eigs)]\n",
    "print(f'Time for each cost function evaluation (tot evaluations={result.cost_function_evals}):',[f'E_{k}:s {time_cost_func_evals[k]} ' for k in range(num_eigs)] )\n",
    "\n",
    "#eigenvectors\n",
    "vqd2_eigenstates = []\n",
    "for i in range(num_eigs):\n",
    "    tmp = result.optimal_circuits[i].copy()\n",
    "    \n",
    "    tmp.measure_all()\n",
    "    opt_pt =list(result.optimal_parameters[i].values())\n",
    "    res = sampler.run(tmp, opt_pt).result() \n",
    "    \n",
    "    vqd2_eigenstates.append({x:round(y,6) for x,y in res.quasi_dists[0].binary_probabilities().items() if y>0.0001})\n",
    "    tmp.remove_final_measurements()\n",
    "\n",
    "if ngauge:\n",
    "    plaq_vqd = np.array(result.aux_operators_evaluated[0])[:,0][0]/len(latt.plaq_list)"
   ]
  },
  {
   "cell_type": "code",
   "execution_count": 665,
   "metadata": {},
   "outputs": [
    {
     "name": "stdout",
     "output_type": "stream",
     "text": [
      "E_i ED vs VQD test:2D_3x2mbasisFalse puregaugeTrue g1 pbcFalse l1_factE1_factB1_m-2_Omega1iterations[500, 500] optimizerCOBYLA\n",
      "E_0(ED)= -0.43669289\n",
      "E_0(VQD)= 0.2384949121549415\n",
      "E_1(ED)= 1.62553669\n",
      "E_1(VQD)= 1.599927936663542\n",
      "\n",
      " Plaq. ED: 0.38777667818947165 Plaq. VQD: 0.18373636685790357 \n",
      "\n",
      "Fidelity (|psi_VQDXpsi_ED|^2):\n",
      "E_0: 0.7232710546937338\n",
      "E_1: 0.0155629431144224\n",
      "Check if in VQD sol. there are unphysical states: Gauge fields: ['10'] Fermions: only zero charge are considered physical\n",
      "E_0 all physical states reached gauge fields: OK!\n",
      "E_1 all physical states reached gauge fields: OK!\n"
     ]
    }
   ],
   "source": [
    "print(f'E_i ED vs VQD test:{latt.dims}D_'+'x'.join(map(str,latt.n_sites))+f'mbasis{magnetic_basis} puregauge{puregauge} g{g} pbc{pbc} l{l}_factE{fact_e_op}_factB{fact_b_op}_m{m}_Omega{omega}iterations{iterations} optimizer'+\n",
    "[i for i in ['NFT','SLSQP','COBYLA','ADAM','SPSA','GradientDescent'] if i in str(optimizer[0])][0])\n",
    "\n",
    "#** Print results\n",
    "for kk,evalu in enumerate(spectrum):\n",
    "        if evalu<900:# only physical states, 1000 corresponds to factor of penalty term\n",
    "            print(f'E_{kk}(ED)=',round(evalu,8))#,[(str(np.binary_repr(i, width = (ngauge*n_qubits))),round(np.abs(eigenvectors_matrix[:,kk][i])**2,6)) for i in range(2**(ngauge*n_qubits)) if np.abs(eigenvectors_matrix[:,kk][i])**2>1e-4])\n",
    "            print(f'E_{kk}(VQD)=',vqd_values.real[kk])#,vqd2_eigenstates[kk])\n",
    "\n",
    "#** Plaquette operator\n",
    "print('\\n','Plaq. ED:',plaq,'Plaq. VQD:',plaq_vqd.real,'\\n')\n",
    "\n",
    "# #** Fidelity final\n",
    "fid=fidelity_func(result,eigenvectors_matrix,num_eigs)\n",
    "print('Fidelity (|psi_VQDXpsi_ED|^2):')\n",
    "[print(f'E_{i}:',fd) for i,fd in enumerate(fid)]\n",
    "\n",
    "\n",
    "#**Check if there are unphysical states\n",
    "gray_unph = []\n",
    "for i in range(2 * l + 1, 2**int(np.ceil(np.log2(2 * l+ 1)))):\n",
    "    gray_decimal = i ^ (i >> 1)\n",
    "    gray_unph.append(\"{0:0{1}b}\".format(gray_decimal,int(np.ceil(np.log2(2 * l+ 1)))))  \n",
    "\n",
    "ferm_q0 = [''.join(i) for i in permutations(['0','1']*(n_qubits//2),n_qubits)]\n",
    "\n",
    "print('Check if in VQD sol. there are unphysical states: Gauge fields:',gray_unph,'Fermions: only zero charge are considered physical')\n",
    "for i in range(num_eigs):\n",
    "    if ngauge:\n",
    "        for vqd_res in [string[-(ngauge*n_qubits):][i:i+int(np.ceil(np.log2(2 * l+ 1)))] for string in vqd2_eigenstates[i].keys() for i in range(0, len(string[-(ngauge*n_qubits):]), int(np.ceil(np.log2(2 * l+ 1))))]:\n",
    "            if vqd_res in gray_unph:\n",
    "                print('unphysical state reached for gauge fields')\n",
    "                break\n",
    "        else:   \n",
    "            print(f'E_{i} all physical states reached gauge fields: OK!')\n",
    "    if n_qubits_f:\n",
    "        for vqd_res in [string[:n_qubits_f] for string in vqd2_eigenstates[i].keys() ]:\n",
    "\n",
    "            if vqd_res in ferm_q0:\n",
    "                print('unphysical state reached for fermions')\n",
    "                break\n",
    "        else:   \n",
    "            print(f'E_{i} all physical states reached fermions: OK!')\n"
   ]
  },
  {
   "cell_type": "code",
   "execution_count": 666,
   "metadata": {},
   "outputs": [
    {
     "data": {
      "image/png": "[encoded data removed]",
      "text/plain": [
       "<Figure size 1080x504 with 4 Axes>"
      ]
     },
     "metadata": {
      "needs_background": "light"
     },
     "output_type": "display_data"
    }
   ],
   "source": [
    "\n",
    "fig,axes = plt.subplots(num_eigs,2,figsize=(15,7))\n",
    "\n",
    "for k in range(num_eigs):\n",
    "    #Energy\n",
    "    axes[k][0].plot([i[0] for i in E_data[k]],[i[1] for i in E_data[k]],label=f'E_{k} VQD')\n",
    "    axes[k][0].hlines(spectrum[k],0,E_data[k][-1][0],linestyles='dashed',color='black',label=f'E_{k} ED')\n",
    "\n",
    "    #Fidelity\n",
    "    axes[k][1].plot([i[0] for i in E_data[k]],[i[k] for i in Fidelity[k]],label=f'Fid E_{k}',color='green')\n",
    "    #fidelity max value 1 and min 0\n",
    "    axes[k][1].hlines(1,0,E_data[k][-1][0],linestyles='dashed',color='gray')\n",
    "    axes[k][1].hlines(0,0,E_data[k][-1][0],linestyles='dashed',color='gray')\n",
    "\n",
    "    axes[k][0].set_ylabel('Energy')\n",
    "    axes[k][1].set_ylabel('Fidelity')\n",
    "\n",
    "    for i in range(2):\n",
    "        axes[k][i].set_xlabel('Iterations')\n",
    "        axes[k][i].legend()\n",
    "\n",
    "#fig.savefig('ansatz_tests/'+f'Energy_Fidelity_ED_vs_VQD_test:{latt.dims}D_'+'x'.join(map(str,latt.n_sites))+f'mbasis{magnetic_basis}_puregauge{puregauge}_g{g}_pbc{pbc}_l{l}_nlayers{nlayers}_iterations{iterations}.png')"
   ]
  },
  {
   "attachments": {},
   "cell_type": "markdown",
   "metadata": {},
   "source": [
    "##### Fidelity "
   ]
  },
  {
   "cell_type": "code",
   "execution_count": 235,
   "metadata": {},
   "outputs": [
    {
     "name": "stdout",
     "output_type": "stream",
     "text": [
      "spectrum ED:\n",
      "['E_0=-1.00668', 'E_1=-0.26965', 'E_2=-0.26965', 'E_3=-0.20739', 'E_4=-0.20739', 'E_5=0.4421', 'E_6=0.4421', 'E_7=0.4421', 'E_8=0.4421', 'E_9=0.81453', 'E_10=0.82548', 'E_11=0.82548', 'E_12=0.91429', 'E_13=0.91877', 'E_14=0.91877', 'E_15=1.04591', 'E_16=1.31935', 'E_17=1.31935', 'E_18=1.35503', 'E_19=1.35503']\n"
     ]
    },
    {
     "data": {
      "image/png": "[encoded data removed]",
      "text/plain": [
       "<Figure size 432x288 with 1 Axes>"
      ]
     },
     "metadata": {
      "needs_background": "light"
     },
     "output_type": "display_data"
    }
   ],
   "source": [
    "spectrum_fid, eigenvectors_matrix_fid =primme.eigsh(Hamiltonian_Pauli_tot,k=20,which=\"SA\")#,ncv = 30)\n",
    "#spectrum_fid\n",
    "idx = spectrum_fid.argsort() \n",
    "spectrum_fid = spectrum_fid[idx]\n",
    "eigenvectors_matrix_fid = eigenvectors_matrix_fid[:,idx]\n",
    "print(f'spectrum ED:')\n",
    "print([f'E_{n}={np.round(i,5)}' for n,i in enumerate(spectrum_fid)])\n",
    "plt.plot(spectrum_fid,'o',label='ED')\n",
    "plt.grid()"
   ]
  },
  {
   "cell_type": "code",
   "execution_count": 238,
   "metadata": {},
   "outputs": [
    {
     "name": "stdout",
     "output_type": "stream",
     "text": [
      "fidelity overlap of ground state with up to 8th excited states\n",
      "E_1: val=-0.269648, fidelity: 5.7e-08\n",
      "E_2: val=-0.269648, fidelity: 3.92e-08\n",
      "E_3: val=-0.207391, fidelity: 4.2e-09\n",
      "E_4: val=-0.207391, fidelity: 2e-10\n",
      "E_5: val=0.442095, fidelity: 0.0\n",
      "E_6: val=0.442095, fidelity: 1e-10\n",
      "E_7: val=0.442095, fidelity: 3e-10\n",
      "E_8: val=0.442095, fidelity: 0.0\n",
      "E_9: val=0.814527, fidelity: 2.5691e-06\n",
      "E_10: val=0.825481, fidelity: 3.4e-09\n",
      "E_11: val=0.825481, fidelity: 8.5e-09\n",
      "E_12: val=0.914286, fidelity: 7.298e-07\n",
      "E_13: val=0.918771, fidelity: 1.3e-09\n",
      "E_14: val=0.918771, fidelity: 1.7e-09\n",
      "E_15: val=1.045911, fidelity: 0.0006460399\n",
      "E_16: val=1.319349, fidelity: 4.5e-09\n",
      "E_17: val=1.319349, fidelity: 1e-09\n",
      "E_18: val=1.355027, fidelity: 3e-10\n",
      "fidelity overlap of 1st excited state with up to 8th excited states\n"
     ]
    }
   ],
   "source": [
    "print('fidelity overlap of ground state with up to 8th excited states')\n",
    "[print(f'E_{i}: val={np.round(spectrum_fid[i],6)}, fidelity: {np.round(fidelity_func_e(result,eigenvectors_matrix_fid,i,0),5)}') for i in range(1,9)]\n",
    "print('fidelity overlap of 1st excited state with up to 8th excited states')\n",
    "[print(f'E_{i}: val={np.round(spectrum_fid[i],6)}, fidelity: {np.round(fidelity_func_e(result,eigenvectors_matrix_fid,i,1),5)}') for i in range(1,9)]\n",
    "print('\\n sum of fid.: ',sum([fidelity_func_e(result,eigenvectors_matrix_fid,i,1) for i in range(1,9)]))"
   ]
  },
  {
   "attachments": {},
   "cell_type": "markdown",
   "metadata": {},
   "source": [
    "Overlap with other states"
   ]
  },
  {
   "cell_type": "code",
   "execution_count": 237,
   "metadata": {},
   "outputs": [
    {
     "data": {
      "text/plain": [
       "Text(0.5, 0.98, 'Fidelity overlap of kth excited state with 1-8th excited states')"
      ]
     },
     "execution_count": 237,
     "metadata": {},
     "output_type": "execute_result"
    },
    {
     "data": {
      "image/png": "[encoded data removed]",
      "text/plain": [
       "<Figure size 720x360 with 2 Axes>"
      ]
     },
     "metadata": {
      "needs_background": "light"
     },
     "output_type": "display_data"
    }
   ],
   "source": [
    "fig,ax = plt.subplots(1,num_eigs,figsize=(10,5))\n",
    "\n",
    "for k in range(num_eigs):\n",
    "    ax[k].plot([fidelity_func_e(result,eigenvectors_matrix_fid,i,k) for i in range(9)],'o',label=f'E_{k}')\n",
    "\n",
    "    ax[k].grid()\n",
    "    ax[k].legend()\n",
    "    ax[k].set_xlabel('i')\n",
    "    ax[k].set_ylabel('Fidelity psi_k-ps_i')\n",
    "\n",
    "fig.suptitle('Fidelity overlap of kth excited state with 1-8th excited states')"
   ]
  },
  {
   "attachments": {},
   "cell_type": "markdown",
   "metadata": {},
   "source": [
    "##### Optimisation over Infidelity"
   ]
  },
  {
   "attachments": {},
   "cell_type": "markdown",
   "metadata": {},
   "source": [
    "Do NOT use for large systems"
   ]
  },
  {
   "cell_type": "code",
   "execution_count": 155,
   "metadata": {},
   "outputs": [],
   "source": [
    "index = 0 #E_i eigenstate\n",
    "initial_point=val_init*(2*np.random.rand(ansatz.num_parameters)-1.0) "
   ]
  },
  {
   "cell_type": "code",
   "execution_count": 156,
   "metadata": {},
   "outputs": [
    {
     "ename": "KeyboardInterrupt",
     "evalue": "",
     "output_type": "error",
     "traceback": [
      "\u001b[0;31m---------------------------------------------------------------------------\u001b[0m",
      "\u001b[0;31mKeyboardInterrupt\u001b[0m                         Traceback (most recent call last)",
      "Cell \u001b[0;32mIn[156], line 13\u001b[0m\n\u001b[1;32m     10\u001b[0m     E_data_vqe\u001b[39m.\u001b[39mappend([\u001b[39mlen\u001b[39m(E_data_vqe),mean,meta])\n\u001b[1;32m     12\u001b[0m \u001b[39m#define infidelity as operator: id-|psi_ed_i><psi_ed_i| where i is a chosen eigenstate\u001b[39;00m\n\u001b[0;32m---> 13\u001b[0m test_fid \u001b[39m=\u001b[39m class_H_oprt\u001b[39m.\u001b[39mtensor_prod(class_H_oprt\u001b[39m.\u001b[39mI,\u001b[39m6\u001b[39m)\u001b[39m-\u001b[39m SparsePauliOp\u001b[39m.\u001b[39;49mfrom_operator( Operator(np\u001b[39m.\u001b[39;49mouter(eigenvectors_matrix[:,index],eigenvectors_matrix[:,index]\u001b[39m.\u001b[39;49mtranspose()\u001b[39m.\u001b[39;49mconj())) )\n\u001b[1;32m     14\u001b[0m \u001b[39m#perform VQE with infidelity operator and ansatz\u001b[39;00m\n\u001b[1;32m     15\u001b[0m vqd_inf \u001b[39m=\u001b[39m VQE(estimator,  ansatz, optimizer\u001b[39m=\u001b[39mSLSQP(maxiter\u001b[39m=\u001b[39m\u001b[39m500\u001b[39m), initial_point\u001b[39m=\u001b[39minitial_point,callback\u001b[39m=\u001b[39mcallback_vqe)\n",
      "File \u001b[0;32m~/qiskit/lib/python3.9/site-packages/qiskit/quantum_info/operators/symplectic/sparse_pauli_op.py:745\u001b[0m, in \u001b[0;36mSparsePauliOp.from_operator\u001b[0;34m(obj, atol, rtol)\u001b[0m\n\u001b[1;32m    743\u001b[0m basis \u001b[39m=\u001b[39m pauli_basis(num_qubits)\n\u001b[1;32m    744\u001b[0m \u001b[39mfor\u001b[39;00m i, mat \u001b[39min\u001b[39;00m \u001b[39menumerate\u001b[39m(basis\u001b[39m.\u001b[39mmatrix_iter()):\n\u001b[0;32m--> 745\u001b[0m     coeff \u001b[39m=\u001b[39m np\u001b[39m.\u001b[39mtrace(mat\u001b[39m.\u001b[39;49mdot(data)) \u001b[39m/\u001b[39m denom\n\u001b[1;32m    746\u001b[0m     \u001b[39mif\u001b[39;00m \u001b[39mnot\u001b[39;00m np\u001b[39m.\u001b[39misclose(coeff, \u001b[39m0\u001b[39m, atol\u001b[39m=\u001b[39matol, rtol\u001b[39m=\u001b[39mrtol):\n\u001b[1;32m    747\u001b[0m         inds\u001b[39m.\u001b[39mappend(i)\n",
      "\u001b[0;31mKeyboardInterrupt\u001b[0m: "
     ]
    }
   ],
   "source": [
    "#compute minimization of infidelity for index-th eigenstate\n",
    "\n",
    "#callback function\n",
    "E_data_vqe = []\n",
    "def callback_vqe(eval_count, parameters, mean, meta):\n",
    "\n",
    "    stdout.write(\"eig: %d -> its %4d \\r\"%(index,eval_count)) # assuming SPSA\n",
    "    stdout.flush()\n",
    "    #energy\n",
    "    E_data_vqe.append([len(E_data_vqe),mean,meta])\n",
    "    \n",
    "#define infidelity as operator: id-|psi_ed_i><psi_ed_i| where i is a chosen eigenstate\n",
    "test_fid = class_H_oprt.tensor_prod(class_H_oprt.I,6)- SparsePauliOp.from_operator( Operator(np.outer(eigenvectors_matrix[:,index],eigenvectors_matrix[:,index].transpose().conj())) )\n",
    "#perform VQE with infidelity operator and ansatz\n",
    "vqd_inf = VQE(estimator,  ansatz, optimizer=SLSQP(maxiter=500), initial_point=initial_point,callback=callback_vqe)\n",
    "result_inf = vqd_inf.compute_minimum_eigenvalue(operator = test_fid)"
   ]
  },
  {
   "cell_type": "code",
   "execution_count": null,
   "metadata": {},
   "outputs": [
    {
     "data": {
      "text/plain": [
       "<matplotlib.collections.LineCollection at 0x7fdc8a7c6040>"
      ]
     },
     "execution_count": 1089,
     "metadata": {},
     "output_type": "execute_result"
    },
    {
     "data": {
      "image/png": "[encoded data removed]",
      "text/plain": [
       "<Figure size 432x288 with 1 Axes>"
      ]
     },
     "metadata": {
      "needs_background": "light"
     },
     "output_type": "display_data"
    }
   ],
   "source": [
    "plt.plot(np.array(E_data_vqe)[:,0],np.array(E_data_vqe)[:,1])\n",
    "plt.title(f'Minimization for infidelity of E_{index}')\n",
    "plt.hlines(0,0,E_data_vqe[-1][0],linestyles='dashed',color='black',label=f'E_{index} ED')"
   ]
  },
  {
   "cell_type": "code",
   "execution_count": 1090,
   "metadata": {},
   "outputs": [
    {
     "name": "stdout",
     "output_type": "stream",
     "text": [
      "fidelity= 0.24924119314798965\n"
     ]
    }
   ],
   "source": [
    "print('fidelity=',1-result_inf.eigenvalue.real)"
   ]
  },
  {
   "cell_type": "code",
   "execution_count": 1091,
   "metadata": {},
   "outputs": [
    {
     "data": {
      "text/plain": [
       "0.24924119314813425"
      ]
     },
     "execution_count": 1091,
     "metadata": {},
     "output_type": "execute_result"
    }
   ],
   "source": [
    "qinf.state_fidelity(Statevector(eigenvectors_matrix[:,1]),qinf.Statevector.from_instruction(result_inf.optimal_circuit.bind_parameters(result_inf.optimal_parameters.values()).to_instruction()))"
   ]
  },
  {
   "cell_type": "code",
   "execution_count": 1092,
   "metadata": {},
   "outputs": [
    {
     "data": {
      "text/plain": [
       "[0.9954160873396672,\n",
       " 0.2492412291633147,\n",
       " 0.49999999055867306,\n",
       " 2.3145052192570552e-09]"
      ]
     },
     "execution_count": 1092,
     "metadata": {},
     "output_type": "execute_result"
    }
   ],
   "source": [
    "fidelity_func(result,eigenvectors_matrix,num_eigs)"
   ]
  },
  {
   "attachments": {},
   "cell_type": "markdown",
   "metadata": {},
   "source": [
    "##### Histograms"
   ]
  },
  {
   "cell_type": "code",
   "execution_count": 209,
   "metadata": {},
   "outputs": [
    {
     "name": "stdout",
     "output_type": "stream",
     "text": [
      "[-1.+0.j  0.+0.j  0.+0.j  0.+0.j] [0.+0.j 0.+0.j 0.+0.j 0.+0.j] [0.+0.j 0.+0.j 0.+0.j 1.+0.j]\n",
      "vacuum E|01>=0|01>\n",
      "[1, 0] [0, 1]\n",
      "even sites q - 0: [0. 0.] q - 1: [0. 1.]\n",
      "odd sites q - 0: [-1.  0.] q - 1: [0. 0.]\n",
      "vacuum ..q2q1q0:1010\n"
     ]
    }
   ],
   "source": [
    "#action of E field\n",
    "print(class_H_oprt.e_oper.to_matrix()@class_H_oprt.str_to_tens('00'),class_H_oprt.e_oper.to_matrix()@class_H_oprt.str_to_tens('01'),class_H_oprt.e_oper.to_matrix()@class_H_oprt.str_to_tens('11'))\n",
    "print('vacuum E|01>=0|01>')\n",
    "#action of charges\n",
    "q10 = -0.5 * (class_H_oprt.I + class_H_oprt.Z).to_matrix()\n",
    "q00 = 0.5 * (class_H_oprt.I - class_H_oprt.Z).to_matrix()\n",
    "\n",
    "print(class_H_oprt.str_to_tens('0'),class_H_oprt.str_to_tens('1'))\n",
    "print('even sites q - 0:', (q00@class_H_oprt.str_to_tens('0')).real,'q - 1:',(q00@class_H_oprt.str_to_tens('1')).real)\n",
    "print('odd sites q - 0:',(q10@class_H_oprt.str_to_tens('0')).real,'q - 1:',(q10@class_H_oprt.str_to_tens('1')).real)\n",
    "\n",
    "print('vacuum ..q2q1q0:1010')"
   ]
  },
  {
   "cell_type": "code",
   "execution_count": 210,
   "metadata": {},
   "outputs": [],
   "source": [
    "def from_str_to_charges(str):\n",
    "    \"\"\"Return a string of particles configuration e+,e- or vacuum v\n",
    "    Input a binary string of 0 and 1\"\"\"\n",
    "\n",
    "    result = ''\n",
    "    for i,q in enumerate(str):\n",
    "        if i%2==0 and q=='0':\n",
    "            result+='v'\n",
    "        elif i%2==0 and q=='1':\n",
    "            result+='e+'\n",
    "        elif i%2==1 and q=='0':\n",
    "            result+='e-'\n",
    "        elif i%2==1 and q=='1':\n",
    "            result+='v'\n",
    "            \n",
    "    return result\n",
    "\n"
   ]
  },
  {
   "cell_type": "code",
   "execution_count": 211,
   "metadata": {},
   "outputs": [
    {
     "name": "stdout",
     "output_type": "stream",
     "text": [
      " \n"
     ]
    }
   ],
   "source": [
    "for s in {''.join(i) for i in permutations(['0','1']*(int(n_qubits_f)//2),int(n_qubits_f))}:\n",
    "    print(s,from_str_to_charges(s)) "
   ]
  },
  {
   "cell_type": "code",
   "execution_count": 212,
   "metadata": {},
   "outputs": [
    {
     "data": {
      "image/png": "[encoded data removed]",
      "text/plain": [
       "<Figure size 720x360 with 1 Axes>"
      ]
     },
     "execution_count": 212,
     "metadata": {},
     "output_type": "execute_result"
    }
   ],
   "source": [
    "from qiskit.visualization import plot_histogram\n",
    "plot_histogram([ed_val[0],vqd2_eigenstates[0]], figsize=(10,5),legend=['ED','VQD'] ,bar_labels=False,\n",
    "               title=f'E_0 ED vs VQD test:{latt.dims}D_'+'x'.join(map(str,latt.n_sites))+f'mbasis{magnetic_basis} puregauge{puregauge} g{g} pbc{pbc} l{l} nlayers{nlayers} iterations{iterations}')\n",
    "               #,filename='ansatz_tests/'+f'E_0_ED_vs_VQD_test:{latt.dims}D_'+'x'.join(map(str,latt.n_sites))+f'mbasis{magnetic_basis}_puregauge{puregauge}_g{g}_pbc{pbc}_l{l}_nlayers{nlayers}_iterations{iterations}')\n"
   ]
  },
  {
   "cell_type": "code",
   "execution_count": 213,
   "metadata": {},
   "outputs": [
    {
     "data": {
      "image/png": "[encoded data removed]",
      "text/plain": [
       "<Figure size 720x360 with 1 Axes>"
      ]
     },
     "execution_count": 213,
     "metadata": {},
     "output_type": "execute_result"
    }
   ],
   "source": [
    "plot_histogram([ed_val[1],vqd2_eigenstates[1]], figsize=(10,5),legend=['ED','VQD'] ,bar_labels=False,\n",
    "               title=f'E_1 ED vs VQD test:{latt.dims}D_'+'x'.join(map(str,latt.n_sites))+f'mbasis{magnetic_basis} puregauge{puregauge} g{g} pbc{pbc} l{l} nlayers{nlayers} iterations{iterations}')\n",
    "               #,filename='ansatz_tests/'+f'E_1_ED_vs_VQD_test:{latt.dims}D_'+'x'.join(map(str,latt.n_sites))+f'mbasis{magnetic_basis}_puregauge{puregauge}_g{g}_pbc{pbc}_l{l}_nlayers{nlayers}_iterations{iterations}')"
   ]
  },
  {
   "attachments": {},
   "cell_type": "markdown",
   "metadata": {},
   "source": [
    "##### More coupling runs"
   ]
  },
  {
   "cell_type": "code",
   "execution_count": null,
   "metadata": {},
   "outputs": [
    {
     "name": "stdout",
     "output_type": "stream",
     "text": [
      "spectrum ED: [-1.0066823] plaq 0.4623451127700586\n",
      "g 1.0 E [-0.96724394+0.j]\n",
      "\n",
      " Plaq. VQD: 0.46610870187127507 \n",
      "\n",
      "spectrum ED: [-1.0066823] plaq 0.4623451127700586\n",
      "g 1.0 E [-0.96724388+0.j]\n",
      "\n",
      " Plaq. VQD: 0.4660296628495903 \n",
      "\n",
      "spectrum ED: [-0.95411825] plaq 0.45198162085604643\n",
      "g 1.01 E [-0.91334138+0.j]\n",
      "\n",
      " Plaq. VQD: 0.45507543874845485 \n",
      "\n"
     ]
    }
   ],
   "source": [
    "for g in np.array([1,1,1.01]):\n",
    "    \n",
    "    Hamiltonian_Pauli_tot = class_H_oprt.get_hamiltonian(g_var=g, m_var=m, omega=omega,fact_b_op=fact_b_op,fact_e_op=fact_b_op,lambd=lambd)\n",
    "    if encoding=='gray' and not sparse_pauli:\n",
    "        Hamiltonian_Pauli_tot = Hamiltonian_Pauli_tot.to_matrix(sparse=True)\n",
    "        if ngauge:\n",
    "            h_b_sparse = class_H_oprt.hamiltonian_mag_pauli.to_matrix(sparse=True) #plaquette\n",
    "        else:\n",
    "            h_b_sparse = 0 \n",
    "    elif encoding=='ed':\n",
    "        Hamiltonian_Pauli_tot = sp.csr_matrix(Hamiltonian_Pauli_tot)\n",
    "        if ngauge:\n",
    "            h_b_sparse =sp.csr_matrix(class_H_oprt.hamiltonian_mag_pauli)\n",
    "        else:\n",
    "            h_b_sparse =0\n",
    "    spectrum, eigenvectors_matrix =primme.eigsh(Hamiltonian_Pauli_tot,k=num_eigs,which=\"SA\")#,ncv = 30)\n",
    "    #spectrum\n",
    "    idx = spectrum.argsort() \n",
    "    spectrum = spectrum[idx]\n",
    "    eigenvectors_matrix = eigenvectors_matrix[:,idx]\n",
    "\n",
    "    eig0cj = sp.csr_matrix(eigenvectors_matrix[:,0]).transpose().conjugate()\n",
    "    eig0= sp.csr_matrix(eigenvectors_matrix[:,0])\n",
    "    if ngauge:\n",
    "        plaq = (eig0*h_b_sparse*eig0cj/len(latt.plaq_list) ).toarray()[0][0].real\n",
    "\n",
    "    print('spectrum ED:',spectrum,'plaq',plaq)\n",
    "    \n",
    "    #callback function\n",
    "    E_data = [[] for k in range(num_eigs)]\n",
    "    Fidelity = [[] for k in range(num_eigs)]\n",
    "    def callback(eval_count, parameters, mean, meta, step):\n",
    "        stdout.write(\"eig: %d/%d -> its %4d \\r\"%(step,num_eigs,eval_count)) # assuming SPSA\n",
    "        stdout.flush()\n",
    "\n",
    "        #fidelity\n",
    "        vqd_states = [ansatz.bind_parameters(parameters) for i in range(num_eigs)]\n",
    "        vqd_fid_states =[qinf.Statevector.from_instruction(i) for i in vqd_states]\n",
    "        ed_fid_states =[Statevector(eigenvectors_matrix[:,i]) for i in range(num_eigs)]\n",
    "        Fidelity[step-1].append([qinf.state_fidelity(vqd,ed) for vqd,ed in zip(vqd_fid_states,ed_fid_states)])\n",
    "\n",
    "        #energy\n",
    "        E_data[step-1].append([len(E_data[step-1]),mean,meta])\n",
    "    Hamiltonian_Pauli_tot_vqd = class_H_oprt.get_hamiltonian(g_var=g, m_var=m, omega=omega,fact_b_op=fact_b_op,fact_e_op=fact_b_op,lambd=0)\n",
    "\n",
    "\n",
    "    iterations = [500 for i in range(num_eigs)]\n",
    "    optimizer = [SLSQP(maxiter=itr) for itr in iterations] #SLSQP,COBYLA  #TODO: with NFT iSWAPS with also Rzz gates\n",
    "    ansatz = qc_tot2\n",
    "    betas = None#[2,]*(num_eigs-1)  #***default value computed as the mean square sum of the coefficients of the observable.\n",
    "\n",
    "    #*** initial point\n",
    "    val_init = np.pi/2\n",
    "    #initial_point=[val_init*(2*np.random.rand(ansatz.num_parameters)-1.0) for kkk in range(num_eigs)]\n",
    "    initial_point=val_init*(2*np.random.rand(ansatz.num_parameters)-1.0) \n",
    "\n",
    "    #Perform VQD for Hamiltonian and plaquette operator\n",
    "    vqd = VQD(estimator, fidelity, ansatz, optimizer, k=num_eigs, betas=betas,initial_point=initial_point,  callback=callback)\n",
    "    result = vqd.compute_eigenvalues(operator = Hamiltonian_Pauli_tot_vqd,aux_operators = aux_operators)# Hamiltonian + auxiliary operator\n",
    "    vqd_values = result.eigenvalues\n",
    "\n",
    "    #eigenvectors\n",
    "    vqd2_eigenstates = []\n",
    "    for i in range(num_eigs):\n",
    "        tmp = result.optimal_circuits[i].copy()\n",
    "        \n",
    "        tmp.measure_all()\n",
    "        opt_pt =list(result.optimal_parameters[i].values())\n",
    "        res = sampler.run(tmp, opt_pt).result() \n",
    "        \n",
    "        vqd2_eigenstates.append({x:round(y,6) for x,y in res.quasi_dists[0].binary_probabilities().items() if y>0.0001})\n",
    "        tmp.remove_final_measurements()\n",
    "\n",
    "    if ngauge:\n",
    "        plaq_vqd = np.array(result.aux_operators_evaluated[0])[:,0][0]/len(latt.plaq_list)\n",
    "\n",
    "        print('g',g,'E',vqd_values)\n",
    "        print('\\n','Plaq. VQD:',plaq_vqd.real,'\\n')"
   ]
  },
  {
   "attachments": {},
   "cell_type": "markdown",
   "metadata": {},
   "source": [
    "### VARQITE"
   ]
  },
  {
   "cell_type": "code",
   "execution_count": 612,
   "metadata": {},
   "outputs": [],
   "source": [
    "from qiskit_algorithms.time_evolvers.variational import ImaginaryMcLachlanPrinciple\n",
    "\n",
    "from qiskit_algorithms import TimeEvolutionProblem\n",
    "from qiskit_algorithms import VarQITE\n",
    "#from qiskit.primitives import Estimator"
   ]
  },
  {
   "cell_type": "code",
   "execution_count": 678,
   "metadata": {},
   "outputs": [
    {
     "name": "stdout",
     "output_type": "stream",
     "text": [
      "Options(shots=1024, backend=<IBMBackend('ibmq_qasm_simulator')>)\n"
     ]
    }
   ],
   "source": [
    "var_principle = ImaginaryMcLachlanPrinciple()\n",
    "time = 5.0\n",
    "aux_ops = [Hamiltonian_Pauli_tot_vqd]\n",
    "\n",
    "# estimator = Estimator()\n",
    "# estimator.set_options(shots=2048,backend=backend)\n",
    "print(estimator.options)\n",
    "#not fastest method\n",
    "# evolution_problem = TimeEvolutionProblem(Hamiltonian_Pauli_tot_vqd, time, aux_operators=aux_ops)\n",
    "# var_qite = VarQITE(ansatz, initial_point, var_principle, Estimator())\n",
    "# # an Estimator instance is necessary, if we want to calculate the expectation value of auxiliary operators.\n",
    "# evolution_result = var_qite.evolve(evolution_problem)\n",
    "#h_exp_val = np.array([ele[0][0] for ele in evolution_result.observables])"
   ]
  },
  {
   "attachments": {},
   "cell_type": "markdown",
   "metadata": {},
   "source": [
    "##### Efficient classical calculation of gradients with VarQITE"
   ]
  },
  {
   "cell_type": "code",
   "execution_count": 679,
   "metadata": {},
   "outputs": [],
   "source": [
    "from qiskit_algorithms.gradients import ReverseEstimatorGradient, ReverseQGT\n",
    "#fastest method\n",
    "var_principle = ImaginaryMcLachlanPrinciple(qgt=ReverseQGT() , gradient=ReverseEstimatorGradient())\n",
    "evolution_problem = TimeEvolutionProblem(Hamiltonian_Pauli_tot_vqd, time, aux_operators=aux_ops)\n",
    "var_qite = VarQITE(ansatz, initial_point, var_principle, estimator)\n",
    "evolution_result_eff = var_qite.evolve(evolution_problem)\n"
   ]
  },
  {
   "cell_type": "code",
   "execution_count": null,
   "metadata": {},
   "outputs": [],
   "source": [
    "h_exp_val_eff = np.array([ele[0][0] for ele in evolution_result_eff.observables])\n",
    "times = evolution_result_eff.times\n",
    "gs_varqite = qinf.Statevector.from_instruction(evolution_result_eff.evolved_state)\n",
    "plaq_varqite = (gs_varqite.expectation_value(class_H_oprt.hamiltonian_mag_pauli)/len(latt.plaq_list)).real"
   ]
  },
  {
   "cell_type": "code",
   "execution_count": null,
   "metadata": {},
   "outputs": [
    {
     "data": {
      "text/plain": [
       "<matplotlib.legend.Legend at 0x7fef31168be0>"
      ]
     },
     "execution_count": 655,
     "metadata": {},
     "output_type": "execute_result"
    },
    {
     "data": {
      "image/png": "[encoded data removed]",
      "text/plain": [
       "<Figure size 432x288 with 1 Axes>"
      ]
     },
     "metadata": {
      "needs_background": "light"
     },
     "output_type": "display_data"
    }
   ],
   "source": [
    "plt.plot(h_exp_val_eff, label= r\"VarQITE$_{eff}$\")\n",
    "plt.hlines(spectrum[0],0,len(times),linestyles='dashed',color='black',label=f'E_{0} ED')\n",
    "plt.legend()"
   ]
  },
  {
   "cell_type": "code",
   "execution_count": null,
   "metadata": {},
   "outputs": [],
   "source": [
    "varqite_H1 = Hamiltonian_Pauli_tot_vqd+2*SparsePauliOp.from_operator(gs_varqite.to_operator())\n",
    "evolution_problem_e1 = TimeEvolutionProblem(varqite_H1, time, aux_operators=[varqite_H1])\n",
    "var_qite_e1 = VarQITE(ansatz, initial_point, var_principle, estimator)\n",
    "evolution_result_eff_e1 = var_qite_e1.evolve(evolution_problem_e1)\n",
    "\n",
    "h_exp_val_eff_e1 = np.array([ele[0][0] for ele in evolution_result_eff_e1.observables])\n",
    "times_e1 = evolution_result_eff_e1.times\n",
    "gs_varqite_e1 = qinf.Statevector.from_instruction(evolution_result_eff_e1.evolved_state)"
   ]
  },
  {
   "cell_type": "code",
   "execution_count": null,
   "metadata": {},
   "outputs": [],
   "source": [
    "#beta value is important to be low enough!"
   ]
  },
  {
   "cell_type": "code",
   "execution_count": null,
   "metadata": {},
   "outputs": [
    {
     "data": {
      "text/plain": [
       "<matplotlib.legend.Legend at 0x7fef32d550a0>"
      ]
     },
     "execution_count": 660,
     "metadata": {},
     "output_type": "execute_result"
    },
    {
     "data": {
      "image/png": "[encoded data removed]",
      "text/plain": [
       "<Figure size 432x288 with 1 Axes>"
      ]
     },
     "metadata": {
      "needs_background": "light"
     },
     "output_type": "display_data"
    }
   ],
   "source": [
    "plt.plot(h_exp_val_eff_e1, label= r\"VarQITE$_{eff}$\")\n",
    "plt.hlines(spectrum[1],0,len(times_e1),linestyles='dashed',color='black',label=f'E_{1} ED')\n",
    "plt.legend()"
   ]
  },
  {
   "cell_type": "code",
   "execution_count": null,
   "metadata": {},
   "outputs": [
    {
     "name": "stdout",
     "output_type": "stream",
     "text": [
      "Ground state energy E_0 err (VarQite-ED) 5.454959604023202e-07 values: -0.4366923447933396 -0.43669289028930003\n",
      "energy E_1 err (VarQite-ED) 0.00024148886241714962 values: 1.625778183815017 1.6255366949525998\n",
      "plaq. <P> err (VarQite-ED) 6.7282889558151204e-06\n",
      "Fidelity GS for VarQITE\n",
      "0.9999999961078088\n",
      "E_0 all physical states reached gauge fields: OK!\n",
      "0.5210181893049102\n",
      "E_1 all physical states reached gauge fields: OK!\n"
     ]
    }
   ],
   "source": [
    "\n",
    "print('Ground state energy E_0 err (VarQite-ED)',np.abs(h_exp_val_eff[-1]-spectrum[0]),'values:',h_exp_val_eff[-1],spectrum[0])\n",
    "print('energy E_1 err (VarQite-ED)',np.abs(h_exp_val_eff_e1[-1]-spectrum[1]),'values:',h_exp_val_eff_e1[-1],spectrum[1])\n",
    "print('plaq. <P> err (VarQite-ED)',np.abs(plaq_varqite-plaq))\n",
    "\n",
    "print('Fidelity GS for VarQITE')\n",
    "for i,en in enumerate([gs_varqite,gs_varqite_e1]):\n",
    "    ed_fid_states =Statevector(eigenvectors_matrix[:,i]) \n",
    "    print(qinf.state_fidelity(en,ed_fid_states))\n",
    "\n",
    "    varqite_eigs={x:round(y,6) for x,y in en.probabilities_dict().items() if y>0.0001}\n",
    "    if ngauge:\n",
    "        for varqite_res in [string[-(ngauge*n_qubits):][i:i+int(np.ceil(np.log2(2 * l+ 1)))] for string in varqite_eigs.keys() for i in range(0, len(string[-(ngauge*n_qubits):]), int(np.ceil(np.log2(2 * l+ 1))))]:\n",
    "            if varqite_res in gray_unph:\n",
    "                print('unphysical state reached for gauge fields')\n",
    "                break\n",
    "        else:   \n",
    "            print(f'E_{i} all physical states reached gauge fields: OK!')\n",
    "    if n_qubits_f:\n",
    "        for varqite_res in [string[:n_qubits_f] for string in varqite_eigs.keys() ]:\n",
    "\n",
    "            if varqite_res in ferm_q0:\n",
    "                print('unphysical state reached for fermions')\n",
    "                break\n",
    "        else:   \n",
    "            print(f'E_{i} all physical states reached fermions: OK!')"
   ]
  },
  {
   "cell_type": "code",
   "execution_count": 587,
   "metadata": {},
   "outputs": [],
   "source": [
    "#TODO: tentativo di usare la fidelity in vqd code per excited states for varqite\n",
    "# step = 2\n",
    "# batch_size = len(evolution_result_eff.parameter_values)\n",
    "# total_cost = np.zeros(batch_size)\n",
    "# sampler = Sampler()\n",
    "# fidelity = ComputeUncompute(sampler)\n",
    "# prev_states = []\n",
    "\n",
    "# if step > 1:\n",
    "#     prev_states.append(evolution_result_eff.evolved_state)\n",
    "#     # compute overlap cost\n",
    "#     batched_prev_states = [state for state in prev_states for _ in range(batch_size)]\n",
    "#     fidelity_job = fidelity.run(\n",
    "#         batch_size * [ansatz] * (step - 1),\n",
    "#         batched_prev_states,\n",
    "#         np.tile(evolution_result_eff.parameter_values, (step - 1, 1)),\n",
    "#     )\n",
    "#     costs = fidelity_job.result().fidelities\n",
    "\n",
    "#     costs = np.reshape(costs, (step - 1, -1))\n",
    "#     for state, cost in enumerate(costs):\n",
    "#         total_cost += np.real(betas[state] * cost)"
   ]
  },
  {
   "cell_type": "code",
   "execution_count": null,
   "metadata": {},
   "outputs": [],
   "source": []
  }
 ],
 "metadata": {
  "kernelspec": {
   "display_name": "qiskit",
   "language": "python",
   "name": "python3"
  },
  "language_info": {
   "codemirror_mode": {
    "name": "ipython",
    "version": 3
   },
   "file_extension": ".py",
   "mimetype": "text/x-python",
   "name": "python",
   "nbconvert_exporter": "python",
   "pygments_lexer": "ipython3",
   "version": "3.9.6"
  },
  "vscode": {
   "interpreter": {
    "hash": "9732f19cd5dfd89c376a93c0ebf365daafb0a064118a63241088cb5e478d8ce2"
   }
  }
 },
 "nbformat": 4,
 "nbformat_minor": 2
}
